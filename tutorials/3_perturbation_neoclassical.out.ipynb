{
  "cells": [
    {
      "cell_type": "markdown",
      "metadata": {},
      "source": [
        "# Perturbation of Neoclassical Model\n",
        "\n",
        "Pablo Winant\n",
        "\n",
        "Our goal here is to compute a linear approximation of solution to the\n",
        "neoclassical model, close ot the steady-state.\n",
        "\n",
        "**Warm-up: install the `ForwardDiff` library. Use it to differentiate\n",
        "the function below. Check the jacobian function.**\n",
        "\n",
        "Note: the signature of function `f` needs to be fixed first to allow for\n",
        "dual numbers as arguments."
      ],
      "id": "9037a3da-f6a3-43c5-951a-ff8fa1ab6798"
    },
    {
      "cell_type": "code",
      "execution_count": 16,
      "metadata": {},
      "outputs": [
        {
          "output_type": "display_data",
          "metadata": {},
          "data": {
            "text/plain": [
              "f (generic function with 4 methods)"
            ]
          }
        }
      ],
      "source": [
        "# function f(x::Vector{T}) where T <: Number\n",
        "function f(x::Vector{<:Number}) # equivalent\n",
        "    a = x[1]\n",
        "    b = x[2]\n",
        "    x1 = a+b\n",
        "    x2 = a*exp(b)\n",
        "    return [x1,x2]\n",
        "end"
      ],
      "id": "cell-2"
    },
    {
      "cell_type": "code",
      "execution_count": 17,
      "metadata": {},
      "outputs": [],
      "source": [
        "using ForwardDiff"
      ],
      "id": "cell-3"
    },
    {
      "cell_type": "code",
      "execution_count": 18,
      "metadata": {},
      "outputs": [
        {
          "output_type": "display_data",
          "metadata": {},
          "data": {
            "text/plain": [
              "2×2 Matrix{Float64}:\n",
              " 1.0      1.0\n",
              " 1.49182  0.298365"
            ]
          }
        }
      ],
      "source": [
        "ForwardDiff.jacobian(f, [0.2, 0.4])"
      ],
      "id": "cell-4"
    },
    {
      "cell_type": "markdown",
      "metadata": {},
      "source": [
        "**Create a NamedTuple to hold the model parameters.**"
      ],
      "id": "b6b6cc56-b695-4987-ae0a-252114ceffb4"
    },
    {
      "cell_type": "code",
      "execution_count": 20,
      "metadata": {},
      "outputs": [
        {
          "output_type": "display_data",
          "metadata": {},
          "data": {
            "text/plain": [
              "(α = 0.3, β = 0.96, γ = 4.0, δ = 0.1, ρ = 0.9)"
            ]
          }
        }
      ],
      "source": [
        "parameters = (;\n",
        "    α=0.3,\n",
        "    β=0.96,\n",
        "    γ=4.0,\n",
        "    δ=0.1,\n",
        "    ρ=0.9\n",
        ")"
      ],
      "id": "cell-6"
    },
    {
      "cell_type": "markdown",
      "metadata": {},
      "source": [
        "**Define two functions:** -\n",
        "`transition(z::Number, k::Number, i::Number, p)::Tuple{Number}` which\n",
        "returns productivity and capital at date `t+1` as a function of\n",
        "productivity, capital and investment at date `t` -\n",
        "`arbitrage(z::Number, k::Number, i::Number, Z::Number, K::Number, I::Number, p)::Number`\n",
        "which returns the residual of the euler equation (lower case variable\n",
        "for date t, upper case for date t+1)"
      ],
      "id": "932609f2-3298-4a06-9b3c-c0e446c7ff01"
    },
    {
      "cell_type": "code",
      "execution_count": 21,
      "metadata": {},
      "outputs": [
        {
          "output_type": "display_data",
          "metadata": {},
          "data": {
            "text/plain": [
              "transition (generic function with 1 method)"
            ]
          }
        }
      ],
      "source": [
        "function transition(z::Number, k::Number, i::Number, p)\n",
        "\n",
        "        Z = p.ρ * z\n",
        "        K = (1-p.δ) * k + i\n",
        "\n",
        "        (;Z, K)\n",
        "\n",
        "end"
      ],
      "id": "cell-8"
    },
    {
      "cell_type": "code",
      "execution_count": 24,
      "metadata": {},
      "outputs": [
        {
          "output_type": "display_data",
          "metadata": {},
          "data": {
            "text/plain": [
              "arbitrage (generic function with 1 method)"
            ]
          }
        }
      ],
      "source": [
        "function arbitrage(z::Number, k::Number, i::Number, Z::Number, K::Number, I::Number, p)\n",
        "\n",
        "    # positional unpacking (error-prone)\n",
        "    # α, β, γ, δ, ρ = p\n",
        "    \n",
        "    (;α, β, γ, δ, ρ) = p\n",
        "\n",
        "    # define auxiliary variables today\n",
        "    y = exp(z)k^α\n",
        "    c = y - i\n",
        "\n",
        "    # define auxiliary variables tomorrow\n",
        "    Y = exp(Z)K^α\n",
        "    C = Y - I\n",
        "\n",
        "    residual = β*(C/c)^(-γ)*( (1-δ) + α*K^(α-1)*exp(Z)) - 1\n",
        "\n",
        "    return residual\n",
        "\n",
        "\n",
        "end"
      ],
      "id": "cell-9"
    },
    {
      "cell_type": "markdown",
      "metadata": {},
      "source": [
        "**Using multiple dispatch, define two variants of the same functions,\n",
        "that take vectors as input and output arguments:** -\n",
        "`arbitrage(s::Vector{T}, x::Vector{T}, S::Vector{T}, X::Vector{T}, p) where T<:Number` -\n",
        "`transition(s::Vector{T}, x::Vector{T}, p) where T<:Number`"
      ],
      "id": "ffae00d6-a5fa-4a2e-9019-0444488ae285"
    },
    {
      "cell_type": "code",
      "execution_count": 25,
      "metadata": {},
      "outputs": [
        {
          "output_type": "display_data",
          "metadata": {},
          "data": {
            "text/plain": [
              "arbitrage (generic function with 2 methods)"
            ]
          }
        }
      ],
      "source": [
        "# this returns a number\n",
        "# arbitrage(s::Vector{T}, x::Vector{T}, S::Vector{T}, X::Vector{T}, p) where T<:Number = arbitrage(s[1],s[2],x[1],S[1],S[2],X[1],p)"
      ],
      "id": "cell-11"
    },
    {
      "cell_type": "code",
      "execution_count": 30,
      "metadata": {},
      "outputs": [
        {
          "output_type": "display_data",
          "metadata": {},
          "data": {
            "text/plain": [
              "1-element Vector{Float64}:\n",
              " 2.4"
            ]
          }
        }
      ],
      "source": [
        "[2.4]   # create a vector from  a number"
      ],
      "id": "cell-12"
    },
    {
      "cell_type": "code",
      "execution_count": 29,
      "metadata": {},
      "outputs": [
        {
          "output_type": "display_data",
          "metadata": {},
          "data": {
            "text/plain": [
              "arbitrage (generic function with 2 methods)"
            ]
          }
        }
      ],
      "source": [
        "arbitrage(s::Vector{T}, x::Vector{T}, S::Vector{T}, X::Vector{T}, p) where T<:Number = [\n",
        "    arbitrage(s[1],s[2],x[1],S[1],S[2],X[1],p)\n",
        "]"
      ],
      "id": "cell-13"
    },
    {
      "cell_type": "code",
      "execution_count": 26,
      "metadata": {},
      "outputs": [
        {
          "output_type": "display_data",
          "metadata": {},
          "data": {
            "text/plain": [
              "transition (generic function with 2 methods)"
            ]
          }
        }
      ],
      "source": [
        "# this returns a tuple\n",
        "# transition(s::Vector{T}, x::Vector{T}, p) where T<: Number = transition(s[1], s[2], x[1], p)"
      ],
      "id": "cell-14"
    },
    {
      "cell_type": "code",
      "execution_count": 31,
      "metadata": {},
      "outputs": [
        {
          "output_type": "display_data",
          "metadata": {},
          "data": {
            "text/plain": [
              "(1, 2, 3)"
            ]
          }
        }
      ],
      "source": [
        "t = (1,2,3)"
      ],
      "id": "cell-15"
    },
    {
      "cell_type": "code",
      "execution_count": 34,
      "metadata": {},
      "outputs": [
        {
          "output_type": "display_data",
          "metadata": {},
          "data": {
            "text/plain": [
              "3-element Vector{Int64}:\n",
              " 1\n",
              " 2\n",
              " 3"
            ]
          }
        }
      ],
      "source": [
        "# to convert into a tuple into a vector\n",
        "[t...]"
      ],
      "id": "cell-16"
    },
    {
      "cell_type": "code",
      "execution_count": 36,
      "metadata": {},
      "outputs": [
        {
          "output_type": "display_data",
          "metadata": {},
          "data": {
            "text/plain": [
              "transition (generic function with 2 methods)"
            ]
          }
        }
      ],
      "source": [
        "transition(s::Vector{T}, x::Vector{T}, p) where T<: Number = [transition(s[1], s[2], x[1], p)...]"
      ],
      "id": "cell-17"
    },
    {
      "cell_type": "markdown",
      "metadata": {},
      "source": [
        "**Write a function `steady_state(p)::Tuple{Vector,Vector}` which\n",
        "computes the steady-state of the model computed by hand.** It returns\n",
        "two vectors, one for the states, one for the controls. Check that the\n",
        "steady-state satisfies the model equations."
      ],
      "id": "1625ecc9-64e7-4357-b342-2a4e5b2cb6a0"
    },
    {
      "cell_type": "code",
      "execution_count": 44,
      "metadata": {},
      "outputs": [
        {
          "output_type": "display_data",
          "metadata": {},
          "data": {
            "text/plain": [
              "steady_state (generic function with 1 method)"
            ]
          }
        }
      ],
      "source": [
        "function steady_state(p)\n",
        "    (;α, β, γ, δ, ρ) = p\n",
        "\n",
        "    # ...\n",
        "    z = 0.0\n",
        "\n",
        "    k = ((1/β - (1-δ))/α)^ (1/(α-1))\n",
        "    i = δ*k\n",
        "\n",
        "    s = [z,k] # vector of states\n",
        "    x = [i]  # vector controls\n",
        "\n",
        "    return (;\n",
        "        s,\n",
        "        x\n",
        "    )\n",
        "\n",
        "\n",
        "end"
      ],
      "id": "cell-19"
    },
    {
      "cell_type": "code",
      "execution_count": 45,
      "metadata": {},
      "outputs": [
        {
          "output_type": "display_data",
          "metadata": {},
          "data": {
            "text/plain": [
              "(s = [0.0, 2.920822149964071], x = [0.29208221499640713])"
            ]
          }
        }
      ],
      "source": [
        "q = steady_state(parameters)"
      ],
      "id": "cell-20"
    },
    {
      "cell_type": "code",
      "execution_count": 39,
      "metadata": {},
      "outputs": [],
      "source": [
        "# check the steady-state is correct using the functions representing the model\n"
      ],
      "id": "cell-21"
    },
    {
      "cell_type": "code",
      "execution_count": 47,
      "metadata": {},
      "outputs": [
        {
          "output_type": "display_data",
          "metadata": {},
          "data": {
            "text/html": [
              "# 2 methods for generic function <b>transition</b> from \u001b[35mMain\u001b[39m:<ul><li> transition(z::<b>Number</b>, k::<b>Number</b>, i::<b>Number</b>, p) in Main at <a href=\"https://github.com/albop/mie37/tree/a01f7ec3fe0eb213f4a4e85e7a338c0b51ccf605//tutorials/3_perturbation_neoclassical.ipynb#L1\" target=\"_blank\">/home/pablo/Teaching/ensae/mie37/tutorials/3_perturbation_neoclassical.ipynb:1</a></li> <li> transition(s::<b>Vector{T}</b>, x::<b>Vector{T}</b>, p)<i> where T<:Number</i> in Main at <a href=\"https://github.com/albop/mie37/tree/a01f7ec3fe0eb213f4a4e85e7a338c0b51ccf605//tutorials/3_perturbation_neoclassical.ipynb#L1\" target=\"_blank\">/home/pablo/Teaching/ensae/mie37/tutorials/3_perturbation_neoclassical.ipynb:1</a></li> </ul>"
            ]
          }
        }
      ],
      "source": [
        "methods(transition)"
      ],
      "id": "cell-22"
    },
    {
      "cell_type": "code",
      "execution_count": 57,
      "metadata": {},
      "outputs": [],
      "source": [
        "@assert maximum(transition(q.s, q.x, parameters) - q.s) == 0.0"
      ],
      "id": "cell-23"
    },
    {
      "cell_type": "code",
      "execution_count": 62,
      "metadata": {},
      "outputs": [],
      "source": [
        "@assert maximum(arbitrage(q.s, q.x, q.s, q.x, parameters)) == 0.0"
      ],
      "id": "cell-24"
    },
    {
      "cell_type": "markdown",
      "metadata": {},
      "source": [
        "The first order system satisfies:\n",
        "$$\\begin{align}A s_t + B x_t + C s_{t+1} + D x_{t+1} & = & 0 \\\\\\\\ \n",
        "s_{t+1} & = & E s_t + F x_t\n",
        " \\end{align}$$\n",
        "\n",
        "**Define a structure `PerturbedModel` to hold matrices A,B,C,D,E,F.**"
      ],
      "id": "3ebb5f60-e963-4065-a15e-8192c5a6b4a1"
    },
    {
      "cell_type": "code",
      "execution_count": 63,
      "metadata": {},
      "outputs": [],
      "source": [
        "struct PerturbedModel\n",
        "    A::Matrix\n",
        "    B::Matrix\n",
        "    C::Matrix\n",
        "    D::Matrix\n",
        "    E::Matrix\n",
        "    F::Matrix\n",
        "\n",
        "end"
      ],
      "id": "cell-26"
    },
    {
      "cell_type": "markdown",
      "metadata": {},
      "source": [
        "**Write a function\n",
        "`first_order_model(s::Vector, x::Vector, p)::PerturbedModel`, which\n",
        "returns the first order model, given the steady-state and the\n",
        "calibration. Suggestion: use `ForwardDiff.jl` library.**"
      ],
      "id": "83c5e7c8-c9d3-4d96-a2c8-5c93c1a95d98"
    },
    {
      "cell_type": "code",
      "execution_count": 66,
      "metadata": {},
      "outputs": [
        {
          "output_type": "stream",
          "name": "stderr",
          "text": [
            "WARNING: method definition for arbitrage at /home/pablo/Teaching/ensae/mie37/tutorials/3_perturbation_neoclassical.ipynb:4 declares type variable T but does not use it."
          ]
        },
        {
          "output_type": "display_data",
          "metadata": {},
          "data": {
            "text/plain": [
              "arbitrage (generic function with 3 methods)"
            ]
          }
        }
      ],
      "source": [
        "# we need to loosen the constraint on the arbitrage arguments:\n",
        "\n",
        "# brutal\n",
        "arbitrage(s, x, S, X, p) where T<:Number = [\n",
        "    arbitrage(s[1],s[2],x[1],S[1],S[2],X[1],p)\n",
        "]\n",
        "\n",
        "\n",
        "# more precise\n",
        "# arbitrage(s::Vector{<:Number}, x::Vector{<:Number}, S::Vector{<:Number}, X::Vector{<:Number}, p) = [\n",
        "#     arbitrage(s[1],s[2],x[1],S[1],S[2],X[1],p)\n",
        "# ]"
      ],
      "id": "cell-28"
    },
    {
      "cell_type": "code",
      "execution_count": 74,
      "metadata": {},
      "outputs": [
        {
          "output_type": "display_data",
          "metadata": {},
          "data": {
            "text/plain": [
              "1-element Vector{Float64}:\n",
              " 0.0"
            ]
          }
        }
      ],
      "source": [
        "arbitrage(s,x,s,x,parameters)"
      ],
      "id": "cell-29"
    },
    {
      "cell_type": "code",
      "execution_count": 77,
      "metadata": {},
      "outputs": [
        {
          "output_type": "stream",
          "name": "stderr",
          "text": [
            "WARNING: method definition for transition at /home/pablo/Teaching/ensae/mie37/tutorials/3_perturbation_neoclassical.ipynb:1 declares type variable T but does not use it."
          ]
        },
        {
          "output_type": "display_data",
          "metadata": {},
          "data": {
            "text/plain": [
              "transition (generic function with 3 methods)"
            ]
          }
        }
      ],
      "source": [
        "transition(s, x, p) where T<: Number = [transition(s[1], s[2], x[1], p)...]"
      ],
      "id": "cell-30"
    },
    {
      "cell_type": "code",
      "execution_count": 80,
      "metadata": {},
      "outputs": [
        {
          "output_type": "display_data",
          "metadata": {},
          "data": {
            "text/plain": [
              "first_order_model (generic function with 1 method)"
            ]
          }
        }
      ],
      "source": [
        "function first_order_model(s, x, parameters)\n",
        "\n",
        "    A = ForwardDiff.jacobian(  u->arbitrage(u, x, s, x, parameters), s    )\n",
        "    B = ForwardDiff.jacobian(  u->arbitrage(s, u, s, x, parameters), x    )\n",
        "    C = ForwardDiff.jacobian(  u->arbitrage(s, x, u, x, parameters), s    )\n",
        "    D = ForwardDiff.jacobian(  u->arbitrage(s, x, s, u, parameters), x    )\n",
        "    E = ForwardDiff.jacobian(  u->transition(u, x, parameters), s    )\n",
        "    F = ForwardDiff.jacobian(  u->transition(s, u, parameters), x    )\n",
        "\n",
        "    return PerturbedModel(A,B,C,D,E,F)\n",
        "\n",
        "end"
      ],
      "id": "cell-31"
    },
    {
      "cell_type": "code",
      "execution_count": 82,
      "metadata": {},
      "outputs": [
        {
          "output_type": "stream",
          "name": "stdout",
          "text": [
            "  0.000055 seconds (45 allocations: 2.922 KiB)"
          ]
        },
        {
          "output_type": "display_data",
          "metadata": {},
          "data": {
            "text/plain": [
              "PerturbedModel([5.074626865671642 0.5212190203776081], [-3.679193085018409;;], [-4.938626865671642 -0.5538125831185546], [3.679193085018409;;], [0.9 0.0; 0.0 0.9], [0.0; 1.0;;])"
            ]
          }
        }
      ],
      "source": [
        "@time first_order_model(q.s, q.x, parameters)"
      ],
      "id": "cell-32"
    },
    {
      "cell_type": "markdown",
      "metadata": {},
      "source": [
        "**We look for a linear solution $x_t = X s_t$ . Write the matrix\n",
        "equation which `X` must satisfy. Write a function\n",
        "`residual(X::Array, M::PerturbedModel)` which computes the residual of\n",
        "this equation for a given `X`.**\n",
        "\n",
        "**Write a function `T(X, M::PerturbedModel)` which implements the time\n",
        "iteration step.**\n",
        "\n",
        "**Write function\n",
        "`linear_time_iteration(X_0::Matrix, m::PerturbedModel)::Matrix` which\n",
        "implements the time iteration algorithm. Apply it to `X0 = rand(1,2)`\n",
        "and check that the result satisfies the first order model.**\n",
        "\n",
        "**Define two linear operators\n",
        "`L_S(U::Union{Vector, Matrix}, X_0::Matrix, m::PerturbedModel)::Matrix`\n",
        "and `L_T(U::Matrix, X_0::Matrix, m::PerturbedModel)::Matrix` which\n",
        "implement the derivatives of the simulation and the time-iteration\n",
        "operator respectively.**\n",
        "\n",
        "**Implement a function `spectral_radius(f::Function)::Float64` which\n",
        "implements the power iteration method to compute the biggest eigenvalues\n",
        "of the two previously defined operators. Check that Blanchard-Kahn\n",
        "conditions are met.**\n",
        "\n",
        "**Write a function\n",
        "`simulate(s0::Vector, X::Matrix, p, T::Int64)::Tuple{Matrix, Matrix}` to\n",
        "simulate the model over $T$ periods (by using the formula\n",
        "$\\Delta s_t = (E + F X) \\Delta s_{t-1}$. Return a matrix for the states\n",
        "(one line per date) and another matrix for the controls. Bonus: add a\n",
        "keyword option to compute variables levels or log-deviations. If\n",
        "possible, return a DataFrame object.**\n",
        "\n",
        "**Make some nice plots.**"
      ],
      "id": "956d86f7-30cb-408c-b322-a02ff7a70b26"
    }
  ],
  "nbformat": 4,
  "nbformat_minor": 5,
  "metadata": {
    "kernelspec": {
      "name": "julia-1.9",
      "display_name": "Julia 1.9.3",
      "language": "julia"
    },
    "language_info": {
      "name": "julia",
      "file_extension": ".jl",
      "mimetype": "application/julia",
      "version": "1.9.3"
    }
  }
}
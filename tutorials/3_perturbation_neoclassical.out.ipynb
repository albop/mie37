{
  "cells": [
    {
      "cell_type": "markdown",
      "metadata": {},
      "source": [
        "# Perturbation of Neoclassical Model\n",
        "\n",
        "Pablo Winant"
      ],
      "id": "31b75449-87ff-4c0b-84ba-894b45807023"
    },
    {
      "cell_type": "code",
      "execution_count": null,
      "metadata": {},
      "outputs": [],
      "source": [
        "Our goal here is to compute a linear approximation of solution to the neoclassical model, close ot the steady-state."
      ],
      "id": "cell-1"
    },
    {
      "cell_type": "markdown",
      "metadata": {},
      "source": [
        "**Warm-up: install the `ForwardDiff` library. Use it to differentiate\n",
        "the function below. Check the jacobian function.**\n",
        "\n",
        "Note: the signature of function `f` needs to be fixed first to allow for\n",
        "dual numbers as arguments."
      ],
      "id": "3111137f-bcc4-4d43-a85c-c05621151be3"
    },
    {
      "cell_type": "code",
      "execution_count": 3,
      "metadata": {},
      "outputs": [
        {
          "output_type": "display_data",
          "metadata": {},
          "data": {
            "text/plain": [
              "f (generic function with 2 methods)"
            ]
          }
        }
      ],
      "source": [
        "# function f(x::Vector{T}) where T <: Number\n",
        "function f(x)\n",
        "    a = x[1]\n",
        "    b = x[2]\n",
        "    x1 = a+b\n",
        "    x2 = a*exp(b)\n",
        "    return [x1,x2]\n",
        "end"
      ],
      "id": "cell-3"
    },
    {
      "cell_type": "code",
      "execution_count": 7,
      "metadata": {},
      "outputs": [
        {
          "output_type": "display_data",
          "metadata": {},
          "data": {
            "text/plain": [
              "2×2 Matrix{Float64}:\n",
              " 1.0      1.0\n",
              " 1.64872  0.346231"
            ]
          }
        }
      ],
      "source": [
        "using ForwardDiff\n",
        "x0 = [0.21, 1//2]\n",
        "f(x0)\n",
        "\n",
        "ForwardDiff.jacobian(f,x0)\n"
      ],
      "id": "cell-4"
    },
    {
      "cell_type": "markdown",
      "metadata": {},
      "source": [
        "**Create a NamedTuple to hold the model parameters.**"
      ],
      "id": "1424b0d0-028b-4a44-83dc-7152cfd6afd4"
    },
    {
      "cell_type": "code",
      "execution_count": 10,
      "metadata": {},
      "outputs": [
        {
          "output_type": "display_data",
          "metadata": {},
          "data": {
            "text/plain": [
              "(α = 0.3, β = 0.96, ρ = 0.9, γ = 4.0, δ = 0.1)"
            ]
          }
        }
      ],
      "source": [
        "model = (α = 0.3, β = 0.96,  ρ = 0.9, γ = 4.0, δ = 0.1,)"
      ],
      "id": "cell-6"
    },
    {
      "cell_type": "code",
      "execution_count": 9,
      "metadata": {},
      "outputs": [
        {
          "output_type": "display_data",
          "metadata": {},
          "data": {
            "text/plain": [
              "@NamedTuple{α::Float64, β::Float64, γ::Float64, δ::Float64, ρ::Float64}"
            ]
          }
        }
      ],
      "source": [
        "typeof(model)"
      ],
      "id": "cell-7"
    },
    {
      "cell_type": "markdown",
      "metadata": {},
      "source": [
        "**Define two functions:** -\n",
        "`transition(z::Number, k::Number, i::Number, p)::Tuple{Number}` which\n",
        "returns productivity and capital at date `t+1` as a function of\n",
        "productivity, capital and investment at date `t` -\n",
        "`arbitrage(z::Number, k::Number, i::Number, Z::Number, K::Number, I::Number, p)::Number`\n",
        "which returns the residual of the euler equation (lower case variable\n",
        "for date t, upper case for date t+1)"
      ],
      "id": "6171821b-0a25-446c-bd88-27183ed3f719"
    },
    {
      "cell_type": "code",
      "execution_count": null,
      "metadata": {},
      "outputs": [
        {
          "output_type": "display_data",
          "metadata": {},
          "data": {
            "text/plain": [
              "transition (generic function with 1 method)"
            ]
          }
        }
      ],
      "source": [
        "function transition(z, k, i, model)\n",
        "    (;α, β, γ, δ, ρ) = model\n",
        "    z_new = ρ*z\n",
        "    k_new = (1-δ)*k + i\n",
        "    return (z_new, k_new)\n",
        "end\n",
        "    "
      ],
      "id": "cell-9"
    },
    {
      "cell_type": "code",
      "execution_count": null,
      "metadata": {},
      "outputs": [
        {
          "output_type": "display_data",
          "metadata": {},
          "data": {
            "text/plain": [
              "arbitrage (generic function with 2 methods)"
            ]
          }
        }
      ],
      "source": [
        "function arbitrage(z, k, i, Z, K, I, model)\n",
        "\n",
        "    (;α, β, γ, δ, ρ) = model\n",
        "\n",
        "    y = exp(z)*k^α\n",
        "    c = y - i\n",
        "    Y = exp(Z)*K^α\n",
        "    C = Y - I\n",
        "    \n",
        "    r = β*(C/c)^(-γ)*( (1-δ) + α*exp(Z)*K^(α-1) ) - 1\n",
        "\n",
        "    return r\n",
        "\n",
        "end"
      ],
      "id": "cell-10"
    },
    {
      "cell_type": "markdown",
      "metadata": {},
      "source": [
        "**Using multiple dispatch, define two variants of the same functions,\n",
        "that take vectors as input and output arguments:** -\n",
        "`arbitrage(s::Vector{T}, x::Vector{T}, S::Vector{T}, X::Vector{T}, p) where T<:Number` -\n",
        "`transition(s::Vector{T}, x::Vector{T}, p) where T<:Number`"
      ],
      "id": "c3d9bf5e-64b4-4d00-b17a-925e40edf877"
    },
    {
      "cell_type": "code",
      "execution_count": 59,
      "metadata": {},
      "outputs": [
        {
          "output_type": "display_data",
          "metadata": {},
          "data": {
            "text/plain": [
              "transition (generic function with 2 methods)"
            ]
          }
        }
      ],
      "source": [
        "function transition(s::Vector{T},x::Vector{U},model) where T<:Number where U<:Number\n",
        "    r = transition(s[1],s[2],x[1],model)\n",
        "    # return [r[1], r[2]]\n",
        "    return [r...]\n",
        "end"
      ],
      "id": "cell-12"
    },
    {
      "cell_type": "code",
      "execution_count": 60,
      "metadata": {},
      "outputs": [
        {
          "output_type": "display_data",
          "metadata": {},
          "data": {
            "text/plain": [
              "2-element Vector{Float64}:\n",
              " 0.0\n",
              " 2.920822149964071"
            ]
          }
        }
      ],
      "source": [
        "transition(m.s,m.x, model)"
      ],
      "id": "cell-13"
    },
    {
      "cell_type": "code",
      "execution_count": 61,
      "metadata": {},
      "outputs": [
        {
          "output_type": "display_data",
          "metadata": {},
          "data": {
            "text/plain": [
              "arbitrage (generic function with 3 methods)"
            ]
          }
        }
      ],
      "source": [
        "function arbitrage(s,x,S,X,model)\n",
        "    r = arbitrage(s[1],s[2],x[1],S[1],S[2],X[1],model)\n",
        "    return [r]\n",
        "end"
      ],
      "id": "cell-14"
    },
    {
      "cell_type": "markdown",
      "metadata": {},
      "source": [
        "**Write a function `steady_state(p)::Tuple{Vector,Vector}` which\n",
        "computes the steady-state of the model computed by hand.** It returns\n",
        "two vectors, one for the states, one for the controls. Check that the\n",
        "steady-state satisfies the model equations."
      ],
      "id": "16b0b46d-e69c-4d58-b68f-eb53ebcac57f"
    },
    {
      "cell_type": "code",
      "execution_count": 62,
      "metadata": {},
      "outputs": [
        {
          "output_type": "display_data",
          "metadata": {},
          "data": {
            "text/plain": [
              "steady_state (generic function with 1 method)"
            ]
          }
        }
      ],
      "source": [
        "function steady_state(model)\n",
        "    (;α, β, γ, δ, ρ) = model\n",
        "    k = (( 1/β - (1-δ)) / α )^ (1/(α-1))\n",
        "    z = 0.0\n",
        "    i = δ*k\n",
        "    return (;\n",
        "        s = [z,k],\n",
        "        x = [i],\n",
        "    )\n",
        "end"
      ],
      "id": "cell-16"
    },
    {
      "cell_type": "code",
      "execution_count": 66,
      "metadata": {},
      "outputs": [],
      "source": [
        "m = steady_state(model)\n",
        "\n",
        "r1 = arbitrage(m.s, m.x, m.s, m.x, model)\n",
        "r2 = transition(m.s, m.x, model) - m.s\n",
        "[r1,r2]\n",
        "\n",
        "@assert maximum(abs, [r1; r2]) < 1e-12"
      ],
      "id": "cell-17"
    },
    {
      "cell_type": "markdown",
      "metadata": {},
      "source": [
        "The first order system satisfies:\n",
        "$$\\begin{align}A s_t + B x_t + C s_{t+1} + D x_{t+1} & = & 0 \\\\\\\\ \n",
        "s_{t+1} & = & E s_t + F x_t\n",
        " \\end{align}$$\n",
        "\n",
        "**Define a structure `PerturbedModel` to hold matrices A,B,C,D,E,F.**"
      ],
      "id": "54a4e5df-d536-40a5-a6ec-323649e7e4ad"
    },
    {
      "cell_type": "code",
      "execution_count": 68,
      "metadata": {},
      "outputs": [],
      "source": [
        "import ForwardDiff: jacobian"
      ],
      "id": "cell-19"
    },
    {
      "cell_type": "code",
      "execution_count": 70,
      "metadata": {},
      "outputs": [
        {
          "output_type": "display_data",
          "metadata": {},
          "data": {
            "text/plain": [
              "2×1 Matrix{Float64}:\n",
              " 0.0\n",
              " 1.0"
            ]
          }
        }
      ],
      "source": [
        "A = jacobian(u->arbitrage(u, m.x, m.s, m.x, model), m.s)\n",
        "B = jacobian(u->arbitrage(m.s, u, m.s, m.x, model), m.x)\n",
        "C = jacobian(u->arbitrage(m.s, m.x, u, m.x, model), m.s)\n",
        "D = jacobian(u->arbitrage(m.s, m.x, m.s, u, model), m.x)\n",
        "E = jacobian(u->transition(u, m.x, model), m.s)\n",
        "F = jacobian(u->transition(m.s, u, model), m.x)"
      ],
      "id": "cell-20"
    },
    {
      "cell_type": "code",
      "execution_count": null,
      "metadata": {},
      "outputs": [
        {
          "output_type": "display_data",
          "metadata": {},
          "data": {
            "text/plain": [
              "(A = [5.074626865671642 0.5212190203776081], B = [-3.679193085018409;;], C = [-4.938626865671642 -0.5538125831185546], D = [3.679193085018409;;], E = [0.9 0.0; 0.0 0.9], F = [0.0; 1.0;;])"
            ]
          }
        }
      ],
      "source": [],
      "id": "cell-21"
    },
    {
      "cell_type": "markdown",
      "metadata": {},
      "source": [
        "**Write a function\n",
        "`first_order_model(s::Vector, x::Vector, p)::PerturbedModel`, which\n",
        "returns the first order model, given the steady-state and the\n",
        "calibration. Suggestion: use `ForwardDiff.jl` library.**"
      ],
      "id": "bdcdbd91-995c-4676-ad57-29f13dc5b757"
    },
    {
      "cell_type": "code",
      "execution_count": 73,
      "metadata": {},
      "outputs": [
        {
          "output_type": "display_data",
          "metadata": {},
          "data": {
            "text/plain": [
              "first_order_model (generic function with 1 method)"
            ]
          }
        }
      ],
      "source": [
        "function first_order_model(model)\n",
        "    m = steady_state(model)\n",
        "    A = jacobian(u->arbitrage(u, m.x, m.s, m.x, model), m.s)\n",
        "    B = jacobian(u->arbitrage(m.s, u, m.s, m.x, model), m.x)\n",
        "    C = jacobian(u->arbitrage(m.s, m.x, u, m.x, model), m.s)\n",
        "    D = jacobian(u->arbitrage(m.s, m.x, m.s, u, model), m.x)\n",
        "    E = jacobian(u->transition(u, m.x, model), m.s)\n",
        "    F = jacobian(u->transition(m.s, u, model), m.x)\n",
        "    pm = (;A, B, C, D, E, F)\n",
        "    pm\n",
        "end"
      ],
      "id": "cell-23"
    },
    {
      "cell_type": "code",
      "execution_count": 76,
      "metadata": {},
      "outputs": [
        {
          "output_type": "display_data",
          "metadata": {},
          "data": {
            "text/plain": [
              "(A = [4.6575342465753415 0.6053173918792945], B = [-4.272828648559724;;], C = [-4.521534246575342 -0.6760184632507961], D = [4.272828648559724;;], E = [0.9 0.0; 0.0 0.9], F = [0.0; 1.0;;])"
            ]
          }
        }
      ],
      "source": [
        "first_order_model(merge(model, (;α=0.2)))"
      ],
      "id": "cell-24"
    },
    {
      "cell_type": "markdown",
      "metadata": {},
      "source": [
        "**We look for a linear solution $x_t = X s_t$ . Write the matrix\n",
        "equation which `X` must satisfy. Write a function\n",
        "`residual(X::Array, M::PerturbedModel)` which computes the residual of\n",
        "this equation for a given `X`.**"
      ],
      "id": "fda9b7a8-794b-43d3-97a8-38e82774b091"
    },
    {
      "cell_type": "code",
      "execution_count": 78,
      "metadata": {},
      "outputs": [
        {
          "output_type": "display_data",
          "metadata": {},
          "data": {
            "text/plain": [
              "residual (generic function with 1 method)"
            ]
          }
        }
      ],
      "source": [
        "residual(X::Array, M)  = M.A + M.B*X + (M.C+M.D*X)*(M.E+M.F*X)"
      ],
      "id": "cell-26"
    },
    {
      "cell_type": "markdown",
      "metadata": {},
      "source": [
        "**Write a function `T(X, M::PerturbedModel)` which implements the time\n",
        "iteration step.**"
      ],
      "id": "17ada2b3-3bb7-4371-921d-e5a5ac92036c"
    },
    {
      "cell_type": "code",
      "execution_count": 79,
      "metadata": {},
      "outputs": [
        {
          "output_type": "display_data",
          "metadata": {},
          "data": {
            "text/plain": [
              "T (generic function with 1 method)"
            ]
          }
        }
      ],
      "source": [
        "T(X, M) = - (B+(C+D*X)*F) \\ (A+(C+D*X)*E)"
      ],
      "id": "cell-28"
    },
    {
      "cell_type": "markdown",
      "metadata": {},
      "source": [
        "**Write function\n",
        "`linear_time_iteration(X_0::Matrix, m::PerturbedModel)::Matrix` which\n",
        "implements the time iteration algorithm. Apply it to `X0 = rand(1,2)`\n",
        "and check that the result satisfies the first order model.**"
      ],
      "id": "7e6160b1-f9f6-402c-92e2-9e2efe06ba8c"
    },
    {
      "cell_type": "code",
      "execution_count": 93,
      "metadata": {},
      "outputs": [
        {
          "output_type": "display_data",
          "metadata": {},
          "data": {
            "text/plain": [
              "linear_time_iteration (generic function with 1 method)"
            ]
          }
        }
      ],
      "source": [
        "function linear_time_iteration(M; TT=200)\n",
        "    nx, ns = size(M.A)\n",
        "    X0 = rand(nx, ns)\n",
        "    for t=1:TT\n",
        "\n",
        "        X = T(X0, M)\n",
        "        r = residual(X,M)\n",
        "        ϵ= maximum(abs,r)\n",
        "        println(t, ϵ)\n",
        "        if ϵ<1e-10 \n",
        "            return X\n",
        "        end\n",
        "        X0 = X\n",
        "    end\n",
        "\n",
        "    error(\"No convergence\")\n",
        "\n",
        "\n",
        "\n",
        "\n",
        "end"
      ],
      "id": "cell-30"
    },
    {
      "cell_type": "markdown",
      "metadata": {},
      "source": [
        "**Check blanchard Kahn Conditions**"
      ],
      "id": "779ea2c6-6adf-4ac9-9a7a-46bc5b381ebe"
    },
    {
      "cell_type": "code",
      "execution_count": 84,
      "metadata": {},
      "outputs": [
        {
          "output_type": "display_data",
          "metadata": {},
          "data": {
            "text/plain": [
              "(A = [5.074626865671642 0.5212190203776081], B = [-3.679193085018409;;], C = [-4.938626865671642 -0.5538125831185546], D = [3.679193085018409;;], E = [0.9 0.0; 0.0 0.9], F = [0.0; 1.0;;])"
            ]
          }
        }
      ],
      "source": [
        "M = first_order_model(model)"
      ],
      "id": "cell-32"
    },
    {
      "cell_type": "code",
      "execution_count": 94,
      "metadata": {},
      "outputs": [
        {
          "output_type": "stream",
          "name": "stdout",
          "text": [
            "132.50570793314876\n",
            "210.455512505432662\n",
            "31.9466036686389936\n",
            "40.9287841848793645\n",
            "50.5970565928183014\n",
            "60.4386101972004859\n",
            "70.34512711663380324\n",
            "80.28217302112220377\n",
            "90.23593757247082392\n",
            "100.1999610141445829\n",
            "110.1708632158035548\n",
            "120.14671240459370383\n",
            "130.12631996092750652\n",
            "140.10890566120863943\n",
            "150.09392679583513797\n",
            "160.08098577929560458\n",
            "170.06977783639770285\n",
            "180.060060235812492646\n",
            "190.051633602213620566\n",
            "200.04433022883245341\n",
            "210.038006555509233486\n",
            "220.03253817699504857\n",
            "230.02781641354569553\n",
            "240.023745859597579688\n",
            "250.02024255316404\n",
            "260.0172325456218263\n",
            "270.014650735639557322\n",
            "280.012439883089379045\n",
            "290.010549751162809429\n",
            "300.008936344979571409\n",
            "310.007561227293772177\n",
            "320.006390899327732402\n",
            "330.005396239121463253\n",
            "340.0045519922426331405\n",
            "350.003836311007448856\n",
            "360.00323033899607017\n",
            "370.0027178379089787263\n",
            "380.002284853889691796\n",
            "390.0019194204454136\n",
            "400.001611295093300047\n",
            "410.001351726877772741\n",
            "420.0011332519568290067\n",
            "430.0009495145444757824\n",
            "440.000795110618227568\n",
            "450.0006654519482678367\n",
            "460.0005566481706718029\n",
            "470.0004654048037391334\n",
            "480.0003889352874364427\n",
            "490.0003248853059747425\n",
            "500.00027126782837472163\n",
            "510.00022640746855007166\n",
            "520.00018889292281487613\n",
            "530.00015753638752835641\n",
            "540.00013133899222594891\n",
            "550.00010946140386947079\n",
            "569.119886607455996e-5\n",
            "577.596003383314454e-5\n",
            "586.324905002186298e-5\n",
            "595.2650385693464585e-5\n",
            "604.381603262348932e-5\n",
            "613.645469470381357e-5\n",
            "623.0322675377281172e-5\n",
            "632.521620221651588e-5\n",
            "642.096496770853662e-5\n",
            "651.742669806636954e-5\n",
            "661.4482590021458464e-5\n",
            "671.2033479718898121e-5\n",
            "689.996628493436077e-6\n",
            "698.303027978939781e-6\n",
            "706.895142039997637e-6\n",
            "715.725015829405322e-6\n",
            "724.752693176346412e-6\n",
            "733.944892712937076e-6\n",
            "743.2739010031868077e-6\n",
            "752.7166475389250877e-6\n",
            "762.253932073426057e-6\n",
            "771.8697794725852646e-6\n",
            "781.550901268299043e-6\n",
            "791.2862464315865907e-6\n",
            "801.0666267296066678e-6\n",
            "818.844043821731873e-7\n",
            "827.332317570885039e-7\n",
            "836.078344969573379e-7\n",
            "845.038308832361338e-7\n",
            "854.1758143876080567e-7\n",
            "863.4606372745216163e-7\n",
            "872.867681665463806e-7\n",
            "882.3761134482214175e-7\n",
            "891.9686392294104849e-7\n",
            "901.6309067474296057e-7\n",
            "911.3510063912036685e-7\n",
            "921.1190568782737387e-7\n",
            "939.268608858192806e-8\n",
            "947.6761896394828e-8\n",
            "956.356918635930242e-8\n",
            "965.2640311665186346e-8\n",
            "974.35875118220963e-8\n",
            "983.6089302657416056e-8\n",
            "992.9879175134084335e-8\n",
            "1002.4736217962839646e-8\n",
            "1012.047733405063923e-8\n",
            "1021.6950784331726254e-8\n",
            "1031.4030824946331677e-8\n",
            "1041.1613267236754155e-8\n",
            "1059.611787366026192e-9\n",
            "1067.954870984150375e-9\n",
            "1076.583275702354285e-9\n",
            "1085.447930107038701e-9\n",
            "1094.508190265539724e-9\n",
            "1103.730394215750721e-9\n",
            "1113.086666477969402e-9\n",
            "1122.553921962800132e-9\n",
            "1132.1130466265617542e-9\n",
            "1141.7482140179936323e-9\n",
            "1151.4463208408699302e-9\n",
            "1161.1965197721508503e-9\n",
            "1179.898299957455947e-10\n",
            "1188.188179023704834e-10\n",
            "1196.773301919338337e-10\n",
            "1205.602740493770852e-10\n",
            "1214.634341799203412e-10\n",
            "1223.833213746418096e-10\n",
            "1233.1704905367746505e-10\n",
            "1242.6222757298910437e-10\n",
            "1252.1687940332526523e-10\n",
            "1261.793694082152797e-10\n",
            "1271.4834311556910507e-10\n",
            "1281.2268097648870935e-10\n",
            "1291.014557327039256e-10\n",
            "1308.390088623855263e-11"
          ]
        },
        {
          "output_type": "display_data",
          "metadata": {},
          "data": {
            "text/plain": [
              "1×2 Matrix{Float64}:\n",
              " 0.768674  0.0278097"
            ]
          }
        }
      ],
      "source": [
        "linear_time_iteration(M)"
      ],
      "id": "cell-33"
    },
    {
      "cell_type": "markdown",
      "metadata": {},
      "source": [
        "**Define two linear operators\n",
        "`L_S(U::Union{Vector, Matrix}, X_0::Matrix, m::PerturbedModel)::Matrix`\n",
        "and `L_T(U::Matrix, X_0::Matrix, m::PerturbedModel)::Matrix` which\n",
        "implement the derivatives of the simulation and the time-iteration\n",
        "operator respectively.**\n",
        "\n",
        "**Implement a function `spectral_radius(f::Function)::Float64` which\n",
        "implements the power iteration method to compute the biggest eigenvalues\n",
        "of the two previously defined operators. Check that Blanchard-Kahn\n",
        "conditions are met.**\n",
        "\n",
        "**Write a function\n",
        "`simulate(s0::Vector, X::Matrix, p, T::Int64)::Tuple{Matrix, Matrix}` to\n",
        "simulate the model over $T$ periods (by using the formula\n",
        "$\\Delta s_t = (E + F X) \\Delta s_{t-1}$. Return a matrix for the states\n",
        "(one line per date) and another matrix for the controls. Bonus: add a\n",
        "keyword option to compute variables levels or log-deviations. If\n",
        "possible, return a DataFrame object.**\n",
        "\n",
        "**Make some nice plots.**"
      ],
      "id": "f19cba65-913c-49e0-84fc-62a8e2b784ab"
    }
  ],
  "nbformat": 4,
  "nbformat_minor": 5,
  "metadata": {
    "kernelspec": {
      "name": "julia-1.11",
      "display_name": "Julia 1.11.3",
      "language": "julia"
    },
    "language_info": {
      "name": "julia",
      "file_extension": ".jl",
      "mimetype": "application/julia",
      "version": "1.11.3"
    }
  }
}
{
 "cells": [
  {
   "cell_type": "markdown",
   "metadata": {},
   "source": [
    "# Tutorial: Perturbation of the Neoclassical Growth Model\n",
    "\n",
    "## Advanced Macro: numerical methods"
   ]
  },
  {
   "cell_type": "markdown",
   "metadata": {},
   "source": [
    "__Warm-up: install and test the `ForwardDiff` library. Check the jacobian function.__"
   ]
  },
  {
   "cell_type": "code",
   "execution_count": 1,
   "metadata": {},
   "outputs": [
    {
     "name": "stderr",
     "output_type": "stream",
     "text": [
      "┌ Info: Precompiling ForwardDiff [f6369f11-7733-5829-9624-2563aa707210]\n",
      "└ @ Base loading.jl:1278\n"
     ]
    }
   ],
   "source": [
    "# using ForwardDiff"
   ]
  },
  {
   "cell_type": "code",
   "execution_count": 2,
   "metadata": {},
   "outputs": [],
   "source": [
    "# import ForwardDiff\n",
    "# ForwardDiff.jacobian"
   ]
  },
  {
   "cell_type": "code",
   "execution_count": 3,
   "metadata": {},
   "outputs": [],
   "source": [
    "using ForwardDiff: jacobian"
   ]
  },
  {
   "cell_type": "code",
   "execution_count": 17,
   "metadata": {},
   "outputs": [
    {
     "data": {
      "text/plain": [
       "f (generic function with 3 methods)"
      ]
     },
     "execution_count": 17,
     "metadata": {},
     "output_type": "execute_result"
    }
   ],
   "source": [
    "function f(x::Vector{Float64})::Vector{Float64}\n",
    "    a = x[1]\n",
    "    b = x[2] + 0.01\n",
    "    for i=1:10\n",
    "        b += a*i\n",
    "    end\n",
    "    return [(sin(a) + cos(b))^2, 1+(sin(a^2) + cos(b))]\n",
    "end"
   ]
  },
  {
   "cell_type": "code",
   "execution_count": 18,
   "metadata": {},
   "outputs": [
    {
     "data": {
      "text/plain": [
       "2-element Array{Float64,1}:\n",
       " 0.36160216439462284\n",
       " 1.4426536581911549"
      ]
     },
     "execution_count": 18,
     "metadata": {},
     "output_type": "execute_result"
    }
   ],
   "source": [
    "f([0.2, 0.4])"
   ]
  },
  {
   "cell_type": "code",
   "execution_count": 19,
   "metadata": {},
   "outputs": [
    {
     "name": "stdout",
     "output_type": "stream",
     "text": [
      "  0.000043 seconds (6 allocations: 560 bytes)\n"
     ]
    },
    {
     "data": {
      "text/plain": [
       "2×2 Array{Float64,2}:\n",
       " 2.19482  -0.872087\n",
       " 0.39968  -0.389418"
      ]
     },
     "execution_count": 19,
     "metadata": {},
     "output_type": "execute_result"
    }
   ],
   "source": [
    "@time jacobian(f, [0.2, 0.4])"
   ]
  },
  {
   "cell_type": "code",
   "execution_count": null,
   "metadata": {},
   "outputs": [],
   "source": []
  },
  {
   "cell_type": "markdown",
   "metadata": {},
   "source": [
    "__Warm-up(2): install and test the `NLSolve` library. Find the root of a simple 2 variables function.__"
   ]
  },
  {
   "cell_type": "code",
   "execution_count": null,
   "metadata": {},
   "outputs": [],
   "source": []
  },
  {
   "cell_type": "markdown",
   "metadata": {},
   "source": [
    "\n",
    "Consider the deterministic neoclassical growth model\n",
    "\n",
    "- Transition Equation\n",
    "$$\\begin{eqnarray}\n",
    "k_t & = & (1-\\delta) k_{t-1} + i_{t-1} \\\\\\\\\n",
    "z_t & = & \\rho z_{t-1}\n",
    "\\end{eqnarray}\n",
    "$$\n",
    "\n",
    "- Definition:\n",
    "$$c_t = \\exp(z_t) k_t^\\alpha - i_t$$\n",
    "\n",
    "- Control $i_t\\in[-(1-\\delta) k_t,k_t^\\alpha[$\n",
    "  - or equivalently $c_t \\in [0, k_t^{\\alpha}]$\n",
    "\n",
    "- Objective:\n",
    "$$\\max_{i_t} \\sum_{t\\geq0} \\beta^t U(c_t)$$\n",
    "\n",
    "\n",
    "\n",
    "- Optimality Condition:\n",
    "$$\\beta  \\left[ \\frac{\\left(c_{t+1}\\right)^{-\\gamma}}{\\left(c_t\\right)^{-\\gamma}} \\left( (1-\\delta) + \\alpha k_t^{\\alpha -1} \\right)\\right] = 1$$\n",
    "  - Takes into account the fact that $c_t>0$.\n",
    "- Definition:\n",
    "$$c_t = k_t^\\alpha - i_t$$\n",
    "\n",
    "\n",
    "- Calibration:\n",
    "  - $\\beta = 0.96$\n",
    "  - $\\delta = 0.1$\n",
    "  - $\\gamma = 4.0$\n",
    "  - $\\alpha = 0.3$\n",
    "  - $U(x)=\\frac{x^{1-\\gamma}}{1-\\gamma}$\n",
    "  \n",
    "\n",
    "Our goal is to solve for the model dynamics close to the steady-state."
   ]
  },
  {
   "cell_type": "markdown",
   "metadata": {},
   "source": [
    "__Create a structure `Calibration` to hold the model parameters.__"
   ]
  },
  {
   "cell_type": "code",
   "execution_count": 3,
   "metadata": {},
   "outputs": [],
   "source": [
    "struct Calibration\n",
    "    α::Float64\n",
    "    β::Float64\n",
    "    γ::Float64\n",
    "    δ::Float64\n",
    "    ρ::Float64\n",
    "end"
   ]
  },
  {
   "cell_type": "code",
   "execution_count": 4,
   "metadata": {},
   "outputs": [
    {
     "data": {
      "text/plain": [
       "Calibration(0.3, 0.96, 4.0, 0.1, 0.9)"
      ]
     },
     "execution_count": 4,
     "metadata": {},
     "output_type": "execute_result"
    }
   ],
   "source": [
    "c = Calibration(0.3, 0.96, 4.0, 0.1, 0.9)"
   ]
  },
  {
   "cell_type": "code",
   "execution_count": 5,
   "metadata": {},
   "outputs": [
    {
     "data": {
      "text/plain": [
       "0.3"
      ]
     },
     "execution_count": 5,
     "metadata": {},
     "output_type": "execute_result"
    }
   ],
   "source": [
    "c.α"
   ]
  },
  {
   "cell_type": "code",
   "execution_count": 6,
   "metadata": {},
   "outputs": [
    {
     "data": {
      "text/plain": [
       "U (generic function with 1 method)"
      ]
     },
     "execution_count": 6,
     "metadata": {},
     "output_type": "execute_result"
    }
   ],
   "source": [
    "U(x, c) = x^(1-c.γ)/(1-c.γ)"
   ]
  },
  {
   "cell_type": "markdown",
   "metadata": {},
   "source": [
    "__Define two functions:__\n",
    "- `transition(z::Float64, k::Float64, i::Float64, p::Calibration)::Tuple{Float64}` which returns productivity and capital at date `t+1` as a function of productivity, capital and investment at date `t`\n",
    "- `arbitrage(z::Float64, k::Float64, i::Float64, Z::Float64, K::Float64, I::Float64, p::Calibration)::Float64` which returns the residual of the euler equation (lower case variable for date t, upper case for date t+1)\n"
   ]
  },
  {
   "cell_type": "code",
   "execution_count": 7,
   "metadata": {},
   "outputs": [
    {
     "data": {
      "text/plain": [
       "transition (generic function with 1 method)"
      ]
     },
     "execution_count": 7,
     "metadata": {},
     "output_type": "execute_result"
    }
   ],
   "source": [
    "function transition(z::Float64, k::Float64, i::Float64, p::Calibration)\n",
    "    Z = p.ρ*z\n",
    "    K = (1-p.δ)*k + i\n",
    "    return (Z, K)\n",
    "end"
   ]
  },
  {
   "cell_type": "code",
   "execution_count": 8,
   "metadata": {},
   "outputs": [
    {
     "data": {
      "text/plain": [
       "(0.09000000000000001, 2.9000000000000004)"
      ]
     },
     "execution_count": 8,
     "metadata": {},
     "output_type": "execute_result"
    }
   ],
   "source": [
    "transition(0.1, 3.0, 0.2, c)"
   ]
  },
  {
   "cell_type": "code",
   "execution_count": 11,
   "metadata": {},
   "outputs": [
    {
     "data": {
      "text/plain": [
       "transition (generic function with 2 methods)"
      ]
     },
     "execution_count": 11,
     "metadata": {},
     "output_type": "execute_result"
    }
   ],
   "source": [
    "transition(s::Vector, x::Vector, p) = [transition(s[1], s[2], x[1], p)...]"
   ]
  },
  {
   "cell_type": "code",
   "execution_count": 12,
   "metadata": {},
   "outputs": [
    {
     "data": {
      "text/plain": [
       "2-element Array{Float64,1}:\n",
       " 0.09000000000000001\n",
       " 2.9000000000000004"
      ]
     },
     "execution_count": 12,
     "metadata": {},
     "output_type": "execute_result"
    }
   ],
   "source": [
    "transition([0.1, 3.0], [0.2], c)"
   ]
  },
  {
   "cell_type": "code",
   "execution_count": 13,
   "metadata": {},
   "outputs": [],
   "source": [
    "using ForwardDiff: jacobian"
   ]
  },
  {
   "cell_type": "code",
   "execution_count": 17,
   "metadata": {},
   "outputs": [
    {
     "data": {
      "text/plain": [
       "#5 (generic function with 1 method)"
      ]
     },
     "execution_count": 17,
     "metadata": {},
     "output_type": "execute_result"
    }
   ],
   "source": [
    "anonymous = (u->transition(u, [0.2], c))"
   ]
  },
  {
   "cell_type": "code",
   "execution_count": 20,
   "metadata": {},
   "outputs": [
    {
     "ename": "LoadError",
     "evalue": "\u001b[91mMethodError: no method matching transition(::ForwardDiff.Dual{ForwardDiff.Tag{var\"#5#6\",Float64},Float64,2}, ::ForwardDiff.Dual{ForwardDiff.Tag{var\"#5#6\",Float64},Float64,2}, ::Float64, ::Calibration)\u001b[39m\n\u001b[91m\u001b[0mClosest candidates are:\u001b[39m\n\u001b[91m\u001b[0m  transition(\u001b[91m::Float64\u001b[39m, \u001b[91m::Float64\u001b[39m, ::Float64, ::Calibration) at In[7]:1\u001b[39m\n\u001b[91m\u001b[0m  transition(\u001b[91m::Array{T,1} where T\u001b[39m, \u001b[91m::Array{T,1} where T\u001b[39m, ::Any) at In[11]:1\u001b[39m",
     "output_type": "error",
     "traceback": [
      "\u001b[91mMethodError: no method matching transition(::ForwardDiff.Dual{ForwardDiff.Tag{var\"#5#6\",Float64},Float64,2}, ::ForwardDiff.Dual{ForwardDiff.Tag{var\"#5#6\",Float64},Float64,2}, ::Float64, ::Calibration)\u001b[39m\n\u001b[91m\u001b[0mClosest candidates are:\u001b[39m\n\u001b[91m\u001b[0m  transition(\u001b[91m::Float64\u001b[39m, \u001b[91m::Float64\u001b[39m, ::Float64, ::Calibration) at In[7]:1\u001b[39m\n\u001b[91m\u001b[0m  transition(\u001b[91m::Array{T,1} where T\u001b[39m, \u001b[91m::Array{T,1} where T\u001b[39m, ::Any) at In[11]:1\u001b[39m",
      "",
      "Stacktrace:",
      " [1] transition(::Array{ForwardDiff.Dual{ForwardDiff.Tag{var\"#5#6\",Float64},Float64,2},1}, ::Array{Float64,1}, ::Calibration) at ./In[11]:1",
      " [2] (::var\"#5#6\")(::Array{ForwardDiff.Dual{ForwardDiff.Tag{var\"#5#6\",Float64},Float64,2},1}) at ./In[17]:1",
      " [3] vector_mode_dual_eval(::var\"#5#6\", ::Array{Float64,1}, ::ForwardDiff.JacobianConfig{ForwardDiff.Tag{var\"#5#6\",Float64},Float64,2,Array{ForwardDiff.Dual{ForwardDiff.Tag{var\"#5#6\",Float64},Float64,2},1}}) at /home/pablo/.julia/packages/ForwardDiff/sqhTO/src/apiutils.jl:37",
      " [4] vector_mode_jacobian(::var\"#5#6\", ::Array{Float64,1}, ::ForwardDiff.JacobianConfig{ForwardDiff.Tag{var\"#5#6\",Float64},Float64,2,Array{ForwardDiff.Dual{ForwardDiff.Tag{var\"#5#6\",Float64},Float64,2},1}}) at /home/pablo/.julia/packages/ForwardDiff/sqhTO/src/jacobian.jl:147",
      " [5] jacobian(::Function, ::Array{Float64,1}, ::ForwardDiff.JacobianConfig{ForwardDiff.Tag{var\"#5#6\",Float64},Float64,2,Array{ForwardDiff.Dual{ForwardDiff.Tag{var\"#5#6\",Float64},Float64,2},1}}, ::Val{true}) at /home/pablo/.julia/packages/ForwardDiff/sqhTO/src/jacobian.jl:21",
      " [6] jacobian(::Function, ::Array{Float64,1}, ::ForwardDiff.JacobianConfig{ForwardDiff.Tag{var\"#5#6\",Float64},Float64,2,Array{ForwardDiff.Dual{ForwardDiff.Tag{var\"#5#6\",Float64},Float64,2},1}}) at /home/pablo/.julia/packages/ForwardDiff/sqhTO/src/jacobian.jl:19 (repeats 2 times)",
      " [7] top-level scope at In[20]:1",
      " [8] include_string(::Function, ::Module, ::String, ::String) at ./loading.jl:1091"
     ]
    }
   ],
   "source": [
    "jacobian(anonymous, [0.1, 3.0])"
   ]
  },
  {
   "cell_type": "code",
   "execution_count": null,
   "metadata": {},
   "outputs": [],
   "source": []
  },
  {
   "cell_type": "markdown",
   "metadata": {},
   "source": [
    "__Using multiple dispatch, define two variants of the same functions, that take vectors as input and output arguments:__\n",
    "- `arbitrage(s::Vector{Float64}, x::Vector{Float64}, S::Vector{Float64}, X::Vector{Float64}, p::Calibration)`\n",
    "- `transition(s::Vector{Float64}, x::Vector{Float64}, p::Calibration)`"
   ]
  },
  {
   "cell_type": "code",
   "execution_count": null,
   "metadata": {},
   "outputs": [],
   "source": []
  },
  {
   "cell_type": "markdown",
   "metadata": {},
   "source": [
    "__Write a function `steady_state(p::Calibration)::Tuple{Vector,Vector}` which computes the steady-state of the model computed by hand.__ It returns two vectors, one for the states, one for the controls. Check that the steady-state satisfies the model equations.\n"
   ]
  },
  {
   "cell_type": "code",
   "execution_count": null,
   "metadata": {},
   "outputs": [],
   "source": []
  },
  {
   "cell_type": "markdown",
   "metadata": {},
   "source": [
    "The first order system satisfies:\n",
    "$$\\begin{eqnarray}A s_t + B x_t + C s_{t+1} + D x_{t+1} & = & 0 \\\\\\\\ \n",
    "s_{t+1} & = & E s_t + F x_t\n",
    " \\end{eqnarray}$$\n",
    "\n",
    "__Define a structure `PerturbedModel` to hold matrices A,B,C,D,E,F.__\n",
    "\n"
   ]
  },
  {
   "cell_type": "code",
   "execution_count": null,
   "metadata": {},
   "outputs": [],
   "source": []
  },
  {
   "cell_type": "markdown",
   "metadata": {},
   "source": [
    "__Write a function `first_order_model(s::Vector, x::Vector, p::Calibration)::PerturbedModel`, which returns the first order model, given the steady-state and the calibration. Suggestion: use `ForwardDiff.jl` library.__"
   ]
  },
  {
   "cell_type": "code",
   "execution_count": null,
   "metadata": {},
   "outputs": [],
   "source": []
  },
  {
   "cell_type": "markdown",
   "metadata": {},
   "source": [
    "__We look for a linear solution $x_t = X s_t$ . Write the matrix equation which `X` must satisfy. Write a function `residual(X::Array, M::PerturbedModel)` which computes the residual of this equation for a given `X`.__\n"
   ]
  },
  {
   "cell_type": "code",
   "execution_count": null,
   "metadata": {},
   "outputs": [],
   "source": []
  },
  {
   "cell_type": "markdown",
   "metadata": {},
   "source": [
    "__Write a function `T(X, M::PerturbedModel)`  which implements the time iteration step.__"
   ]
  },
  {
   "cell_type": "code",
   "execution_count": null,
   "metadata": {},
   "outputs": [],
   "source": []
  },
  {
   "cell_type": "markdown",
   "metadata": {},
   "source": [
    "__Write function `linear_time_iteration(X_0::Matrix, m::PerturbedModel)::Matrix` which implements the time iteration algorithm. Apply it to `X0 = rand(1,2)` and check that the result satisfies the first order model.__\n",
    "\n",
    "    "
   ]
  },
  {
   "cell_type": "code",
   "execution_count": null,
   "metadata": {},
   "outputs": [],
   "source": []
  },
  {
   "cell_type": "markdown",
   "metadata": {},
   "source": [
    "__Define two linear operators `L_S(S::Matrix, X_0::Matrix, m::PerturbedModel)::Matrix` and `L_T(S::Matrix, X_0::Matrix, m::PerturbedModel)::Matrix` which implement the derivatives of the simulation and the time-iteration operator respectively.__"
   ]
  },
  {
   "cell_type": "code",
   "execution_count": null,
   "metadata": {},
   "outputs": [],
   "source": []
  },
  {
   "cell_type": "markdown",
   "metadata": {},
   "source": [
    "__Implement a function `spectral_radius(f::Function)::Float64` which implements the power iteration method to compute the biggest eigenvalues of the two previously defined operators. Check that Blamnchard-Kahn conditions are met.__"
   ]
  },
  {
   "cell_type": "code",
   "execution_count": null,
   "metadata": {},
   "outputs": [],
   "source": []
  },
  {
   "cell_type": "markdown",
   "metadata": {},
   "source": [
    "__Write a function `simulate(s0::Vector, X::Matrix, p::Calibration, T::Int64)::Tuple{Matrix, Matrix}` to simulate the model over $T$ periods (by using the formula $\\Delta s_t = (E + F X) s_{t-11}$. Return a matrix for the states (one line per date) and another matrix for the controls. Bonus: add a keyword option to compute variables levels or log-deviations. If possible, return a DataFrame object.__"
   ]
  },
  {
   "cell_type": "code",
   "execution_count": null,
   "metadata": {},
   "outputs": [],
   "source": []
  },
  {
   "cell_type": "markdown",
   "metadata": {},
   "source": [
    "__Make some nice plots.__"
   ]
  },
  {
   "cell_type": "code",
   "execution_count": null,
   "metadata": {},
   "outputs": [],
   "source": []
  }
 ],
 "metadata": {
  "kernelspec": {
   "display_name": "Julia 1.5.3",
   "language": "julia",
   "name": "julia-1.5"
  },
  "language_info": {
   "file_extension": ".jl",
   "mimetype": "application/julia",
   "name": "julia",
   "version": "1.5.3"
  }
 },
 "nbformat": 4,
 "nbformat_minor": 4
}

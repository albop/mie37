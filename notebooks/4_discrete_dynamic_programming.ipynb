{
 "cells": [
  {
   "attachments": {},
   "cell_type": "markdown",
   "metadata": {},
   "source": [
    "# Tutorial: Discrete Dynamic Programming"
   ]
  },
  {
   "cell_type": "markdown",
   "metadata": {},
   "source": [
    "## Markov Chains"
   ]
  },
  {
   "cell_type": "markdown",
   "metadata": {},
   "source": [
    "A worker’s employment dynamics obey the stochastic matrix\n",
    "\n",
    "$$P = \\begin{bmatrix}\n",
    "1-\\alpha & \\alpha \\\\\n",
    "\\beta & 1-\\beta\n",
    "\\end{bmatrix}$$\n",
    "\n",
    "\n",
    "\n",
    "$$P = \\begin{bmatrix}\n",
    "1-\\alpha & ... \\\\\n",
    "\\beta & ...\n",
    "\\end{bmatrix}$$\n",
    "\n",
    "\n",
    "with $\\alpha\\in(0,1)$ and $\\beta\\in (0,1)$. First line corresponds to employment, second line to unemployment."
   ]
  },
  {
   "attachments": {},
   "cell_type": "markdown",
   "metadata": {},
   "source": [
    "__Which is the stationary equilibrium? (choose any value for $\\alpha$ and $\\beta$)__"
   ]
  },
  {
   "cell_type": "code",
   "execution_count": 1,
   "metadata": {},
   "outputs": [
    {
     "data": {
      "text/plain": [
       "2×2 Matrix{Float64}:\n",
       " 0.8  0.2\n",
       " 0.3  0.7"
      ]
     },
     "metadata": {},
     "output_type": "display_data"
    }
   ],
   "source": [
    "α = 0.2\n",
    "β = 0.3\n",
    "P = [1-α α; β 1-β]"
   ]
  },
  {
   "cell_type": "code",
   "execution_count": 4,
   "metadata": {},
   "outputs": [
    {
     "data": {
      "text/plain": [
       "1×2 adjoint(::Vector{Int64}) with eltype Int64:\n",
       " 1  1"
      ]
     },
     "metadata": {},
     "output_type": "display_data"
    }
   ],
   "source": [
    "[1,1]'"
   ]
  },
  {
   "cell_type": "code",
   "execution_count": 6,
   "metadata": {},
   "outputs": [
    {
     "data": {
      "text/plain": [
       "2-element Vector{Float64}:\n",
       " 0.6\n",
       " 0.3999999999999999"
      ]
     },
     "metadata": {},
     "output_type": "display_data"
    }
   ],
   "source": [
    "# we want μ = μ*P\n",
    "# we want μ = P'*μ\n",
    "# we want (P'-I)*μ = 0\n",
    "# can we μ=(P'-I)\\0\n",
    "using LinearAlgebra: I\n",
    "M = (P'-I)\n",
    "Q = cat(\n",
    "    M,\n",
    "    [1,1]'\n",
    "    ; dims=1\n",
    ")\n",
    "Q \\ [0,0,1.0]"
   ]
  },
  {
   "cell_type": "markdown",
   "metadata": {},
   "source": [
    "__In the long run, what will the the fraction $p$ of time spent unemployed? (Denote by $X_m$ the fraction of dates were one is unemployed)__"
   ]
  },
  {
   "cell_type": "code",
   "execution_count": null,
   "metadata": {},
   "outputs": [],
   "source": []
  },
  {
   "cell_type": "markdown",
   "metadata": {},
   "source": [
    "__Illustrate this convergence by generating a simulated series of length 10000 starting at $X_0=1$. Plot $X_m-p$ against $m$. (Take $\\alpha=\\beta=0.1$).__"
   ]
  },
  {
   "cell_type": "code",
   "execution_count": null,
   "metadata": {},
   "outputs": [],
   "source": []
  },
  {
   "cell_type": "markdown",
   "metadata": {},
   "source": [
    "## Basic Asset Pricing model\n",
    "\n",
    "A financial asset yields dividend $(x_t)$, which follows an AR1. It is evaluated using the stochastic discount factor: $\\rho_{0,t} = \\beta^t \\exp(y_t)$  where $\\beta<1$ and $y_t$ is an $AR1$.\n",
    "The price of the asset is given by $p_0 = \\sum_{t\\geq 0} \\rho_{0,t} U(x_t)$ where $U(u)=\\exp(u)^{0.5}/{0.5}$.\n",
    "Our goal is to find the pricing function $p(x,y)$, which yields the price of the asset in any state."
   ]
  },
  {
   "cell_type": "markdown",
   "metadata": {},
   "source": [
    "__Write down the recursive equation which must be satisfied by $p$.__"
   ]
  },
  {
   "cell_type": "markdown",
   "metadata": {},
   "source": [
    "\n",
    "$$p_t = U(x_t) + \\beta E_t \\left[ \\frac{e^{y_{t+1}}}{e^{y_t}} p_{t+1} \\right]$$"
   ]
  },
  {
   "attachments": {},
   "cell_type": "markdown",
   "metadata": {},
   "source": [
    "__Compute the ergodic distribution of $x$ and $y$.__"
   ]
  },
  {
   "cell_type": "code",
   "execution_count": 1,
   "metadata": {},
   "outputs": [
    {
     "data": {
      "text/plain": [
       "3×3 Matrix{Float64}:\n",
       " 0.9   0.05  0.05\n",
       " 0.05  0.9   0.05\n",
       " 0.05  0.05  0.9"
      ]
     },
     "metadata": {},
     "output_type": "display_data"
    }
   ],
   "source": [
    "# we do it for three states\n",
    "M = [ 0.9  0.05 0.05 ;\n",
    "      0.05 0.9  0.05 ;\n",
    "      0.05 0.05 0.9 ] "
   ]
  },
  {
   "cell_type": "code",
   "execution_count": 3,
   "metadata": {},
   "outputs": [
    {
     "data": {
      "text/plain": [
       "3×1 Matrix{Float64}:\n",
       " 1.0\n",
       " 1.0\n",
       " 1.0"
      ]
     },
     "metadata": {},
     "output_type": "display_data"
    }
   ],
   "source": [
    "sum(M; dims=2) # all columns sum to 1"
   ]
  },
  {
   "cell_type": "code",
   "execution_count": null,
   "metadata": {},
   "outputs": [],
   "source": [
    "# we want the solution μ such that\n",
    "# μ M  = μ\n",
    "\n",
    "# or \n",
    "\n",
    "#M' μ = μ"
   ]
  },
  {
   "cell_type": "code",
   "execution_count": 5,
   "metadata": {},
   "outputs": [
    {
     "data": {
      "text/plain": [
       "3×3 adjoint(::Matrix{Float64}) with eltype Float64:\n",
       " 0.9   0.05  0.05\n",
       " 0.05  0.9   0.05\n",
       " 0.05  0.05  0.9"
      ]
     },
     "metadata": {},
     "output_type": "display_data"
    }
   ],
   "source": [
    "Mp = M'"
   ]
  },
  {
   "cell_type": "code",
   "execution_count": 10,
   "metadata": {},
   "outputs": [
    {
     "data": {
      "text/plain": [
       "3×3 Matrix{Float64}:\n",
       " -0.1    0.05   0.05\n",
       "  0.05  -0.1    0.05\n",
       "  0.05   0.05  -0.1"
      ]
     },
     "metadata": {},
     "output_type": "display_data"
    }
   ],
   "source": [
    "using LinearAlgebra\n",
    "P = M'- I\n",
    "# μ should satisfy (M'-I)μ = 0\n",
    "# we need to add the condition $|μ|=1$"
   ]
  },
  {
   "cell_type": "code",
   "execution_count": 15,
   "metadata": {},
   "outputs": [
    {
     "data": {
      "text/plain": [
       "3-element Vector{Float64}:\n",
       " 0.0\n",
       " 0.0\n",
       " 1.0"
      ]
     },
     "metadata": {},
     "output_type": "display_data"
    }
   ],
   "source": [
    "P[end,:] .= 1.0\n",
    "P\n",
    "# we should have $ P  \\mu = [0, 0, 1]\n",
    "v0 = [0., 0., 1.]"
   ]
  },
  {
   "cell_type": "code",
   "execution_count": 17,
   "metadata": {},
   "outputs": [
    {
     "data": {
      "text/plain": [
       "3-element Vector{Float64}:\n",
       " 0.3333333333333333\n",
       " 0.3333333333333334\n",
       " 0.33333333333333326"
      ]
     },
     "metadata": {},
     "output_type": "display_data"
    }
   ],
   "source": [
    "μ = P \\ v0"
   ]
  },
  {
   "cell_type": "code",
   "execution_count": 23,
   "metadata": {},
   "outputs": [
    {
     "data": {
      "text/plain": [
       "1×3 adjoint(::Vector{Float64}) with eltype Float64:\n",
       " 0.0  0.0  0.0"
      ]
     },
     "metadata": {},
     "output_type": "display_data"
    }
   ],
   "source": [
    "μ'*M - μ'"
   ]
  },
  {
   "cell_type": "code",
   "execution_count": 24,
   "metadata": {},
   "outputs": [
    {
     "data": {
      "text/plain": [
       "1.0"
      ]
     },
     "metadata": {},
     "output_type": "display_data"
    }
   ],
   "source": [
    "sum(μ)"
   ]
  },
  {
   "cell_type": "markdown",
   "metadata": {},
   "source": [
    "__Discretize processes $(x_t)$ and $(y_t)$ using 2 states each. How would you represent the unknown $p()$?__"
   ]
  },
  {
   "cell_type": "code",
   "execution_count": 27,
   "metadata": {},
   "outputs": [
    {
     "data": {
      "text/plain": [
       "2-element Vector{Float64}:\n",
       " -0.1\n",
       "  0.1"
      ]
     },
     "metadata": {},
     "output_type": "display_data"
    }
   ],
   "source": [
    "M_x = [ 0.9  0.1 ; 0.1 0.9 ]\n",
    "M_y = [ 0.5  0.5 ; 0.5 0.5 ]\n",
    "v_x = [-0.1, 0.1]\n",
    "v_y = [-0.1, 0.1]"
   ]
  },
  {
   "attachments": {},
   "cell_type": "markdown",
   "metadata": {},
   "source": [
    "We represent $p(x,y)$ as a 2d matrix $(p_{ij})$ where $p_{ij}=p(x_i, y_j)$"
   ]
  },
  {
   "cell_type": "code",
   "execution_count": 28,
   "metadata": {},
   "outputs": [
    {
     "data": {
      "text/plain": [
       "2×2 Matrix{Float64}:\n",
       " 0.694689  0.349115\n",
       " 0.883153  0.187633"
      ]
     },
     "metadata": {},
     "output_type": "display_data"
    }
   ],
   "source": [
    "P_0 = rand(2,2)"
   ]
  },
  {
   "cell_type": "code",
   "execution_count": null,
   "metadata": {},
   "outputs": [],
   "source": [
    "# Can we list the full states: $(x_i, y_j)$"
   ]
  },
  {
   "cell_type": "code",
   "execution_count": 43,
   "metadata": {},
   "outputs": [],
   "source": [
    "import Base.Iterators: product"
   ]
  },
  {
   "cell_type": "code",
   "execution_count": 46,
   "metadata": {},
   "outputs": [
    {
     "data": {
      "text/plain": [
       "4-element Vector{Tuple{Float64, Float64}}:\n",
       " (-0.1, -0.1)\n",
       " (0.1, -0.1)\n",
       " (-0.1, 0.1)\n",
       " (0.1, 0.1)"
      ]
     },
     "metadata": {},
     "output_type": "display_data"
    }
   ],
   "source": [
    "# option 1\n",
    "[product(v_x, v_y)...]"
   ]
  },
  {
   "cell_type": "code",
   "execution_count": 53,
   "metadata": {},
   "outputs": [
    {
     "data": {
      "text/plain": [
       "2×2 Matrix{Tuple{Float64, Float64}}:\n",
       " (-0.1, -0.1)  (-0.1, 0.1)\n",
       " (0.1, -0.1)   (0.1, 0.1)"
      ]
     },
     "metadata": {},
     "output_type": "display_data"
    }
   ],
   "source": [
    "# option 2\n",
    "grid = [(a,b) for a in v_x, b in v_y]\n",
    "grid"
   ]
  },
  {
   "cell_type": "code",
   "execution_count": 55,
   "metadata": {},
   "outputs": [
    {
     "data": {
      "text/plain": [
       "4×4 Matrix{Float64}:\n",
       " 0.45  0.45  0.05  0.05\n",
       " 0.45  0.45  0.05  0.05\n",
       " 0.05  0.05  0.45  0.45\n",
       " 0.05  0.05  0.45  0.45"
      ]
     },
     "metadata": {},
     "output_type": "display_data"
    }
   ],
   "source": [
    "kron(M_x, M_y) "
   ]
  },
  {
   "cell_type": "code",
   "execution_count": 56,
   "metadata": {},
   "outputs": [],
   "source": [
    "# can you write yourself the kronecker matrix?"
   ]
  },
  {
   "cell_type": "markdown",
   "metadata": {},
   "source": [
    "__Solve for $p()$ using successive approximations__"
   ]
  },
  {
   "cell_type": "code",
   "execution_count": 58,
   "metadata": {},
   "outputs": [
    {
     "data": {
      "text/plain": [
       "(M_x = [0.9 0.1; 0.1 0.9], M_y = [0.5 0.5; 0.5 0.5], v_x = [-0.1, 0.1], v_y = [-0.1, 0.1], β = 0.9)"
      ]
     },
     "metadata": {},
     "output_type": "display_data"
    }
   ],
   "source": [
    "# to avoid using global variables\n",
    "model = merge(\n",
    "    (;M_x, M_y, v_x, v_y),\n",
    "    (;β=0.9)\n",
    ")\n"
   ]
  },
  {
   "cell_type": "code",
   "execution_count": 34,
   "metadata": {},
   "outputs": [
    {
     "data": {
      "text/plain": [
       "U (generic function with 1 method)"
      ]
     },
     "metadata": {},
     "output_type": "display_data"
    }
   ],
   "source": [
    "U(u) = sqrt(exp(u))/0.5"
   ]
  },
  {
   "cell_type": "code",
   "execution_count": 63,
   "metadata": {},
   "outputs": [
    {
     "data": {
      "text/plain": [
       "evaluation_step (generic function with 1 method)"
      ]
     },
     "metadata": {},
     "output_type": "display_data"
    }
   ],
   "source": [
    "function evaluation_step(p_0::Matrix, model)\n",
    "\n",
    "    (;M_x, M_y, v_x, v_y, β) = model\n",
    "\n",
    "    p_1 = p_0*0\n",
    "\n",
    "    #iteration over the  (current) state-space\n",
    "    for i=1:size(M_x, 1)\n",
    "        for j=1:size(M_y, 1)\n",
    "\n",
    "            reward = U(v_x[i])\n",
    "            \n",
    "            continuation = 0.0\n",
    "            \n",
    "            # enumerate all future states\n",
    "            for k=1:size(M_x, 1)\n",
    "                for l=1:size(M_y, 1)\n",
    "\n",
    "                    # probability of ending in (k,l) from (i,j)\n",
    "                    λ = M_x[i,k] * M_y[j, l]\n",
    "\n",
    "                    continuation += λ * p_0[k,l]\n",
    "\n",
    "                end\n",
    "            end\n",
    "            \n",
    "            p_1[i,j] = reward + β*continuation\n",
    "        end\n",
    "    end\n",
    "    \n",
    "\n",
    "    return p_1::Matrix\n",
    "end"
   ]
  },
  {
   "cell_type": "code",
   "execution_count": 67,
   "metadata": {},
   "outputs": [
    {
     "data": {
      "text/plain": [
       "evaluation_step (generic function with 1 method)"
      ]
     },
     "metadata": {},
     "output_type": "display_data"
    }
   ],
   "source": [
    "function evaluation_step(p_0::Matrix, model)\n",
    "\n",
    "    (;M_x, M_y, v_x, v_y, β) = model\n",
    "\n",
    "    p_1 = p_0*0\n",
    "\n",
    "    #iteration over the  (current) state-space\n",
    "    for i=1:size(M_x, 1), j=1:size(M_y, 1)\n",
    "            \n",
    "            p_1[i,j] =  U(v_x[i]) + β*sum( M_x[i,k]*M_y[j, l] *p_0[k,l] for k=1:size(M_x, 1), l=1:size(M_y, 1) )\n",
    "    end\n",
    "    \n",
    "\n",
    "    return p_1::Matrix\n",
    "end"
   ]
  },
  {
   "cell_type": "code",
   "execution_count": 68,
   "metadata": {},
   "outputs": [
    {
     "data": {
      "text/plain": [
       "2×2 Matrix{Float64}:\n",
       " 2.37338  2.37338\n",
       " 2.58318  2.58318"
      ]
     },
     "metadata": {},
     "output_type": "display_data"
    }
   ],
   "source": [
    "evaluation_step(P_0, model)"
   ]
  },
  {
   "cell_type": "code",
   "execution_count": 69,
   "metadata": {},
   "outputs": [
    {
     "data": {
      "text/plain": [
       "price (generic function with 1 method)"
      ]
     },
     "metadata": {},
     "output_type": "display_data"
    }
   ],
   "source": [
    "function price(model; T=100)\n",
    "    p_0 = rand(2,2)\n",
    "    for t=1:100\n",
    "        p_1 = evaluation_step(p_0, model)\n",
    "        p_0 = p_1\n",
    "    end\n",
    "    return p_0\n",
    "end"
   ]
  },
  {
   "cell_type": "code",
   "execution_count": 70,
   "metadata": {},
   "outputs": [
    {
     "data": {
      "text/plain": [
       "2×2 Matrix{Float64}:\n",
       " 19.6672  19.6672\n",
       " 20.3818  20.3818"
      ]
     },
     "metadata": {},
     "output_type": "display_data"
    }
   ],
   "source": [
    "price(model)"
   ]
  },
  {
   "cell_type": "markdown",
   "metadata": {},
   "source": [
    "__Solve for $p()$ by solving a linear system (homework)__"
   ]
  },
  {
   "cell_type": "code",
   "execution_count": null,
   "metadata": {},
   "outputs": [],
   "source": []
  },
  {
   "cell_type": "markdown",
   "metadata": {},
   "source": [
    "## Asset replacement (from Compecon)\n",
    "\n",
    "At the beginning of each year, a manufacturer must decide whether to continue to operate an aging physical asset or replace it with a new one.\n",
    "\n",
    "An asset that is $a$ years old yields a profit contribution $p(a)$ up to $n$ years, at which point, the asset becomes unsafe and must be replaced by law.\n",
    "\n",
    "The cost of a new asset is $c$. What replacement policy maximizes profits?\n",
    "\n",
    "Calibration: profit $p(a)=50-2.5a-2.5a^2$. Maximum asset age: 5 years. Asset replacement cost: 75, annual discount factor $\\delta=0.9$."
   ]
  },
  {
   "cell_type": "markdown",
   "metadata": {},
   "source": [
    "__Define kind of problem, the state space, the actions, the reward function, and the Bellman updating equation__"
   ]
  },
  {
   "cell_type": "markdown",
   "metadata": {},
   "source": [
    "kind of problem:\n",
    "- discrete/finite state and actions space\n",
    "- infinite horizon\n",
    "- discrete dynamic programming problem (d.m.d.p.)"
   ]
  },
  {
   "attachments": {},
   "cell_type": "markdown",
   "metadata": {},
   "source": [
    "- state-space:  asset age $a\\in[0,1,2,3,4,5]$\n",
    "- actions: keep/replace ($\\text{replace} in false/true$ if a<5)\n"
   ]
  },
  {
   "attachments": {},
   "cell_type": "markdown",
   "metadata": {},
   "source": [
    "Bellman updating equation:\n",
    "\n",
    "$$ V(a) ← p(a) + \\delta \\begin{cases} V(0) - c \\   \\text{if a=true} \\\\ V(a+1) \\text{if a=false} \\\\ V(0)-c \\text{if a=5}\\end{cases}   $$"
   ]
  },
  {
   "cell_type": "markdown",
   "metadata": {},
   "source": [
    "__Solve the problem using Value Function Iteration__"
   ]
  },
  {
   "cell_type": "code",
   "execution_count": 11,
   "metadata": {},
   "outputs": [
    {
     "data": {
      "text/plain": [
       "p (generic function with 1 method)"
      ]
     },
     "metadata": {},
     "output_type": "display_data"
    }
   ],
   "source": [
    "p(a) = 50-2.5*a-2.5*a^2\n"
   ]
  },
  {
   "cell_type": "code",
   "execution_count": 18,
   "metadata": {},
   "outputs": [
    {
     "data": {
      "text/plain": [
       "value_update"
      ]
     },
     "metadata": {},
     "output_type": "display_data"
    }
   ],
   "source": [
    "\"\"\"\n",
    "value_update: computes the Bellman update\n",
    "- x: policy function\n",
    "- V: Value function\n",
    "\"\"\"\n",
    "function value_update(x::Vector{Bool}, V::Vector{Float64}; δ=0.9, c=75.0)\n",
    "\n",
    "    V1 = V*0\n",
    "\n",
    "    N = length(V)\n",
    "    for i=1:N\n",
    "\n",
    "        a = i-1\n",
    "\n",
    "        if a == 5\n",
    "            # forced replacement\n",
    "            # a1 = 0\n",
    "            reward = p(a) - c\n",
    "            contv = V[1]\n",
    "        else\n",
    "            if x[i]\n",
    "                # replace\n",
    "                reward = p(a) - c\n",
    "                contv = V[1]\n",
    "            else\n",
    "                # not replace\n",
    "                reward = p(a)\n",
    "                contv = V[i+1]\n",
    "            end\n",
    "\n",
    "        end\n",
    "\n",
    "        V1[i] = reward + δ*contv\n",
    "    end\n",
    "\n",
    "    return V1\n",
    "end"
   ]
  },
  {
   "cell_type": "code",
   "execution_count": 19,
   "metadata": {},
   "outputs": [
    {
     "data": {
      "text/plain": [
       "6-element Vector{Float64}:\n",
       " 0.0\n",
       " 0.0\n",
       " 0.0\n",
       " 0.0\n",
       " 0.0\n",
       " 0.0"
      ]
     },
     "metadata": {},
     "output_type": "display_data"
    }
   ],
   "source": [
    "x0 = [false, false, false, false, false]\n",
    "V0 = [0.0,0,0,0,0,0]"
   ]
  },
  {
   "cell_type": "code",
   "execution_count": 20,
   "metadata": {},
   "outputs": [
    {
     "data": {
      "text/plain": [
       "6-element Vector{Float64}:\n",
       "   50.0\n",
       "   45.0\n",
       "   35.0\n",
       "   20.0\n",
       "    0.0\n",
       " -100.0"
      ]
     },
     "metadata": {},
     "output_type": "display_data"
    }
   ],
   "source": [
    "value_update(x0, V0)"
   ]
  },
  {
   "cell_type": "code",
   "execution_count": null,
   "metadata": {},
   "outputs": [],
   "source": []
  },
  {
   "cell_type": "code",
   "execution_count": 24,
   "metadata": {},
   "outputs": [
    {
     "data": {
      "text/plain": [
       "bellman_update"
      ]
     },
     "metadata": {},
     "output_type": "display_data"
    }
   ],
   "source": [
    "\"\"\"\n",
    "value_update: computes the Bellman update\n",
    "- x: policy function\n",
    "- V: Value function\n",
    "\"\"\"\n",
    "function bellman_update( V::Vector{Float64}; δ=0.9, c=75.0)\n",
    "\n",
    "    V1 = V*0\n",
    "    x1 = zeros(Bool, 5) # create a vector [false, false, ...]\n",
    "\n",
    "    N = length(V)\n",
    "    for i=1:N\n",
    "\n",
    "        a = i-1\n",
    "\n",
    "        if a == 5\n",
    "            # forced replacement\n",
    "            # a1 = 0\n",
    "            reward = p(a) - c\n",
    "            contv = V[1]\n",
    "            V1[i] = reward + δ*contv\n",
    "\n",
    "        else\n",
    "            \n",
    "            # replace\n",
    "            V_rep = p(a) - c + δ*V[1]\n",
    "            \n",
    "            # not replace\n",
    "            V_nrep = p(a) + δ*V[i+1]\n",
    "\n",
    "            if V_rep>V_nrep\n",
    "                V1[i] = V_rep\n",
    "                x1[i] = true\n",
    "            else\n",
    "                V1[i] = V_nrep\n",
    "                x1[i] = false\n",
    "            end\n",
    "\n",
    "            \n",
    "        end\n",
    "\n",
    "    end\n",
    "\n",
    "    return V1, x1\n",
    "end"
   ]
  },
  {
   "cell_type": "code",
   "execution_count": 46,
   "metadata": {},
   "outputs": [
    {
     "data": {
      "text/plain": [
       "vfi (generic function with 1 method)"
      ]
     },
     "metadata": {},
     "output_type": "display_data"
    }
   ],
   "source": [
    "function vfi(V0; log=true)\n",
    "\n",
    "\n",
    "    x1 = zeros(Bool, 5)\n",
    "\n",
    "    record = [(;V=V0, x=x1)]\n",
    "\n",
    "    for t = 1:100\n",
    "\n",
    "        V1, x1 = bellman_update(V0)\n",
    "        push!(record , (;V=V1, x=x1))\n",
    "        println(x1)\n",
    "        V0 = V1\n",
    "\n",
    "    end\n",
    "\n",
    "    return V0, x1,  record\n",
    "\n",
    "end"
   ]
  },
  {
   "cell_type": "code",
   "execution_count": 47,
   "metadata": {},
   "outputs": [],
   "source": [
    "using SimplePlots"
   ]
  },
  {
   "cell_type": "code",
   "execution_count": 48,
   "metadata": {},
   "outputs": [
    {
     "name": "stdout",
     "output_type": "stream",
     "text": [
      "Bool[0, 0, 0, 0, 0]\n",
      "Bool[0, 0, 0, 0, 1]\n",
      "Bool[0, 0, 0, 1, 1]\n",
      "Bool[0, 0, 1, 1, 1]\n",
      "Bool[0, 0, 0, 1, 1]\n",
      "Bool[0, 0, 0, 1, 1]\n",
      "Bool[0, 0, 0, 1, 1]\n",
      "Bool[0, 0, 0, 1, 1]\n",
      "Bool[0, 0, 0, 1, 1]\n",
      "Bool[0, 0, 0, 1, 1]\n",
      "Bool[0, 0, 0, 1, 1]\n",
      "Bool[0, 0, 0, 1, 1]\n",
      "Bool[0, 0, 0, 1, 1]\n",
      "Bool[0, 0, 0, 1, 1]\n",
      "Bool[0, 0, 0, 1, 1]\n",
      "Bool[0, 0, 0, 1, 1]\n",
      "Bool[0, 0, 0, 1, 1]\n",
      "Bool[0, 0, 0, 1, 1]\n",
      "Bool[0, 0, 0, 1, 1]\n",
      "Bool[0, 0, 0, 1, 1]\n",
      "Bool[0, 0, 0, 1, 1]\n",
      "Bool[0, 0, 0, 1, 1]\n",
      "Bool[0, 0, 0, 1, 1]\n",
      "Bool[0, 0, 0, 1, 1]\n",
      "Bool[0, 0, 0, 1, 1]\n",
      "Bool[0, 0, 0, 1, 1]\n",
      "Bool[0, 0, 0, 1, 1]\n",
      "Bool[0, 0, 0, 1, 1]\n",
      "Bool[0, 0, 0, 1, 1]\n",
      "Bool[0, 0, 0, 1, 1]\n",
      "Bool[0, 0, 0, 1, 1]\n",
      "Bool[0, 0, 0, 1, 1]\n",
      "Bool[0, 0, 0, 1, 1]\n",
      "Bool[0, 0, 0, 1, 1]\n",
      "Bool[0, 0, 0, 1, 1]\n",
      "Bool[0, 0, 0, 1, 1]\n",
      "Bool[0, 0, 0, 1, 1]\n",
      "Bool[0, 0, 0, 1, 1]\n",
      "Bool[0, 0, 0, 1, 1]\n",
      "Bool[0, 0, 0, 1, 1]\n",
      "Bool[0, 0, 0, 1, 1]\n",
      "Bool[0, 0, 0, 1, 1]\n",
      "Bool[0, 0, 0, 1, 1]\n",
      "Bool[0, 0, 0, 1, 1]\n",
      "Bool[0, 0, 0, 1, 1]\n",
      "Bool[0, 0, 0, 1, 1]\n",
      "Bool[0, 0, 0, 1, 1]\n",
      "Bool[0, 0, 0, 1, 1]\n",
      "Bool[0, 0, 0, 1, 1]\n",
      "Bool[0, 0, 0, 1, 1]\n",
      "Bool[0, 0, 0, 1, 1]\n",
      "Bool[0, 0, 0, 1, 1]\n",
      "Bool[0, 0, 0, 1, 1]\n",
      "Bool[0, 0, 0, 1, 1]\n",
      "Bool[0, 0, 0, 1, 1]\n",
      "Bool[0, 0, 0, 1, 1]\n",
      "Bool[0, 0, 0, 1, 1]\n",
      "Bool[0, 0, 0, 1, 1]\n",
      "Bool[0, 0, 0, 1, 1]\n",
      "Bool[0, 0, 0, 1, 1]\n",
      "Bool[0, 0, 0, 1, 1]\n",
      "Bool[0, 0, 0, 1, 1]\n",
      "Bool[0, 0, 0, 1, 1]\n",
      "Bool[0, 0, 0, 1, 1]\n",
      "Bool[0, 0, 0, 1, 1]\n",
      "Bool[0, 0, 0, 1, 1]\n",
      "Bool[0, 0, 0, 1, 1]\n",
      "Bool[0, 0, 0, 1, 1]\n",
      "Bool[0, 0, 0, 1, 1]\n",
      "Bool[0, 0, 0, 1, 1]\n",
      "Bool[0, 0, 0, 1, 1]\n",
      "Bool[0, 0, 0, 1, 1]\n",
      "Bool[0, 0, 0, 1, 1]\n",
      "Bool[0, 0, 0, 1, 1]\n",
      "Bool[0, 0, 0, 1, 1]\n",
      "Bool[0, 0, 0, 1, 1]\n",
      "Bool[0, 0, 0, 1, 1]\n",
      "Bool[0, 0, 0, 1, 1]\n",
      "Bool[0, 0, 0, 1, 1]\n",
      "Bool[0, 0, 0, 1, 1]\n",
      "Bool[0, 0, 0, 1, 1]\n",
      "Bool[0, 0, 0, 1, 1]\n",
      "Bool[0, 0, 0, 1, 1]\n",
      "Bool[0, 0, 0, 1, 1]\n",
      "Bool[0, 0, 0, 1, 1]\n",
      "Bool[0, 0, 0, 1, 1]\n",
      "Bool[0, 0, 0, 1, 1]\n",
      "Bool[0, 0, 0, 1, 1]\n",
      "Bool[0, 0, 0, 1, 1]\n",
      "Bool[0, 0, 0, 1, 1]\n",
      "Bool[0, 0, 0, 1, 1]\n",
      "Bool[0, 0, 0, 1, 1]\n",
      "Bool[0, 0, 0, 1, 1]\n",
      "Bool[0, 0, 0, 1, 1]\n",
      "Bool[0, 0, 0, 1, 1]\n",
      "Bool[0, 0, 0, 1, 1]\n",
      "Bool[0, 0, 0, 1, 1]\n",
      "Bool[0, 0, 0, 1, 1]\n",
      "Bool[0, 0, 0, 1, 1]\n",
      "Bool[0, 0, 0, 1, 1]\n"
     ]
    },
    {
     "data": {
      "text/plain": [
       "([229.00165560469247, 198.8907284496583, 170.99026363319058, 151.10095881624548, 131.10095881624548, 106.10095881624548], Bool[0, 0, 0, 1, 1], NamedTuple{(:V, :x), Tuple{Vector{Float64}, Vector{Bool}}}[(V = [0.0, 0.0, 0.0, 0.0, 0.0, 0.0], x = [0, 0, 0, 0, 0]), (V = [50.0, 45.0, 35.0, 20.0, 0.0, -100.0], x = [0, 0, 0, 0, 0]), (V = [90.5, 76.5, 53.0, 20.0, -30.0, -55.0], x = [0, 0, 0, 0, 1]), (V = [118.85000000000001, 92.7, 53.0, 26.450000000000003, 6.450000000000003, -18.549999999999997], x = [0, 0, 0, 1, 1]), (V = [133.43, 92.7, 66.965, 51.965, 31.965000000000003, 6.965000000000003], x = [0, 0, 1, 1, 1]), (V = [133.43, 105.2685, 81.7685, 65.087, 45.087, 20.087000000000003], x = [0, 0, 0, 1, 1]), (V = [144.74165, 118.59165, 93.57830000000001, 65.087, 45.087, 20.087000000000003], x = [0, 0, 0, 1, 1]), (V = [156.732485, 129.22047000000003, 93.57830000000001, 75.267485, 55.26748499999999, 30.267484999999994], x = [0, 0, 0, 1, 1]), (V = [166.298423, 129.22047000000003, 102.7407365, 86.0592365, 66.0592365, 41.0592365], x = [0, 0, 0, 1, 1]), (V = [166.298423, 137.46666285, 112.45331285, 94.6685807, 74.6685807, 49.66858070000001], x = [0, 0, 0, 1, 1])  …  (V = [228.9951651634136, 198.88504039519822, 170.9833782168869, 151.09410174532763, 131.09410174532763, 106.09410174532763], x = [0, 0, 0, 1, 1]), (V = [228.9965363556784, 198.88504039519822, 170.98469157079487, 151.09564864707224, 131.09564864707224, 106.09564864707224], x = [0, 0, 0, 1, 1]), (V = [228.9965363556784, 198.8862224137154, 170.98608378236503, 151.09688272011056, 131.09688272011056, 106.09688272011056], x = [0, 0, 0, 1, 1]), (V = [228.99760017234385, 198.88747540412854, 170.9871944480995, 151.09688272011056, 131.09688272011056, 106.09688272011056], x = [0, 0, 0, 1, 1]), (V = [228.9987278637157, 198.88847500328956, 170.9871944480995, 151.09784015510948, 131.09784015510948, 106.09784015510948], x = [0, 0, 0, 1, 1]), (V = [228.9996275029606, 198.88847500328956, 170.98805613959854, 151.09885507734413, 131.09885507734413, 106.09885507734413], x = [0, 0, 0, 1, 1]), (V = [228.9996275029606, 198.8892505256387, 170.9889695696097, 151.09966475266455, 131.09966475266455, 106.09966475266455], x = [0, 0, 0, 1, 1]), (V = [229.0003254730748, 198.89007261264874, 170.9896982773981, 151.09966475266455, 131.09966475266455, 106.09966475266455], x = [0, 0, 0, 1, 1]), (V = [229.00106535138386, 198.8907284496583, 170.9896982773981, 151.10029292576732, 131.10029292576732, 106.10029292576732], x = [0, 0, 0, 1, 1]), (V = [229.00165560469247, 198.8907284496583, 170.99026363319058, 151.10095881624548, 131.10095881624548, 106.10095881624548], x = [0, 0, 0, 1, 1])])"
      ]
     },
     "metadata": {},
     "output_type": "display_data"
    }
   ],
   "source": [
    "V, x, record = vfi(V0)"
   ]
  },
  {
   "cell_type": "code",
   "execution_count": 45,
   "metadata": {},
   "outputs": [
    {
     "data": {
      "text/plain": [
       "\u001b[90m       ┌──────────────────────────────────────────────────────────────┐\u001b[39m \n",
       "   \u001b[90m229\u001b[39m\u001b[90m │\u001b[39m\u001b[0m⠀\u001b[0m⠀\u001b[0m⠀\u001b[0m⠀\u001b[0m⠀\u001b[0m⠀\u001b[0m⠀\u001b[0m⠀\u001b[0m⠀\u001b[0m⠀\u001b[0m⠀\u001b[0m⠀\u001b[0m⠀\u001b[0m⠀\u001b[32m⣀\u001b[39m\u001b[32m⣀\u001b[39m\u001b[32m⠤\u001b[39m\u001b[32m⠤\u001b[39m\u001b[32m⠒\u001b[39m\u001b[32m⠒\u001b[39m\u001b[32m⠒\u001b[39m\u001b[32m⠒\u001b[39m\u001b[32m⠉\u001b[39m\u001b[32m⠉\u001b[39m\u001b[32m⠉\u001b[39m\u001b[32m⠉\u001b[39m\u001b[32m⠉\u001b[39m\u001b[32m⠉\u001b[39m\u001b[32m⠉\u001b[39m\u001b[32m⠉\u001b[39m\u001b[32m⠉\u001b[39m\u001b[32m⠉\u001b[39m\u001b[32m⠉\u001b[39m\u001b[32m⠉\u001b[39m\u001b[32m⠉\u001b[39m\u001b[32m⠉\u001b[39m\u001b[32m⠉\u001b[39m\u001b[32m⠉\u001b[39m\u001b[32m⠉\u001b[39m\u001b[32m⠉\u001b[39m\u001b[32m⠉\u001b[39m\u001b[32m⠉\u001b[39m\u001b[32m⠉\u001b[39m\u001b[32m⠉\u001b[39m\u001b[32m⠉\u001b[39m\u001b[32m⠉\u001b[39m\u001b[32m⠉\u001b[39m\u001b[32m⠉\u001b[39m\u001b[32m⠉\u001b[39m\u001b[32m⠉\u001b[39m\u001b[32m⠉\u001b[39m\u001b[32m⠉\u001b[39m\u001b[32m⠉\u001b[39m\u001b[32m⠉\u001b[39m\u001b[32m⠉\u001b[39m\u001b[32m⠉\u001b[39m\u001b[32m⠉\u001b[39m\u001b[32m⠉\u001b[39m\u001b[32m⠉\u001b[39m\u001b[32m⠉\u001b[39m\u001b[32m⠉\u001b[39m\u001b[32m⠉\u001b[39m\u001b[90m│\u001b[39m \n",
       "      \u001b[90m │\u001b[39m\u001b[0m⠀\u001b[0m⠀\u001b[0m⠀\u001b[0m⠀\u001b[0m⠀\u001b[0m⠀\u001b[0m⠀\u001b[0m⠀\u001b[0m⠀\u001b[32m⢀\u001b[39m\u001b[32m⣀\u001b[39m\u001b[32m⠔\u001b[39m\u001b[32m⠋\u001b[39m\u001b[32m⠉\u001b[39m\u001b[0m⠀\u001b[0m⠀\u001b[0m⠀\u001b[0m⠀\u001b[0m⠀\u001b[0m⠀\u001b[0m⠀\u001b[0m⠀\u001b[0m⠀\u001b[0m⠀\u001b[0m⠀\u001b[0m⠀\u001b[0m⠀\u001b[0m⠀\u001b[0m⠀\u001b[0m⠀\u001b[0m⠀\u001b[0m⠀\u001b[0m⠀\u001b[0m⠀\u001b[0m⠀\u001b[0m⠀\u001b[0m⠀\u001b[0m⠀\u001b[0m⠀\u001b[0m⠀\u001b[0m⠀\u001b[0m⠀\u001b[0m⠀\u001b[0m⠀\u001b[0m⠀\u001b[0m⠀\u001b[0m⠀\u001b[0m⠀\u001b[0m⠀\u001b[0m⠀\u001b[0m⠀\u001b[0m⠀\u001b[0m⠀\u001b[0m⠀\u001b[0m⠀\u001b[0m⠀\u001b[0m⠀\u001b[0m⠀\u001b[0m⠀\u001b[0m⠀\u001b[0m⠀\u001b[0m⠀\u001b[90m│\u001b[39m \n",
       "      \u001b[90m │\u001b[39m\u001b[0m⠀\u001b[0m⠀\u001b[0m⠀\u001b[0m⠀\u001b[0m⠀\u001b[0m⠀\u001b[0m⠀\u001b[32m⣀\u001b[39m\u001b[32m⡠\u001b[39m\u001b[32m⠃\u001b[39m\u001b[0m⠀\u001b[0m⠀\u001b[0m⠀\u001b[0m⠀\u001b[0m⠀\u001b[0m⠀\u001b[0m⠀\u001b[0m⠀\u001b[0m⠀\u001b[0m⠀\u001b[0m⠀\u001b[0m⠀\u001b[0m⠀\u001b[0m⠀\u001b[0m⠀\u001b[0m⠀\u001b[0m⠀\u001b[0m⠀\u001b[0m⠀\u001b[0m⠀\u001b[0m⠀\u001b[0m⠀\u001b[0m⠀\u001b[0m⠀\u001b[0m⠀\u001b[0m⠀\u001b[0m⠀\u001b[0m⠀\u001b[0m⠀\u001b[0m⠀\u001b[0m⠀\u001b[0m⠀\u001b[0m⠀\u001b[0m⠀\u001b[0m⠀\u001b[0m⠀\u001b[0m⠀\u001b[0m⠀\u001b[0m⠀\u001b[0m⠀\u001b[0m⠀\u001b[0m⠀\u001b[0m⠀\u001b[0m⠀\u001b[0m⠀\u001b[0m⠀\u001b[0m⠀\u001b[0m⠀\u001b[0m⠀\u001b[0m⠀\u001b[0m⠀\u001b[0m⠀\u001b[90m│\u001b[39m \n",
       "      \u001b[90m │\u001b[39m\u001b[0m⠀\u001b[0m⠀\u001b[0m⠀\u001b[0m⠀\u001b[0m⠀\u001b[0m⠀\u001b[32m⡔\u001b[39m\u001b[32m⠁\u001b[39m\u001b[0m⠀\u001b[0m⠀\u001b[0m⠀\u001b[0m⠀\u001b[0m⠀\u001b[0m⠀\u001b[0m⠀\u001b[0m⠀\u001b[0m⠀\u001b[0m⠀\u001b[0m⠀\u001b[0m⠀\u001b[0m⠀\u001b[0m⠀\u001b[0m⠀\u001b[0m⠀\u001b[0m⠀\u001b[0m⠀\u001b[0m⠀\u001b[0m⠀\u001b[0m⠀\u001b[0m⠀\u001b[0m⠀\u001b[0m⠀\u001b[0m⠀\u001b[0m⠀\u001b[0m⠀\u001b[0m⠀\u001b[0m⠀\u001b[0m⠀\u001b[0m⠀\u001b[0m⠀\u001b[0m⠀\u001b[0m⠀\u001b[0m⠀\u001b[0m⠀\u001b[0m⠀\u001b[0m⠀\u001b[0m⠀\u001b[0m⠀\u001b[0m⠀\u001b[0m⠀\u001b[0m⠀\u001b[0m⠀\u001b[0m⠀\u001b[0m⠀\u001b[0m⠀\u001b[0m⠀\u001b[0m⠀\u001b[0m⠀\u001b[0m⠀\u001b[0m⠀\u001b[0m⠀\u001b[0m⠀\u001b[90m│\u001b[39m \n",
       "      \u001b[90m │\u001b[39m\u001b[0m⠀\u001b[0m⠀\u001b[0m⠀\u001b[0m⠀\u001b[32m⢰\u001b[39m\u001b[32m⠚\u001b[39m\u001b[0m⠀\u001b[0m⠀\u001b[0m⠀\u001b[0m⠀\u001b[0m⠀\u001b[0m⠀\u001b[0m⠀\u001b[0m⠀\u001b[0m⠀\u001b[0m⠀\u001b[0m⠀\u001b[0m⠀\u001b[0m⠀\u001b[0m⠀\u001b[0m⠀\u001b[0m⠀\u001b[0m⠀\u001b[0m⠀\u001b[0m⠀\u001b[0m⠀\u001b[0m⠀\u001b[0m⠀\u001b[0m⠀\u001b[0m⠀\u001b[0m⠀\u001b[0m⠀\u001b[0m⠀\u001b[0m⠀\u001b[0m⠀\u001b[0m⠀\u001b[0m⠀\u001b[0m⠀\u001b[0m⠀\u001b[0m⠀\u001b[0m⠀\u001b[0m⠀\u001b[0m⠀\u001b[0m⠀\u001b[0m⠀\u001b[0m⠀\u001b[0m⠀\u001b[0m⠀\u001b[0m⠀\u001b[0m⠀\u001b[0m⠀\u001b[0m⠀\u001b[0m⠀\u001b[0m⠀\u001b[0m⠀\u001b[0m⠀\u001b[0m⠀\u001b[0m⠀\u001b[0m⠀\u001b[0m⠀\u001b[0m⠀\u001b[0m⠀\u001b[90m│\u001b[39m \n",
       "      \u001b[90m │\u001b[39m\u001b[0m⠀\u001b[0m⠀\u001b[0m⠀\u001b[32m⢠\u001b[39m\u001b[32m⠃\u001b[39m\u001b[0m⠀\u001b[0m⠀\u001b[0m⠀\u001b[0m⠀\u001b[0m⠀\u001b[0m⠀\u001b[0m⠀\u001b[0m⠀\u001b[0m⠀\u001b[0m⠀\u001b[0m⠀\u001b[0m⠀\u001b[0m⠀\u001b[0m⠀\u001b[0m⠀\u001b[0m⠀\u001b[0m⠀\u001b[0m⠀\u001b[0m⠀\u001b[0m⠀\u001b[0m⠀\u001b[0m⠀\u001b[0m⠀\u001b[0m⠀\u001b[0m⠀\u001b[0m⠀\u001b[0m⠀\u001b[0m⠀\u001b[0m⠀\u001b[0m⠀\u001b[0m⠀\u001b[0m⠀\u001b[0m⠀\u001b[0m⠀\u001b[0m⠀\u001b[0m⠀\u001b[0m⠀\u001b[0m⠀\u001b[0m⠀\u001b[0m⠀\u001b[0m⠀\u001b[0m⠀\u001b[0m⠀\u001b[0m⠀\u001b[0m⠀\u001b[0m⠀\u001b[0m⠀\u001b[0m⠀\u001b[0m⠀\u001b[0m⠀\u001b[0m⠀\u001b[0m⠀\u001b[0m⠀\u001b[0m⠀\u001b[0m⠀\u001b[0m⠀\u001b[0m⠀\u001b[90m│\u001b[39m \n",
       "      \u001b[90m │\u001b[39m\u001b[0m⠀\u001b[0m⠀\u001b[32m⡤\u001b[39m\u001b[32m⠇\u001b[39m\u001b[0m⠀\u001b[0m⠀\u001b[0m⠀\u001b[0m⠀\u001b[0m⠀\u001b[0m⠀\u001b[0m⠀\u001b[0m⠀\u001b[0m⠀\u001b[0m⠀\u001b[0m⠀\u001b[0m⠀\u001b[0m⠀\u001b[0m⠀\u001b[0m⠀\u001b[0m⠀\u001b[0m⠀\u001b[0m⠀\u001b[0m⠀\u001b[0m⠀\u001b[0m⠀\u001b[0m⠀\u001b[0m⠀\u001b[0m⠀\u001b[0m⠀\u001b[0m⠀\u001b[0m⠀\u001b[0m⠀\u001b[0m⠀\u001b[0m⠀\u001b[0m⠀\u001b[0m⠀\u001b[0m⠀\u001b[0m⠀\u001b[0m⠀\u001b[0m⠀\u001b[0m⠀\u001b[0m⠀\u001b[0m⠀\u001b[0m⠀\u001b[0m⠀\u001b[0m⠀\u001b[0m⠀\u001b[0m⠀\u001b[0m⠀\u001b[0m⠀\u001b[0m⠀\u001b[0m⠀\u001b[0m⠀\u001b[0m⠀\u001b[0m⠀\u001b[0m⠀\u001b[0m⠀\u001b[0m⠀\u001b[0m⠀\u001b[0m⠀\u001b[0m⠀\u001b[0m⠀\u001b[90m│\u001b[39m \n",
       "      \u001b[90m │\u001b[39m\u001b[0m⠀\u001b[32m⢠\u001b[39m\u001b[32m⠃\u001b[39m\u001b[0m⠀\u001b[0m⠀\u001b[0m⠀\u001b[0m⠀\u001b[0m⠀\u001b[0m⠀\u001b[0m⠀\u001b[0m⠀\u001b[0m⠀\u001b[0m⠀\u001b[0m⠀\u001b[0m⠀\u001b[0m⠀\u001b[0m⠀\u001b[0m⠀\u001b[0m⠀\u001b[0m⠀\u001b[0m⠀\u001b[0m⠀\u001b[0m⠀\u001b[0m⠀\u001b[0m⠀\u001b[0m⠀\u001b[0m⠀\u001b[0m⠀\u001b[0m⠀\u001b[0m⠀\u001b[0m⠀\u001b[0m⠀\u001b[0m⠀\u001b[0m⠀\u001b[0m⠀\u001b[0m⠀\u001b[0m⠀\u001b[0m⠀\u001b[0m⠀\u001b[0m⠀\u001b[0m⠀\u001b[0m⠀\u001b[0m⠀\u001b[0m⠀\u001b[0m⠀\u001b[0m⠀\u001b[0m⠀\u001b[0m⠀\u001b[0m⠀\u001b[0m⠀\u001b[0m⠀\u001b[0m⠀\u001b[0m⠀\u001b[0m⠀\u001b[0m⠀\u001b[0m⠀\u001b[0m⠀\u001b[0m⠀\u001b[0m⠀\u001b[0m⠀\u001b[0m⠀\u001b[0m⠀\u001b[90m│\u001b[39m \n",
       "      \u001b[90m │\u001b[39m\u001b[0m⠀\u001b[32m⡸\u001b[39m\u001b[0m⠀\u001b[0m⠀\u001b[0m⠀\u001b[0m⠀\u001b[0m⠀\u001b[0m⠀\u001b[0m⠀\u001b[0m⠀\u001b[0m⠀\u001b[0m⠀\u001b[0m⠀\u001b[0m⠀\u001b[0m⠀\u001b[0m⠀\u001b[0m⠀\u001b[0m⠀\u001b[0m⠀\u001b[0m⠀\u001b[0m⠀\u001b[0m⠀\u001b[0m⠀\u001b[0m⠀\u001b[0m⠀\u001b[0m⠀\u001b[0m⠀\u001b[0m⠀\u001b[0m⠀\u001b[0m⠀\u001b[0m⠀\u001b[0m⠀\u001b[0m⠀\u001b[0m⠀\u001b[0m⠀\u001b[0m⠀\u001b[0m⠀\u001b[0m⠀\u001b[0m⠀\u001b[0m⠀\u001b[0m⠀\u001b[0m⠀\u001b[0m⠀\u001b[0m⠀\u001b[0m⠀\u001b[0m⠀\u001b[0m⠀\u001b[0m⠀\u001b[0m⠀\u001b[0m⠀\u001b[0m⠀\u001b[0m⠀\u001b[0m⠀\u001b[0m⠀\u001b[0m⠀\u001b[0m⠀\u001b[0m⠀\u001b[0m⠀\u001b[0m⠀\u001b[0m⠀\u001b[0m⠀\u001b[0m⠀\u001b[90m│\u001b[39m \n",
       "      \u001b[90m │\u001b[39m\u001b[0m⠀\u001b[32m⡇\u001b[39m\u001b[0m⠀\u001b[0m⠀\u001b[0m⠀\u001b[0m⠀\u001b[0m⠀\u001b[0m⠀\u001b[0m⠀\u001b[0m⠀\u001b[0m⠀\u001b[0m⠀\u001b[0m⠀\u001b[0m⠀\u001b[0m⠀\u001b[0m⠀\u001b[0m⠀\u001b[0m⠀\u001b[0m⠀\u001b[0m⠀\u001b[0m⠀\u001b[0m⠀\u001b[0m⠀\u001b[0m⠀\u001b[0m⠀\u001b[0m⠀\u001b[0m⠀\u001b[0m⠀\u001b[0m⠀\u001b[0m⠀\u001b[0m⠀\u001b[0m⠀\u001b[0m⠀\u001b[0m⠀\u001b[0m⠀\u001b[0m⠀\u001b[0m⠀\u001b[0m⠀\u001b[0m⠀\u001b[0m⠀\u001b[0m⠀\u001b[0m⠀\u001b[0m⠀\u001b[0m⠀\u001b[0m⠀\u001b[0m⠀\u001b[0m⠀\u001b[0m⠀\u001b[0m⠀\u001b[0m⠀\u001b[0m⠀\u001b[0m⠀\u001b[0m⠀\u001b[0m⠀\u001b[0m⠀\u001b[0m⠀\u001b[0m⠀\u001b[0m⠀\u001b[0m⠀\u001b[0m⠀\u001b[0m⠀\u001b[0m⠀\u001b[90m│\u001b[39m \n",
       "      \u001b[90m │\u001b[39m\u001b[0m⠀\u001b[32m⡇\u001b[39m\u001b[0m⠀\u001b[0m⠀\u001b[0m⠀\u001b[0m⠀\u001b[0m⠀\u001b[0m⠀\u001b[0m⠀\u001b[0m⠀\u001b[0m⠀\u001b[0m⠀\u001b[0m⠀\u001b[0m⠀\u001b[0m⠀\u001b[0m⠀\u001b[0m⠀\u001b[0m⠀\u001b[0m⠀\u001b[0m⠀\u001b[0m⠀\u001b[0m⠀\u001b[0m⠀\u001b[0m⠀\u001b[0m⠀\u001b[0m⠀\u001b[0m⠀\u001b[0m⠀\u001b[0m⠀\u001b[0m⠀\u001b[0m⠀\u001b[0m⠀\u001b[0m⠀\u001b[0m⠀\u001b[0m⠀\u001b[0m⠀\u001b[0m⠀\u001b[0m⠀\u001b[0m⠀\u001b[0m⠀\u001b[0m⠀\u001b[0m⠀\u001b[0m⠀\u001b[0m⠀\u001b[0m⠀\u001b[0m⠀\u001b[0m⠀\u001b[0m⠀\u001b[0m⠀\u001b[0m⠀\u001b[0m⠀\u001b[0m⠀\u001b[0m⠀\u001b[0m⠀\u001b[0m⠀\u001b[0m⠀\u001b[0m⠀\u001b[0m⠀\u001b[0m⠀\u001b[0m⠀\u001b[0m⠀\u001b[0m⠀\u001b[90m│\u001b[39m \n",
       "      \u001b[90m │\u001b[39m\u001b[32m⢸\u001b[39m\u001b[0m⠀\u001b[0m⠀\u001b[0m⠀\u001b[0m⠀\u001b[0m⠀\u001b[0m⠀\u001b[0m⠀\u001b[0m⠀\u001b[0m⠀\u001b[0m⠀\u001b[0m⠀\u001b[0m⠀\u001b[0m⠀\u001b[0m⠀\u001b[0m⠀\u001b[0m⠀\u001b[0m⠀\u001b[0m⠀\u001b[0m⠀\u001b[0m⠀\u001b[0m⠀\u001b[0m⠀\u001b[0m⠀\u001b[0m⠀\u001b[0m⠀\u001b[0m⠀\u001b[0m⠀\u001b[0m⠀\u001b[0m⠀\u001b[0m⠀\u001b[0m⠀\u001b[0m⠀\u001b[0m⠀\u001b[0m⠀\u001b[0m⠀\u001b[0m⠀\u001b[0m⠀\u001b[0m⠀\u001b[0m⠀\u001b[0m⠀\u001b[0m⠀\u001b[0m⠀\u001b[0m⠀\u001b[0m⠀\u001b[0m⠀\u001b[0m⠀\u001b[0m⠀\u001b[0m⠀\u001b[0m⠀\u001b[0m⠀\u001b[0m⠀\u001b[0m⠀\u001b[0m⠀\u001b[0m⠀\u001b[0m⠀\u001b[0m⠀\u001b[0m⠀\u001b[0m⠀\u001b[0m⠀\u001b[0m⠀\u001b[0m⠀\u001b[90m│\u001b[39m \n",
       "      \u001b[90m │\u001b[39m\u001b[32m⢸\u001b[39m\u001b[0m⠀\u001b[0m⠀\u001b[0m⠀\u001b[0m⠀\u001b[0m⠀\u001b[0m⠀\u001b[0m⠀\u001b[0m⠀\u001b[0m⠀\u001b[0m⠀\u001b[0m⠀\u001b[0m⠀\u001b[0m⠀\u001b[0m⠀\u001b[0m⠀\u001b[0m⠀\u001b[0m⠀\u001b[0m⠀\u001b[0m⠀\u001b[0m⠀\u001b[0m⠀\u001b[0m⠀\u001b[0m⠀\u001b[0m⠀\u001b[0m⠀\u001b[0m⠀\u001b[0m⠀\u001b[0m⠀\u001b[0m⠀\u001b[0m⠀\u001b[0m⠀\u001b[0m⠀\u001b[0m⠀\u001b[0m⠀\u001b[0m⠀\u001b[0m⠀\u001b[0m⠀\u001b[0m⠀\u001b[0m⠀\u001b[0m⠀\u001b[0m⠀\u001b[0m⠀\u001b[0m⠀\u001b[0m⠀\u001b[0m⠀\u001b[0m⠀\u001b[0m⠀\u001b[0m⠀\u001b[0m⠀\u001b[0m⠀\u001b[0m⠀\u001b[0m⠀\u001b[0m⠀\u001b[0m⠀\u001b[0m⠀\u001b[0m⠀\u001b[0m⠀\u001b[0m⠀\u001b[0m⠀\u001b[0m⠀\u001b[0m⠀\u001b[90m│\u001b[39m \n",
       "      \u001b[90m │\u001b[39m\u001b[32m⡎\u001b[39m\u001b[0m⠀\u001b[0m⠀\u001b[0m⠀\u001b[0m⠀\u001b[0m⠀\u001b[0m⠀\u001b[0m⠀\u001b[0m⠀\u001b[0m⠀\u001b[0m⠀\u001b[0m⠀\u001b[0m⠀\u001b[0m⠀\u001b[0m⠀\u001b[0m⠀\u001b[0m⠀\u001b[0m⠀\u001b[0m⠀\u001b[0m⠀\u001b[0m⠀\u001b[0m⠀\u001b[0m⠀\u001b[0m⠀\u001b[0m⠀\u001b[0m⠀\u001b[0m⠀\u001b[0m⠀\u001b[0m⠀\u001b[0m⠀\u001b[0m⠀\u001b[0m⠀\u001b[0m⠀\u001b[0m⠀\u001b[0m⠀\u001b[0m⠀\u001b[0m⠀\u001b[0m⠀\u001b[0m⠀\u001b[0m⠀\u001b[0m⠀\u001b[0m⠀\u001b[0m⠀\u001b[0m⠀\u001b[0m⠀\u001b[0m⠀\u001b[0m⠀\u001b[0m⠀\u001b[0m⠀\u001b[0m⠀\u001b[0m⠀\u001b[0m⠀\u001b[0m⠀\u001b[0m⠀\u001b[0m⠀\u001b[0m⠀\u001b[0m⠀\u001b[0m⠀\u001b[0m⠀\u001b[0m⠀\u001b[0m⠀\u001b[0m⠀\u001b[90m│\u001b[39m \n",
       "      \u001b[90m │\u001b[39m\u001b[32m⡇\u001b[39m\u001b[0m⠀\u001b[0m⠀\u001b[0m⠀\u001b[0m⠀\u001b[0m⠀\u001b[0m⠀\u001b[0m⠀\u001b[0m⠀\u001b[0m⠀\u001b[0m⠀\u001b[0m⠀\u001b[0m⠀\u001b[0m⠀\u001b[0m⠀\u001b[0m⠀\u001b[0m⠀\u001b[0m⠀\u001b[0m⠀\u001b[0m⠀\u001b[0m⠀\u001b[0m⠀\u001b[0m⠀\u001b[0m⠀\u001b[0m⠀\u001b[0m⠀\u001b[0m⠀\u001b[0m⠀\u001b[0m⠀\u001b[0m⠀\u001b[0m⠀\u001b[0m⠀\u001b[0m⠀\u001b[0m⠀\u001b[0m⠀\u001b[0m⠀\u001b[0m⠀\u001b[0m⠀\u001b[0m⠀\u001b[0m⠀\u001b[0m⠀\u001b[0m⠀\u001b[0m⠀\u001b[0m⠀\u001b[0m⠀\u001b[0m⠀\u001b[0m⠀\u001b[0m⠀\u001b[0m⠀\u001b[0m⠀\u001b[0m⠀\u001b[0m⠀\u001b[0m⠀\u001b[0m⠀\u001b[0m⠀\u001b[0m⠀\u001b[0m⠀\u001b[0m⠀\u001b[0m⠀\u001b[0m⠀\u001b[0m⠀\u001b[0m⠀\u001b[90m│\u001b[39m \n",
       "     \u001b[90m0\u001b[39m\u001b[90m │\u001b[39m\u001b[32m⡇\u001b[39m\u001b[0m⠀\u001b[0m⠀\u001b[0m⠀\u001b[0m⠀\u001b[0m⠀\u001b[0m⠀\u001b[0m⠀\u001b[0m⠀\u001b[0m⠀\u001b[0m⠀\u001b[0m⠀\u001b[0m⠀\u001b[0m⠀\u001b[0m⠀\u001b[0m⠀\u001b[0m⠀\u001b[0m⠀\u001b[0m⠀\u001b[0m⠀\u001b[0m⠀\u001b[0m⠀\u001b[0m⠀\u001b[0m⠀\u001b[0m⠀\u001b[0m⠀\u001b[0m⠀\u001b[0m⠀\u001b[0m⠀\u001b[0m⠀\u001b[0m⠀\u001b[0m⠀\u001b[0m⠀\u001b[0m⠀\u001b[0m⠀\u001b[0m⠀\u001b[0m⠀\u001b[0m⠀\u001b[0m⠀\u001b[0m⠀\u001b[0m⠀\u001b[0m⠀\u001b[0m⠀\u001b[0m⠀\u001b[0m⠀\u001b[0m⠀\u001b[0m⠀\u001b[0m⠀\u001b[0m⠀\u001b[0m⠀\u001b[0m⠀\u001b[0m⠀\u001b[0m⠀\u001b[0m⠀\u001b[0m⠀\u001b[0m⠀\u001b[0m⠀\u001b[0m⠀\u001b[0m⠀\u001b[0m⠀\u001b[0m⠀\u001b[0m⠀\u001b[90m│\u001b[39m \n",
       "\u001b[90m       └──────────────────────────────────────────────────────────────┘\u001b[39m \n",
       "\u001b[90m       1\u001b[39m\u001b[90m                              \u001b[39m\u001b[90m                              101\u001b[39m"
      ]
     },
     "metadata": {},
     "output_type": "display_data"
    },
    {
     "data": {
      "text/plain": []
     },
     "metadata": {},
     "output_type": "display_data"
    }
   ],
   "source": [
    "plot([e.V[1] for e in record])"
   ]
  },
  {
   "cell_type": "code",
   "execution_count": 44,
   "metadata": {},
   "outputs": [
    {
     "ename": "ArgumentError",
     "evalue": "ArgumentError: height has to be positive",
     "output_type": "error",
     "traceback": [
      "ArgumentError: height has to be positive\n",
      "\n",
      "Stacktrace:\n",
      "  [1] UnicodePlots.BrailleCanvas(char_width::Int64, char_height::Int64; origin_x::Int64, origin_y::Int64, width::Int64, height::Int64)\n",
      "    @ UnicodePlots ~/.julia/packages/UnicodePlots/6HEnL/src/canvas/braillecanvas.jl:41\n",
      "  [2] _configure_repl_layout(cur_size::Tuple{Int64, Int64}, cur_data::Vector{AbstractDict}, work_layout::Dict{Any, Any})\n",
      "    @ SimplePlots ~/.julia/packages/SimplePlots/6y94O/src/repl.jl:204\n",
      "  [3] render_unicode(cur_size::Tuple{Int64, Int64}, cur_data::Vector{AbstractDict}, cur_layout::Dict{Any, Any}, cur_config::Dict{Any, Any})\n",
      "    @ SimplePlots ~/.julia/packages/SimplePlots/6y94O/src/repl.jl:9\n",
      "  [4] render(cur_size::Tuple{Int64, Int64}, cur_data::Vector{AbstractDict}, cur_layout::Dict{Any, Any}, cur_config::Dict{Any, Any})\n",
      "    @ SimplePlots ~/.julia/packages/SimplePlots/6y94O/src/render.jl:3\n",
      "  [5] _show(cur_plot::SimplePlots.SimplePlot)\n",
      "    @ SimplePlots ~/.julia/packages/SimplePlots/6y94O/src/show.jl:13\n",
      "  [6] show\n",
      "    @ ~/.julia/packages/SimplePlots/6y94O/src/show.jl:4 [inlined]\n",
      "  [7] limitstringmime(mime::MIME{Symbol(\"text/plain\")}, x::SimplePlots.SimplePlot)\n",
      "    @ VSCodeServer.IJuliaCore ~/.vscode/extensions/julialang.language-julia-1.38.2/scripts/packages/IJuliaCore/src/inline.jl:22\n",
      "  [8] display_mimestring\n",
      "    @ ~/.vscode/extensions/julialang.language-julia-1.38.2/scripts/packages/IJuliaCore/src/display.jl:67 [inlined]\n",
      "  [9] display_dict(x::SimplePlots.SimplePlot)\n",
      "    @ VSCodeServer.IJuliaCore ~/.vscode/extensions/julialang.language-julia-1.38.2/scripts/packages/IJuliaCore/src/display.jl:98\n",
      " [10] display(#unused#::VSCodeServer.JuliaNotebookInlineDisplay, x::SimplePlots.SimplePlot)\n",
      "    @ VSCodeServer ~/.vscode/extensions/julialang.language-julia-1.38.2/scripts/packages/VSCodeServer/src/notebookdisplay.jl:32\n",
      " [11] display(x::Any)\n",
      "    @ Base.Multimedia ./multimedia.jl:328\n",
      " [12] #invokelatest#2\n",
      "    @ ./essentials.jl:729 [inlined]\n",
      " [13] invokelatest\n",
      "    @ ./essentials.jl:726 [inlined]\n",
      " [14] (::VSCodeServer.var\"#198#199\"{VSCodeServer.NotebookRunCellArguments, String})()\n",
      "    @ VSCodeServer ~/.vscode/extensions/julialang.language-julia-1.38.2/scripts/packages/VSCodeServer/src/serve_notebook.jl:48\n",
      " [15] withpath(f::VSCodeServer.var\"#198#199\"{VSCodeServer.NotebookRunCellArguments, String}, path::String)\n",
      "    @ VSCodeServer ~/.vscode/extensions/julialang.language-julia-1.38.2/scripts/packages/VSCodeServer/src/repl.jl:249\n",
      " [16] notebook_runcell_request(conn::VSCodeServer.JSONRPC.JSONRPCEndpoint{Base.PipeEndpoint, Base.PipeEndpoint}, params::VSCodeServer.NotebookRunCellArguments)\n",
      "    @ VSCodeServer ~/.vscode/extensions/julialang.language-julia-1.38.2/scripts/packages/VSCodeServer/src/serve_notebook.jl:13\n",
      " [17] dispatch_msg(x::VSCodeServer.JSONRPC.JSONRPCEndpoint{Base.PipeEndpoint, Base.PipeEndpoint}, dispatcher::VSCodeServer.JSONRPC.MsgDispatcher, msg::Dict{String, Any})\n",
      "    @ VSCodeServer.JSONRPC ~/.vscode/extensions/julialang.language-julia-1.38.2/scripts/packages/JSONRPC/src/typed.jl:67\n",
      " [18] serve_notebook(pipename::String, outputchannel_logger::Base.CoreLogging.SimpleLogger; crashreporting_pipename::String)\n",
      "    @ VSCodeServer ~/.vscode/extensions/julialang.language-julia-1.38.2/scripts/packages/VSCodeServer/src/serve_notebook.jl:139\n",
      " [19] top-level scope\n",
      "    @ ~/.vscode/extensions/julialang.language-julia-1.38.2/scripts/notebook/notebook.jl:32"
     ]
    }
   ],
   "source": [
    "plot([e.x[1]*0 for e in record])"
   ]
  },
  {
   "cell_type": "markdown",
   "metadata": {},
   "source": [
    "__Solve the problem using Policy Iteration. Compare with VFI.__"
   ]
  },
  {
   "cell_type": "code",
   "execution_count": null,
   "metadata": {},
   "outputs": [],
   "source": []
  },
  {
   "cell_type": "code",
   "execution_count": null,
   "metadata": {},
   "outputs": [],
   "source": []
  },
  {
   "cell_type": "markdown",
   "metadata": {},
   "source": [
    "### Brock-Mirman Stochastic Growth model"
   ]
  },
  {
   "cell_type": "markdown",
   "metadata": {},
   "source": [
    "This is a neoclassical growth model with unpredictable shocks on productivity."
   ]
  },
  {
   "cell_type": "markdown",
   "metadata": {},
   "source": [
    "Social planner tries to solve:\n",
    "\n",
    "$$\\max E_t \\left[ \\sum_{n=0}^{\\infty} \\beta^n \\log C_{t+n} \\right]$$\n",
    "\n",
    "s.t.\n",
    "\n",
    "$$K_{t+1} = Y_t - C_t$$\n",
    "$$Y_{t+1} = A_{t+1}K_{t+1}^\\alpha$$\n",
    "\n",
    "where $A_t$ is the level of productivity in period $t$. \n",
    "It can take  values $A^h=1.05$ and $A^l=0.95$. The transition between these two states are given by the matrix:\n",
    "$$P = \\begin{bmatrix}\n",
    "0.9, 0.1\\\\\n",
    "0.1, 0.9\n",
    "\\end{bmatrix}$$"
   ]
  },
  {
   "cell_type": "markdown",
   "metadata": {},
   "source": [
    "__Propose a plausible calibration__"
   ]
  },
  {
   "cell_type": "code",
   "execution_count": null,
   "metadata": {},
   "outputs": [],
   "source": []
  },
  {
   "cell_type": "markdown",
   "metadata": {},
   "source": [
    "__What are the states? What are the controls? Is it possible to bound them in a natural way? Propose a discretization scheme.__"
   ]
  },
  {
   "cell_type": "code",
   "execution_count": null,
   "metadata": {},
   "outputs": [],
   "source": []
  },
  {
   "cell_type": "markdown",
   "metadata": {},
   "source": [
    "__Write down the Bellman equation__"
   ]
  },
  {
   "cell_type": "code",
   "execution_count": null,
   "metadata": {},
   "outputs": [],
   "source": []
  },
  {
   "cell_type": "markdown",
   "metadata": {},
   "source": [
    "__How do you represent a policy function? Implement a value evaluation function.__"
   ]
  },
  {
   "cell_type": "code",
   "execution_count": null,
   "metadata": {},
   "outputs": [],
   "source": []
  },
  {
   "cell_type": "markdown",
   "metadata": {},
   "source": [
    "__Solve the model using Value Function Iteration. Plot the solution.__"
   ]
  },
  {
   "cell_type": "code",
   "execution_count": null,
   "metadata": {},
   "outputs": [],
   "source": []
  },
  {
   "cell_type": "markdown",
   "metadata": {},
   "source": [
    "__Implement Policy Improvement Steps. Compare convergence Speed.__"
   ]
  },
  {
   "cell_type": "code",
   "execution_count": null,
   "metadata": {},
   "outputs": [],
   "source": []
  },
  {
   "cell_type": "markdown",
   "metadata": {},
   "source": [
    "__Bonus: Propose some ideas to improve performances.__"
   ]
  },
  {
   "cell_type": "code",
   "execution_count": null,
   "metadata": {},
   "outputs": [],
   "source": []
  }
 ],
 "metadata": {
  "kernelspec": {
   "display_name": "Julia 1.8.5",
   "language": "julia",
   "name": "julia-1.8"
  },
  "language_info": {
   "file_extension": ".jl",
   "mimetype": "application/julia",
   "name": "julia",
   "version": "1.8.5"
  }
 },
 "nbformat": 4,
 "nbformat_minor": 4
}

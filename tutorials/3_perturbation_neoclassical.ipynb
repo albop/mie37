{
 "cells": [
  {
   "attachments": {},
   "cell_type": "markdown",
   "metadata": {},
   "source": [
    "---\n",
    "title: \"Perturbation of Neoclassical Model\"\n",
    "author: \"Pablo Winant\"\n",
    "format:\n",
    "    html: default\n",
    "    ipynb: default\n",
    "---\n",
    "\n",
    "Our goal here is to compute a linear approximation of solution to the neoclassical model, close ot the steady-state."
   ]
  },
  {
   "attachments": {},
   "cell_type": "markdown",
   "metadata": {},
   "source": [
    "__Warm-up: install the `ForwardDiff` library. Use it to differentiate the function below. Check the jacobian function.__\n",
    "\n",
    "Note: the signature of function `f` needs to be fixed first to allow for dual numbers as arguments."
   ]
  },
  {
   "cell_type": "code",
   "execution_count": 16,
   "metadata": {},
   "outputs": [
    {
     "data": {
      "text/plain": [
       "f (generic function with 4 methods)"
      ]
     },
     "metadata": {},
     "output_type": "display_data"
    }
   ],
   "source": [
    "# function f(x::Vector{T}) where T <: Number\n",
    "function f(x::Vector{<:Number}) # equivalent\n",
    "    a = x[1]\n",
    "    b = x[2]\n",
    "    x1 = a+b\n",
    "    x2 = a*exp(b)\n",
    "    return [x1,x2]\n",
    "end"
   ]
  },
  {
   "cell_type": "code",
   "execution_count": 17,
   "metadata": {},
   "outputs": [],
   "source": [
    "using ForwardDiff"
   ]
  },
  {
   "cell_type": "code",
   "execution_count": 18,
   "metadata": {},
   "outputs": [
    {
     "data": {
      "text/plain": [
       "2×2 Matrix{Float64}:\n",
       " 1.0      1.0\n",
       " 1.49182  0.298365"
      ]
     },
     "metadata": {},
     "output_type": "display_data"
    }
   ],
   "source": [
    "ForwardDiff.jacobian(f, [0.2, 0.4])"
   ]
  },
  {
   "attachments": {},
   "cell_type": "markdown",
   "metadata": {},
   "source": [
    "__Create a NamedTuple to hold the model parameters.__"
   ]
  },
  {
   "cell_type": "code",
   "execution_count": 20,
   "metadata": {},
   "outputs": [
    {
     "data": {
      "text/plain": [
       "(α = 0.3, β = 0.96, γ = 4.0, δ = 0.1, ρ = 0.9)"
      ]
     },
     "metadata": {},
     "output_type": "display_data"
    }
   ],
   "source": [
    "parameters = (;\n",
    "    α=0.3,\n",
    "    β=0.96,\n",
    "    γ=4.0,\n",
    "    δ=0.1,\n",
    "    ρ=0.9\n",
    ")"
   ]
  },
  {
   "attachments": {},
   "cell_type": "markdown",
   "metadata": {},
   "source": [
    "__Define two functions:__\n",
    "- `transition(z::Number, k::Number, i::Number, p)::Tuple{Number}` which returns productivity and capital at date `t+1` as a function of productivity, capital and investment at date `t`\n",
    "- `arbitrage(z::Number, k::Number, i::Number, Z::Number, K::Number, I::Number, p)::Number` which returns the residual of the euler equation (lower case variable for date t, upper case for date t+1)\n"
   ]
  },
  {
   "cell_type": "code",
   "execution_count": 21,
   "metadata": {},
   "outputs": [
    {
     "data": {
      "text/plain": [
       "transition (generic function with 1 method)"
      ]
     },
     "metadata": {},
     "output_type": "display_data"
    }
   ],
   "source": [
    "function transition(z::Number, k::Number, i::Number, p)\n",
    "\n",
    "        Z = p.ρ * z\n",
    "        K = (1-p.δ) * k + i\n",
    "\n",
    "        (;Z, K)\n",
    "\n",
    "end"
   ]
  },
  {
   "cell_type": "code",
   "execution_count": 24,
   "metadata": {},
   "outputs": [
    {
     "data": {
      "text/plain": [
       "arbitrage (generic function with 1 method)"
      ]
     },
     "metadata": {},
     "output_type": "display_data"
    }
   ],
   "source": [
    "function arbitrage(z::Number, k::Number, i::Number, Z::Number, K::Number, I::Number, p)\n",
    "\n",
    "    # positional unpacking (error-prone)\n",
    "    # α, β, γ, δ, ρ = p\n",
    "    \n",
    "    (;α, β, γ, δ, ρ) = p\n",
    "\n",
    "    # define auxiliary variables today\n",
    "    y = exp(z)k^α\n",
    "    c = y - i\n",
    "\n",
    "    # define auxiliary variables tomorrow\n",
    "    Y = exp(Z)K^α\n",
    "    C = Y - I\n",
    "\n",
    "    residual = β*(C/c)^(-γ)*( (1-δ) + α*K^(α-1)*exp(Z)) - 1\n",
    "\n",
    "    return residual\n",
    "\n",
    "\n",
    "end"
   ]
  },
  {
   "attachments": {},
   "cell_type": "markdown",
   "metadata": {},
   "source": [
    "__Using multiple dispatch, define two variants of the same functions, that take vectors as input and output arguments:__\n",
    "- `arbitrage(s::Vector{T}, x::Vector{T}, S::Vector{T}, X::Vector{T}, p) where T<:Number`\n",
    "- `transition(s::Vector{T}, x::Vector{T}, p) where T<:Number`"
   ]
  },
  {
   "cell_type": "code",
   "execution_count": 25,
   "metadata": {},
   "outputs": [
    {
     "data": {
      "text/plain": [
       "arbitrage (generic function with 2 methods)"
      ]
     },
     "metadata": {},
     "output_type": "display_data"
    }
   ],
   "source": [
    "# this returns a number\n",
    "# arbitrage(s::Vector{T}, x::Vector{T}, S::Vector{T}, X::Vector{T}, p) where T<:Number = arbitrage(s[1],s[2],x[1],S[1],S[2],X[1],p)"
   ]
  },
  {
   "cell_type": "code",
   "execution_count": 30,
   "metadata": {},
   "outputs": [
    {
     "data": {
      "text/plain": [
       "1-element Vector{Float64}:\n",
       " 2.4"
      ]
     },
     "metadata": {},
     "output_type": "display_data"
    }
   ],
   "source": [
    "[2.4]   # create a vector from  a number"
   ]
  },
  {
   "cell_type": "code",
   "execution_count": 29,
   "metadata": {},
   "outputs": [
    {
     "data": {
      "text/plain": [
       "arbitrage (generic function with 2 methods)"
      ]
     },
     "metadata": {},
     "output_type": "display_data"
    }
   ],
   "source": [
    "arbitrage(s::Vector{T}, x::Vector{T}, S::Vector{T}, X::Vector{T}, p) where T<:Number = [\n",
    "    arbitrage(s[1],s[2],x[1],S[1],S[2],X[1],p)\n",
    "]"
   ]
  },
  {
   "cell_type": "code",
   "execution_count": 26,
   "metadata": {},
   "outputs": [
    {
     "data": {
      "text/plain": [
       "transition (generic function with 2 methods)"
      ]
     },
     "metadata": {},
     "output_type": "display_data"
    }
   ],
   "source": [
    "# this returns a tuple\n",
    "# transition(s::Vector{T}, x::Vector{T}, p) where T<: Number = transition(s[1], s[2], x[1], p)"
   ]
  },
  {
   "cell_type": "code",
   "execution_count": 31,
   "metadata": {},
   "outputs": [
    {
     "data": {
      "text/plain": [
       "(1, 2, 3)"
      ]
     },
     "metadata": {},
     "output_type": "display_data"
    }
   ],
   "source": [
    "t = (1,2,3)"
   ]
  },
  {
   "cell_type": "code",
   "execution_count": 34,
   "metadata": {},
   "outputs": [
    {
     "data": {
      "text/plain": [
       "3-element Vector{Int64}:\n",
       " 1\n",
       " 2\n",
       " 3"
      ]
     },
     "metadata": {},
     "output_type": "display_data"
    }
   ],
   "source": [
    "# to convert into a tuple into a vector\n",
    "[t...]"
   ]
  },
  {
   "cell_type": "code",
   "execution_count": 36,
   "metadata": {},
   "outputs": [
    {
     "data": {
      "text/plain": [
       "transition (generic function with 2 methods)"
      ]
     },
     "metadata": {},
     "output_type": "display_data"
    }
   ],
   "source": [
    "transition(s::Vector{T}, x::Vector{T}, p) where T<: Number = [transition(s[1], s[2], x[1], p)...]"
   ]
  },
  {
   "attachments": {},
   "cell_type": "markdown",
   "metadata": {},
   "source": [
    "__Write a function `steady_state(p)::Tuple{Vector,Vector}` which computes the steady-state of the model computed by hand.__\n",
    "It returns two vectors, one for the states, one for the controls. Check that the steady-state satisfies the model equations.\n"
   ]
  },
  {
   "cell_type": "code",
   "execution_count": 44,
   "metadata": {},
   "outputs": [
    {
     "data": {
      "text/plain": [
       "steady_state (generic function with 1 method)"
      ]
     },
     "metadata": {},
     "output_type": "display_data"
    }
   ],
   "source": [
    "function steady_state(p)\n",
    "    (;α, β, γ, δ, ρ) = p\n",
    "\n",
    "    # ...\n",
    "    z = 0.0\n",
    "\n",
    "    k = ((1/β - (1-δ))/α)^ (1/(α-1))\n",
    "    i = δ*k\n",
    "\n",
    "    s = [z,k] # vector of states\n",
    "    x = [i]  # vector controls\n",
    "\n",
    "    return (;\n",
    "        s,\n",
    "        x\n",
    "    )\n",
    "\n",
    "\n",
    "end"
   ]
  },
  {
   "cell_type": "code",
   "execution_count": 45,
   "metadata": {},
   "outputs": [
    {
     "data": {
      "text/plain": [
       "(s = [0.0, 2.920822149964071], x = [0.29208221499640713])"
      ]
     },
     "metadata": {},
     "output_type": "display_data"
    }
   ],
   "source": [
    "q = steady_state(parameters)"
   ]
  },
  {
   "cell_type": "code",
   "execution_count": 39,
   "metadata": {},
   "outputs": [],
   "source": [
    "# check the steady-state is correct using the functions representing the model\n"
   ]
  },
  {
   "cell_type": "code",
   "execution_count": 47,
   "metadata": {},
   "outputs": [
    {
     "data": {
      "text/html": [
       "# 2 methods for generic function <b>transition</b> from \u001b[35mMain\u001b[39m:<ul><li> transition(z::<b>Number</b>, k::<b>Number</b>, i::<b>Number</b>, p) in Main at <a href=\"https://github.com/albop/mie37/tree/a01f7ec3fe0eb213f4a4e85e7a338c0b51ccf605//tutorials/3_perturbation_neoclassical.ipynb#L1\" target=\"_blank\">/home/pablo/Teaching/ensae/mie37/tutorials/3_perturbation_neoclassical.ipynb:1</a></li> <li> transition(s::<b>Vector{T}</b>, x::<b>Vector{T}</b>, p)<i> where T<:Number</i> in Main at <a href=\"https://github.com/albop/mie37/tree/a01f7ec3fe0eb213f4a4e85e7a338c0b51ccf605//tutorials/3_perturbation_neoclassical.ipynb#L1\" target=\"_blank\">/home/pablo/Teaching/ensae/mie37/tutorials/3_perturbation_neoclassical.ipynb:1</a></li> </ul>"
      ],
      "text/plain": [
       "# 2 methods for generic function \"transition\" from \u001b[35mMain\u001b[39m:\n",
       " [1] transition(\u001b[90mz\u001b[39m::\u001b[1mNumber\u001b[22m, \u001b[90mk\u001b[39m::\u001b[1mNumber\u001b[22m, \u001b[90mi\u001b[39m::\u001b[1mNumber\u001b[22m, \u001b[90mp\u001b[39m)\n",
       "\u001b[90m     @\u001b[39m \u001b[90m~/Teaching/ensae/mie37/tutorials/\u001b[39m\u001b[90m\u001b[4m3_perturbation_neoclassical.ipynb:1\u001b[24m\u001b[39m\n",
       " [2] transition(\u001b[90ms\u001b[39m::\u001b[1mVector\u001b[22m\u001b[0m{T}, \u001b[90mx\u001b[39m::\u001b[1mVector\u001b[22m\u001b[0m{T}, \u001b[90mp\u001b[39m) where T<:Number\n",
       "\u001b[90m     @\u001b[39m \u001b[90m~/Teaching/ensae/mie37/tutorials/\u001b[39m\u001b[90m\u001b[4m3_perturbation_neoclassical.ipynb:1\u001b[24m\u001b[39m"
      ]
     },
     "metadata": {},
     "output_type": "display_data"
    }
   ],
   "source": [
    "methods(transition)"
   ]
  },
  {
   "cell_type": "code",
   "execution_count": 57,
   "metadata": {},
   "outputs": [],
   "source": [
    "@assert maximum(transition(q.s, q.x, parameters) - q.s) == 0.0"
   ]
  },
  {
   "cell_type": "code",
   "execution_count": 62,
   "metadata": {},
   "outputs": [],
   "source": [
    "@assert maximum(arbitrage(q.s, q.x, q.s, q.x, parameters)) == 0.0"
   ]
  },
  {
   "cell_type": "markdown",
   "metadata": {},
   "source": [
    "The first order system satisfies:\n",
    "$$\\begin{align}A s_t + B x_t + C s_{t+1} + D x_{t+1} & = & 0 \\\\\\\\ \n",
    "s_{t+1} & = & E s_t + F x_t\n",
    " \\end{align}$$\n",
    "\n",
    "__Define a structure `PerturbedModel` to hold matrices A,B,C,D,E,F.__\n",
    "\n"
   ]
  },
  {
   "cell_type": "code",
   "execution_count": 63,
   "metadata": {},
   "outputs": [],
   "source": [
    "struct PerturbedModel\n",
    "    A::Matrix\n",
    "    B::Matrix\n",
    "    C::Matrix\n",
    "    D::Matrix\n",
    "    E::Matrix\n",
    "    F::Matrix\n",
    "\n",
    "end"
   ]
  },
  {
   "attachments": {},
   "cell_type": "markdown",
   "metadata": {},
   "source": [
    "__Write a function `first_order_model(s::Vector, x::Vector, p)::PerturbedModel`, which returns the first order model, given the steady-state and the calibration. Suggestion: use `ForwardDiff.jl` library.__"
   ]
  },
  {
   "cell_type": "code",
   "execution_count": 66,
   "metadata": {},
   "outputs": [
    {
     "name": "stderr",
     "output_type": "stream",
     "text": [
      "WARNING: method definition for arbitrage at /home/pablo/Teaching/ensae/mie37/tutorials/3_perturbation_neoclassical.ipynb:4 declares type variable T but does not use it.\n"
     ]
    },
    {
     "data": {
      "text/plain": [
       "arbitrage (generic function with 3 methods)"
      ]
     },
     "metadata": {},
     "output_type": "display_data"
    }
   ],
   "source": [
    "# we need to loosen the constraint on the arbitrage arguments:\n",
    "\n",
    "# brutal\n",
    "arbitrage(s, x, S, X, p) where T<:Number = [\n",
    "    arbitrage(s[1],s[2],x[1],S[1],S[2],X[1],p)\n",
    "]\n",
    "\n",
    "\n",
    "# more precise\n",
    "# arbitrage(s::Vector{<:Number}, x::Vector{<:Number}, S::Vector{<:Number}, X::Vector{<:Number}, p) = [\n",
    "#     arbitrage(s[1],s[2],x[1],S[1],S[2],X[1],p)\n",
    "# ]"
   ]
  },
  {
   "cell_type": "code",
   "execution_count": 74,
   "metadata": {},
   "outputs": [
    {
     "data": {
      "text/plain": [
       "1-element Vector{Float64}:\n",
       " 0.0"
      ]
     },
     "metadata": {},
     "output_type": "display_data"
    }
   ],
   "source": [
    "arbitrage(s,x,s,x,parameters)"
   ]
  },
  {
   "cell_type": "code",
   "execution_count": 77,
   "metadata": {},
   "outputs": [
    {
     "name": "stderr",
     "output_type": "stream",
     "text": [
      "WARNING: method definition for transition at /home/pablo/Teaching/ensae/mie37/tutorials/3_perturbation_neoclassical.ipynb:1 declares type variable T but does not use it.\n"
     ]
    },
    {
     "data": {
      "text/plain": [
       "transition (generic function with 3 methods)"
      ]
     },
     "metadata": {},
     "output_type": "display_data"
    }
   ],
   "source": [
    "transition(s, x, p) where T<: Number = [transition(s[1], s[2], x[1], p)...]"
   ]
  },
  {
   "cell_type": "code",
   "execution_count": 80,
   "metadata": {},
   "outputs": [
    {
     "data": {
      "text/plain": [
       "first_order_model (generic function with 1 method)"
      ]
     },
     "metadata": {},
     "output_type": "display_data"
    }
   ],
   "source": [
    "function first_order_model(s, x, parameters)\n",
    "\n",
    "    A = ForwardDiff.jacobian(  u->arbitrage(u, x, s, x, parameters), s    )\n",
    "    B = ForwardDiff.jacobian(  u->arbitrage(s, u, s, x, parameters), x    )\n",
    "    C = ForwardDiff.jacobian(  u->arbitrage(s, x, u, x, parameters), s    )\n",
    "    D = ForwardDiff.jacobian(  u->arbitrage(s, x, s, u, parameters), x    )\n",
    "    E = ForwardDiff.jacobian(  u->transition(u, x, parameters), s    )\n",
    "    F = ForwardDiff.jacobian(  u->transition(s, u, parameters), x    )\n",
    "\n",
    "    return PerturbedModel(A,B,C,D,E,F)\n",
    "\n",
    "end"
   ]
  },
  {
   "cell_type": "code",
   "execution_count": 82,
   "metadata": {},
   "outputs": [
    {
     "name": "stdout",
     "output_type": "stream",
     "text": [
      "  0.000055 seconds (45 allocations: 2.922 KiB)\n"
     ]
    },
    {
     "data": {
      "text/plain": [
       "PerturbedModel([5.074626865671642 0.5212190203776081], [-3.679193085018409;;], [-4.938626865671642 -0.5538125831185546], [3.679193085018409;;], [0.9 0.0; 0.0 0.9], [0.0; 1.0;;])"
      ]
     },
     "metadata": {},
     "output_type": "display_data"
    }
   ],
   "source": [
    "@time first_order_model(q.s, q.x, parameters)"
   ]
  },
  {
   "cell_type": "markdown",
   "metadata": {},
   "source": [
    "__We look for a linear solution $x_t = X s_t$ . Write the matrix equation which `X` must satisfy. Write a function `residual(X::Array, M::PerturbedModel)` which computes the residual of this equation for a given `X`.__\n"
   ]
  },
  {
   "cell_type": "code",
   "execution_count": null,
   "metadata": {},
   "outputs": [],
   "source": []
  },
  {
   "cell_type": "markdown",
   "metadata": {},
   "source": [
    "__Write a function `T(X, M::PerturbedModel)`  which implements the time iteration step.__"
   ]
  },
  {
   "cell_type": "code",
   "execution_count": null,
   "metadata": {},
   "outputs": [],
   "source": []
  },
  {
   "cell_type": "markdown",
   "metadata": {},
   "source": [
    "__Write function `linear_time_iteration(X_0::Matrix, m::PerturbedModel)::Matrix` which implements the time iteration algorithm. Apply it to `X0 = rand(1,2)` and check that the result satisfies the first order model.__\n",
    "\n",
    "    "
   ]
  },
  {
   "cell_type": "code",
   "execution_count": null,
   "metadata": {},
   "outputs": [],
   "source": []
  },
  {
   "attachments": {},
   "cell_type": "markdown",
   "metadata": {},
   "source": [
    "__Define two linear operators `L_S(U::Union{Vector, Matrix}, X_0::Matrix, m::PerturbedModel)::Matrix` and `L_T(U::Matrix, X_0::Matrix, m::PerturbedModel)::Matrix` which implement the derivatives of the simulation and the time-iteration operator respectively.__\n",
    "\n"
   ]
  },
  {
   "cell_type": "code",
   "execution_count": null,
   "metadata": {},
   "outputs": [],
   "source": []
  },
  {
   "attachments": {},
   "cell_type": "markdown",
   "metadata": {},
   "source": [
    "__Implement a function `spectral_radius(f::Function)::Float64` which implements the power iteration method to compute the biggest eigenvalues of the two previously defined operators. Check that Blanchard-Kahn conditions are met.__"
   ]
  },
  {
   "cell_type": "code",
   "execution_count": null,
   "metadata": {},
   "outputs": [],
   "source": []
  },
  {
   "attachments": {},
   "cell_type": "markdown",
   "metadata": {},
   "source": [
    "__Write a function `simulate(s0::Vector, X::Matrix, p, T::Int64)::Tuple{Matrix, Matrix}` to simulate the model over $T$ periods (by using the formula $\\Delta s_t = (E + F X) \\Delta s_{t-1}$. Return a matrix for the states (one line per date) and another matrix for the controls. Bonus: add a keyword option to compute variables levels or log-deviations. If possible, return a DataFrame object.__"
   ]
  },
  {
   "cell_type": "code",
   "execution_count": null,
   "metadata": {},
   "outputs": [],
   "source": []
  },
  {
   "cell_type": "markdown",
   "metadata": {},
   "source": [
    "__Make some nice plots.__"
   ]
  },
  {
   "cell_type": "code",
   "execution_count": null,
   "metadata": {},
   "outputs": [],
   "source": []
  }
 ],
 "metadata": {
  "kernelspec": {
   "display_name": "Julia 1.9.3",
   "language": "julia",
   "name": "julia-1.9"
  },
  "language_info": {
   "file_extension": ".jl",
   "mimetype": "application/julia",
   "name": "julia",
   "version": "1.9.3"
  }
 },
 "nbformat": 4,
 "nbformat_minor": 4
}

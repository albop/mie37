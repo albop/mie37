{
 "cells": [
  {
   "cell_type": "markdown",
   "id": "entertaining-webmaster",
   "metadata": {},
   "source": [
    "# Tutorial: Discrete Dynamic Programming (2)\n",
    "\n",
    "## Advanced Macro: numerical methods"
   ]
  },
  {
   "cell_type": "markdown",
   "id": "impossible-validation",
   "metadata": {},
   "source": [
    "### Job-Search Model\n",
    "\n",
    "- When unemployed in date, a job-seeker\n",
    "  - consumes unemployment benefit $c_t = \\underline{c}$\n",
    "  - receives in every date $t$ a job offer $w_t$\n",
    "    - $w_t$ is i.i.d., \n",
    "    - takes values $w_1, w_2, w_3$ with probabilities $p_1, p_2, p_3$\n",
    "  - if job-seeker accepts, becomes employed at rate $w_t$ in the next period\n",
    "  - else he stays unemployed\n",
    "  \n",
    "- When employed at rate $w$\n",
    "  - worker consumes salary $c_t = w$\n",
    "  - with small probability $\\lambda>0$ looses his job:\n",
    "    - starts next period unemployed\n",
    "  - otherwise stays employed at same rate\n",
    "- Objective: $\\max E_0 \\left\\{ \\sum \\beta^t \\log(w_t) \\right\\}$\n"
   ]
  },
  {
   "cell_type": "markdown",
   "id": "instant-parcel",
   "metadata": {},
   "source": [
    "__What are the states, the controls, the reward of this problem ? Write down the Bellman equation.__"
   ]
  },
  {
   "cell_type": "code",
   "execution_count": null,
   "id": "leading-arena",
   "metadata": {},
   "outputs": [],
   "source": []
  },
  {
   "cell_type": "markdown",
   "id": "utility-manufacturer",
   "metadata": {},
   "source": [
    "__Define a parameter structure for the model.__"
   ]
  },
  {
   "cell_type": "code",
   "execution_count": 1,
   "id": "other-operations",
   "metadata": {},
   "outputs": [
    {
     "ename": "UndefVarError",
     "evalue": "UndefVarError: a not defined",
     "output_type": "error",
     "traceback": [
      "UndefVarError: a not defined\n",
      "\n",
      "Stacktrace:\n",
      "  [1] top-level scope\n",
      "    @ :0\n",
      "  [2] eval\n",
      "    @ ./boot.jl:373 [inlined]\n",
      "  [3] include_string(mapexpr::typeof(REPL.softscope), mod::Module, code::String, filename::String)\n",
      "    @ Base ./loading.jl:1196\n",
      "  [4] #invokelatest#2\n",
      "    @ ./essentials.jl:716 [inlined]\n",
      "  [5] invokelatest\n",
      "    @ ./essentials.jl:714 [inlined]\n",
      "  [6] (::VSCodeServer.var\"#158#159\"{VSCodeServer.NotebookRunCellArguments, String})()\n",
      "    @ VSCodeServer ~/.vscode-remote/extensions/julialang.language-julia-1.6.6/scripts/packages/VSCodeServer/src/serve_notebook.jl:19\n",
      "  [7] withpath(f::VSCodeServer.var\"#158#159\"{VSCodeServer.NotebookRunCellArguments, String}, path::String)\n",
      "    @ VSCodeServer ~/.vscode-remote/extensions/julialang.language-julia-1.6.6/scripts/packages/VSCodeServer/src/repl.jl:184\n",
      "  [8] notebook_runcell_request(conn::VSCodeServer.JSONRPC.JSONRPCEndpoint{Base.PipeEndpoint, Base.PipeEndpoint}, params::VSCodeServer.NotebookRunCellArguments)\n",
      "    @ VSCodeServer ~/.vscode-remote/extensions/julialang.language-julia-1.6.6/scripts/packages/VSCodeServer/src/serve_notebook.jl:13\n",
      "  [9] dispatch_msg(x::VSCodeServer.JSONRPC.JSONRPCEndpoint{Base.PipeEndpoint, Base.PipeEndpoint}, dispatcher::VSCodeServer.JSONRPC.MsgDispatcher, msg::Dict{String, Any})\n",
      "    @ VSCodeServer.JSONRPC ~/.vscode-remote/extensions/julialang.language-julia-1.6.6/scripts/packages/JSONRPC/src/typed.jl:67\n",
      " [10] serve_notebook(pipename::String; crashreporting_pipename::String)\n",
      "    @ VSCodeServer ~/.vscode-remote/extensions/julialang.language-julia-1.6.6/scripts/packages/VSCodeServer/src/serve_notebook.jl:114\n",
      " [11] top-level scope\n",
      "    @ ~/.vscode-remote/extensions/julialang.language-julia-1.6.6/scripts/notebook/notebook.jl:14\n",
      " [12] include(mod::Module, _path::String)\n",
      "    @ Base ./Base.jl:418\n",
      " [13] exec_options(opts::Base.JLOptions)\n",
      "    @ Base ./client.jl:292\n",
      " [14] _start()\n",
      "    @ Base ./client.jl:495"
     ]
    }
   ],
   "source": [
    "a\n"
   ]
  },
  {
   "cell_type": "markdown",
   "id": "brutal-prior",
   "metadata": {},
   "source": [
    "__Define a function  `value_update(V_U::Vector{Float64}, V_E::Vector{Float64}, x::Vector{Bool}, p::Parameters)::Tuple{Vector, Vector}`, which takes in value functions tomorrow and a policy vector and return updated values for today.__"
   ]
  },
  {
   "cell_type": "code",
   "execution_count": null,
   "id": "significant-briefing",
   "metadata": {},
   "outputs": [],
   "source": []
  },
  {
   "cell_type": "markdown",
   "id": "right-green",
   "metadata": {},
   "source": [
    "__Define a function __Define a function `policy_eval(x::Vector{Bool}, p::Parameter)::Tuple{Vector, Vector}` which takes in a policy vector and returns the value(s) of following this policies forever. You can add relevant arguments to the function.__ which takes in a policy vector and returns the value(s) of following this policies forever. You can add relevant arguments to the function.__"
   ]
  },
  {
   "cell_type": "code",
   "execution_count": null,
   "id": "affected-amplifier",
   "metadata": {},
   "outputs": [],
   "source": []
  },
  {
   "cell_type": "markdown",
   "id": "announced-damage",
   "metadata": {},
   "source": [
    "__Define a function `bellman_step(V_E::Vector, V_U::Vector, p::Parameters)::Tuple{Vector, Vector, Vector}` which returns updated values, together with improved policy rules.__"
   ]
  },
  {
   "cell_type": "code",
   "execution_count": null,
   "id": "listed-roots",
   "metadata": {},
   "outputs": [],
   "source": []
  },
  {
   "cell_type": "markdown",
   "id": "joint-chicken",
   "metadata": {},
   "source": [
    "__Implement Value Function__"
   ]
  },
  {
   "cell_type": "code",
   "execution_count": null,
   "id": "artificial-female",
   "metadata": {},
   "outputs": [],
   "source": []
  },
  {
   "cell_type": "markdown",
   "id": "permanent-atlas",
   "metadata": {},
   "source": [
    "__Implement Policy Iteration and compare rates of convergence.__"
   ]
  },
  {
   "cell_type": "code",
   "execution_count": null,
   "id": "polished-report",
   "metadata": {},
   "outputs": [],
   "source": []
  },
  {
   "cell_type": "markdown",
   "id": "superior-johns",
   "metadata": {},
   "source": [
    "__Discuss the Effects of the Parameters__"
   ]
  },
  {
   "cell_type": "code",
   "execution_count": null,
   "id": "involved-granny",
   "metadata": {},
   "outputs": [],
   "source": []
  },
  {
   "cell_type": "markdown",
   "id": "powerful-disposal",
   "metadata": {},
   "source": [
    "### Simulating an AR1\n",
    "\n",
    "Choose a 2x2 matrix $P$ (with spectral radius <1) and a 2x2 matrix Q.\n",
    "\n",
    "Consider the VAR1 process $x_t = P x_{t-1} + Q \\epsilon_t$ where $\\epsilon_t= (\\eta_{1,t}, \\eta_{2,t})$ with $\\eta_1\\sim\\mathcal{N}(0,1)$ and $\\eta_1\\sim\\mathcal{N}(0,1)$"
   ]
  },
  {
   "cell_type": "markdown",
   "id": "emotional-alabama",
   "metadata": {
    "tags": []
   },
   "source": [
    "__Compute impulse response functions.__"
   ]
  },
  {
   "cell_type": "code",
   "execution_count": null,
   "id": "polish-oriental",
   "metadata": {},
   "outputs": [],
   "source": []
  },
  {
   "cell_type": "markdown",
   "id": "cubic-authority",
   "metadata": {},
   "source": [
    "__Simulate the process for $T$ periods.__"
   ]
  },
  {
   "cell_type": "code",
   "execution_count": null,
   "id": "incredible-belfast",
   "metadata": {},
   "outputs": [],
   "source": []
  },
  {
   "cell_type": "markdown",
   "id": "global-brunei",
   "metadata": {},
   "source": [
    "__Simulate the process $N=1000$ times for $T=1000$ periods. How would you store the results?__"
   ]
  },
  {
   "cell_type": "code",
   "execution_count": null,
   "id": "liquid-digit",
   "metadata": {},
   "outputs": [],
   "source": []
  },
  {
   "cell_type": "markdown",
   "id": "choice-graphic",
   "metadata": {},
   "source": [
    "__Make density plots to illustrate the ergodic property of the process__"
   ]
  },
  {
   "cell_type": "code",
   "execution_count": null,
   "id": "fundamental-implement",
   "metadata": {},
   "outputs": [],
   "source": []
  },
  {
   "cell_type": "markdown",
   "id": "split-tragedy",
   "metadata": {},
   "source": [
    "__Compute the asymptotic variance of the process. Compare with the theoretical one.__"
   ]
  },
  {
   "cell_type": "code",
   "execution_count": null,
   "id": "following-provider",
   "metadata": {},
   "outputs": [],
   "source": []
  },
  {
   "cell_type": "code",
   "execution_count": null,
   "id": "proof-desire",
   "metadata": {},
   "outputs": [],
   "source": []
  }
 ],
 "metadata": {
  "kernelspec": {
   "display_name": "Julia 1.6.3",
   "language": "julia",
   "name": "julia-1.6"
  },
  "language_info": {
   "file_extension": ".jl",
   "mimetype": "application/julia",
   "name": "julia",
   "version": "1.7.2"
  }
 },
 "nbformat": 4,
 "nbformat_minor": 5
}

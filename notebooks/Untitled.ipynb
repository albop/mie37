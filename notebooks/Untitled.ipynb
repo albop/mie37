{
 "cells": [
  {
   "cell_type": "code",
   "execution_count": 19,
   "id": "insured-denial",
   "metadata": {},
   "outputs": [],
   "source": [
    "using Interpolations"
   ]
  },
  {
   "cell_type": "code",
   "execution_count": 2,
   "id": "finnish-franchise",
   "metadata": {},
   "outputs": [],
   "source": [
    "using FastGaussQuadrature"
   ]
  },
  {
   "cell_type": "code",
   "execution_count": 5,
   "id": "center-harmony",
   "metadata": {},
   "outputs": [
    {
     "data": {
      "image/png": "[encoded data removed]"
     },
     "execution_count": 5,
     "metadata": {},
     "output_type": "execute_result"
    }
   ],
   "source": [
    "using Plots\n",
    "gr(fmt=:png);\n",
    "x = -7:7 # x points, coase grid\n",
    "y = sin.(x) # corresponding y points\n",
    "xf = -7:0.1:7 # fine grid\n",
    "plot(xf, sin.(xf), label = \"sin function\")\n",
    "#scatter!(x, y, label = \"sampled data\", markersize = 4)"
   ]
  },
  {
   "cell_type": "code",
   "execution_count": 7,
   "id": "employed-personal",
   "metadata": {},
   "outputs": [
    {
     "data": {
      "text/plain": [
       "-1.3333333333333335"
      ]
     },
     "execution_count": 7,
     "metadata": {},
     "output_type": "execute_result"
    }
   ],
   "source": [
    "#Let's set up the Acemoglu and Aghion model of directed technical change (2012)\n",
    "#Parameters: \n",
    "struct Calibration\n",
    "    α::Float64\n",
    "    ρ::Float64\n",
    "    ϵ::Float64\n",
    "    ξ::Float64\n",
    "    δ::Float64\n",
    "    γ::Float64\n",
    "    η_c::Float64\n",
    "    η_d::Float64\n",
    "end\n",
    "\n",
    "#Calibration with Stern discount and \"pessimistic\" substitution possibilities. \n",
    "#I've not found which should be the values for ξ and δ\n",
    "p=Calibration(1/3,0.001,3,0.06,0.05,1,0.02,0.02)\n",
    "\n",
    "ϕ=(1-p.ϵ)*(1-p.α)"
   ]
  },
  {
   "cell_type": "code",
   "execution_count": 8,
   "id": "determined-grocery",
   "metadata": {},
   "outputs": [
    {
     "data": {
      "text/plain": [
       "1.4142135623730951"
      ]
     },
     "execution_count": 8,
     "metadata": {},
     "output_type": "execute_result"
    }
   ],
   "source": [
    "#let us define the model and solve it.\n",
    "#However there are still some challenges so as to solve it (define machine and technological indexes)\n",
    "#Variables: define initial values when constraints bind\n",
    "#Labor\n",
    "L_c0=0.5 #arbitrary\n",
    "L_d0= 1.0-L_c0\n",
    "\n",
    "#arbitrary initial prices for technologies\n",
    "p_c0=1.0\n",
    "p_d0=1.0\n",
    "\n",
    "#Technology\n",
    "#We need to define the continuum of machines xij (for j=c,d ; i belongs to (0,1)). \n",
    "#But it is a result of monopolistic competition. First define it as a constant then update its value as a result of optimization ?\n",
    "#In our situation, the clean sector must initially be less advanced than the dirty one\n",
    "A_d0=1.0\n",
    "#the proper distance between the two technologies can be expressed with the parameters\n",
    "a=(((1.0+p.γ*p.η_c)^(-((ϕ+1.0)/ϕ)))*(p.η_c/p.η_d)^(1.0/ϕ), ((1.0+p.γ*p.η_d)^(ϕ+1/ϕ))*(p.η_c/p.η_d)^(1.0/ϕ))\n",
    "b=minimum(a)\n",
    "A_c0=b*(A_d0)\n",
    "\n",
    "#scientists\n",
    "#binding constraint\n",
    "#fully competitive so all scientists work in most advanced sector (ie. the dirty one) at the beginning\n",
    "s_d0 = 1.0\n",
    "s_c0 = 1.0-s_d0\n",
    "\n",
    "#the scientists' profit\n",
    "#initial profit\n",
    "\n",
    "Π_c0=p.η_c*(1.0+p.γ)*(1.0-p.α)*p.α*p_c0^(1.0/(1.0-p.α))*L_c0*A_c0\n",
    "Π_d0=p.η_d*(1.0+p.γ)*(1.0-p.α)*p.α*p_d0^(1.0/(1.0-p.α))*L_d0*A_d0\n",
    "\n",
    "#Law of motion of technology\n",
    "#the number of scientists in this period, the technology in the previous, helps yield technology nows\n",
    "function dirty_technology(A_d::Float64,s_d::Float64,p::Calibration)::Float64\n",
    "    A_=(1.0+p.γ*p.η_d*s_d)*A_d\n",
    "    return A_\n",
    "end\n",
    "\n",
    "function clean_technology(A_c::Float64,s_c::Float64,p::Calibration)::Float64\n",
    "    A_=(1.0+p.γ*p.η_c*s_c)*A_c\n",
    "    return A_\n",
    "end\n",
    "\n",
    "#define profit at period t\n",
    "function profit_dirty(L_d::Float64,A_d::Float64,p_d::Float64,p::Calibration)\n",
    "    Pi_d=p.η_d*(1.0+p.γ)*(1.0-p.α)*p.α*p_d^(1.0/(1.0-p.α))*L_d*A_d\n",
    "    return Pi_d\n",
    "end\n",
    "\n",
    "function profit_clean(L_c::Float64,A_c::Float64,p_c::Float64,p::Calibration)\n",
    "    Pi_c=p.η_c*(1.0+p.γ)*(1.0-p.α)*p.α*p_c^(1.0/(1.0-p.α))*L_c*A_c\n",
    "    return Pi_c\n",
    "end\n",
    "\n",
    "#We can thus define production in each sector as a function of technology and labor\n",
    "#needs indexes and integrals which I don't know how to implement, so I set arbitrary values\n",
    "Y_d0=0.5\n",
    "Y_c0=0.5\n",
    "\n",
    "Y0=(Y_c0^((p.ϵ-1.0)/p.ϵ)+Y_d0^((p.ϵ-1.0)/p.ϵ))^(p.ϵ/(p.ϵ-1.0))\n",
    "\n",
    "#The environment law of motion\n",
    "\n",
    "function pollution(Y::Float64,S::Float64,S0::Float64,p::Calibration)::Float64\n",
    "    if S<S0\n",
    "        S_=-p.ξ*Y0+(1.0+p.δ)*S\n",
    "    else\n",
    "        S_=-p.ξ*Y0 + S\n",
    "    end\n",
    "    return S_\n",
    "end\n",
    "#Let us assume the initial state of the environment is comparable to initial product\n",
    "S0=Y0\n",
    "\n",
    "#c=pollution(Y0,S0,S0,p)\n",
    "\n"
   ]
  },
  {
   "cell_type": "code",
   "execution_count": 9,
   "id": "blocked-processor",
   "metadata": {},
   "outputs": [
    {
     "data": {
      "text/plain": [
       "product (generic function with 1 method)"
      ]
     },
     "execution_count": 9,
     "metadata": {},
     "output_type": "execute_result"
    }
   ],
   "source": [
    "#For the moment being, I just use the equilibrium formulas yielded in the paper to try and compute the paths\n",
    "#Profit ratio (A in the previous period, and current period scientists)\n",
    "function profit_ratio(A_c::Float64,s_c::Float64,A_d::Float64,s_d::Float64,p::Calibration)::Float64\n",
    "    ϕ=(1-p.ϵ)*(1-p.α)\n",
    "    ratio=(p.η_c/p.η_d)*(((1+p.γ*p.η_c*s_c)/(1+p.γ*p.η_d*s_d))^(-(ϕ+1)))*(A_c/A_d)^(-ϕ)\n",
    "    return ratio\n",
    "end\n",
    "\n",
    "#Depending on the size of the ratio, scientists are directed to one sector or another\n",
    "d=profit_ratio(A_c0,s_c0,A_d0,s_d0,p)\n",
    "\n",
    "#Equilibrium value for the products\n",
    "\n",
    "function clean_product(A_c::Float64,A_d::Float64,p::Calibration)::Float64\n",
    "    ϕ=(1-p.ϵ)*(1-p.α)\n",
    "    product_c=((A_c^(ϕ)+A_d^(ϕ))^(-(p.α+ϕ)/ϕ))*A_c*A_d^(p.α+ϕ)\n",
    "    return product_c\n",
    "end\n",
    "\n",
    "function dirty_product(A_c::Float64,A_d::Float64,p::Calibration)::Float64\n",
    "    ϕ=(1-p.ϵ)*(1-p.α)\n",
    "    product_d=((A_c^(ϕ)+A_d^(ϕ))^(-(p.α+ϕ)/ϕ))*A_d*A_c^(p.α+ϕ)\n",
    "    return product_d\n",
    "end\n",
    "\n",
    "function product(A_c::Float64,A_d::Float64,p::Calibration)::Float64\n",
    "    ϕ=(1-p.ϵ)*(1-p.α)\n",
    "    product=(A_c^(ϕ)+A_d^(ϕ))^(-(1/ϕ))*A_d*A_c\n",
    "    return product\n",
    "end\n"
   ]
  },
  {
   "cell_type": "code",
   "execution_count": 10,
   "id": "noted-romantic",
   "metadata": {},
   "outputs": [
    {
     "data": {
      "text/plain": [
       "8-element Vector{Float64}:\n",
       " 1.664883480665517\n",
       " 1.3293607486307095\n",
       " 0.553072553377136\n",
       " 0.9595839503280009\n",
       " 0.0\n",
       " 0.6249085969572552\n",
       " 1.02\n",
       " 1.0"
      ]
     },
     "execution_count": 10,
     "metadata": {},
     "output_type": "execute_result"
    }
   ],
   "source": [
    "#After having defined all law of motions, we can define the transition equation\n",
    "function transition(Y,S,Y_c,A_c,s_c,Y_d,A_d,s_d,S0,p)\n",
    "    pi_ratio=profit_ratio(A_c,s_c,A_d,s_d,p)\n",
    "    if pi_ratio > 1\n",
    "        s_c=1.0\n",
    "        s_d=0.0\n",
    "    else\n",
    "        s_c=0.0\n",
    "        s_d=1.0\n",
    "    end\n",
    "    A_d=dirty_technology(A_d,s_d,p)\n",
    "    A_c=clean_technology(A_c,s_c,p)\n",
    "    Y_c=clean_product(A_c,A_d,p)\n",
    "    Y_d=dirty_product(A_c,A_d,p)\n",
    "    Y=product(A_c,A_d,p)\n",
    "    S=pollution(Y,S,S0,p)\n",
    "    return [Y,S,Y_c,A_c,s_c,Y_d,A_d,s_d]\n",
    "end\n",
    "\n",
    "vector=transition(Y0,S0,Y_c0,A_c0,s_c0,Y_d0,A_d0,s_d0,S0,p)"
   ]
  },
  {
   "cell_type": "code",
   "execution_count": 11,
   "id": "significant-bronze",
   "metadata": {},
   "outputs": [],
   "source": [
    "#Let's try a simulation for the laissez faire equilibrium !\n",
    "#Initial conditions are defined up above\n",
    "\n",
    "#Would simplify the algorithm but can't figure out right now how to make the function work with vectors\n",
    "#variables=(Y0,S0,Y_c0,A_c0,s_c0,Y_d0,A_d0,s_d0)\n",
    "#parameters=(S0,p)\n",
    "#transition(variables,parameters)\n",
    "S_C=[s_c0]\n",
    "S_D=[s_d0]\n",
    "Y_C=[Y_c0]\n",
    "Y_D=[Y_d0]\n",
    "Y=[Y0]\n",
    "S=[S0]\n",
    "A_C=[A_c0]\n",
    "A_D=[A_d0]\n",
    "T=[0]\n",
    "\n",
    "t=100\n",
    "for i=1:t\n",
    "    Y0,S0,Y_c0,A_c0,s_c0,Y_d0,A_d0,s_d0=transition(Y0,S0,Y_c0,A_c0,s_c0,Y_d0,A_d0,s_d0,S0,p)\n",
    "    push!(S_C,s_c0)\n",
    "    push!(S_D,s_d0)\n",
    "    push!(Y_C,Y_c0)\n",
    "    push!(Y_D,Y_d0)\n",
    "    push!(Y,Y0)\n",
    "    push!(S,S0)\n",
    "    push!(A_C,A_c0)\n",
    "    push!(A_D,A_d0)\n",
    "    push!(T,i)\n",
    "end"
   ]
  },
  {
   "cell_type": "code",
   "execution_count": 18,
   "id": "classified-findings",
   "metadata": {},
   "outputs": [],
   "source": [
    "using Plots\n",
    "gr(fmt=:png);\n",
    "x = 1:101 # x points, coase grid\n",
    "y = S[x] # corresponding y points\n",
    "xf = 1:0.1:101 # fine grid\n",
    "plot(x, S[x], label = \"sin function\")\n",
    "\n",
    "#using Plots\n",
    "#gr(fmt=:png)\n",
    "#pl = plot( [el for el in S], label=\"environment destruction\")\n",
    "#pl1 = plot(x=1:T, [el for el in B], label=\"convergence of capital\")\n",
    "\n",
    "#using Plots\n",
    "#gr(fmt=:png);\n",
    "#x = -7:7 # x points, coase grid\n",
    "#y = sin.(x) # corresponding y points\n",
    "#xf = -7:0.1:7 # fine grid\n",
    "#plot(xf, sin.(xf), label = \"sin function\")\n",
    "\n",
    "#GRISU NOT DEFINED EARLIER\n"
   ]
  },
  {
   "cell_type": "code",
   "execution_count": null,
   "id": "medium-clarity",
   "metadata": {},
   "outputs": [],
   "source": []
  },
  {
   "cell_type": "code",
   "execution_count": null,
   "id": "competent-shepherd",
   "metadata": {},
   "outputs": [],
   "source": []
  }
 ],
 "metadata": {
  "kernelspec": {
   "display_name": "Julia 1.6.0",
   "language": "julia",
   "name": "julia-1.6"
  },
  "language_info": {
   "file_extension": ".jl",
   "mimetype": "application/julia",
   "name": "julia",
   "version": "1.6.0"
  }
 },
 "nbformat": 4,
 "nbformat_minor": 5
}

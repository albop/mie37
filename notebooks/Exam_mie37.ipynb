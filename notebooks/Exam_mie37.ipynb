{
 "cells": [
  {
   "cell_type": "markdown",
   "id": "9e2bc883",
   "metadata": {},
   "source": [
    "# Final Exam MIE37\n",
    "\n",
    "- Name: ...\n",
    "- First Name: ...\n",
    "\n",
    "Completed notebook must be returned to `pwinant@escp.eu` by 12:15.\n",
    "\n",
    "There is no predefined number of points per question, and in general no *right* answer so don't hesitate to take initiatives, and make developments you find interesting. You can use any external library that you want. In particular, the following ones might be useful:\n",
    "- `ForwardDiff.jl`\n",
    "- `Interpolations.jl`\n",
    "- `FastGaussQuadrature.jl`\n",
    "- `Plots.jl` or `SimplePlots.jl`"
   ]
  },
  {
   "cell_type": "markdown",
   "id": "a4eda1ec-a7b7-4d72-843a-9fb06a875ac8",
   "metadata": {},
   "source": [
    "## Linear Regression\n",
    "\n",
    "1. __For $N=100$, compute a sample $(x_i, y_i)_{i=[1:N]}$ satisfying $$y_i=0.4+2.5 x_i + \\epsilon_i$$ where $x_i$ uniformly distributed between 0 and 1 and $\\epsilon_i$ is drawn from a normal distribution with standard deviation 0.5.__"
   ]
  },
  {
   "cell_type": "code",
   "execution_count": null,
   "id": "fb895840-2022-4f0d-a40c-028e67def4ae",
   "metadata": {},
   "outputs": [],
   "source": []
  },
  {
   "cell_type": "markdown",
   "id": "54233088-7390-495a-ab6a-0395d38f2bd9",
   "metadata": {},
   "source": [
    "2. __Define the model $f(x;a,b)=a+b x$. Find the parameters $a$ and $b$ which minimize the objective $\\xi(a,b)=\\sum_i (f(x_i;a,b)-y_i)^2$ by using a numerical optimization algorithm (not the formula for the regression). Plot.__\n",
    "\n",
    "<mark>Hint</mark>: you can write your own gradient descent algorithm or use an optimization library)."
   ]
  },
  {
   "cell_type": "code",
   "execution_count": null,
   "id": "292d42c0-d3dd-4cb3-965e-4bff806284c7",
   "metadata": {},
   "outputs": [],
   "source": []
  },
  {
   "cell_type": "markdown",
   "id": "cfe98c89-1aa0-4118-b179-59c72e95242d",
   "metadata": {},
   "source": [
    "## Dividend Pricing\n",
    "\n",
    "A dividend process is described by $d_t=\\exp(\\epsilon) (d_{t-1})^\\rho$ with $\\rho=0.9$ and $\\epsilon$ a normal i.i.d. process with mean 0 and standard deviation 0.05.\n",
    "Given discount rate $\\beta=0.95$ our ultimate goal is to evaluate the price of a right to the dividend, which satisfies:\n",
    "\n",
    "$$p_t=d_t + \\beta E_t \\left[ p_{t+1} \\right]$$\n",
    "\n",
    "In functional form, we look for a function $p()$ such that\n",
    "\n",
    "$$\\forall d, \\color{blue}{p}(d)=d+\\beta E_{\\epsilon} \\left[ \\color{red}{p}\\left( \\exp(\\epsilon) (d)^\\rho \\right)\\right]$$\n",
    "\n",
    "The general algorithm, will consist in updating the price function on the left as a function of the price function on the right. It raises two challenges:\n",
    "- integrate the term within the square brackets (we'll use quadrature)\n",
    "- interpolate the price function so that it can be evaluated at any realisation of $\\exp(\\epsilon) (d)^\\rho$"
   ]
  },
  {
   "cell_type": "markdown",
   "id": "71de557e-6ef1-470a-aee4-710b6c224f97",
   "metadata": {},
   "source": [
    "1. __Integration: discretize random shock $\\epsilon_t$ with $K=5$ nodes and weights $(w_i, \\epsilon_i)$ by using a gauss-hermite quadrature.\n",
    "As an example, use this discretization to evaluate $\\mathbb{E}\\left(\\epsilon^2\\right)$ and $\\mathbb{E}\\left[ \\exp(\\epsilon)\\right]$.__"
   ]
  },
  {
   "cell_type": "code",
   "execution_count": null,
   "id": "56fcfe65-d0fa-4aa3-bf0f-4b9f318be706",
   "metadata": {},
   "outputs": [],
   "source": []
  },
  {
   "cell_type": "markdown",
   "id": "6d22d004-6551-48ce-91b6-3b903df7f403",
   "metadata": {},
   "source": [
    "2. __Interpolation: for $N=20$, propose a regular grid $(d_1, ... d_N)$ for $d$ that is large enough to contain a large fraction of of the realizations of $d_t$. Function $p()$ will be represented by an $N$-components vector `p`. Linear interpolation will be used to evaluate `p` outside of the grid points (you can use . Choose an initial guess for $p$, for instance $p(d)=d^2$ and plot the interpolated function.__\n",
    "\n",
    "<mark>Hint</mark>: given a vector of points `x` and matching vector of values `y`, you can use `itp = LinearInterpolation(x, y, extrapolation_bc = Line())` to construct a smooth function, which equals `y` on `x`. You can then interpolate at any point or vector of points `z` with `itp(z)`.\n"
   ]
  },
  {
   "cell_type": "code",
   "execution_count": null,
   "id": "7dfdca4d-47ca-4669-8153-6321db38eb70",
   "metadata": {},
   "outputs": [],
   "source": []
  },
  {
   "cell_type": "markdown",
   "id": "8a03c8f6-932d-4d81-8be8-ddc8755a0d17",
   "metadata": {},
   "source": [
    "3. __Assuming vector `p0` represents the $p()$ function on the right, compute `p1` vector which represents the $p()$ function on the left. Call `T()` the function which map `p0` to `p1`.__"
   ]
  },
  {
   "cell_type": "code",
   "execution_count": null,
   "id": "cec52012-63d5-4100-b74e-b845e0f81773",
   "metadata": {},
   "outputs": [],
   "source": []
  },
  {
   "cell_type": "markdown",
   "id": "87f559d5-818e-47bc-8789-60841e36cbef",
   "metadata": {},
   "source": [
    "4. __Find the equilibrium price `p` by iterating on `T()`. Plot.___"
   ]
  },
  {
   "cell_type": "code",
   "execution_count": null,
   "id": "5a7fe0f5-ae02-4ba2-b15b-0751c010823b",
   "metadata": {},
   "outputs": [],
   "source": []
  },
  {
   "cell_type": "markdown",
   "id": "30e4a727-c709-4924-ab15-80581ce2deb8",
   "metadata": {},
   "source": [
    "## Linear Time Iteration\n",
    "\n",
    "A deterministic one-dimensional linear model for inflation is written in the form:\n",
    "\n",
    "$$\\pi_{t+1} - (\\lambda_1 + \\lambda_2) \\pi_t + \\lambda_1 \\lambda_2 \\pi_{t-1}$$\n",
    "\n",
    "with $0<\\lambda_1<\\lambda_2$\n",
    "Here, inflation is backward looking in the sense that inflation $\\pi_t$ will depend on past inflation $\\pi_{t-1}$.\n",
    "The solution takes the form $\\forall t, \\space \\pi_t = \\lambda \\pi_{t-1}$ where $\\lambda$ is a constant to be determined.\n",
    "\n",
    "1. __(Theory) Write down the second order equation $P(\\lambda)=0$, which characterizes $\\lambda$. What are the roots of polynomial $P$ ?__\n",
    "    "
   ]
  },
  {
   "cell_type": "code",
   "execution_count": null,
   "id": "f9ef296c-3c37-48b7-9200-b6cb375b2014",
   "metadata": {},
   "outputs": [],
   "source": []
  },
  {
   "cell_type": "markdown",
   "id": "f36826cc-becb-44ec-a891-571b66bd90a8",
   "metadata": {},
   "source": [
    "2. __(Theory 2) Justify that $T(x) = \\frac{-\\lambda_1\\lambda_2}{x-\\lambda_1-\\lambda_2}$ is the time iteration operator. Show that it admits two fixed points, but that only one of them is stable by computing $|T^{\\prime}|$.__"
   ]
  },
  {
   "cell_type": "code",
   "execution_count": null,
   "id": "5cb56621-83e2-41c2-8760-29f5907bdd57",
   "metadata": {},
   "outputs": [],
   "source": []
  },
  {
   "cell_type": "markdown",
   "id": "36e4d587-ddf1-465d-89d7-14f872f51d2d",
   "metadata": {},
   "source": [
    "It is actually possible (and easy) to show that the series $(x_n)$ defined recursively by $x_n = T(x_{n-1})$ converges to $\\lambda_1$ starting from any initial point $x_0$, except from $\\lambda_2$. This method of computing a solution is called *linear time iteration*.\n",
    "\n",
    "3. __Implement the linear time iteration and illustrate its convergence graphically by plotting its progress,  starting from various levels of $x_0$. Show one case with $\\lambda_1<\\lambda_2<1$, one with $\\lambda_1<1<\\lambda_2$ and one with $1<\\lambda_1<\\lambda_2$.__"
   ]
  },
  {
   "cell_type": "code",
   "execution_count": null,
   "id": "a04960a3-4565-4116-8320-629d28a93bf2",
   "metadata": {},
   "outputs": [],
   "source": []
  },
  {
   "cell_type": "markdown",
   "id": "115bee3a-3f0d-4091-8ca4-c642630140bd",
   "metadata": {},
   "source": [
    "4. __A model is well specified if it admits a unique non-diverging solution. What method would you propose to check that the solution obtained by linear time-iteration is convergent and unique?__"
   ]
  },
  {
   "cell_type": "code",
   "execution_count": null,
   "id": "223b652d-9303-4947-9e06-3348d5ddffda",
   "metadata": {},
   "outputs": [],
   "source": []
  },
  {
   "cell_type": "markdown",
   "id": "b03a0119-312e-4042-bdf3-d1eca919d54b",
   "metadata": {},
   "source": [
    "5. __(Bonus) Implement an *improved* linear time iteration algorithm, that is a Newton descent applied to $x-T(x)$ and discuss its convergence.__"
   ]
  },
  {
   "cell_type": "code",
   "execution_count": null,
   "id": "f019b478-4790-4eff-a7a6-e46aad0ce23f",
   "metadata": {},
   "outputs": [],
   "source": []
  },
  {
   "cell_type": "code",
   "execution_count": null,
   "id": "51df045b-55c6-4e81-896a-932c0ad1c684",
   "metadata": {},
   "outputs": [],
   "source": []
  }
 ],
 "metadata": {
  "kernelspec": {
   "display_name": "Julia 1.5.3",
   "language": "julia",
   "name": "julia-1.5"
  },
  "language_info": {
   "name": ""
  }
 },
 "nbformat": 4,
 "nbformat_minor": 5
}

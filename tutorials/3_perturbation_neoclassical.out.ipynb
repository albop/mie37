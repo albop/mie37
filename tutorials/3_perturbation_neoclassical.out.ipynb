{
  "cells": [
    {
      "cell_type": "markdown",
      "metadata": {},
      "source": [
        "# Perturbation of Neoclassical Model\n",
        "\n",
        "Pablo Winant"
      ],
      "id": "577e69d6-be53-4b76-80e8-6b1421fbe038"
    },
    {
      "cell_type": "code",
      "execution_count": null,
      "metadata": {},
      "outputs": [],
      "source": [
        "Our goal here is to compute a linear approximation of solution to the neoclassical model, close ot the steady-state."
      ],
      "id": "cell-1"
    },
    {
      "cell_type": "markdown",
      "metadata": {},
      "source": [
        "**Warm-up: install the `ForwardDiff` library. Use it to differentiate\n",
        "the function below. Check the jacobian function.**\n",
        "\n",
        "Note: the signature of function `f` needs to be fixed first to allow for\n",
        "dual numbers as arguments."
      ],
      "id": "81bbf812-9d0e-4400-ac1b-55abf4ce3406"
    },
    {
      "cell_type": "code",
      "execution_count": 16,
      "metadata": {},
      "outputs": [
        {
          "output_type": "display_data",
          "metadata": {},
          "data": {
            "text/plain": [
              "f (generic function with 4 methods)"
            ]
          }
        }
      ],
      "source": [
        "# function f(x::Vector{T}) where T <: Number\n",
        "function f(x::Vector{<:Number}) # equivalent\n",
        "    a = x[1]\n",
        "    b = x[2]\n",
        "    x1 = a+b\n",
        "    x2 = a*exp(b)\n",
        "    return [x1,x2]\n",
        "end"
      ],
      "id": "cell-3"
    },
    {
      "cell_type": "markdown",
      "metadata": {},
      "source": [
        "**Create a NamedTuple to hold the model parameters.**"
      ],
      "id": "66b533f5-e5eb-4658-b07f-98b012f1fab8"
    },
    {
      "cell_type": "code",
      "execution_count": null,
      "metadata": {},
      "outputs": [
        {
          "output_type": "display_data",
          "metadata": {},
          "data": {
            "text/plain": [
              "(α = 0.3, β = 0.96, γ = 4.0, δ = 0.1, ρ = 0.9)"
            ]
          }
        }
      ],
      "source": [],
      "id": "cell-6"
    },
    {
      "cell_type": "markdown",
      "metadata": {},
      "source": [
        "**Define two functions:** -\n",
        "`transition(z::Number, k::Number, i::Number, p)::Tuple{Number}` which\n",
        "returns productivity and capital at date `t+1` as a function of\n",
        "productivity, capital and investment at date `t` -\n",
        "`arbitrage(z::Number, k::Number, i::Number, Z::Number, K::Number, I::Number, p)::Number`\n",
        "which returns the residual of the euler equation (lower case variable\n",
        "for date t, upper case for date t+1)\n",
        "\n",
        "**Using multiple dispatch, define two variants of the same functions,\n",
        "that take vectors as input and output arguments:** -\n",
        "`arbitrage(s::Vector{T}, x::Vector{T}, S::Vector{T}, X::Vector{T}, p) where T<:Number` -\n",
        "`transition(s::Vector{T}, x::Vector{T}, p) where T<:Number`\n",
        "\n",
        "**Write a function `steady_state(p)::Tuple{Vector,Vector}` which\n",
        "computes the steady-state of the model computed by hand.** It returns\n",
        "two vectors, one for the states, one for the controls. Check that the\n",
        "steady-state satisfies the model equations.\n",
        "\n",
        "The first order system satisfies:\n",
        "$$\\begin{align}A s_t + B x_t + C s_{t+1} + D x_{t+1} & = & 0 \\\\\\\\ \n",
        "s_{t+1} & = & E s_t + F x_t\n",
        " \\end{align}$$\n",
        "\n",
        "**Define a structure `PerturbedModel` to hold matrices A,B,C,D,E,F.**\n",
        "\n",
        "**Write a function\n",
        "`first_order_model(s::Vector, x::Vector, p)::PerturbedModel`, which\n",
        "returns the first order model, given the steady-state and the\n",
        "calibration. Suggestion: use `ForwardDiff.jl` library.**\n",
        "\n",
        "**We look for a linear solution $x_t = X s_t$ . Write the matrix\n",
        "equation which `X` must satisfy. Write a function\n",
        "`residual(X::Array, M::PerturbedModel)` which computes the residual of\n",
        "this equation for a given `X`.**\n",
        "\n",
        "**Write a function `T(X, M::PerturbedModel)` which implements the time\n",
        "iteration step.**\n",
        "\n",
        "**Write function\n",
        "`linear_time_iteration(X_0::Matrix, m::PerturbedModel)::Matrix` which\n",
        "implements the time iteration algorithm. Apply it to `X0 = rand(1,2)`\n",
        "and check that the result satisfies the first order model.**\n",
        "\n",
        "**Check blanchard Kahn Conditions**\n",
        "\n",
        "**Define two linear operators\n",
        "`L_S(U::Union{Vector, Matrix}, X_0::Matrix, m::PerturbedModel)::Matrix`\n",
        "and `L_T(U::Matrix, X_0::Matrix, m::PerturbedModel)::Matrix` which\n",
        "implement the derivatives of the simulation and the time-iteration\n",
        "operator respectively.**\n",
        "\n",
        "**Implement a function `spectral_radius(f::Function)::Float64` which\n",
        "implements the power iteration method to compute the biggest eigenvalues\n",
        "of the two previously defined operators. Check that Blanchard-Kahn\n",
        "conditions are met.**\n",
        "\n",
        "**Write a function\n",
        "`simulate(s0::Vector, X::Matrix, p, T::Int64)::Tuple{Matrix, Matrix}` to\n",
        "simulate the model over $T$ periods (by using the formula\n",
        "$\\Delta s_t = (E + F X) \\Delta s_{t-1}$. Return a matrix for the states\n",
        "(one line per date) and another matrix for the controls. Bonus: add a\n",
        "keyword option to compute variables levels or log-deviations. If\n",
        "possible, return a DataFrame object.**\n",
        "\n",
        "**Make some nice plots.**"
      ],
      "id": "f9938dd9-812b-4508-baf4-c6efc2c7b20f"
    }
  ],
  "nbformat": 4,
  "nbformat_minor": 5,
  "metadata": {
    "kernelspec": {
      "name": "julia-1.11",
      "display_name": "Julia 1.11.3",
      "language": "julia"
    },
    "language_info": {
      "name": "julia",
      "file_extension": ".jl",
      "mimetype": "application/julia",
      "version": "1.11.3"
    }
  }
}
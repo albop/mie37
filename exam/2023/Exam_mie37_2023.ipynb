{
 "cells": [
  {
   "attachments": {},
   "cell_type": "markdown",
   "id": "3bdef81a-07e3-4d42-b3b9-6f916c48530f",
   "metadata": {},
   "source": [
    "---\n",
    "title: MIE 37 - Final Exam 2023\n",
    "format:\n",
    "    html: default\n",
    "    ipynb: default\n",
    "---\n",
    "\n",
    "__Name__:\n",
    "\n",
    "__Surname__: \n",
    "\n",
    "After completing the following questions, send the edited notebook to `pablo.winant@ensae.fr`.\n",
    "\n",
    "You are allowed to use any online available resource, even to install Julia packages, but not to copy/paste any code.\n",
    "\n",
    "Also, don't forget to comment your code and take any initiative you find relevant.\n"
   ]
  },
  {
   "attachments": {},
   "cell_type": "markdown",
   "id": "aca89cd1-4a4b-47b7-b2fc-c5ac894e5d27",
   "metadata": {},
   "source": [
    "## Power iteration method\n",
    "\n",
    "In this exercise, we implement a power iteration method `power_iteration(M::Matrix)` to compute the biggest eigenvalue of a given matrix `M`."
   ]
  },
  {
   "attachments": {},
   "cell_type": "markdown",
   "id": "56d63f96-93b9-4183-a98b-6d0a77ce00d7",
   "metadata": {},
   "source": [
    "__Define a *random* 3 times 3 matrix `M`. Compute its biggest eigenvalue using `LinearAlgebra: eigvals`.__"
   ]
  },
  {
   "cell_type": "code",
   "execution_count": null,
   "id": "6fbe61f6-556b-416e-99a4-9c82cc25a4db",
   "metadata": {},
   "outputs": [],
   "source": []
  },
  {
   "cell_type": "markdown",
   "id": "7e05f487-e2b9-46e5-80ac-a30ba9ea3ac7",
   "metadata": {},
   "source": [
    "__Define a `norm2` function, which computes the euclidean norm of any vector. Test it on some simple cases.__"
   ]
  },
  {
   "cell_type": "code",
   "execution_count": null,
   "id": "7ec59362-6560-456d-8a28-8510b77bd0e2",
   "metadata": {},
   "outputs": [],
   "source": [
    "\n"
   ]
  },
  {
   "attachments": {},
   "cell_type": "markdown",
   "id": "268dc907-31e9-4c26-a2f3-8d0863aa6f0d",
   "metadata": {},
   "source": [
    "__Write a function `iteration_step(M::Matrix, u::Vector)::Tuple{Float64, Vector}` which takes a random vector $u$ with norm 1 and returns $M u$ and $\\frac{M u}{|M u|}$.__"
   ]
  },
  {
   "cell_type": "code",
   "execution_count": null,
   "id": "7f085a76-5709-4c3e-8d17-13062199d3ab",
   "metadata": {},
   "outputs": [],
   "source": []
  },
  {
   "attachments": {},
   "cell_type": "markdown",
   "id": "9ff4bade-e37c-4bac-824f-87c031589b25",
   "metadata": {},
   "source": [
    "__Write a function `power_iteration(M::Matrix)::Float64`, which computes the spectral radius of `M` using the power iteration method (spectral radius: absolute value of biggest eigenvalue)__"
   ]
  },
  {
   "cell_type": "code",
   "execution_count": null,
   "id": "aefb9c84-b67f-431c-9f5c-f0f235ae1de7",
   "metadata": {},
   "outputs": [],
   "source": []
  },
  {
   "cell_type": "markdown",
   "id": "8d5e4044-0d86-4edb-a9a7-5bbc9974e74a",
   "metadata": {},
   "source": [
    "__Check the result is correct on matrix $M$.__"
   ]
  },
  {
   "cell_type": "code",
   "execution_count": null,
   "id": "bbb0c5f8-c9d3-4287-bcf2-52ceb994ac0a",
   "metadata": {},
   "outputs": [],
   "source": []
  },
  {
   "attachments": {},
   "cell_type": "markdown",
   "id": "b7d2b65b",
   "metadata": {},
   "source": [
    "## Doubling algorithm\n",
    "\n",
    "Let $M$ be a square matrix with spectral radius smaller than 1. Our goal here to approximate the infinite sum $\\sum_{t\\geq 0} M^t$ (whose result is a matrix)."
   ]
  },
  {
   "attachments": {},
   "cell_type": "markdown",
   "id": "d4c2155a-aa72-4fe8-a4dd-518ef1d30108",
   "metadata": {},
   "source": [
    "__Define a (non-trivial) 3x3 matrix M with spectral radius smaller than 1.__"
   ]
  },
  {
   "cell_type": "code",
   "execution_count": null,
   "id": "38b8504c-67af-4048-824e-45b7d19ac075",
   "metadata": {},
   "outputs": [],
   "source": []
  },
  {
   "cell_type": "markdown",
   "id": "a31d9eaa-2c1e-445b-9817-3a9b64e5311a",
   "metadata": {},
   "source": [
    "__Propose an algorithm and a function `infinite_sum(M::Matrix)` to approximate this sum by computing the limit of $S_T = \\sum_{t=0}^{T} M^t$ when $T$ goes to $\\infty$.__"
   ]
  },
  {
   "cell_type": "code",
   "execution_count": null,
   "id": "d41ec309-1530-4b47-a412-900efc548b35",
   "metadata": {},
   "outputs": [],
   "source": []
  },
  {
   "attachments": {},
   "cell_type": "markdown",
   "id": "b3f1a565-c856-42e3-92a2-66c69d7c3831",
   "metadata": {},
   "source": [
    "__We now consider the doubling algorithm. Consider the sum $D_N = \\sum_{t\\geq 0}^{2^N} M^t$. Find a recursive relation between $D_N$ and $D_{N+1}$. Why is $D_N$ less expensive to compute than $S^{2 N}$ ?__"
   ]
  },
  {
   "cell_type": "code",
   "execution_count": null,
   "id": "1e50ae7f-17df-4c64-86aa-adf262ad01f9",
   "metadata": {},
   "outputs": [],
   "source": []
  },
  {
   "cell_type": "markdown",
   "id": "1599ddbc-d27e-4416-92d2-ea7e5cb1e89f",
   "metadata": {},
   "source": [
    "__Implement a function `infinite_sum_doubling(M::Matrix)` which computes the infinite sum using the doubling algorithm. Check the result and time it against the other implementation.__"
   ]
  },
  {
   "cell_type": "code",
   "execution_count": null,
   "id": "cc9fb626-7e3f-4482-857d-46ef7a39b667",
   "metadata": {},
   "outputs": [],
   "source": []
  },
  {
   "attachments": {},
   "cell_type": "markdown",
   "id": "68159ca0-930d-4f62-b246-e24e56557e9d",
   "metadata": {},
   "source": [
    "## Reduced-form New Keyesian model"
   ]
  },
  {
   "cell_type": "markdown",
   "id": "ac20ce50-a15f-4b3f-8382-4f1e975271cb",
   "metadata": {},
   "source": [
    "We consider the reduced-form New Keynesian Model\n",
    "\n",
    "$$\\pi_t = \\alpha E_t \\pi_{t+1} + y_t$$\n",
    "\n",
    "$$y_t = \\beta E_t y_{t+1} + \\gamma (i_t-\\pi_t) + \\delta z_t$$\n",
    "\n",
    "$$i_t = \\alpha_{y} y_t + \\alpha_{\\pi} \\pi_t$$\n",
    "\n",
    "where $\\pi_t$ is inflation, $y_t$ the output gap (i.e, the gap to full employment), and $z_t$ an AR1 process given by:\n",
    "\n",
    "$$z_t = \\rho z_{t-1} + \\epsilon_t$$\n",
    "\n",
    "wher $\\epsilon_t$ is a random gaussian process with standard deviation $\\sigma_{\\epsilon}$.\n",
    "\n",
    "We'll take $\\alpha=0.9$, $\\beta=0.9$, $\\gamma=0.1$, $\\alpha_{\\pi}=0.5$, $\\alpha_y=0.5$, $\\rho=0.9$ and $\\sigma=0.01$."
   ]
  },
  {
   "cell_type": "markdown",
   "id": "aa1ddcd6-a6d3-465c-99dc-faba0164e68f",
   "metadata": {},
   "source": [
    "### Model Solution"
   ]
  },
  {
   "cell_type": "markdown",
   "id": "6fc5df76",
   "metadata": {},
   "source": [
    "__Define a specialized structure to hold all model parameters.__"
   ]
  },
  {
   "cell_type": "code",
   "execution_count": null,
   "id": "a0e8e5ca",
   "metadata": {},
   "outputs": [],
   "source": []
  },
  {
   "cell_type": "markdown",
   "id": "299ffd9f-dd0f-4d85-98b8-a434ee3530ee",
   "metadata": {},
   "source": [
    "__Define matrices $A$ (2x2) and $B$ (2x1) such that:__\n",
    "\n",
    "$$\\begin{bmatrix}\\pi_t\\\\y_t\\end{bmatrix} = A E_t \\begin{bmatrix}\\pi_{t+1}\\\\y_{t+1}\\end{bmatrix} + B z_t$$"
   ]
  },
  {
   "cell_type": "code",
   "execution_count": 11,
   "id": "d4fdbe1b-b967-4a22-bca2-962a2a082245",
   "metadata": {},
   "outputs": [],
   "source": [
    "# text"
   ]
  },
  {
   "cell_type": "code",
   "execution_count": null,
   "id": "04f6c0d1-aea3-4c41-92a0-37655a3d8b01",
   "metadata": {},
   "outputs": [],
   "source": [
    "# code\n",
    "function create_matrices(parameters)\n",
    "#     A = ...\n",
    "#     B = ...\n",
    "    return A, B\n",
    "end"
   ]
  },
  {
   "attachments": {},
   "cell_type": "markdown",
   "id": "cddd9ebf-a8fc-4160-9560-a5b24460c5c0",
   "metadata": {},
   "source": [
    "__Assume the sequence $z_0, z_1, ...$ is known, show that we can write $\\begin{bmatrix}\\pi_t\\\\y_t\\end{bmatrix}=\\sum_{s\\geq0} \\rho^s A^s B z_s$. At which condition on $A$ is this sum absolutely converging?__"
   ]
  },
  {
   "cell_type": "code",
   "execution_count": null,
   "id": "e8ae0f9e-0042-44ba-8250-ce2b40bc76b5",
   "metadata": {},
   "outputs": [],
   "source": []
  },
  {
   "cell_type": "markdown",
   "id": "4653fec8-bdfe-407e-b534-0990715de280",
   "metadata": {},
   "source": [
    "__Check that this condition is met for the baseline calibration.__"
   ]
  },
  {
   "cell_type": "code",
   "execution_count": null,
   "id": "2166a063-b2a8-4097-8cfc-4817a2ee9754",
   "metadata": {},
   "outputs": [],
   "source": []
  },
  {
   "cell_type": "markdown",
   "id": "862c72c2-e61f-449f-908c-82b754dde4b7",
   "metadata": {},
   "source": [
    "__Bonus: find conditions on $\\alpha_y$ and $\\alpha_{\\pi}$ for the sum to be convergent. When it is, in this context, we say that inflation is *anchored*.__"
   ]
  },
  {
   "cell_type": "code",
   "execution_count": null,
   "id": "4b0eb8a8-5e70-4943-9535-326782fdee2d",
   "metadata": {},
   "outputs": [],
   "source": []
  },
  {
   "attachments": {},
   "cell_type": "markdown",
   "id": "fa03ef7d-efab-4da3-bb1f-1af4867bcd10",
   "metadata": {},
   "source": [
    "__Compute the solution  to the system, that is find two sacalars $x_y$ and $x_{\\pi}$  such that $y_t(z) = x_{y} z_t$ and $\\pi_t(z)= x_{\\pi} z_t$ solve the system.__"
   ]
  },
  {
   "cell_type": "code",
   "execution_count": null,
   "id": "e025432e-36a5-444a-ba67-d2fc0469146d",
   "metadata": {},
   "outputs": [],
   "source": []
  },
  {
   "attachments": {},
   "cell_type": "markdown",
   "id": "09e112b1-b950-4695-9e7e-779745bbcb1c",
   "metadata": {},
   "source": [
    "__Compute matrices $P$ and $Q$ such that $\\begin{bmatrix}\\pi_t\\\\y_t\\\\z_t\\end{bmatrix} =  P \\begin{bmatrix}\\pi_{t-1}\\\\y_{t-1}\\\\z_{t-1}\\end{bmatrix} + Q \\epsilon_t$.__"
   ]
  },
  {
   "cell_type": "code",
   "execution_count": null,
   "id": "106c42b2-1583-456f-bfb1-227111256814",
   "metadata": {},
   "outputs": [],
   "source": []
  },
  {
   "attachments": {},
   "cell_type": "markdown",
   "id": "a68a94f2-2dc7-4177-97a5-2004f1206ef9",
   "metadata": {},
   "source": [
    "__Simulate variables $\\pi_t, y_t, z_t$ when $\\pi_0 =  y_0 = 0, z_0=0.1$  and $\\forall t, \\epsilon_t = 0$.__"
   ]
  },
  {
   "cell_type": "code",
   "execution_count": null,
   "id": "ba6cebe5-3519-42b3-8594-5b785d044b3e",
   "metadata": {},
   "outputs": [],
   "source": []
  },
  {
   "attachments": {},
   "cell_type": "markdown",
   "id": "58e3d5e7-7438-4001-a8e6-3baec4ba84a4",
   "metadata": {},
   "source": [
    "__Make $N=1000$ stochastic simulations for $T=200$ periods. Find a way to compute the standard deviation of the ergodic distribution.__"
   ]
  },
  {
   "cell_type": "code",
   "execution_count": null,
   "id": "0d1dd630-e5f5-453a-bd50-cf9d83b06dd2",
   "metadata": {},
   "outputs": [],
   "source": []
  }
 ],
 "metadata": {
  "kernelspec": {
   "display_name": "Julia 1.6.1",
   "language": "julia",
   "name": "julia-1.6"
  },
  "language_info": {
   "file_extension": ".jl",
   "mimetype": "application/julia",
   "name": "julia",
   "version": "1.6.1"
  }
 },
 "nbformat": 4,
 "nbformat_minor": 5
}

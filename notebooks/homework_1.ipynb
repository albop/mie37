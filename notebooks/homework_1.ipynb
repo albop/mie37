{
 "cells": [
  {
   "cell_type": "markdown",
   "metadata": {},
   "source": [
    "# Homework 1"
   ]
  },
  {
   "cell_type": "markdown",
   "metadata": {},
   "source": [
    "## Solow Model"
   ]
  },
  {
   "cell_type": "markdown",
   "metadata": {},
   "source": [
    "\n",
    "We consider here, another deterministic version of the neoclassical growth model, but propose a slightly different solution method.\n",
    "\n",
    "A representative agent uses capital $k_t$ to produce $y_t$ using the following production function:\n",
    "\n",
    "$$y_t = k_t^{\\alpha}$$\n",
    "\n",
    "He chooses to consume an amount $c_t \\in ]0, y_t]$ and invests what remains:\n",
    "\n",
    "$$i_t = y_t - c_t$$ \n",
    "\n",
    "He accumulates capital $k_t$ according to:\n",
    "\n",
    "$$k_{t+1} = \\left( 1-\\delta \\right) k_{t} + i_{t}$$\n",
    "\n",
    "where $\\delta$ is the depreciation rate and $i_t$ is the amount invested.\n",
    "\n",
    "The goal of the representative agent is to maximize:\n",
    "\n",
    "$$\\sum_{t\\geq 0} \\beta^t U(c_t)$$\n",
    "\n",
    "where $U(x)=\\frac{x^{1-\\gamma}}{1-\\gamma}$ and $\\beta<1$ is the discount factor.\n",
    "\n",
    "For now, we ignore the objective and assume that the saving rate $s=\\frac{c_t}{y_t}$ is constant over time."
   ]
  },
  {
   "cell_type": "markdown",
   "metadata": {},
   "source": [
    "__Create a structure `Parameters` to hold parameter values $\\beta=0.96$, $\\delta=0.1$, $\\alpha=0.3$, $\\gamma=4$__ "
   ]
  },
  {
   "cell_type": "code",
   "execution_count": null,
   "metadata": {},
   "outputs": [],
   "source": []
  },
  {
   "cell_type": "markdown",
   "metadata": {},
   "source": [
    "__Write down the formula of function $f$ such that $k_{t+1}$: $k_{t+1} = f(k_t)$.__"
   ]
  },
  {
   "cell_type": "code",
   "execution_count": null,
   "metadata": {},
   "outputs": [],
   "source": []
  },
  {
   "cell_type": "markdown",
   "metadata": {},
   "source": [
    "__Define a function `f(k::Float64, p::Parameters)::Float64` to represent $f$ for a given calibration__"
   ]
  },
  {
   "cell_type": "code",
   "execution_count": null,
   "metadata": {},
   "outputs": [],
   "source": []
  },
  {
   "cell_type": "markdown",
   "metadata": {},
   "source": [
    "__Write a function `simulate(k0::Float64, T::Int, p::Parameters)::Vector{Float64}` to compute the simulation over `T` periods starting from initial capital level `k0`.__"
   ]
  },
  {
   "cell_type": "code",
   "execution_count": null,
   "metadata": {},
   "outputs": [],
   "source": []
  },
  {
   "cell_type": "markdown",
   "metadata": {},
   "source": [
    "__Make a nice plot to illustrate the convergence. Do we get convergence from any initial level of capital?__"
   ]
  },
  {
   "cell_type": "code",
   "execution_count": null,
   "metadata": {},
   "outputs": [],
   "source": []
  },
  {
   "cell_type": "markdown",
   "metadata": {},
   "source": [
    "__Suppose you were interested in using `f` to compute the steady-state. What would you propose to measure convergence speed? To speed-up convergence? Implement these ideas.__"
   ]
  },
  {
   "cell_type": "code",
   "execution_count": null,
   "metadata": {},
   "outputs": [],
   "source": []
  },
  {
   "cell_type": "markdown",
   "metadata": {},
   "source": [
    "__Consider now the full intertemporal objective. Propose a function to approximate it numerically . Plot this objective as a function of the saving rate. Does it depend on the initial capital?__\n"
   ]
  },
  {
   "cell_type": "code",
   "execution_count": null,
   "metadata": {},
   "outputs": [],
   "source": []
  },
  {
   "cell_type": "markdown",
   "metadata": {},
   "source": [
    "__Use library Optim.jl to compute optimal saving. Plot it against initial capital. Bonus: compare the optimal steady-state level with the one you can evaluate in closed form.__"
   ]
  },
  {
   "cell_type": "code",
   "execution_count": null,
   "metadata": {},
   "outputs": [],
   "source": []
  },
  {
   "cell_type": "markdown",
   "metadata": {},
   "source": [
    "## Deterministic Neoclassical Model: bruteforce"
   ]
  },
  {
   "cell_type": "markdown",
   "metadata": {},
   "source": [
    "Model is exactly the same as in the last exercise, but now we look for a time-dependent saving rule, that is a different $s_t$ for each date. We will try to choose $s_t$ to maximize\n",
    "\n",
    "$$\\sum_{t = 0}^T \\beta^t U(c_t) + \\sum_{t = T+1}^{\\infty} \\beta^t U(c_T) $$\n",
    "\n",
    "__Explain why the second term is important__"
   ]
  },
  {
   "cell_type": "code",
   "execution_count": null,
   "metadata": {},
   "outputs": [],
   "source": []
  },
  {
   "cell_type": "markdown",
   "metadata": {},
   "source": [
    "__Choose an horizon $T$ and write a function `objective(s, k0::Float64, T::Int, p::Parameters)` to compute the objective approximated with $T$ periods as a function of initial state `k0::Float64` and of the vector of saving rates `s::Vector` representing $(s_0, s_1, \\cdots s_{T})$. Note that argument type of `s` is left unspecified to make it compatible with automatic differentiation.__"
   ]
  },
  {
   "cell_type": "code",
   "execution_count": null,
   "metadata": {},
   "outputs": [],
   "source": []
  },
  {
   "cell_type": "markdown",
   "metadata": {},
   "source": [
    "__Use library `Optim.jl` to maximize the utility function. If possible, find a way to specify derivatives of the objective function.__"
   ]
  },
  {
   "cell_type": "code",
   "execution_count": null,
   "metadata": {},
   "outputs": [],
   "source": []
  },
  {
   "cell_type": "markdown",
   "metadata": {},
   "source": [
    "## RBC Model with Dolo"
   ]
  },
  {
   "cell_type": "markdown",
   "metadata": {},
   "source": [
    "__If needed, install Dolo, AxisArrays and DataFrames__"
   ]
  },
  {
   "cell_type": "code",
   "execution_count": 109,
   "metadata": {},
   "outputs": [
    {
     "name": "stderr",
     "output_type": "stream",
     "text": [
      "\u001b[32m\u001b[1m  Resolving\u001b[22m\u001b[39m package versions...\n",
      "\u001b[32m\u001b[1m  Installed\u001b[22m\u001b[39m PooledArrays ────── v1.2.1\n",
      "\u001b[32m\u001b[1m  Installed\u001b[22m\u001b[39m StructTypes ─────── v1.5.2\n",
      "\u001b[32m\u001b[1m  Installed\u001b[22m\u001b[39m CategoricalArrays ─ v0.9.5\n",
      "\u001b[32m\u001b[1m  Installed\u001b[22m\u001b[39m DataFrames ──────── v0.22.7\n",
      "\u001b[32m\u001b[1m  Installed\u001b[22m\u001b[39m PrettyTables ────── v0.11.1\n",
      "\u001b[32m\u001b[1mUpdating\u001b[22m\u001b[39m `~/Teaching/mie37/Project.toml`\n",
      " \u001b[90m [a93c6f00] \u001b[39m\u001b[92m+ DataFrames v0.22.7\u001b[39m\n",
      "\u001b[32m\u001b[1mUpdating\u001b[22m\u001b[39m `~/Teaching/mie37/Manifest.toml`\n",
      " \u001b[90m [324d7699] \u001b[39m\u001b[92m+ CategoricalArrays v0.9.5\u001b[39m\n",
      " \u001b[90m [a8cc5b0e] \u001b[39m\u001b[92m+ Crayons v4.0.4\u001b[39m\n",
      " \u001b[90m [a93c6f00] \u001b[39m\u001b[92m+ DataFrames v0.22.7\u001b[39m\n",
      " \u001b[90m [41ab1584] \u001b[39m\u001b[92m+ InvertedIndices v1.0.0\u001b[39m\n",
      " \u001b[90m [2dfb63ee] \u001b[39m\u001b[92m+ PooledArrays v1.2.1\u001b[39m\n",
      " \u001b[90m [08abe8d2] \u001b[39m\u001b[92m+ PrettyTables v0.11.1\u001b[39m\n",
      " \u001b[90m [856f2bd8] \u001b[39m\u001b[92m+ StructTypes v1.5.2\u001b[39m\n",
      " \u001b[90m [9fa8497b] \u001b[39m\u001b[92m+ Future\u001b[39m\n"
     ]
    }
   ],
   "source": [
    "]add DataFrames\n",
    "]add AxisArrays\n",
    "]add Dolo"
   ]
  },
  {
   "cell_type": "markdown",
   "metadata": {},
   "source": [
    "__Examine the `yaml` file `rbc.yaml`. It represents a basic version of the RBC model,\n",
    "similar to the one seen in class.__"
   ]
  },
  {
   "cell_type": "code",
   "execution_count": null,
   "metadata": {},
   "outputs": [],
   "source": []
  },
  {
   "cell_type": "markdown",
   "metadata": {},
   "source": [
    "__What are the states (predetermined variables), what are the controls (to be determined), what are the exogenous variables?__"
   ]
  },
  {
   "cell_type": "code",
   "execution_count": null,
   "metadata": {},
   "outputs": [],
   "source": []
  },
  {
   "cell_type": "markdown",
   "metadata": {},
   "source": [
    "__Compare the calibration from the yaml file, with the one given in the course. What is the specification for the utility function? ($U$ and $V$)__"
   ]
  },
  {
   "cell_type": "code",
   "execution_count": null,
   "metadata": {},
   "outputs": [],
   "source": []
  },
  {
   "cell_type": "markdown",
   "metadata": {},
   "source": [
    "__Import the model. Inspect fields symbols and exogenous.__"
   ]
  },
  {
   "cell_type": "code",
   "execution_count": 35,
   "metadata": {},
   "outputs": [
    {
     "data": {
      "text/plain": [
       "Model"
      ]
     },
     "execution_count": 35,
     "metadata": {},
     "output_type": "execute_result"
    }
   ],
   "source": [
    "model = yaml_import(\"rbc_0.yaml\")"
   ]
  },
  {
   "cell_type": "code",
   "execution_count": 36,
   "metadata": {},
   "outputs": [
    {
     "data": {
      "text/plain": [
       "Dict{Symbol,Array{Symbol,1}} with 4 entries:\n",
       "  :controls   => [:n, :i]\n",
       "  :states     => [:z, :k]\n",
       "  :exogenous  => [:epsilon]\n",
       "  :parameters => [:beta, :sigma, :eta, :chi, :delta, :alpha, :rho, :zbar, :sig_…"
      ]
     },
     "execution_count": 36,
     "metadata": {},
     "output_type": "execute_result"
    }
   ],
   "source": [
    "model.symbols"
   ]
  },
  {
   "cell_type": "markdown",
   "metadata": {},
   "source": [
    "`model.exogenous` is a julia object representing the random distribution driving the model"
   ]
  },
  {
   "cell_type": "code",
   "execution_count": 110,
   "metadata": {},
   "outputs": [
    {
     "data": {
      "text/plain": [
       "Dolo.MvNormal([0.0], [1.0e-6])"
      ]
     },
     "execution_count": 110,
     "metadata": {},
     "output_type": "execute_result"
    }
   ],
   "source": [
    "model.exogenous"
   ]
  },
  {
   "cell_type": "code",
   "execution_count": 80,
   "metadata": {},
   "outputs": [
    {
     "data": {
      "text/plain": [
       "3-dimensional AxisArray{Float64,3,...} with axes:\n",
       "    :V, 1:1\n",
       "    :N, 1:2\n",
       "    :T, 1:10\n",
       "And data, a 1×2×10 Array{Float64,3}:\n",
       "[:, :, 1] =\n",
       " 0.0  0.0\n",
       "\n",
       "[:, :, 2] =\n",
       " 0.000489421  0.000248996\n",
       "\n",
       "[:, :, 3] =\n",
       " -9.05551e-6  0.000232972\n",
       "\n",
       "[:, :, 4] =\n",
       " -0.000808379  0.00136005\n",
       "\n",
       "[:, :, 5] =\n",
       " 0.000901084  -0.000216141\n",
       "\n",
       "[:, :, 6] =\n",
       " 1.76543e-5  -0.000174318\n",
       "\n",
       "[:, :, 7] =\n",
       " -0.000969776  -0.00104828\n",
       "\n",
       "[:, :, 8] =\n",
       " 0.000292232  -0.000372964\n",
       "\n",
       "[:, :, 9] =\n",
       " -0.000896626  -0.000314708\n",
       "\n",
       "[:, :, 10] =\n",
       " 0.00103275  0.000702986"
      ]
     },
     "execution_count": 80,
     "metadata": {},
     "output_type": "execute_result"
    }
   ],
   "source": [
    "# one can simulate 2 sets of simulations for 10 periods with\n",
    "sim = Dolo.simulate(model.exogenous, 2, 10)"
   ]
  },
  {
   "cell_type": "code",
   "execution_count": 113,
   "metadata": {},
   "outputs": [
    {
     "data": {
      "text/plain": [
       "1-dimensional AxisArray{Float64,1,...} with axes:\n",
       "    :T, 1:10\n",
       "And data, a 10-element Array{Float64,1}:\n",
       "  0.0\n",
       "  0.0004894212846684138\n",
       " -9.05550704433224e-6\n",
       " -0.0008083788594476893\n",
       "  0.0009010843811438997\n",
       "  1.7654320185088865e-5\n",
       " -0.0009697757892117744\n",
       "  0.0002922322421350415\n",
       " -0.0008966262145595535\n",
       "  0.001032746954614326"
      ]
     },
     "execution_count": 113,
     "metadata": {},
     "output_type": "execute_result"
    }
   ],
   "source": [
    "# the result is a special AxisArray object\n",
    "# it is essentially a multidmensional array with labels on axes\n",
    "# which is super useful to avoid reordering mistakes\n",
    "sim[Axis{:V}(1), Axis{:N}(1)] "
   ]
  },
  {
   "cell_type": "code",
   "execution_count": 114,
   "metadata": {},
   "outputs": [
    {
     "data": {
      "text/plain": [
       "10-element Array{Float64,1}:\n",
       "  0.0\n",
       "  0.0004894212846684138\n",
       " -9.05550704433224e-6\n",
       " -0.0008083788594476893\n",
       "  0.0009010843811438997\n",
       "  1.7654320185088865e-5\n",
       " -0.0009697757892117744\n",
       "  0.0002922322421350415\n",
       " -0.0008966262145595535\n",
       "  0.001032746954614326"
      ]
     },
     "execution_count": 114,
     "metadata": {},
     "output_type": "execute_result"
    }
   ],
   "source": [
    "# Here is the first simulation as a regular vector\n",
    "sim[Axis{:V}(1), Axis{:N}(1)].data"
   ]
  },
  {
   "cell_type": "markdown",
   "metadata": {},
   "source": [
    "__Check that the calibration given in the yaml file satisfies the steady-state__"
   ]
  },
  {
   "cell_type": "code",
   "execution_count": 91,
   "metadata": {},
   "outputs": [
    {
     "data": {
      "text/plain": [
       "ModelCalibration(FlatCalibration(:beta => 0.99,:delta => 0.025,:epsilon => 0.0,:sig_z => 0.016,:m => 0.0,:zbar => 0.0,:eta => 1.0,:rho => 0.8,:alpha => 0.33,:sigma => 5.0…), GroupedCalibration(:controls => [0.33, 0.23387445725364966],:states => [0.0, 9.354978290145986],:exogenous => [0.0],:parameters => [0.99, 5.0, 1.0, 23.95785990938192, 0.025, 0.33, 0.8, 0.0, 0.016]), Dict(:alpha => (:parameters, 6),:n => (:controls, 1),:rho => (:parameters, 7),:delta => (:parameters, 5),:eta => (:parameters, 3),:epsilon => (:exogenous, 1),:sigma => (:parameters, 2),:k => (:states, 2),:sig_z => (:parameters, 9),:z => (:states, 1)…), OrderedCollections.OrderedDict(:exogenous => [:epsilon],:states => [:z, :k],:controls => [:n, :i],:parameters => [:beta, :sigma, :eta, :chi, :delta, :alpha, :rho, :zbar, :sig_z]))"
      ]
     },
     "execution_count": 91,
     "metadata": {},
     "output_type": "execute_result"
    }
   ],
   "source": [
    "# calibration, both for the parameters and the steady-state values is a dict-like object:\n",
    "model.calibration"
   ]
  },
  {
   "cell_type": "code",
   "execution_count": 92,
   "metadata": {},
   "outputs": [
    {
     "data": {
      "text/plain": [
       "FlatCalibration with 21 entries:\n",
       "  :beta    => 0.99\n",
       "  :delta   => 0.025\n",
       "  :epsilon => 0.0\n",
       "  :sig_z   => 0.016\n",
       "  :m       => 0.0\n",
       "  :zbar    => 0.0\n",
       "  :eta     => 1.0\n",
       "  :rho     => 0.8\n",
       "  :alpha   => 0.33\n",
       "  :sigma   => 5.0\n",
       "  :z       => 0.0\n",
       "  :rk      => 0.035101\n",
       "  :n       => 0.33\n",
       "  :k       => 9.35498\n",
       "  :y       => 0.995058\n",
       "  :w       => 2.02027\n",
       "  :i       => 0.233874\n",
       "  :c       => 0.761184\n",
       "  :V       => -27.2881\n",
       "  :chi     => 23.9579\n",
       "  :u       => -2.04921"
      ]
     },
     "execution_count": 92,
     "metadata": {},
     "output_type": "execute_result"
    }
   ],
   "source": [
    "# which can behave in several ways:\n",
    "model.calibration.flat"
   ]
  },
  {
   "cell_type": "code",
   "execution_count": 93,
   "metadata": {},
   "outputs": [
    {
     "data": {
      "text/plain": [
       "GroupedCalibration with 4 entries:\n",
       "  :controls   => [0.33, 0.233874]\n",
       "  :states     => [0.0, 9.35498]\n",
       "  :exogenous  => [0.0]\n",
       "  :parameters => [0.99, 5.0, 1.0, 23.9579, 0.025, 0.33, 0.8, 0.0, 0.016]"
      ]
     },
     "execution_count": 93,
     "metadata": {},
     "output_type": "execute_result"
    }
   ],
   "source": [
    "model.calibration.grouped"
   ]
  },
  {
   "cell_type": "code",
   "execution_count": 94,
   "metadata": {},
   "outputs": [
    {
     "data": {
      "text/plain": [
       "4-element Array{Array{Float64,1},1}:\n",
       " [0.0]\n",
       " [0.0, 9.354978290145986]\n",
       " [0.33, 0.23387445725364966]\n",
       " [0.99, 5.0, 1.0, 23.95785990938192, 0.025, 0.33, 0.8, 0.0, 0.016]"
      ]
     },
     "execution_count": 94,
     "metadata": {},
     "output_type": "execute_result"
    }
   ],
   "source": [
    "# we get values of parameters and steady_state values\n",
    "e, s, x, p = model.calibration[:exogenous, :states, :controls, :parameters]"
   ]
  },
  {
   "cell_type": "markdown",
   "metadata": {},
   "source": [
    "Denoting the vector of states by $s_t$, the vector of controls by $x_t$ and the vector of exogenous shocks by $e_t$, the *general specification* of a model in Dolo is:\n",
    "\n",
    "$$\\begin{eqnarray}\n",
    "E_t \\left[ f(e_t, s_t, x_t, e_{t+1}, s_{t+1}, x_{t+1}) \\right] & = & 0 \\\\\\\\\n",
    "s_t & = & g(e_{t-1}, s_{t-1}, x_{t-1}, e_t)\n",
    "\\end{eqnarray}$$\n",
    "\n",
    "The are represented in the function  Dolo.arbitrage and Dolo.transition respectively."
   ]
  },
  {
   "cell_type": "code",
   "execution_count": 95,
   "metadata": {},
   "outputs": [
    {
     "data": {
      "text/plain": [
       "2-element Array{Float64,1}:\n",
       " -4.440892098500626e-16\n",
       "  0.0"
      ]
     },
     "execution_count": 95,
     "metadata": {},
     "output_type": "execute_result"
    }
   ],
   "source": [
    "Dolo.arbitrage(model,e,s,x,e,s,x,p) # this is all zero"
   ]
  },
  {
   "cell_type": "code",
   "execution_count": 96,
   "metadata": {},
   "outputs": [
    {
     "data": {
      "text/plain": [
       "2-element Array{Float64,1}:\n",
       " 0.0\n",
       " 0.0"
      ]
     },
     "execution_count": 96,
     "metadata": {},
     "output_type": "execute_result"
    }
   ],
   "source": [
    "Dolo.transition(model, e,s,x,e,p) - s"
   ]
  },
  {
   "cell_type": "markdown",
   "metadata": {},
   "source": [
    "### Perturbation\n",
    "\n",
    "Since the shock doesn't appear at date $t$ in the arbitrage function or at date $t-1$ in the transition equation, the first order dynamics can be characterized by:\n",
    "\n",
    "$$\\begin{eqnarray}\n",
    "\\mathbb{E}_t \\left[ f^{\\prime}_{s_t} \\Delta s_t + f^{\\prime}_{x_t} \\Delta x_t + f^{\\prime}_{e_{t+1}} e_{t+1} + f^{\\prime}_{s_{t+1}} \\Delta s_{t+1} + f^{\\prime}_{x_{t+1}} \\Delta x_{t+1} \\right] & = & 0 \\\\\\\\\n",
    "\\Delta s_{t} & = & g^{\\prime}_{s_{t-1}} \\Delta s_{t-1} + g^{\\prime}_{x_{t-1}} \\Delta x_{t-1} + g^{\\prime}_{e_t} e_{t}\n",
    "\\end{eqnarray}$$\n",
    "\n",
    "Taking into account the fact the $e_{t+1}$ is zero mean it simplifies as:\n",
    "\n",
    "$$\\begin{eqnarray}\n",
    "\\mathbb{E}_t \\left[ \\underbrace{ f^{\\prime}_{s_t}}_{A} \\Delta s_t + \\underbrace{f^{\\prime}_{x_t}}_{B} \\Delta x_t + \\underbrace{f^{\\prime}_{s_{t+1}}}_{C} \\Delta s_{t+1} + \\underbrace{ f^{\\prime}_{x_{t+1}}}_{D}\\Delta x_{t+1} \\right] & = & 0 \\\\\\\\\n",
    "\\Delta s_{t} & = & \\underbrace{g^{\\prime}_{s_{t-1}}}_{E} \\Delta s_{t-1} + \\underbrace{g^{\\prime}_{x_{t-1}}}_{F} \\Delta x_{t-1} + \\underbrace{g^{\\prime}_{e_t}}_{Q} e_{t}\n",
    "\\end{eqnarray}$$\n",
    "\n",
    "The solution of this system, is a matrix $X$ such that $\\Delta x_t = X \\Delta s_t$ satisfies the arbitrage equation for any $\\Delta s_t$ (once the transition equation is susbtituted in)."
   ]
  },
  {
   "cell_type": "markdown",
   "metadata": {},
   "source": [
    "__Compute derivatives A,B,C,D,E,F,Q using Dolo. Check that they have the right dimensions.__"
   ]
  },
  {
   "cell_type": "code",
   "execution_count": 64,
   "metadata": {},
   "outputs": [
    {
     "data": {
      "text/plain": [
       "([0.19999999999999996 0.0; 0.0 0.975], [0.0 0.0; 0.0 1.0], [11.18472759009141 0.3945450208706542; -6.536255055017396 -0.23056859153032638], [34.952444287180725 -13.270578445035316; -13.270578445035316 6.568716708345977], [0.0 0.0; 6.501505055017396 0.23305737336154927], [0.0 0.0; 13.200025414732286 -6.568716708345977])"
      ]
     },
     "execution_count": 64,
     "metadata": {},
     "output_type": "execute_result"
    }
   ],
   "source": [
    "A,B,C,D,E,F = Dolo.get_gf_derivatives(model)"
   ]
  },
  {
   "cell_type": "code",
   "execution_count": 62,
   "metadata": {},
   "outputs": [
    {
     "data": {
      "text/plain": [
       "2×1 Array{Float64,2}:\n",
       " 1.0\n",
       " 0.0"
      ]
     },
     "execution_count": 62,
     "metadata": {},
     "output_type": "execute_result"
    }
   ],
   "source": [
    "Q = Dolo.get_ss_derivatives(model)[1][4] \n",
    "# slightly convoluted, admittedly, that is because get_ss returns (g_e, g_s, g_x, g_E), (f_e, f_s, f_x, f_E, F_S, f_X)"
   ]
  },
  {
   "cell_type": "code",
   "execution_count": 116,
   "metadata": {},
   "outputs": [],
   "source": [
    "@assert size(A) == (2,2) # 2 arbitrage equations x 2 states today"
   ]
  },
  {
   "cell_type": "markdown",
   "metadata": {},
   "source": [
    "__Define a structure `PerturbedModel` to hold matrices A,B,C,D,E,F.__"
   ]
  },
  {
   "cell_type": "code",
   "execution_count": 117,
   "metadata": {},
   "outputs": [
    {
     "data": {
      "text/plain": [
       "PerturbedModel([0.19999999999999996 0.0; 0.0 0.975], [0.0 0.0; 0.0 1.0], [11.18472759009141 0.3945450208706542; -6.536255055017396 -0.23056859153032638], [34.952444287180725 -13.270578445035316; -13.270578445035316 6.568716708345977], [0.0 0.0; 6.501505055017396 0.23305737336154927], [0.0 0.0; 13.200025414732286 -6.568716708345977], [1.0; 0.0])"
      ]
     },
     "execution_count": 117,
     "metadata": {},
     "output_type": "execute_result"
    }
   ],
   "source": [
    "struct PerturbedModel\n",
    "    A::Matrix{Float64}\n",
    "    B::Matrix{Float64}\n",
    "    C::Matrix{Float64}\n",
    "    D::Matrix{Float64}\n",
    "    E::Matrix{Float64}\n",
    "    F::Matrix{Float64}\n",
    "    Q::Matrix{Float64}\n",
    "end\n",
    "\n",
    "pm = PerturbedModel(A,B,C,D,E,F,Q)"
   ]
  },
  {
   "cell_type": "markdown",
   "metadata": {},
   "source": [
    "__We look for a linear solution $x_t = X s_t$ where $X$ is a 2x2 matrix. Write the matrix equation which `X` must satisfy. Write a function `residual(X::Array, M::PerturbedModel)` which to the residual of this equation for a given `X`.__\n"
   ]
  },
  {
   "cell_type": "code",
   "execution_count": null,
   "metadata": {},
   "outputs": [],
   "source": []
  },
  {
   "cell_type": "markdown",
   "metadata": {},
   "source": [
    "__Write a function `T(X, M::PerturbedModel)`  which implements the time iteration step.__"
   ]
  },
  {
   "cell_type": "code",
   "execution_count": null,
   "metadata": {},
   "outputs": [],
   "source": []
  },
  {
   "cell_type": "markdown",
   "metadata": {},
   "source": [
    "__Write function `linear_time_iteration(X_0::Matrix, m::PerturbedModel)::Matrix` which implements the time iteration algorithm. Apply it to `X0 = rand(1,2)` and check that the result satisfies the first order model.__\n",
    "\n",
    "    "
   ]
  },
  {
   "cell_type": "code",
   "execution_count": null,
   "metadata": {},
   "outputs": [],
   "source": []
  },
  {
   "cell_type": "markdown",
   "metadata": {},
   "source": [
    "__Define two linear operators `L_S(S::Matrix, X_0::Matrix, m::PerturbedModel)::Matrix` and `L_T(S::Matrix, X_0::Matrix, m::PerturbedModel)::Matrix` which implement the derivatives of the simulation and the time-iteration operator respectively.__"
   ]
  },
  {
   "cell_type": "code",
   "execution_count": null,
   "metadata": {},
   "outputs": [],
   "source": []
  },
  {
   "cell_type": "markdown",
   "metadata": {},
   "source": [
    "__Implement a function `spectral_radius(f::Function)::Float64` which implements the power iteration method to compute the biggest eigenvalues of the two previously defined operators. Check that Blamnchard-Kahn conditions are met.__"
   ]
  },
  {
   "cell_type": "code",
   "execution_count": null,
   "metadata": {},
   "outputs": [],
   "source": []
  },
  {
   "cell_type": "markdown",
   "metadata": {},
   "source": [
    "__Compare the solution with the one obtained by dolo__"
   ]
  },
  {
   "cell_type": "code",
   "execution_count": 98,
   "metadata": {},
   "outputs": [
    {
     "data": {
      "text/plain": [
       "Perturbation Results\n",
       " * Decision Rule type: Dolo.BiTaylorExpansion{2}\n",
       " * stable < true\n",
       " * determined < true\n"
      ]
     },
     "execution_count": 98,
     "metadata": {},
     "output_type": "execute_result"
    }
   ],
   "source": [
    "sol_dolo = Dolo.perturb(model)"
   ]
  },
  {
   "cell_type": "code",
   "execution_count": 103,
   "metadata": {},
   "outputs": [
    {
     "data": {
      "text/plain": [
       "2×2 Array{Float64,2}:\n",
       " 0.207879  -0.0152809\n",
       " 1.39034   -0.0105166"
      ]
     },
     "execution_count": 103,
     "metadata": {},
     "output_type": "execute_result"
    }
   ],
   "source": [
    "X_dolo = sol_dolo.dr.x_s"
   ]
  },
  {
   "cell_type": "markdown",
   "metadata": {},
   "source": [
    "__Compute the transition matrix $P = E + F X$__"
   ]
  },
  {
   "cell_type": "code",
   "execution_count": null,
   "metadata": {},
   "outputs": [],
   "source": []
  },
  {
   "cell_type": "markdown",
   "metadata": {},
   "source": [
    "__Create a structure to hold the solution__"
   ]
  },
  {
   "cell_type": "code",
   "execution_count": 107,
   "metadata": {},
   "outputs": [],
   "source": [
    "struct Solution\n",
    "    X::Matrix{Float64}\n",
    "    P::Matrix{Float64}  # transition matrix\n",
    "    Q::Matrix{Float64}\n",
    "    shock               # set it to model.exogenous\n",
    "end"
   ]
  },
  {
   "cell_type": "code",
   "execution_count": null,
   "metadata": {},
   "outputs": [],
   "source": []
  },
  {
   "cell_type": "markdown",
   "metadata": {},
   "source": [
    "__Write a function `simulate(s0::Vector, sol::Solution, T::Int64)::Tuple{Matrix, Matrix}` to simulate the model over $T$ periods (by using the formula $\\Delta s_t = P s_{t-1} + Q e_t$. Return a matrix for the states (one line per date) and another matrix for the controls. Use Dolo.simulation(sol.shock) to simulate the exogenous shock.__\n",
    "\n",
    "__Bonus: add a keyword option to compute variables levels or log-deviations. If possible, return a DataFrame or an AxisArrays object.__"
   ]
  },
  {
   "cell_type": "code",
   "execution_count": null,
   "metadata": {},
   "outputs": [],
   "source": []
  },
  {
   "cell_type": "markdown",
   "metadata": {},
   "source": [
    "__Write a function response(sol::Solution, T::Int64, δ::Float64) which computes the deterministic response of a model, followint an initial deviation of the shock δ.__"
   ]
  },
  {
   "cell_type": "code",
   "execution_count": null,
   "metadata": {},
   "outputs": [],
   "source": []
  },
  {
   "cell_type": "markdown",
   "metadata": {},
   "source": [
    "__Bonus: Introduce a 10% income tax in the model, by editing the yaml file. How does it affect the responses of the model's variables?__"
   ]
  },
  {
   "cell_type": "code",
   "execution_count": null,
   "metadata": {},
   "outputs": [],
   "source": []
  }
 ],
 "metadata": {
  "kernelspec": {
   "display_name": "Julia 1.5.3",
   "language": "julia",
   "name": "julia-1.5"
  },
  "language_info": {
   "file_extension": ".jl",
   "mimetype": "application/julia",
   "name": "julia",
   "version": "1.5.3"
  }
 },
 "nbformat": 4,
 "nbformat_minor": 4
}

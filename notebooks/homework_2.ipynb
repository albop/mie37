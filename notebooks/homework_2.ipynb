{
 "cells": [
  {
   "cell_type": "markdown",
   "id": "still-james",
   "metadata": {},
   "source": [
    "# Homework 2\n"
   ]
  },
  {
   "cell_type": "markdown",
   "id": "afraid-nashville",
   "metadata": {},
   "source": [
    "## Linear Time Iteration\n",
    "\n",
    "A deterministic one-dimensional linear model for inflation is written in the form:\n",
    "\n",
    "$$\\pi_{t+1} - (\\lambda_1 + \\lambda_2) \\pi_t + \\lambda_1 \\lambda_2 \\pi_{t-1}$$\n",
    "\n",
    "with $0<\\lambda_1<\\lambda_2$\n",
    "Here, inflation is backward looking in the sense that inflation $\\pi_t$ will depend on past inflation $\\pi_{t-1}$.\n",
    "The solution takes the form $\\forall t, \\space \\pi_t = \\lambda \\pi_{t-1}$ where $\\lambda$ is a constant to be determined.\n",
    "\n",
    "1. __(Theory) Write down the second order equation $P(\\lambda)=0$, which characterizes $\\lambda$. What are the roots of polynomial $P$ ?__\n",
    "    "
   ]
  },
  {
   "cell_type": "code",
   "execution_count": null,
   "id": "accomplished-detail",
   "metadata": {},
   "outputs": [],
   "source": []
  },
  {
   "cell_type": "markdown",
   "id": "legal-terry",
   "metadata": {},
   "source": [
    "2. __(Theory 2) Justify that $T(x) = \\frac{-\\lambda_1\\lambda_2}{x-\\lambda_1-\\lambda_2}$ is the time iteration operator. Show that it admits two fixed points, but that only one of them is stable by computing $|T^{\\prime}|$.__"
   ]
  },
  {
   "cell_type": "code",
   "execution_count": null,
   "id": "removable-scheduling",
   "metadata": {},
   "outputs": [],
   "source": []
  },
  {
   "cell_type": "markdown",
   "id": "british-education",
   "metadata": {},
   "source": [
    "It is actually possible (and easy) to show that the series $(x_n)$ defined recursively by $x_n = T(x_{n-1})$ converges to $\\lambda_1$ starting from any initial point $x_0$, except from $\\lambda_2$. This method of computing a solution is called *linear time iteration*.\n",
    "\n",
    "3. __Implement the linear time iteration and illustrate its convergence graphically by plotting its progress,  starting from various levels of $x_0$. Show one case with $\\lambda_1<\\lambda_2<1$, one with $\\lambda_1<1<\\lambda_2$ and one with $1<\\lambda_1<\\lambda_2$.__"
   ]
  },
  {
   "cell_type": "code",
   "execution_count": null,
   "id": "alien-ozone",
   "metadata": {},
   "outputs": [],
   "source": []
  },
  {
   "cell_type": "markdown",
   "id": "electronic-brass",
   "metadata": {},
   "source": [
    "4. __A model is well specified if it admits a unique non-diverging solution. What method would you propose to check that the solution obtained by linear time-iteration is convergent and unique?__"
   ]
  },
  {
   "cell_type": "code",
   "execution_count": null,
   "id": "fifth-attitude",
   "metadata": {},
   "outputs": [],
   "source": []
  },
  {
   "cell_type": "markdown",
   "id": "artistic-turkey",
   "metadata": {},
   "source": [
    "5. __(Bonus) Implement an *improved* linear time iteration algorithm, that is a Newton descent applied to $x-T(x)$ and discuss its convergence.__"
   ]
  },
  {
   "cell_type": "code",
   "execution_count": null,
   "id": "veterinary-configuration",
   "metadata": {},
   "outputs": [],
   "source": []
  },
  {
   "cell_type": "markdown",
   "id": "three-speaker",
   "metadata": {},
   "source": [
    "## Dividend Pricing\n",
    "\n",
    "A dividend process is described by $d_t=\\exp(\\epsilon) (d_{t-1})^\\rho$ with $\\rho=0.9$ and $\\epsilon$ a normal i.i.d. process with mean 0 and standard deviation 0.05.\n",
    "Given discount rate $\\beta=0.95$ our ultimate goal is to evaluate the risk neutral price of a right to the dividend, which satisfies:\n",
    "\n",
    "$$p_t=d_t + \\beta E_t \\left[ p_{t+1} \\right]$$\n",
    "\n",
    "In functional form, we look for a function $p()$ such that\n",
    "\n",
    "$$\\forall d, \\color{blue}{p}(d)=d+\\beta E_{\\epsilon} \\left[ \\color{red}{p}\\left( \\exp(\\epsilon) (d)^\\rho \\right)\\right]$$\n",
    "\n",
    "The general algorithm, will consist in updating the price function on the left as a function of the price function on the right. It raises two challenges:\n",
    "- integrate the term within the square brackets (we'll use quadrature)\n",
    "- interpolate the price function so that it can be evaluated at any realisation of $\\exp(\\epsilon) (d)^\\rho$"
   ]
  },
  {
   "cell_type": "markdown",
   "id": "secondary-exposure",
   "metadata": {},
   "source": [
    "1. __Integration: discretize random shock $\\epsilon_t$ with $K=5$ nodes and weights $(w_i, \\epsilon_i)$ by using a gauss-hermite quadrature.\n",
    "As an example, use this discretization to evaluate $\\mathbb{E}\\left(\\epsilon^2\\right)$ and $\\mathbb{E}\\left[ \\exp(\\epsilon)\\right]$.__"
   ]
  },
  {
   "cell_type": "code",
   "execution_count": null,
   "id": "devoted-possible",
   "metadata": {},
   "outputs": [],
   "source": []
  },
  {
   "cell_type": "markdown",
   "id": "western-spectrum",
   "metadata": {},
   "source": [
    "2. __Interpolation: for $N=20$, propose a regular grid $(d_1, ... d_N)$ for $d$ that is large enough to contain a large fraction of of the realizations of $d_t$. An function $p()$ will be identified with an $N$-components vector `p`$=(p_1, ..., p_N)=(p(d_1), ..., p(d_N))$ and linear interpolation will be used to evaluate `p` outside of the grid points (you can use library `interpolations.jl`) . Choose an initial guess for $p()$, for instance $p(d)=d^2$ and plot the interpolated function.__\n",
    "\n",
    "<mark>Hint</mark>: given a vector of points `x` and matching vector of values `y`, you can use `itp = LinearInterpolation(x, y, extrapolation_bc = Line())` to construct a smooth function, which equals `y` on `x`. You can then interpolate at any point or vector of points `z` with `itp(z)`.\n"
   ]
  },
  {
   "cell_type": "code",
   "execution_count": null,
   "id": "sustainable-relative",
   "metadata": {},
   "outputs": [],
   "source": []
  },
  {
   "cell_type": "markdown",
   "id": "greek-image",
   "metadata": {},
   "source": [
    "3. __Assuming vector `p0` represents the $p()$ function on the right, compute `p1` vector which represents the $p()$ function on the left. Call `T()` the function which map `p0` to `p1`.__"
   ]
  },
  {
   "cell_type": "code",
   "execution_count": null,
   "id": "fuzzy-arena",
   "metadata": {},
   "outputs": [],
   "source": []
  },
  {
   "cell_type": "markdown",
   "id": "comic-spouse",
   "metadata": {},
   "source": [
    "4. __Find the equilibrium price `p` by iterating on `T()`. Plot.__"
   ]
  },
  {
   "cell_type": "code",
   "execution_count": null,
   "id": "constitutional-semiconductor",
   "metadata": {},
   "outputs": [],
   "source": []
  },
  {
   "cell_type": "markdown",
   "id": "chronic-theory",
   "metadata": {},
   "source": [
    "5. __Bonus: justify why the function `T(p)` is actually linear in `p`. Use `IterativeSolver.jl` to solve directly the equation `p=T(p)` (check the doc...). Compare results and number of iterations with the precendent function.__"
   ]
  },
  {
   "cell_type": "code",
   "execution_count": null,
   "id": "together-poster",
   "metadata": {},
   "outputs": [],
   "source": []
  },
  {
   "cell_type": "markdown",
   "id": "scientific-plain",
   "metadata": {},
   "source": [
    "## Brock-Mirman Stochastic Growth model"
   ]
  },
  {
   "cell_type": "markdown",
   "id": "stupid-australian",
   "metadata": {},
   "source": [
    "Here is a neoclassical growth model with unpredictable shocks on productivity."
   ]
  },
  {
   "cell_type": "markdown",
   "id": "relative-emperor",
   "metadata": {},
   "source": [
    "Social planner tries to solve:\n",
    "\n",
    "$$\\max E_t \\left[ \\sum_{n=0}^{\\infty} \\beta^n \\log C_{t+n} \\right]$$\n",
    "\n",
    "s.t.\n",
    "\n",
    "$$K_{t+1} = Y_t - C_t$$\n",
    "$$Y_{t+1} = A_{t+1}K_{t+1}^\\alpha$$\n",
    "\n",
    "where $A_t$ is the level of productivity in period $t$. \n",
    "It can take  values $A^h=1.05$ and $A^l=0.95$. The transition between these two states are given by the matrix:\n",
    "$$P = \\begin{bmatrix}\n",
    "0.9, 0.1\\\\\n",
    "0.1, 0.9\n",
    "\\end{bmatrix}$$\n",
    "\n",
    "We want to solve this problem by converting it into a discrete dynamic programming problem."
   ]
  },
  {
   "cell_type": "markdown",
   "id": "broke-emergency",
   "metadata": {},
   "source": [
    "__Propose a plausible calibration__"
   ]
  },
  {
   "cell_type": "code",
   "execution_count": null,
   "id": "limited-linux",
   "metadata": {},
   "outputs": [],
   "source": []
  },
  {
   "cell_type": "markdown",
   "id": "associate-stations",
   "metadata": {},
   "source": [
    "__What are the states? What are the controls? Is it possible to bound them in a natural way? Propose a discretization scheme for:__\n",
    "- __the states (a vector of values)__\n",
    "- __the controls (for each state, a vector of possible values)__\n",
    "- __the transitions (a deterministic function which computes the next state as a function of current state and control)__"
   ]
  },
  {
   "cell_type": "code",
   "execution_count": null,
   "id": "thermal-thesis",
   "metadata": {},
   "outputs": [],
   "source": []
  },
  {
   "cell_type": "markdown",
   "id": "respiratory-coast",
   "metadata": {},
   "source": [
    "__Write down the Bellman equation__"
   ]
  },
  {
   "cell_type": "code",
   "execution_count": null,
   "id": "communist-grocery",
   "metadata": {},
   "outputs": [],
   "source": []
  },
  {
   "cell_type": "markdown",
   "id": "buried-technique",
   "metadata": {},
   "source": [
    "__How do you represent a policy function? Implement a value evaluation function.__"
   ]
  },
  {
   "cell_type": "code",
   "execution_count": null,
   "id": "expected-pottery",
   "metadata": {},
   "outputs": [],
   "source": []
  },
  {
   "cell_type": "markdown",
   "id": "photographic-criminal",
   "metadata": {},
   "source": [
    "__Solve the model using Value Function Iteration. Plot the solution.__"
   ]
  },
  {
   "cell_type": "code",
   "execution_count": null,
   "id": "blond-awareness",
   "metadata": {},
   "outputs": [],
   "source": []
  },
  {
   "cell_type": "markdown",
   "id": "neither-shuttle",
   "metadata": {},
   "source": [
    "__Implement Policy Improvement Steps. Compare convergence Speed.__"
   ]
  },
  {
   "cell_type": "code",
   "execution_count": null,
   "id": "three-antenna",
   "metadata": {},
   "outputs": [],
   "source": []
  },
  {
   "cell_type": "markdown",
   "id": "widespread-applicant",
   "metadata": {},
   "source": [
    "__Bonus: Propose some ideas to improve performances.__"
   ]
  },
  {
   "cell_type": "code",
   "execution_count": null,
   "id": "functioning-enforcement",
   "metadata": {},
   "outputs": [],
   "source": []
  }
 ],
 "metadata": {
  "kernelspec": {
   "display_name": "",
   "name": ""
  },
  "language_info": {
   "name": ""
  }
 },
 "nbformat": 4,
 "nbformat_minor": 5
}

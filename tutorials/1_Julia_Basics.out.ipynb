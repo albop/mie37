{
  "cells": [
    {
      "cell_type": "markdown",
      "metadata": {},
      "source": [
        "# Julia Basics\n",
        "\n",
        "Pablo Winant\n",
        "\n",
        "### What is Julia\n",
        "\n",
        "-   developped at MIT on top of **opensource** technologies\n",
        "    -   linux / git / llvm\n",
        "-   syntax inspired by Matlab but:\n",
        "    -   more consistent\n",
        "    -   lots of features from high level languages\n",
        "-   everything is JIT-compiled\n",
        "    -   interpreted vs compiled treadeoff\n",
        "    -   -\\> very fast\n",
        "    -   most of the base library is written in Julia\n",
        "-   opensource/free + vibrant community\n",
        "\n",
        "Some useful links from QuantEcon:\n",
        "\n",
        "-   [Julia\n",
        "    cheatsheet](https://cheatsheets.quantecon.org/julia-cheatsheet.html)\n",
        "-   [Julia-Matlab\n",
        "    comparison](https://cheatsheets.quantecon.org/index.html)\n",
        "-   [Julia\n",
        "    essentials](https://lectures.quantecon.org/jl/julia_essentials.html)\n",
        "-   [Vectors, arrays and\n",
        "    matrices](https://lectures.quantecon.org/jl/julia_arrays.html)\n",
        "\n",
        "Excellent resources at: [julialang](https://julialang.org/learning/) -\n",
        "checkout JuliaAcademy, it’s free - ongoing\n",
        "[MOOC](https://computationalthinking.mit.edu/Spring21/) at MIT\n",
        "\n",
        "### an example of what you shouldn’t do in Matlab\n",
        "\n",
        "How I learnt: interpreted code is slow, so vectorize your coe."
      ],
      "id": "4ddf3a11-f6db-4d74-ba8e-ba75e1102ef5"
    },
    {
      "cell_type": "code",
      "execution_count": 1,
      "metadata": {},
      "outputs": [
        {
          "output_type": "stream",
          "name": "stdout",
          "text": [
            "  0.108801 seconds (66.67 k allocations: 3.520 MiB, 24.75% compilation time)"
          ]
        },
        {
          "output_type": "display_data",
          "metadata": {},
          "data": {
            "text/plain": [
              "10-element Vector{Float64}:\n",
              " 1.0e6\n",
              " 2.0e6\n",
              " 3.0e6\n",
              " 4.0e6\n",
              " 5.0e6\n",
              " 6.0e6\n",
              " 7.0e6\n",
              " 8.0e6\n",
              " 9.0e6\n",
              " 1.0e7"
            ]
          }
        }
      ],
      "source": [
        "function stupid_loop(I,J,K)\n",
        "    t = 0.0\n",
        "    for i=1:I\n",
        "        for j=1:J\n",
        "            for k = 1:K\n",
        "                t += 1.0\n",
        "            end        \n",
        "        end\n",
        "    end\n",
        "    return t\n",
        "end\n",
        "@time [ stupid_loop(1000,1000,i) for i =1:10]"
      ],
      "id": "cell-4"
    },
    {
      "cell_type": "markdown",
      "metadata": {},
      "source": [
        "Code is translated to LLVM code then to instructions for the processor.\n",
        "Note that processor instructions are shorter than LLVM code."
      ],
      "id": "8148e977-ca9c-4a47-9af0-bb8dea9c1897"
    },
    {
      "cell_type": "code",
      "execution_count": 2,
      "metadata": {},
      "outputs": [
        {
          "output_type": "stream",
          "name": "stdout",
          "text": [
            ";  @ /workspaces/mie37/notebooks/1_Julia_Basics.ipynb:1 within `stupid_loop`\n",
            "define double @julia_stupid_loop_1277(i64 signext %0, i64 signext %1, i64 signext %2) #0 {\n",
            "top:\n",
            ";  @ /workspaces/mie37/notebooks/1_Julia_Basics.ipynb:3 within `stupid_loop`\n",
            "; ┌ @ range.jl:5 within `Colon`\n",
            "; │┌ @ range.jl:393 within `UnitRange`\n",
            "; ││┌ @ range.jl:400 within `unitrange_last`\n",
            "     %.inv = icmp sgt i64 %0, 0\n",
            "     %. = select i1 %.inv, i64 %0, i64 0\n",
            "; └└└\n",
            "  br i1 %.inv, label %L17.preheader, label %L94\n",
            "\n",
            "L17.preheader:                                    ; preds = %top\n",
            "  %.inv26 = icmp sgt i64 %1, 0\n",
            "  %.24 = select i1 %.inv26, i64 %1, i64 0\n",
            "  %.inv27 = icmp sgt i64 %2, 0\n",
            "  %.25 = select i1 %.inv27, i64 %2, i64 0\n",
            ";  @ /workspaces/mie37/notebooks/1_Julia_Basics.ipynb:4 within `stupid_loop`\n",
            "  %3 = select i1 %.inv26, i1 %.inv27, i1 false\n",
            "  br i1 %3, label %L35.preheader.split.us.us.us, label %L94\n",
            "\n",
            "L81.us.us:                                        ; preds = %L68.us.us.us\n",
            ";  @ /workspaces/mie37/notebooks/1_Julia_Basics.ipynb:9 within `stupid_loop`\n",
            "; ┌ @ range.jl:883 within `iterate`\n",
            "; │┌ @ promotion.jl:477 within `==`\n",
            "    %.not29.us.us = icmp eq i64 %value_phi3.us.us, %.\n",
            "; │└\n",
            "   %4 = add nuw i64 %value_phi3.us.us, 1\n",
            "; └\n",
            "  br i1 %.not29.us.us, label %L94, label %L35.preheader.split.us.us.us\n",
            "\n",
            "L35.preheader.split.us.us.us:                     ; preds = %L81.us.us, %L17.preheader\n",
            "  %value_phi3.us.us = phi i64 [ %4, %L81.us.us ], [ 1, %L17.preheader ]\n",
            "  %value_phi4.us.us = phi double [ %6, %L81.us.us ], [ 0.000000e+00, %L17.preheader ]\n",
            ";  @ /workspaces/mie37/notebooks/1_Julia_Basics.ipynb:5 within `stupid_loop`\n",
            "  br label %L53.preheader.us.us.us\n",
            "\n",
            "L53.preheader.us.us.us:                           ; preds = %L68.us.us.us, %L35.preheader.split.us.us.us\n",
            "  %value_phi8.us.us.us = phi double [ %6, %L68.us.us.us ], [ %value_phi4.us.us, %L35.preheader.split.us.us.us ]\n",
            "  %value_phi9.us.us.us = phi i64 [ %5, %L68.us.us.us ], [ 1, %L35.preheader.split.us.us.us ]\n",
            ";  @ /workspaces/mie37/notebooks/1_Julia_Basics.ipynb:7 within `stupid_loop`\n",
            "  br label %L53.us.us.us\n",
            "\n",
            "L68.us.us.us:                                     ; preds = %L53.us.us.us\n",
            ";  @ /workspaces/mie37/notebooks/1_Julia_Basics.ipynb:8 within `stupid_loop`\n",
            "; ┌ @ range.jl:883 within `iterate`\n",
            "; │┌ @ promotion.jl:477 within `==`\n",
            "    %.not28.us.us.us = icmp eq i64 %value_phi9.us.us.us, %.24\n",
            "; │└\n",
            "   %5 = add nuw i64 %value_phi9.us.us.us, 1\n",
            "; └\n",
            "  br i1 %.not28.us.us.us, label %L81.us.us, label %L53.preheader.us.us.us\n",
            "\n",
            "L53.us.us.us:                                     ; preds = %L53.us.us.us, %L53.preheader.us.us.us\n",
            "  %value_phi13.us.us.us = phi double [ %6, %L53.us.us.us ], [ %value_phi8.us.us.us, %L53.preheader.us.us.us ]\n",
            "  %value_phi14.us.us.us = phi i64 [ %7, %L53.us.us.us ], [ 1, %L53.preheader.us.us.us ]\n",
            ";  @ /workspaces/mie37/notebooks/1_Julia_Basics.ipynb:6 within `stupid_loop`\n",
            "; ┌ @ float.jl:383 within `+`\n",
            "   %6 = fadd double %value_phi13.us.us.us, 1.000000e+00\n",
            "; └\n",
            ";  @ /workspaces/mie37/notebooks/1_Julia_Basics.ipynb:7 within `stupid_loop`\n",
            "; ┌ @ range.jl:883 within `iterate`\n",
            "; │┌ @ promotion.jl:477 within `==`\n",
            "    %.not.us.us.us = icmp eq i64 %value_phi14.us.us.us, %.25\n",
            "; │└\n",
            "   %7 = add nuw i64 %value_phi14.us.us.us, 1\n",
            "; └\n",
            "  br i1 %.not.us.us.us, label %L68.us.us.us, label %L53.us.us.us\n",
            "\n",
            "L94:                                              ; preds = %L81.us.us, %L17.preheader, %top\n",
            "  %value_phi23 = phi double [ 0.000000e+00, %top ], [ %6, %L81.us.us ], [ 0.000000e+00, %L17.preheader ]\n",
            ";  @ /workspaces/mie37/notebooks/1_Julia_Basics.ipynb:10 within `stupid_loop`\n",
            "  ret double %value_phi23\n",
            "}"
          ]
        }
      ],
      "source": [
        "@code_llvm stupid_loop(10,10,10)"
      ],
      "id": "cell-6"
    },
    {
      "cell_type": "code",
      "execution_count": 3,
      "metadata": {},
      "outputs": [
        {
          "output_type": "stream",
          "name": "stdout",
          "text": [
            "    .text\n",
            "    .file   \"stupid_loop\"\n",
            "    .section    .rodata.cst8,\"aM\",@progbits,8\n",
            "    .p2align    3                               # -- Begin function julia_stupid_loop_1312\n",
            ".LCPI0_0:\n",
            "    .quad   0x3ff0000000000000              # double 1\n",
            "    .text\n",
            "    .globl  julia_stupid_loop_1312\n",
            "    .p2align    4, 0x90\n",
            "    .type   julia_stupid_loop_1312,@function\n",
            "julia_stupid_loop_1312:                 # @julia_stupid_loop_1312\n",
            "; ┌ @ /workspaces/mie37/notebooks/1_Julia_Basics.ipynb:1 within `stupid_loop`\n",
            "    .cfi_startproc\n",
            "# %bb.0:                                # %top\n",
            "    vxorpd  %xmm0, %xmm0, %xmm0\n",
            "; │ @ /workspaces/mie37/notebooks/1_Julia_Basics.ipynb:3 within `stupid_loop`\n",
            "; │┌ @ range.jl:5 within `Colon`\n",
            "; ││┌ @ range.jl:393 within `UnitRange`\n",
            "; │││┌ @ range.jl:400 within `unitrange_last`\n",
            "    testq   %rdi, %rdi\n",
            "; │└└└\n",
            "    jle .LBB0_9\n",
            "# %bb.1:                                # %L17.preheader\n",
            "    testq   %rsi, %rsi\n",
            "; │ @ /workspaces/mie37/notebooks/1_Julia_Basics.ipynb:4 within `stupid_loop`\n",
            "    jle .LBB0_9\n",
            "# %bb.2:                                # %L17.preheader\n",
            "    testq   %rdx, %rdx\n",
            "    jle .LBB0_9\n",
            "# %bb.3:                                # %L35.preheader.split.us.us.us.preheader\n",
            "    movq    %rdi, %rax\n",
            "    sarq    $63, %rax\n",
            "    andnq   %rdi, %rax, %r8\n",
            "    movq    %rsi, %rax\n",
            "    sarq    $63, %rax\n",
            "    andnq   %rsi, %rax, %rcx\n",
            "    movq    %rdx, %rax\n",
            "    sarq    $63, %rax\n",
            "    andnq   %rdx, %rax, %rax\n",
            "    vxorpd  %xmm0, %xmm0, %xmm0\n",
            "    movl    $1, %esi\n",
            "    movabsq $.LCPI0_0, %rdx\n",
            "    vmovsd  (%rdx), %xmm1                   # xmm1 = mem[0],zero\n",
            "    .p2align    4, 0x90\n",
            ".LBB0_5:                                # %L35.preheader.split.us.us.us\n",
            "                                        # =>This Loop Header: Depth=1\n",
            "                                        #     Child Loop BB0_6 Depth 2\n",
            "                                        #       Child Loop BB0_7 Depth 3\n",
            "    movl    $1, %edi\n",
            "    .p2align    4, 0x90\n",
            ".LBB0_6:                                # %L53.preheader.us.us.us\n",
            "                                        #   Parent Loop BB0_5 Depth=1\n",
            "                                        # =>  This Loop Header: Depth=2\n",
            "                                        #       Child Loop BB0_7 Depth 3\n",
            "    movq    %rax, %rdx\n",
            "    .p2align    4, 0x90\n",
            ".LBB0_7:                                # %L53.us.us.us\n",
            "                                        #   Parent Loop BB0_5 Depth=1\n",
            "                                        #     Parent Loop BB0_6 Depth=2\n",
            "                                        # =>    This Inner Loop Header: Depth=3\n",
            "; │ @ /workspaces/mie37/notebooks/1_Julia_Basics.ipynb:6 within `stupid_loop`\n",
            "; │┌ @ float.jl:383 within `+`\n",
            "    vaddsd  %xmm1, %xmm0, %xmm0\n",
            "; │└\n",
            "; │ @ /workspaces/mie37/notebooks/1_Julia_Basics.ipynb:7 within `stupid_loop`\n",
            "; │┌ @ range.jl:883 within `iterate`\n",
            "; ││┌ @ promotion.jl:477 within `==`\n",
            "    decq    %rdx\n",
            "; │└└\n",
            "    jne .LBB0_7\n",
            "# %bb.8:                                # %L68.us.us.us\n",
            "                                        #   in Loop: Header=BB0_6 Depth=2\n",
            "; │ @ /workspaces/mie37/notebooks/1_Julia_Basics.ipynb:8 within `stupid_loop`\n",
            "; │┌ @ range.jl:883 within `iterate`\n",
            "    leaq    1(%rdi), %rdx\n",
            "; ││┌ @ promotion.jl:477 within `==`\n",
            "    cmpq    %rcx, %rdi\n",
            "    movq    %rdx, %rdi\n",
            "; │└└\n",
            "    jne .LBB0_6\n",
            "# %bb.4:                                # %L81.us.us\n",
            "                                        #   in Loop: Header=BB0_5 Depth=1\n",
            "; │ @ /workspaces/mie37/notebooks/1_Julia_Basics.ipynb:9 within `stupid_loop`\n",
            "; │┌ @ range.jl:883 within `iterate`\n",
            "    leaq    1(%rsi), %rdx\n",
            "; ││┌ @ promotion.jl:477 within `==`\n",
            "    cmpq    %r8, %rsi\n",
            "    movq    %rdx, %rsi\n",
            "; │└└\n",
            "    jne .LBB0_5\n",
            ".LBB0_9:                                # %L94\n",
            "; │ @ /workspaces/mie37/notebooks/1_Julia_Basics.ipynb:10 within `stupid_loop`\n",
            "    retq\n",
            ".Lfunc_end0:\n",
            "    .size   julia_stupid_loop_1312, .Lfunc_end0-julia_stupid_loop_1312\n",
            "    .cfi_endproc\n",
            "; └\n",
            "                                        # -- End function\n",
            "    .section    \".note.GNU-stack\",\"\",@progbits"
          ]
        }
      ],
      "source": [
        "@code_native stupid_loop(10,10,10)"
      ],
      "id": "cell-7"
    },
    {
      "cell_type": "markdown",
      "metadata": {},
      "source": [
        "### Syntax Review\n",
        "\n",
        "#### Variable assignment\n",
        "\n",
        "Assignement operator is = (equality is ==, identity is ===)"
      ],
      "id": "bcea4452-edc2-4c1d-8936-bbc0c3b33df6"
    },
    {
      "cell_type": "code",
      "execution_count": 4,
      "metadata": {},
      "outputs": [
        {
          "output_type": "display_data",
          "metadata": {},
          "data": {
            "text/plain": [
              "10"
            ]
          }
        }
      ],
      "source": [
        "# Assign the value 10 to the variable x\n",
        "x = 10"
      ],
      "id": "cell-10"
    },
    {
      "cell_type": "code",
      "execution_count": 5,
      "metadata": {},
      "outputs": [
        {
          "output_type": "display_data",
          "metadata": {},
          "data": {
            "text/plain": [
              "10"
            ]
          }
        }
      ],
      "source": [
        "x"
      ],
      "id": "cell-11"
    },
    {
      "cell_type": "code",
      "execution_count": 8,
      "metadata": {},
      "outputs": [
        {
          "output_type": "display_data",
          "metadata": {},
          "data": {
            "text/plain": [
              "false"
            ]
          }
        }
      ],
      "source": [
        "2 == 3"
      ],
      "id": "cell-12"
    },
    {
      "cell_type": "code",
      "execution_count": 10,
      "metadata": {},
      "outputs": [
        {
          "output_type": "display_data",
          "metadata": {},
          "data": {
            "text/plain": [
              "0.0001"
            ]
          }
        }
      ],
      "source": [
        "# Variable names can have Unicode characters\n",
        "# To get ϵ in the REPL, type \\epsilon<TAB>\n",
        "σ = 34\n",
        "ϵ = 1e-4"
      ],
      "id": "cell-13"
    },
    {
      "cell_type": "markdown",
      "metadata": {},
      "source": [
        "Default semantic is pass-by-reference:"
      ],
      "id": "7d507969-c4ce-41a2-aa5e-9a59cf4c3c85"
    },
    {
      "cell_type": "code",
      "execution_count": null,
      "metadata": {},
      "outputs": [],
      "source": [
        "a = [1,2,3,4]\n",
        "b = a\n",
        "a[1] = 10\n",
        "b"
      ],
      "id": "cell-15"
    },
    {
      "cell_type": "markdown",
      "metadata": {},
      "source": [
        "To work on a copy: `copy` or `deepcopy`"
      ],
      "id": "c127dd4a-29b5-4274-9b91-ef6c89f1bf54"
    },
    {
      "cell_type": "code",
      "execution_count": 11,
      "metadata": {},
      "outputs": [
        {
          "output_type": "display_data",
          "metadata": {},
          "data": {
            "text/plain": [
              "4-element Vector{Int64}:\n",
              " 1\n",
              " 2\n",
              " 3\n",
              " 4"
            ]
          }
        }
      ],
      "source": [
        "a = [1,2,3,4]\n",
        "b = copy(a)\n",
        "a[1]=10\n",
        "b"
      ],
      "id": "cell-17"
    },
    {
      "cell_type": "code",
      "execution_count": 12,
      "metadata": {},
      "outputs": [
        {
          "output_type": "display_data",
          "metadata": {},
          "data": {
            "text/plain": [
              "4-element BitVector:\n",
              " 0\n",
              " 1\n",
              " 1\n",
              " 1"
            ]
          }
        }
      ],
      "source": [
        "a .== b"
      ],
      "id": "cell-18"
    },
    {
      "cell_type": "code",
      "execution_count": 13,
      "metadata": {},
      "outputs": [
        {
          "output_type": "display_data",
          "metadata": {},
          "data": {
            "text/plain": [
              "4-element Vector{Int64}:\n",
              " 1\n",
              " 2\n",
              " 3\n",
              " 4"
            ]
          }
        }
      ],
      "source": [
        "c = b"
      ],
      "id": "cell-19"
    },
    {
      "cell_type": "code",
      "execution_count": 18,
      "metadata": {},
      "outputs": [
        {
          "output_type": "display_data",
          "metadata": {},
          "data": {
            "text/plain": [
              "4-element Vector{Int64}:\n",
              " 1\n",
              " 2\n",
              " 3\n",
              " 4"
            ]
          }
        }
      ],
      "source": [
        "b = [1,2,3,4]"
      ],
      "id": "cell-20"
    },
    {
      "cell_type": "code",
      "execution_count": 16,
      "metadata": {},
      "outputs": [
        {
          "output_type": "display_data",
          "metadata": {},
          "data": {
            "text/plain": [
              "4-element BitVector:\n",
              " 1\n",
              " 1\n",
              " 1\n",
              " 1"
            ]
          }
        }
      ],
      "source": [
        "a .== b"
      ],
      "id": "cell-21"
    },
    {
      "cell_type": "code",
      "execution_count": 19,
      "metadata": {},
      "outputs": [
        {
          "output_type": "display_data",
          "metadata": {},
          "data": {
            "text/plain": [
              "false"
            ]
          }
        }
      ],
      "source": [
        "c === b"
      ],
      "id": "cell-22"
    },
    {
      "cell_type": "markdown",
      "metadata": {},
      "source": [
        "#### Basic types"
      ],
      "id": "50e21e23-6d5b-48df-8982-2aa15b9b8625"
    },
    {
      "cell_type": "code",
      "execution_count": 22,
      "metadata": {},
      "outputs": [],
      "source": [
        "# for any object `typeof` returns the type\n",
        "?any"
      ],
      "id": "cell-24"
    },
    {
      "cell_type": "code",
      "execution_count": 23,
      "metadata": {},
      "outputs": [
        {
          "output_type": "display_data",
          "metadata": {},
          "data": {
            "text/html": [
              "<pre>Vector{Int64}<span class=\"ansi-bright-black-fg\"> (alias for </span><span class=\"ansi-bright-black-fg\">Array{Int64, 1}</span><span class=\"ansi-bright-black-fg\">)</span></pre>"
            ]
          }
        }
      ],
      "source": [
        "typeof(a)"
      ],
      "id": "cell-25"
    },
    {
      "cell_type": "markdown",
      "metadata": {},
      "source": [
        "#### Numbers"
      ],
      "id": "421e59e5-a80d-4300-a02e-5a46ac188049"
    },
    {
      "cell_type": "code",
      "execution_count": 24,
      "metadata": {},
      "outputs": [
        {
          "output_type": "display_data",
          "metadata": {},
          "data": {
            "text/plain": [
              "4"
            ]
          }
        }
      ],
      "source": [
        "y = 2 + 2"
      ],
      "id": "cell-27"
    },
    {
      "cell_type": "code",
      "execution_count": 25,
      "metadata": {},
      "outputs": [
        {
          "output_type": "display_data",
          "metadata": {},
          "data": {
            "text/plain": [
              "-4"
            ]
          }
        }
      ],
      "source": [
        "-y"
      ],
      "id": "cell-28"
    },
    {
      "cell_type": "code",
      "execution_count": 26,
      "metadata": {},
      "outputs": [
        {
          "output_type": "display_data",
          "metadata": {},
          "data": {
            "text/plain": [
              "7.82"
            ]
          }
        }
      ],
      "source": [
        "0.34*23"
      ],
      "id": "cell-29"
    },
    {
      "cell_type": "code",
      "execution_count": 29,
      "metadata": {},
      "outputs": [
        {
          "output_type": "display_data",
          "metadata": {},
          "data": {
            "text/plain": [
              "17//12"
            ]
          }
        }
      ],
      "source": [
        "3//4 + 2//3"
      ],
      "id": "cell-30"
    },
    {
      "cell_type": "code",
      "execution_count": 31,
      "metadata": {},
      "outputs": [
        {
          "output_type": "display_data",
          "metadata": {},
          "data": {
            "text/plain": [
              "6"
            ]
          }
        }
      ],
      "source": [
        "# Scalar multiplication doesn't require *\n",
        "3(4 - 2)"
      ],
      "id": "cell-31"
    },
    {
      "cell_type": "code",
      "execution_count": null,
      "metadata": {},
      "outputs": [],
      "source": [
        "x = 4\n",
        "2x"
      ],
      "id": "cell-32"
    },
    {
      "cell_type": "code",
      "execution_count": null,
      "metadata": {},
      "outputs": [],
      "source": [
        "typeof(x)"
      ],
      "id": "cell-33"
    },
    {
      "cell_type": "code",
      "execution_count": null,
      "metadata": {},
      "outputs": [],
      "source": [
        "sizeof(a)"
      ],
      "id": "cell-34"
    },
    {
      "cell_type": "markdown",
      "metadata": {},
      "source": [
        "#### Booleans\n",
        "\n",
        "Equality"
      ],
      "id": "ed397402-78d3-462d-89a6-6e77a8ed4eec"
    },
    {
      "cell_type": "code",
      "execution_count": 32,
      "metadata": {},
      "outputs": [
        {
          "output_type": "display_data",
          "metadata": {},
          "data": {
            "text/plain": [
              "false"
            ]
          }
        }
      ],
      "source": [
        "0 == 1"
      ],
      "id": "cell-37"
    },
    {
      "cell_type": "code",
      "execution_count": 33,
      "metadata": {},
      "outputs": [
        {
          "output_type": "display_data",
          "metadata": {},
          "data": {
            "text/plain": [
              "true"
            ]
          }
        }
      ],
      "source": [
        "2 != 3"
      ],
      "id": "cell-38"
    },
    {
      "cell_type": "code",
      "execution_count": 34,
      "metadata": {},
      "outputs": [
        {
          "output_type": "display_data",
          "metadata": {},
          "data": {
            "text/plain": [
              "true"
            ]
          }
        }
      ],
      "source": [
        "3 <= 4"
      ],
      "id": "cell-39"
    },
    {
      "cell_type": "markdown",
      "metadata": {},
      "source": [
        "Identity"
      ],
      "id": "225c29e2-1419-49b4-922f-0d491947b958"
    },
    {
      "cell_type": "code",
      "execution_count": null,
      "metadata": {},
      "outputs": [],
      "source": [
        "a = [34, 35]\n",
        "b = [34, 35]\n",
        "c = a"
      ],
      "id": "cell-41"
    },
    {
      "cell_type": "code",
      "execution_count": null,
      "metadata": {},
      "outputs": [],
      "source": [
        "c === a"
      ],
      "id": "cell-42"
    },
    {
      "cell_type": "code",
      "execution_count": null,
      "metadata": {},
      "outputs": [],
      "source": [
        "b === a"
      ],
      "id": "cell-43"
    },
    {
      "cell_type": "markdown",
      "metadata": {},
      "source": [
        "Boolean operator"
      ],
      "id": "ad4c2971-2510-4b06-b5c2-8db8419d2e69"
    },
    {
      "cell_type": "code",
      "execution_count": 35,
      "metadata": {},
      "outputs": [
        {
          "output_type": "display_data",
          "metadata": {},
          "data": {
            "text/plain": [
              "false"
            ]
          }
        }
      ],
      "source": [
        "true && false"
      ],
      "id": "cell-45"
    },
    {
      "cell_type": "code",
      "execution_count": 36,
      "metadata": {},
      "outputs": [
        {
          "output_type": "display_data",
          "metadata": {},
          "data": {
            "text/plain": [
              "true"
            ]
          }
        }
      ],
      "source": [
        "true || false"
      ],
      "id": "cell-46"
    },
    {
      "cell_type": "code",
      "execution_count": 37,
      "metadata": {},
      "outputs": [
        {
          "output_type": "display_data",
          "metadata": {},
          "data": {
            "text/plain": [
              "false"
            ]
          }
        }
      ],
      "source": [
        "!true"
      ],
      "id": "cell-47"
    },
    {
      "cell_type": "markdown",
      "metadata": {},
      "source": [
        "#### Strings"
      ],
      "id": "2449b3eb-cef6-4652-82e8-9ca26306a268"
    },
    {
      "cell_type": "code",
      "execution_count": 38,
      "metadata": {},
      "outputs": [
        {
          "output_type": "display_data",
          "metadata": {},
          "data": {
            "text/plain": [
              "\"This is a string\""
            ]
          }
        }
      ],
      "source": [
        "# Strings are written using double quotes\n",
        "str = \"This is a string\""
      ],
      "id": "cell-50"
    },
    {
      "cell_type": "code",
      "execution_count": 40,
      "metadata": {},
      "outputs": [
        {
          "output_type": "display_data",
          "metadata": {},
          "data": {
            "text/plain": [
              "'🦆': Unicode U+1F986 (category So: Symbol, other)"
            ]
          }
        }
      ],
      "source": [
        "ch = '🦆' # this is a character"
      ],
      "id": "cell-51"
    },
    {
      "cell_type": "code",
      "execution_count": null,
      "metadata": {},
      "outputs": [],
      "source": [
        "# Strings can also contain Unicode characters\n",
        "fancy_str = \"α is a string\""
      ],
      "id": "cell-52"
    },
    {
      "cell_type": "code",
      "execution_count": 41,
      "metadata": {},
      "outputs": [
        {
          "output_type": "display_data",
          "metadata": {},
          "data": {
            "text/plain": [
              "\"2 + 2 = 4\""
            ]
          }
        }
      ],
      "source": [
        "# String interpolation using $\n",
        "# The expression in parentheses is evaluated and the result is \n",
        "# inserted into the string\n",
        "a = 2+2\n",
        "\"2 + 2 = $(a)\""
      ],
      "id": "cell-53"
    },
    {
      "cell_type": "code",
      "execution_count": 42,
      "metadata": {},
      "outputs": [
        {
          "output_type": "stream",
          "name": "stdout",
          "text": [
            "It took me 4 iterations"
          ]
        }
      ],
      "source": [
        "println(\"It took me $(a) iterations\")"
      ],
      "id": "cell-54"
    },
    {
      "cell_type": "code",
      "execution_count": 43,
      "metadata": {},
      "outputs": [
        {
          "output_type": "display_data",
          "metadata": {},
          "data": {
            "text/plain": [
              "\"helloworld\""
            ]
          }
        }
      ],
      "source": [
        "# String concatenation using *\n",
        "\"hello\" * \"world\""
      ],
      "id": "cell-55"
    },
    {
      "cell_type": "code",
      "execution_count": 44,
      "metadata": {},
      "outputs": [
        {
          "output_type": "stream",
          "name": "stdout",
          "text": [
            "hello world"
          ]
        }
      ],
      "source": [
        "println(\"hello \", \"world\")"
      ],
      "id": "cell-56"
    },
    {
      "cell_type": "markdown",
      "metadata": {},
      "source": [
        "#### Arrays\n",
        "\n",
        "Julia has one-dimensional arrays. They are also called Vector."
      ],
      "id": "0b7ed327-5033-491f-a9b2-e45894d05028"
    },
    {
      "cell_type": "code",
      "execution_count": 45,
      "metadata": {},
      "outputs": [
        {
          "output_type": "display_data",
          "metadata": {},
          "data": {
            "text/plain": [
              "2-element Vector{Int64}:\n",
              " 1\n",
              " 2"
            ]
          }
        }
      ],
      "source": [
        "A = [1, 2]"
      ],
      "id": "cell-59"
    },
    {
      "cell_type": "markdown",
      "metadata": {},
      "source": [
        "All elements have the type:"
      ],
      "id": "acfd91d8-04b3-4b39-8b8c-b1d0840f32bd"
    },
    {
      "cell_type": "code",
      "execution_count": 46,
      "metadata": {},
      "outputs": [
        {
          "output_type": "display_data",
          "metadata": {},
          "data": {
            "text/plain": [
              "2-element Vector{Float64}:\n",
              " 1.0\n",
              " 1.4"
            ]
          }
        }
      ],
      "source": [
        "A = [1, 1.4]"
      ],
      "id": "cell-61"
    },
    {
      "cell_type": "code",
      "execution_count": 47,
      "metadata": {},
      "outputs": [
        {
          "output_type": "display_data",
          "metadata": {},
          "data": {
            "text/plain": [
              "false"
            ]
          }
        }
      ],
      "source": [
        "typeof(A) == Vector{Int64}"
      ],
      "id": "cell-62"
    },
    {
      "cell_type": "code",
      "execution_count": 49,
      "metadata": {},
      "outputs": [
        {
          "output_type": "display_data",
          "metadata": {},
          "data": {
            "text/plain": [
              "2-element Vector{Float64}:\n",
              " 1.0\n",
              " 1.4"
            ]
          }
        }
      ],
      "source": [
        "A''"
      ],
      "id": "cell-63"
    },
    {
      "cell_type": "markdown",
      "metadata": {},
      "source": [
        "To get the size of an array:"
      ],
      "id": "fb4db1ac-d716-431b-a117-c4e3c632ad9d"
    },
    {
      "cell_type": "code",
      "execution_count": 50,
      "metadata": {},
      "outputs": [
        {
          "output_type": "display_data",
          "metadata": {},
          "data": {
            "text/plain": [
              "(2,)"
            ]
          }
        }
      ],
      "source": [
        "size(A)"
      ],
      "id": "cell-65"
    },
    {
      "cell_type": "markdown",
      "metadata": {},
      "source": [
        "Arrays are *mutable*"
      ],
      "id": "a0680da0-e8a6-492e-9b4c-e124ba5e9138"
    },
    {
      "cell_type": "code",
      "execution_count": 51,
      "metadata": {},
      "outputs": [
        {
          "output_type": "display_data",
          "metadata": {},
          "data": {
            "text/plain": [
              "10"
            ]
          }
        }
      ],
      "source": [
        "A[1] = 10"
      ],
      "id": "cell-67"
    },
    {
      "cell_type": "code",
      "execution_count": 52,
      "metadata": {},
      "outputs": [
        {
          "output_type": "display_data",
          "metadata": {},
          "data": {
            "text/plain": [
              "2-element Vector{Float64}:\n",
              " 10.0\n",
              "  1.4"
            ]
          }
        }
      ],
      "source": [
        "A"
      ],
      "id": "cell-68"
    },
    {
      "cell_type": "markdown",
      "metadata": {},
      "source": [
        "Julia has one-based indexing: you refer to the first element as 1\n",
        "($\\neq$ zero-based indexing in C or Python)"
      ],
      "id": "04bfb667-bf83-4a15-b16e-47b2870ec13e"
    },
    {
      "cell_type": "code",
      "execution_count": 54,
      "metadata": {},
      "outputs": [
        {
          "output_type": "display_data",
          "metadata": {},
          "data": {
            "text/plain": [
              "1.4"
            ]
          }
        }
      ],
      "source": [
        "A[2]"
      ],
      "id": "cell-70"
    },
    {
      "cell_type": "markdown",
      "metadata": {},
      "source": [
        "Arrays are mutable and their size can be changed too:"
      ],
      "id": "a73f2c31-dc92-43ee-b46c-56fc0340159f"
    },
    {
      "cell_type": "code",
      "execution_count": 58,
      "metadata": {},
      "outputs": [
        {
          "output_type": "display_data",
          "metadata": {},
          "data": {
            "text/plain": [
              "6-element Vector{Float64}:\n",
              " 10.0\n",
              "  1.4\n",
              " 29.0\n",
              " 29.0\n",
              " 29.0\n",
              " 29.0"
            ]
          }
        }
      ],
      "source": [
        "push!(A, 29)\n",
        "A"
      ],
      "id": "cell-72"
    },
    {
      "cell_type": "code",
      "execution_count": 27,
      "metadata": {},
      "outputs": [
        {
          "output_type": "display_data",
          "metadata": {},
          "data": {
            "text/plain": [
              "3-element Array{Float64,1}:\n",
              " 10.0\n",
              "  1.4\n",
              " 29.0"
            ]
          }
        }
      ],
      "source": [
        "A"
      ],
      "id": "cell-73"
    },
    {
      "cell_type": "markdown",
      "metadata": {},
      "source": [
        "Two comments: - the `push!` operation is *fast* - `!` is a julia\n",
        "convention to express the fact that `push!` mutates its first argument\n",
        "\n",
        "#### tuples"
      ],
      "id": "372502b8-bbe1-4e5e-bc08-7c809a4a67ca"
    },
    {
      "cell_type": "code",
      "execution_count": 59,
      "metadata": {},
      "outputs": [
        {
          "output_type": "display_data",
          "metadata": {},
          "data": {
            "text/plain": [
              "(6,)"
            ]
          }
        }
      ],
      "source": [
        "size(A)  # is a tuple"
      ],
      "id": "cell-76"
    },
    {
      "cell_type": "code",
      "execution_count": 60,
      "metadata": {},
      "outputs": [
        {
          "output_type": "display_data",
          "metadata": {},
          "data": {
            "text/plain": [
              "(1, 2, 3, 4)"
            ]
          }
        }
      ],
      "source": [
        "# you can create tuples with (,,,)\n",
        "t = (1,2,3,4)\n"
      ],
      "id": "cell-77"
    },
    {
      "cell_type": "code",
      "execution_count": 31,
      "metadata": {},
      "outputs": [
        {
          "output_type": "display_data",
          "metadata": {},
          "data": {
            "text/plain": [
              "(1, 2, 3, 4)"
            ]
          }
        }
      ],
      "source": [
        "t"
      ],
      "id": "cell-78"
    },
    {
      "cell_type": "markdown",
      "metadata": {},
      "source": [
        "tuples differ from arrays in two ways: - they are immutable - they can\n",
        "contain non-homogenous objects"
      ],
      "id": "7a7fe698-fd60-40a9-abfd-7bcd5120acc7"
    },
    {
      "cell_type": "code",
      "execution_count": 63,
      "metadata": {},
      "outputs": [
        {
          "output_type": "display_data",
          "metadata": {},
          "data": {
            "text/plain": [
              "1"
            ]
          }
        }
      ],
      "source": [
        "t[1]"
      ],
      "id": "cell-80"
    },
    {
      "cell_type": "code",
      "execution_count": 62,
      "metadata": {},
      "outputs": [],
      "source": [
        "t[1] = 2"
      ],
      "id": "cell-81"
    },
    {
      "cell_type": "code",
      "execution_count": 65,
      "metadata": {},
      "outputs": [
        {
          "output_type": "display_data",
          "metadata": {},
          "data": {
            "text/plain": [
              "Tuple{Int64, String, Vector{Int64}}"
            ]
          }
        }
      ],
      "source": [
        "typeof((1, \"1\", [1]))"
      ],
      "id": "cell-82"
    },
    {
      "cell_type": "markdown",
      "metadata": {},
      "source": [
        "2d arrays are also called matrices… and can be used for matrix\n",
        "multiplications."
      ],
      "id": "9577f0b9-807d-4929-b974-f03138e11b31"
    },
    {
      "cell_type": "code",
      "execution_count": 68,
      "metadata": {},
      "outputs": [
        {
          "output_type": "display_data",
          "metadata": {},
          "data": {
            "text/plain": [
              "2×2 Matrix{Int64}:\n",
              " 3  4\n",
              " 5  6"
            ]
          }
        }
      ],
      "source": [
        "[3 4; 5 6]"
      ],
      "id": "cell-84"
    },
    {
      "cell_type": "code",
      "execution_count": 83,
      "metadata": {},
      "outputs": [
        {
          "output_type": "display_data",
          "metadata": {},
          "data": {
            "text/plain": [
              "4×2 Matrix{Int64}:\n",
              " 1  5\n",
              " 2  6\n",
              " 3  7\n",
              " 4  8"
            ]
          }
        }
      ],
      "source": [
        "a1 = [1,2,3,4]\n",
        "a2 = [1,2,3,4]  .+ 4\n",
        "[a1 ;; a2]\n",
        "# cat(a1, a2; dims=2)"
      ],
      "id": "cell-85"
    },
    {
      "cell_type": "code",
      "execution_count": 37,
      "metadata": {},
      "outputs": [
        {
          "output_type": "display_data",
          "metadata": {},
          "data": {
            "text/plain": [
              "1×3 Array{Float64,2}:\n",
              " 1.0  0.6  0.0"
            ]
          }
        }
      ],
      "source": [
        "b = [1 0.6 0]"
      ],
      "id": "cell-86"
    },
    {
      "cell_type": "code",
      "execution_count": null,
      "metadata": {},
      "outputs": [],
      "source": [
        "B = [0.1 0.2 0.3; 4 5 6]"
      ],
      "id": "cell-87"
    },
    {
      "cell_type": "markdown",
      "metadata": {},
      "source": [
        "Other ways to construct arrays:"
      ],
      "id": "5b4cc468-2167-4596-8109-7c08b2452f55"
    },
    {
      "cell_type": "code",
      "execution_count": 78,
      "metadata": {},
      "outputs": [
        {
          "output_type": "display_data",
          "metadata": {},
          "data": {
            "text/plain": [
              "2×3 Matrix{Float64}:\n",
              " 0.0  23.2  0.0\n",
              " 0.0   0.0  0.0"
            ]
          }
        }
      ],
      "source": [
        "# zero array\n",
        "t = zeros(2,3)\n",
        "t[1,2] = 23.2\n",
        "t"
      ],
      "id": "cell-89"
    },
    {
      "cell_type": "code",
      "execution_count": 79,
      "metadata": {},
      "outputs": [
        {
          "output_type": "display_data",
          "metadata": {},
          "data": {
            "text/plain": [
              "3×3 Matrix{Float64}:\n",
              " 0.151296  0.390327  0.239194\n",
              " 0.726286  0.371063  0.133779\n",
              " 0.037311  0.183624  0.72499"
            ]
          }
        }
      ],
      "source": [
        "# random array (uniform distribution)\n",
        "t= rand(3,3)\n",
        "t"
      ],
      "id": "cell-90"
    },
    {
      "cell_type": "code",
      "execution_count": 46,
      "metadata": {},
      "outputs": [
        {
          "output_type": "display_data",
          "metadata": {},
          "data": {
            "text/plain": [
              "3×3 Array{Float64,2}:\n",
              " -0.149832     0.973627  -0.407871\n",
              " -0.00251947  -1.46936   -0.141511\n",
              "  0.676479    -0.774655   0.349923"
            ]
          }
        }
      ],
      "source": [
        "# random array (normal distribution)\n",
        "t= randn(3,3)\n",
        "t"
      ],
      "id": "cell-91"
    },
    {
      "cell_type": "markdown",
      "metadata": {},
      "source": [
        "Vectorized operations take a ., even comparisons (pointwise operations)"
      ],
      "id": "ca97ac84-c9dd-4200-815d-34a0a45f3063"
    },
    {
      "cell_type": "code",
      "execution_count": 84,
      "metadata": {},
      "outputs": [
        {
          "output_type": "display_data",
          "metadata": {},
          "data": {
            "text/plain": [
              "2×2 Matrix{Int64}:\n",
              " 1  2\n",
              " 3  4"
            ]
          }
        }
      ],
      "source": [
        "B = [1 2;3 4]"
      ],
      "id": "cell-93"
    },
    {
      "cell_type": "code",
      "execution_count": 85,
      "metadata": {},
      "outputs": [
        {
          "output_type": "display_data",
          "metadata": {},
          "data": {
            "text/plain": [
              "2×2 Matrix{Int64}:\n",
              "  7  10\n",
              " 15  22"
            ]
          }
        }
      ],
      "source": [
        "B*B"
      ],
      "id": "cell-94"
    },
    {
      "cell_type": "code",
      "execution_count": 86,
      "metadata": {},
      "outputs": [
        {
          "output_type": "display_data",
          "metadata": {},
          "data": {
            "text/plain": [
              "2×2 Matrix{Int64}:\n",
              " 1   4\n",
              " 9  16"
            ]
          }
        }
      ],
      "source": [
        "B .* B"
      ],
      "id": "cell-95"
    },
    {
      "cell_type": "code",
      "execution_count": 87,
      "metadata": {},
      "outputs": [
        {
          "output_type": "display_data",
          "metadata": {},
          "data": {
            "text/plain": [
              "f (generic function with 1 method)"
            ]
          }
        }
      ],
      "source": [
        "f(x) = x^2+1"
      ],
      "id": "cell-96"
    },
    {
      "cell_type": "code",
      "execution_count": 88,
      "metadata": {},
      "outputs": [
        {
          "output_type": "display_data",
          "metadata": {},
          "data": {
            "text/plain": [
              "1850"
            ]
          }
        }
      ],
      "source": [
        "f(43)"
      ],
      "id": "cell-97"
    },
    {
      "cell_type": "code",
      "execution_count": 89,
      "metadata": {},
      "outputs": [
        {
          "output_type": "display_data",
          "metadata": {},
          "data": {
            "text/plain": [
              "2×2 Matrix{Int64}:\n",
              "  2   5\n",
              " 10  17"
            ]
          }
        }
      ],
      "source": [
        "f.(B)"
      ],
      "id": "cell-98"
    },
    {
      "cell_type": "markdown",
      "metadata": {},
      "source": [
        "Elements are always accessed with square brackets:"
      ],
      "id": "590c871b-9452-458c-a2c7-d3530abf9937"
    },
    {
      "cell_type": "code",
      "execution_count": 90,
      "metadata": {},
      "outputs": [
        {
          "output_type": "display_data",
          "metadata": {},
          "data": {
            "text/plain": [
              "2×3 Matrix{Int64}:\n",
              " 1  2  3\n",
              " 4  5  6"
            ]
          }
        }
      ],
      "source": [
        "B = [1 2 3; 4 5 6]"
      ],
      "id": "cell-100"
    },
    {
      "cell_type": "code",
      "execution_count": null,
      "metadata": {},
      "outputs": [],
      "source": [
        "You get element $B_{ij}$ with `B[i,j]`"
      ],
      "id": "cell-101"
    },
    {
      "cell_type": "code",
      "execution_count": 55,
      "metadata": {},
      "outputs": [
        {
          "output_type": "display_data",
          "metadata": {},
          "data": {
            "text/plain": [
              "2"
            ]
          }
        }
      ],
      "source": [
        "B[1,2]"
      ],
      "id": "cell-102"
    },
    {
      "cell_type": "markdown",
      "metadata": {},
      "source": [
        "You select a whole row/column with `:`"
      ],
      "id": "a5cb2071-1ac6-4959-bf28-e688718b302a"
    },
    {
      "cell_type": "code",
      "execution_count": 91,
      "metadata": {},
      "outputs": [
        {
          "output_type": "display_data",
          "metadata": {},
          "data": {
            "text/plain": [
              "2×3 Matrix{Int64}:\n",
              " 1  2  3\n",
              " 4  5  6"
            ]
          }
        }
      ],
      "source": [
        "B"
      ],
      "id": "cell-104"
    },
    {
      "cell_type": "code",
      "execution_count": 92,
      "metadata": {},
      "outputs": [
        {
          "output_type": "display_data",
          "metadata": {},
          "data": {
            "text/plain": [
              "2-element Vector{Int64}:\n",
              " 1\n",
              " 4"
            ]
          }
        }
      ],
      "source": [
        "B[:,1]"
      ],
      "id": "cell-105"
    },
    {
      "cell_type": "code",
      "execution_count": 93,
      "metadata": {},
      "outputs": [
        {
          "output_type": "display_data",
          "metadata": {},
          "data": {
            "text/plain": [
              "3-element Vector{Int64}:\n",
              " 1\n",
              " 2\n",
              " 3"
            ]
          }
        }
      ],
      "source": [
        "B[1,:]"
      ],
      "id": "cell-106"
    },
    {
      "cell_type": "code",
      "execution_count": 94,
      "metadata": {},
      "outputs": [
        {
          "output_type": "display_data",
          "metadata": {},
          "data": {
            "text/plain": [
              "2×2 Matrix{Int64}:\n",
              " 1  2\n",
              " 4  5"
            ]
          }
        }
      ],
      "source": [
        "B[:,1:2]"
      ],
      "id": "cell-107"
    },
    {
      "cell_type": "code",
      "execution_count": 96,
      "metadata": {},
      "outputs": [
        {
          "output_type": "display_data",
          "metadata": {},
          "data": {
            "text/plain": [
              "2×2 Matrix{Int64}:\n",
              " 1  2\n",
              " 4  5"
            ]
          }
        }
      ],
      "source": [
        "B[:,1:end-1]"
      ],
      "id": "cell-108"
    },
    {
      "cell_type": "markdown",
      "metadata": {},
      "source": [
        "#### Control flow\n",
        "\n",
        "Conditions"
      ],
      "id": "f32e26ea-06af-418c-9ebc-07299b3b16bd"
    },
    {
      "cell_type": "code",
      "execution_count": 97,
      "metadata": {},
      "outputs": [
        {
          "output_type": "stream",
          "name": "stdout",
          "text": [
            "x is zero"
          ]
        }
      ],
      "source": [
        "x = 0\n",
        "if x<0\n",
        "    # block\n",
        "    println(\"x is negative\")\n",
        "elseif (x > 0) # optional and unlimited\n",
        "    println(\"x is positive\")\n",
        "else         # optional\n",
        "    println(\"x is zero\")\n",
        "end"
      ],
      "id": "cell-111"
    },
    {
      "cell_type": "markdown",
      "metadata": {},
      "source": [
        "While"
      ],
      "id": "3bd612eb-834c-464e-8ada-07e90dcc00e3"
    },
    {
      "cell_type": "code",
      "execution_count": 67,
      "metadata": {},
      "outputs": [
        {
          "output_type": "stream",
          "name": "stdout",
          "text": [
            "3\n",
            "2\n",
            "1"
          ]
        }
      ],
      "source": [
        "i = 3\n",
        "while i > 0\n",
        "    println(i)\n",
        "    i -= 1 # decrement\n",
        "end"
      ],
      "id": "cell-113"
    },
    {
      "cell_type": "markdown",
      "metadata": {},
      "source": [
        "For loops: your iterate over any iterable object: - range `i1:i2` -\n",
        "vector - tuple"
      ],
      "id": "97b9aef3-6ecc-4607-8fb0-198d7479225e"
    },
    {
      "cell_type": "code",
      "execution_count": 98,
      "metadata": {},
      "outputs": [
        {
          "output_type": "stream",
          "name": "stdout",
          "text": [
            "1\n",
            "2\n",
            "3"
          ]
        }
      ],
      "source": [
        "# Iterate through ranges of numbers\n",
        "for i ∈ (1:3)\n",
        "    println(i)\n",
        "end"
      ],
      "id": "cell-115"
    },
    {
      "cell_type": "code",
      "execution_count": 99,
      "metadata": {},
      "outputs": [
        {
          "output_type": "stream",
          "name": "stdout",
          "text": [
            "Boston\n",
            "New York\n",
            "Philadelphia"
          ]
        }
      ],
      "source": [
        "# Iterate through arrays\n",
        "cities = [\"Boston\", \"New York\", \"Philadelphia\"]\n",
        "for city in cities\n",
        "    println(city)\n",
        "end"
      ],
      "id": "cell-116"
    },
    {
      "cell_type": "code",
      "execution_count": 100,
      "metadata": {},
      "outputs": [
        {
          "output_type": "display_data",
          "metadata": {},
          "data": {
            "text/plain": [
              "3-element Vector{String}:\n",
              " \"Boston\"\n",
              " \"New York\"\n",
              " \"Philadelphia\""
            ]
          }
        }
      ],
      "source": [
        "cities"
      ],
      "id": "cell-117"
    },
    {
      "cell_type": "code",
      "execution_count": 101,
      "metadata": {},
      "outputs": [
        {
          "output_type": "display_data",
          "metadata": {},
          "data": {
            "text/plain": [
              "3-element Vector{String}:\n",
              " \"Massachussets\"\n",
              " \"New York\"\n",
              " \"Pennsylvania\""
            ]
          }
        }
      ],
      "source": [
        "states = [\"Massachussets\", \"New York\", \"Pennsylvania\"]"
      ],
      "id": "cell-118"
    },
    {
      "cell_type": "code",
      "execution_count": 103,
      "metadata": {},
      "outputs": [
        {
          "output_type": "display_data",
          "metadata": {},
          "data": {
            "text/plain": [
              "zip([\"Boston\", \"New York\", \"Philadelphia\"], [\"Massachussets\", \"New York\", \"Pennsylvania\"])"
            ]
          }
        }
      ],
      "source": [
        "two_by_two_iterable = zip(cities, states)"
      ],
      "id": "cell-119"
    },
    {
      "cell_type": "code",
      "execution_count": 104,
      "metadata": {},
      "outputs": [
        {
          "output_type": "display_data",
          "metadata": {},
          "data": {
            "text/plain": [
              "3-element Vector{Tuple{String, String}}:\n",
              " (\"Boston\", \"Massachussets\")\n",
              " (\"New York\", \"New York\")\n",
              " (\"Philadelphia\", \"Pennsylvania\")"
            ]
          }
        }
      ],
      "source": [
        "collect(two_by_two_iterable)"
      ],
      "id": "cell-120"
    },
    {
      "cell_type": "code",
      "execution_count": 105,
      "metadata": {},
      "outputs": [
        {
          "output_type": "display_data",
          "metadata": {},
          "data": {
            "text/plain": [
              "3-element Vector{Tuple{String, String}}:\n",
              " (\"Boston\", \"Massachussets\")\n",
              " (\"New York\", \"New York\")\n",
              " (\"Philadelphia\", \"Pennsylvania\")"
            ]
          }
        }
      ],
      "source": [
        "[two_by_two_iterable...]"
      ],
      "id": "cell-121"
    },
    {
      "cell_type": "code",
      "execution_count": 106,
      "metadata": {},
      "outputs": [
        {
          "output_type": "stream",
          "name": "stdout",
          "text": [
            "(\"Boston\", \"Massachussets\")\n",
            "(\"New York\", \"New York\")\n",
            "(\"Philadelphia\", \"Pennsylvania\")"
          ]
        }
      ],
      "source": [
        "# Iterate through arrays of tuples using zip\n",
        "for kw in zip(cities, states)\n",
        "    println(kw)\n",
        "end"
      ],
      "id": "cell-122"
    },
    {
      "cell_type": "code",
      "execution_count": 107,
      "metadata": {},
      "outputs": [
        {
          "output_type": "stream",
          "name": "stdout",
          "text": [
            "Boston, Massachussets\n",
            "New York, New York\n",
            "Philadelphia, Pennsylvania"
          ]
        }
      ],
      "source": [
        "# Iterate through arrays of tuples using zip\n",
        "for (city, state) in zip(cities, states)\n",
        "    println(\"$city, $state\")\n",
        "end"
      ],
      "id": "cell-123"
    },
    {
      "cell_type": "code",
      "execution_count": 108,
      "metadata": {},
      "outputs": [
        {
          "output_type": "stream",
          "name": "stdout",
          "text": [
            "City 1 is Boston\n",
            "City 2 is New York\n",
            "City 3 is Philadelphia"
          ]
        }
      ],
      "source": [
        "# Iterate through arrays and their indices using enumerate\n",
        "for (i, city) in enumerate(cities)\n",
        "    println(\"City $i is $city\")\n",
        "end"
      ],
      "id": "cell-125"
    },
    {
      "cell_type": "code",
      "execution_count": 110,
      "metadata": {},
      "outputs": [
        {
          "output_type": "display_data",
          "metadata": {},
          "data": {
            "text/plain": [
              "2"
            ]
          }
        }
      ],
      "source": [
        "t = (;a = 2, b = 3)\n",
        "t[1]\n",
        "t.a"
      ],
      "id": "cell-126"
    },
    {
      "cell_type": "markdown",
      "metadata": {},
      "source": [
        "#### List comprehensions"
      ],
      "id": "bed97a00-3e9f-415b-9d49-d9caf9012f10"
    },
    {
      "cell_type": "code",
      "execution_count": 111,
      "metadata": {},
      "outputs": [
        {
          "output_type": "display_data",
          "metadata": {},
          "data": {
            "text/plain": [
              "10-element Vector{Float64}:\n",
              "  1.0\n",
              "  2.0\n",
              "  3.0\n",
              "  4.0\n",
              "  5.0\n",
              "  6.0\n",
              "  7.0\n",
              "  8.0\n",
              "  9.0\n",
              " 10.0"
            ]
          }
        }
      ],
      "source": [
        "[1:10. ...] # unpack operator"
      ],
      "id": "cell-128"
    },
    {
      "cell_type": "code",
      "execution_count": 112,
      "metadata": {},
      "outputs": [
        {
          "output_type": "display_data",
          "metadata": {},
          "data": {
            "text/plain": [
              "10-element Vector{Int64}:\n",
              "   1\n",
              "   4\n",
              "   9\n",
              "  16\n",
              "  25\n",
              "  36\n",
              "  49\n",
              "  64\n",
              "  81\n",
              " 100"
            ]
          }
        }
      ],
      "source": [
        "[i^2 for i  in 1:10] # collect with comprehension syntax"
      ],
      "id": "cell-129"
    },
    {
      "cell_type": "code",
      "execution_count": 118,
      "metadata": {},
      "outputs": [],
      "source": [
        "[i^2 for i=1:100000000 if mod(i,2)==0] ;"
      ],
      "id": "cell-130"
    },
    {
      "cell_type": "code",
      "execution_count": 120,
      "metadata": {},
      "outputs": [
        {
          "output_type": "display_data",
          "metadata": {},
          "data": {
            "text/plain": [
              "Base.Generator{Base.Iterators.Filter{var\"#42#44\", UnitRange{Int64}}, var\"#41#43\"}(var\"#41#43\"(), Base.Iterators.Filter{var\"#42#44\", UnitRange{Int64}}(var\"#42#44\"(), 1:100000000))"
            ]
          }
        }
      ],
      "source": [
        "gen = (i^2 for i=1:100000000 if mod(i,2)==0)"
      ],
      "id": "cell-131"
    },
    {
      "cell_type": "code",
      "execution_count": 121,
      "metadata": {},
      "outputs": [
        {
          "output_type": "display_data",
          "metadata": {},
          "data": {
            "text/plain": [
              "338960700901149440"
            ]
          }
        }
      ],
      "source": [
        "sum(gen)"
      ],
      "id": "cell-132"
    },
    {
      "cell_type": "markdown",
      "metadata": {},
      "source": [
        "### Data Types and multiple dispatch\n",
        "\n",
        "#### Composite types\n",
        "\n",
        "A **composite type** is a collection of named fields that can be treated\n",
        "as a single value. They bear a passing resemblance to MATLAB structs.\n",
        "\n",
        "All fields must be declared ahead of time. The double colon, `::`,\n",
        "constrains a field to contain values of a certain type. This is optional\n",
        "for any field."
      ],
      "id": "64064d87-dc69-4885-bfb2-38a404c7c09e"
    },
    {
      "cell_type": "code",
      "execution_count": 98,
      "metadata": {},
      "outputs": [],
      "source": [
        "# Type definition with 4 fields\n",
        "struct ParameterFree\n",
        "    value  \n",
        "    transformation  \n",
        "    tex_label\n",
        "    description \n",
        "end"
      ],
      "id": "cell-135"
    },
    {
      "cell_type": "code",
      "execution_count": 95,
      "metadata": {},
      "outputs": [
        {
          "output_type": "display_data",
          "metadata": {},
          "data": {
            "text/plain": [
              "ParameterFree(\"1\", var\"#9#10\"(), \"\\\\sqrt{1+x^2}\", (\"a\", 1))"
            ]
          }
        }
      ],
      "source": [
        "pf = ParameterFree(\"1\", x->x^2, \"\\\\sqrt{1+x^2}\", (\"a\",1))"
      ],
      "id": "cell-136"
    },
    {
      "cell_type": "code",
      "execution_count": 99,
      "metadata": {},
      "outputs": [
        {
          "output_type": "display_data",
          "metadata": {},
          "data": {
            "text/plain": [
              "\"1\""
            ]
          }
        }
      ],
      "source": [
        "pf.value"
      ],
      "id": "cell-137"
    },
    {
      "cell_type": "markdown",
      "metadata": {},
      "source": [
        "Two reasons to create structures: - syntactic shortcut (you access the\n",
        "fields with .) - specify the types of the fields"
      ],
      "id": "fe257ae4-7a1f-4d15-813c-a50899b1d6ec"
    },
    {
      "cell_type": "code",
      "execution_count": 100,
      "metadata": {},
      "outputs": [],
      "source": [
        "# Type definition\n",
        "struct Parameter\n",
        "    value ::Float64\n",
        "    transformation ::Function # Function is a type!\n",
        "    tex_label::String\n",
        "    description::String\n",
        "end"
      ],
      "id": "cell-139"
    },
    {
      "cell_type": "code",
      "execution_count": 101,
      "metadata": {},
      "outputs": [],
      "source": [
        "p = Parameter(\"1\", x->x^2, \"\\\\sqrt{1+x^2}\", (\"a\",1))"
      ],
      "id": "cell-140"
    },
    {
      "cell_type": "code",
      "execution_count": 102,
      "metadata": {},
      "outputs": [
        {
          "output_type": "display_data",
          "metadata": {},
          "data": {
            "text/plain": [
              "Parameter(0.43, var\"#13#14\"(), \"\\\\sqrt{1+x^2}\", \"This is a description\")"
            ]
          }
        }
      ],
      "source": [
        "p = Parameter(0.43, x->x^2, \"\\\\sqrt{1+x^2}\", \"This is a description\")"
      ],
      "id": "cell-141"
    },
    {
      "cell_type": "code",
      "execution_count": 103,
      "metadata": {},
      "outputs": [
        {
          "output_type": "display_data",
          "metadata": {},
          "data": {
            "text/plain": [
              "0.43"
            ]
          }
        }
      ],
      "source": [
        "p.value"
      ],
      "id": "cell-142"
    },
    {
      "cell_type": "markdown",
      "metadata": {},
      "source": [
        "When a type with $n$ fields is defined, a constructor (function that\n",
        "creates an instance of that type) that takes $n$ ordered arguments is\n",
        "automatically created. Additional constructors can be defined for\n",
        "convenience."
      ],
      "id": "6e753eea-43f3-4d96-aafb-4899c46821ac"
    },
    {
      "cell_type": "code",
      "execution_count": 104,
      "metadata": {},
      "outputs": [
        {
          "output_type": "display_data",
          "metadata": {},
          "data": {
            "text/plain": [
              "Parameter(0.9, identity, \"\\\\beta\", \"Discount rate\")"
            ]
          }
        }
      ],
      "source": [
        "# Creating an instance of the Parameter type using the default\n",
        "# constructor\n",
        "β = Parameter(0.9, identity, \"\\\\beta\", \"Discount rate\")"
      ],
      "id": "cell-144"
    },
    {
      "cell_type": "code",
      "execution_count": 106,
      "metadata": {},
      "outputs": [
        {
          "output_type": "display_data",
          "metadata": {},
          "data": {
            "text/plain": [
              "Parameter"
            ]
          }
        }
      ],
      "source": [
        "function Parameter(value)\n",
        "    return Parameter(value, x->x, \"x\", \"Anonymous\")\n",
        "end"
      ],
      "id": "cell-145"
    },
    {
      "cell_type": "code",
      "execution_count": 107,
      "metadata": {},
      "outputs": [
        {
          "output_type": "display_data",
          "metadata": {},
          "data": {
            "text/plain": [
              "Parameter(0.4, var\"#15#16\"(), \"x\", \"Anonymous\")"
            ]
          }
        }
      ],
      "source": [
        "Parameter(0.4)"
      ],
      "id": "cell-146"
    },
    {
      "cell_type": "code",
      "execution_count": 108,
      "metadata": {},
      "outputs": [
        {
          "output_type": "display_data",
          "metadata": {},
          "data": {
            "text/plain": [
              "Parameter"
            ]
          }
        }
      ],
      "source": [
        "Parameter(value, transformation, tex) = Parameter(value, transformation, tex, \"no description\")"
      ],
      "id": "cell-147"
    },
    {
      "cell_type": "code",
      "execution_count": 109,
      "metadata": {},
      "outputs": [
        {
          "output_type": "display_data",
          "metadata": {},
          "data": {
            "text/html": [
              "# 4 methods for type constructor:<ul><li> Parameter(value::<b>Float64</b>, transformation::<b>Function</b>, tex_label::<b>String</b>, description::<b>String</b>) in Main at In[100]:3</li> <li> Parameter(value) in Main at In[106]:1</li> <li> Parameter(value, transformation, tex) in Main at In[108]:1</li> <li> Parameter(value, transformation, tex_label, description) in Main at In[100]:3</li> </ul>"
            ]
          }
        }
      ],
      "source": [
        "methods( Parameter )"
      ],
      "id": "cell-148"
    },
    {
      "cell_type": "code",
      "execution_count": 110,
      "metadata": {},
      "outputs": [
        {
          "output_type": "display_data",
          "metadata": {},
          "data": {
            "text/plain": [
              "Parameter(0.5, identity, \"\\alpha\", \"No description available\")"
            ]
          }
        }
      ],
      "source": [
        "# Alternative constructors end with an appeal to the default\n",
        "# constructor\n",
        "function Parameter(value::Float64, tex_label::String)\n",
        "    transformation = identity\n",
        "    description = \"No description available\"\n",
        "    return Parameter(value, transformation, tex_label, description)\n",
        "end\n",
        "\n",
        "α = Parameter(0.5, \"\\alpha\")"
      ],
      "id": "cell-149"
    },
    {
      "cell_type": "markdown",
      "metadata": {},
      "source": [
        "Now the function `Parameter` has two different `methods` with different\n",
        "signatures:"
      ],
      "id": "4b303c72-e0c7-4eef-8894-e43a1505ca1f"
    },
    {
      "cell_type": "code",
      "execution_count": 9,
      "metadata": {},
      "outputs": [
        {
          "output_type": "display_data",
          "metadata": {},
          "data": {
            "text/html": [
              "# 4 methods for type constructor:<ul><li> Parameter(value::<b>Float64</b>, transformation::<b>Function</b>, tex_label::<b>String</b>, description::<b>String</b>) in Main at In[1]:3</li> <li> Parameter(value::<b>Float64</b>, tex_label::<b>String</b>) in Main at In[8]:4</li> <li> Parameter(value, transformation, tex) in Main at In[5]:1</li> <li> Parameter(value, transformation, tex_label, description) in Main at In[1]:3</li> </ul>"
            ]
          }
        }
      ],
      "source": [
        "methods(Parameter)"
      ],
      "id": "cell-151"
    },
    {
      "cell_type": "markdown",
      "metadata": {},
      "source": [
        "We have seen that a function can have several implementations, called\n",
        "methods, for different number of arguments, or for different types of\n",
        "arguments."
      ],
      "id": "1aa05e90-aee1-4265-b254-08000594ac89"
    },
    {
      "cell_type": "code",
      "execution_count": 111,
      "metadata": {},
      "outputs": [
        {
          "output_type": "display_data",
          "metadata": {},
          "data": {
            "text/plain": [
              "fun (generic function with 1 method)"
            ]
          }
        }
      ],
      "source": [
        "fun(x::Int64, y::Int64) = x^3 + y"
      ],
      "id": "cell-153"
    },
    {
      "cell_type": "code",
      "execution_count": 114,
      "metadata": {},
      "outputs": [
        {
          "output_type": "display_data",
          "metadata": {},
          "data": {
            "text/plain": [
              "fun (generic function with 2 methods)"
            ]
          }
        }
      ],
      "source": [
        "fun(x::Float64, y::Int64) = x/2 + y"
      ],
      "id": "cell-154"
    },
    {
      "cell_type": "code",
      "execution_count": 115,
      "metadata": {},
      "outputs": [
        {
          "output_type": "display_data",
          "metadata": {},
          "data": {
            "text/plain": [
              "10"
            ]
          }
        }
      ],
      "source": [
        "fun(2, 2)"
      ],
      "id": "cell-155"
    },
    {
      "cell_type": "code",
      "execution_count": 117,
      "metadata": {},
      "outputs": [
        {
          "output_type": "display_data",
          "metadata": {},
          "data": {
            "text/plain": [
              "3.0"
            ]
          }
        }
      ],
      "source": [
        "fun(2.0, 2)"
      ],
      "id": "cell-156"
    },
    {
      "cell_type": "code",
      "execution_count": null,
      "metadata": {},
      "outputs": [],
      "source": [
        "α.tex_label"
      ],
      "id": "cell-157"
    },
    {
      "cell_type": "code",
      "execution_count": 118,
      "metadata": {},
      "outputs": [
        {
          "output_type": "display_data",
          "metadata": {},
          "data": {
            "text/plain": [
              "0.5"
            ]
          }
        }
      ],
      "source": [
        "# Access a particular field using .\n",
        "α.value"
      ],
      "id": "cell-158"
    },
    {
      "cell_type": "code",
      "execution_count": null,
      "metadata": {},
      "outputs": [],
      "source": [
        "# Fields are modifiable and can be assigned to, like \n",
        "# ordinary variables\n",
        "α.value = 0.75"
      ],
      "id": "cell-159"
    },
    {
      "cell_type": "markdown",
      "metadata": {},
      "source": [
        "### Mutable vs non mutable types\n",
        "\n",
        "by default structures in Julia are non-mutable"
      ],
      "id": "44602113-a50f-4820-8304-47abd601cc8f"
    },
    {
      "cell_type": "code",
      "execution_count": 123,
      "metadata": {},
      "outputs": [],
      "source": [
        "p.value = 3.0"
      ],
      "id": "cell-162"
    },
    {
      "cell_type": "code",
      "execution_count": 124,
      "metadata": {},
      "outputs": [],
      "source": [
        "mutable struct Params\n",
        "    x:: Float64\n",
        "    y:: Float64\n",
        "end"
      ],
      "id": "cell-163"
    },
    {
      "cell_type": "code",
      "execution_count": 125,
      "metadata": {},
      "outputs": [
        {
          "output_type": "display_data",
          "metadata": {},
          "data": {
            "text/plain": [
              "Params(0.4, 0.2)"
            ]
          }
        }
      ],
      "source": [
        "pos = Params(0.4, 0.2)"
      ],
      "id": "cell-164"
    },
    {
      "cell_type": "code",
      "execution_count": 126,
      "metadata": {},
      "outputs": [
        {
          "output_type": "display_data",
          "metadata": {},
          "data": {
            "text/plain": [
              "0.5"
            ]
          }
        }
      ],
      "source": [
        "pos.x = 0.5"
      ],
      "id": "cell-165"
    },
    {
      "cell_type": "markdown",
      "metadata": {},
      "source": [
        "### Parameterized Types\n",
        "\n",
        "**Parameterized types** are data types that are defined to handle values\n",
        "identically regardless of the type of those values.\n",
        "\n",
        "Arrays are a familiar example. An `Array{T,1}` is a one-dimensional\n",
        "array filled with objects of any type `T` (e.g. `Float64`, `String`)."
      ],
      "id": "790f3acc-bf36-4ac7-84f8-07941f1df35e"
    },
    {
      "cell_type": "code",
      "execution_count": 127,
      "metadata": {},
      "outputs": [],
      "source": [
        "# Defining a parametric point\n",
        "struct Duple{T} # T is a parameter to the type Duple\n",
        "    x::T\n",
        "    y::T\n",
        "end"
      ],
      "id": "cell-167"
    },
    {
      "cell_type": "code",
      "execution_count": 130,
      "metadata": {},
      "outputs": [
        {
          "output_type": "display_data",
          "metadata": {},
          "data": {
            "text/plain": [
              "Duple{Int64}(3, 3)"
            ]
          }
        }
      ],
      "source": [
        "Duple(3, 3)"
      ],
      "id": "cell-168"
    },
    {
      "cell_type": "code",
      "execution_count": 128,
      "metadata": {},
      "outputs": [],
      "source": [
        "Duple(3, -1.0)"
      ],
      "id": "cell-169"
    },
    {
      "cell_type": "code",
      "execution_count": 29,
      "metadata": {},
      "outputs": [],
      "source": [
        "struct Truple{T}\n",
        "    x::Duple{T}\n",
        "    z::T\n",
        "end"
      ],
      "id": "cell-170"
    },
    {
      "cell_type": "markdown",
      "metadata": {},
      "source": [
        "This single declaration defines an unlimited number of new types:\n",
        "`Duple{String}`, `Duple{Float64}`, etc. are all immediately usable."
      ],
      "id": "29f43f65-3820-4282-bb14-161bcc81736b"
    },
    {
      "cell_type": "code",
      "execution_count": 30,
      "metadata": {},
      "outputs": [
        {
          "output_type": "display_data",
          "metadata": {},
          "data": {
            "text/plain": [
              "8"
            ]
          }
        }
      ],
      "source": [
        "sizeof(3.0)"
      ],
      "id": "cell-172"
    },
    {
      "cell_type": "code",
      "execution_count": 31,
      "metadata": {},
      "outputs": [
        {
          "output_type": "display_data",
          "metadata": {},
          "data": {
            "text/plain": [
              "16"
            ]
          }
        }
      ],
      "source": [
        "sizeof( Duple(3.0, -15.0) )"
      ],
      "id": "cell-173"
    },
    {
      "cell_type": "code",
      "execution_count": null,
      "metadata": {},
      "outputs": [],
      "source": [
        "# What happens here?\n",
        "Duple(1.5, 3)"
      ],
      "id": "cell-174"
    },
    {
      "cell_type": "code",
      "execution_count": 35,
      "metadata": {},
      "outputs": [],
      "source": [
        "struct Truple3{T,S}\n",
        "    x::Tuple{T,S}\n",
        "    z::S\n",
        "end"
      ],
      "id": "cell-175"
    },
    {
      "cell_type": "markdown",
      "metadata": {},
      "source": [
        "We can also restrict the type parameter `T`:"
      ],
      "id": "a39020c0-5e79-4414-a62a-08d09ba8c2b3"
    },
    {
      "cell_type": "code",
      "execution_count": 37,
      "metadata": {},
      "outputs": [
        {
          "output_type": "display_data",
          "metadata": {},
          "data": {
            "text/plain": [
              "false"
            ]
          }
        }
      ],
      "source": [
        "typeof(\"S\") <: Number"
      ],
      "id": "cell-177"
    },
    {
      "cell_type": "code",
      "execution_count": 38,
      "metadata": {},
      "outputs": [
        {
          "output_type": "display_data",
          "metadata": {},
          "data": {
            "text/plain": [
              "true"
            ]
          }
        }
      ],
      "source": [
        "typeof(4) <: Number"
      ],
      "id": "cell-178"
    },
    {
      "cell_type": "code",
      "execution_count": 40,
      "metadata": {},
      "outputs": [],
      "source": [
        "# T can be any subtype of Number, but nothing else\n",
        "struct PlanarCoordinate{T<:Number}\n",
        "    x::T\n",
        "    y::T\n",
        "end"
      ],
      "id": "cell-179"
    },
    {
      "cell_type": "code",
      "execution_count": 41,
      "metadata": {},
      "outputs": [],
      "source": [
        "PlanarCoordinate(\"4th Ave\", \"14th St\")"
      ],
      "id": "cell-180"
    },
    {
      "cell_type": "code",
      "execution_count": 42,
      "metadata": {},
      "outputs": [
        {
          "output_type": "display_data",
          "metadata": {},
          "data": {
            "text/plain": [
              "PlanarCoordinate{Rational{Int64}}(2//3, 8//9)"
            ]
          }
        }
      ],
      "source": [
        "PlanarCoordinate(2//3, 8//9)"
      ],
      "id": "cell-181"
    },
    {
      "cell_type": "markdown",
      "metadata": {},
      "source": [
        "Arrays are an exemple of mutable, parameterized types\n",
        "\n",
        "### Why Use Types?\n",
        "\n",
        "You can write all your code without thinking about types at all. If you\n",
        "do this, however, you’ll be missing out on some of the biggest benefits\n",
        "of using Julia.\n",
        "\n",
        "If you understand types, you can:\n",
        "\n",
        "-   Write faster code\n",
        "-   Write expressive, clear, and well-structured programs (keep this in\n",
        "    mind when we talk about functions)\n",
        "-   Reason more clearly about how your code works\n",
        "\n",
        "Even if you only use built-in functions and types, your code still takes\n",
        "advantage of Julia’s type system. That’s why it’s important to\n",
        "understand what types are and how to use them."
      ],
      "id": "aa639320-569b-4392-a9e9-39f405ccb0e7"
    },
    {
      "cell_type": "code",
      "execution_count": 49,
      "metadata": {},
      "outputs": [
        {
          "output_type": "display_data",
          "metadata": {},
          "data": {
            "text/plain": [
              "-25554.110202663698"
            ]
          }
        }
      ],
      "source": [
        "# Example: writing type-stable functions\n",
        "function sumofsins_unstable(n::Integer)  \n",
        "    sum = 0:: Integer\n",
        "    for i in 1:n  \n",
        "        sum += sin(3.4)  \n",
        "    end  \n",
        "    return sum \n",
        "end  \n",
        "\n",
        "function sumofsins_stable(n::Integer)  \n",
        "    sum = 0.0 :: Float64\n",
        "    for i in 1:n  \n",
        "        sum += sin(3.4)  \n",
        "    end  \n",
        "    return sum \n",
        "end\n",
        "\n",
        "# Compile and run\n",
        "sumofsins_unstable(Int(1e5))\n",
        "sumofsins_stable(Int(1e5))"
      ],
      "id": "cell-185"
    },
    {
      "cell_type": "code",
      "execution_count": 50,
      "metadata": {},
      "outputs": [
        {
          "output_type": "stream",
          "name": "stdout",
          "text": [
            "  0.000176 seconds"
          ]
        },
        {
          "output_type": "display_data",
          "metadata": {},
          "data": {
            "text/plain": [
              "-25554.110202663698"
            ]
          }
        }
      ],
      "source": [
        "@time sumofsins_unstable(Int(1e5))"
      ],
      "id": "cell-186"
    },
    {
      "cell_type": "code",
      "execution_count": 47,
      "metadata": {},
      "outputs": [
        {
          "output_type": "stream",
          "name": "stdout",
          "text": [
            "  0.000168 seconds"
          ]
        },
        {
          "output_type": "display_data",
          "metadata": {},
          "data": {
            "text/plain": [
              "-25554.110202663698"
            ]
          }
        }
      ],
      "source": [
        "@time sumofsins_stable(Int(1e5))"
      ],
      "id": "cell-187"
    },
    {
      "cell_type": "markdown",
      "metadata": {},
      "source": [
        "In `sumofsins_stable`, the compiler is guaranteed that `sum` is of type\n",
        "`Float64` throughout; therefore, it saves time and memory. On the other\n",
        "hand, in `sumofsins_unstable`, the compiler must check the type of `sum`\n",
        "at each iteration of the loop. Let’s look at the LLVM [intermediate\n",
        "representation](http://www.johnmyleswhite.com/notebook/2013/12/06/writing-type-stable-code-in-julia/).\n",
        "\n",
        "### Multiple Dispatch\n",
        "\n",
        "So far we have defined functions over argument lists of any type.\n",
        "Methods allow us to define functions “piecewise”. For any set of input\n",
        "arguments, we can define a **method**, a definition of one possible\n",
        "behavior for a function."
      ],
      "id": "505a19c1-f181-4dcf-b369-39b68f9c7bb1"
    },
    {
      "cell_type": "code",
      "execution_count": 51,
      "metadata": {},
      "outputs": [
        {
          "output_type": "display_data",
          "metadata": {},
          "data": {
            "text/plain": [
              "print_type (generic function with 1 method)"
            ]
          }
        }
      ],
      "source": [
        "# Define one method of the function print_type\n",
        "function print_type(x::Number)\n",
        "    println(\"$x is a number\")\n",
        "end"
      ],
      "id": "cell-191"
    },
    {
      "cell_type": "code",
      "execution_count": 53,
      "metadata": {},
      "outputs": [
        {
          "output_type": "display_data",
          "metadata": {},
          "data": {
            "text/plain": [
              "print_type (generic function with 2 methods)"
            ]
          }
        }
      ],
      "source": [
        "# Define another method\n",
        "function print_type(x::String)\n",
        "    println(\"$x is a string\")\n",
        "end"
      ],
      "id": "cell-192"
    },
    {
      "cell_type": "code",
      "execution_count": 54,
      "metadata": {},
      "outputs": [
        {
          "output_type": "display_data",
          "metadata": {},
          "data": {
            "text/plain": [
              "print_type (generic function with 3 methods)"
            ]
          }
        }
      ],
      "source": [
        "# Define yet another method\n",
        "function print_type(x::Number, y::Number)\n",
        "    println(\"$x and $y are both numbers\")\n",
        "end"
      ],
      "id": "cell-193"
    },
    {
      "cell_type": "code",
      "execution_count": 55,
      "metadata": {},
      "outputs": [
        {
          "output_type": "display_data",
          "metadata": {},
          "data": {
            "text/html": [
              "# 3 methods for generic function <b>print_type</b>:<ul><li> print_type(x::<b>String</b>) in Main at In[53]:3</li> <li> print_type(x::<b>Number</b>) in Main at In[51]:3</li> <li> print_type(x::<b>Number</b>, y::<b>Number</b>) in Main at In[54]:3</li> </ul>"
            ]
          }
        }
      ],
      "source": [
        "# See all methods for a given function\n",
        "methods(print_type)"
      ],
      "id": "cell-194"
    },
    {
      "cell_type": "markdown",
      "metadata": {},
      "source": [
        "Julia uses **multiple dispatch** to decide which **method** of a\n",
        "**function** to execute when a function is applied. In particular, Julia\n",
        "compares the types of *all* arguments to the signatures of the\n",
        "function’s methods in order to choose the applicable one, not just the\n",
        "first (hence “multiple”)."
      ],
      "id": "49226e2e-903c-46cc-831b-3b468c139c95"
    },
    {
      "cell_type": "code",
      "execution_count": 56,
      "metadata": {},
      "outputs": [
        {
          "output_type": "stream",
          "name": "stdout",
          "text": [
            "5 is a number"
          ]
        }
      ],
      "source": [
        "print_type(5)"
      ],
      "id": "cell-196"
    },
    {
      "cell_type": "code",
      "execution_count": 57,
      "metadata": {},
      "outputs": [
        {
          "output_type": "stream",
          "name": "stdout",
          "text": [
            "foo is a string"
          ]
        }
      ],
      "source": [
        "print_type(\"foo\")"
      ],
      "id": "cell-197"
    },
    {
      "cell_type": "code",
      "execution_count": 58,
      "metadata": {},
      "outputs": [],
      "source": [
        "print_type([1, 2, 3])"
      ],
      "id": "cell-198"
    },
    {
      "cell_type": "markdown",
      "metadata": {},
      "source": [
        "#### Other types of functions\n",
        "\n",
        "Julia supports a short function definition for one-liners"
      ],
      "id": "9d86e4cf-ce54-451d-af83-3d80ab8ed070"
    },
    {
      "cell_type": "code",
      "execution_count": null,
      "metadata": {},
      "outputs": [],
      "source": [
        "f(x::Float64) = x^2.0\n",
        "f(x::Int64) = x^3"
      ],
      "id": "cell-200"
    },
    {
      "cell_type": "markdown",
      "metadata": {},
      "source": [
        "As well as a special syntax for anonymous functions"
      ],
      "id": "b5938d30-b797-44df-a0e2-6f8ff2b9f06e"
    },
    {
      "cell_type": "code",
      "execution_count": null,
      "metadata": {},
      "outputs": [],
      "source": [
        "u->u^2"
      ],
      "id": "cell-202"
    },
    {
      "cell_type": "code",
      "execution_count": null,
      "metadata": {},
      "outputs": [],
      "source": [
        "map(u->u^2, [1,2,3,4])"
      ],
      "id": "cell-203"
    },
    {
      "cell_type": "markdown",
      "metadata": {},
      "source": [
        "### Keyword arguments and optional arguments"
      ],
      "id": "c4d96d84-a177-482e-84e2-711412e4d2e5"
    },
    {
      "cell_type": "code",
      "execution_count": 59,
      "metadata": {},
      "outputs": [],
      "source": [
        "f(a,b,c=true; algo=\"newton\")"
      ],
      "id": "cell-205"
    },
    {
      "cell_type": "markdown",
      "metadata": {},
      "source": [
        "### Packing/unpacking"
      ],
      "id": "514e9809-a15d-45ae-b354-eb0da92f04d1"
    },
    {
      "cell_type": "code",
      "execution_count": 60,
      "metadata": {},
      "outputs": [
        {
          "output_type": "display_data",
          "metadata": {},
          "data": {
            "text/plain": [
              "(1, 2, 4)"
            ]
          }
        }
      ],
      "source": [
        "t = (1,2,4)"
      ],
      "id": "cell-207"
    },
    {
      "cell_type": "code",
      "execution_count": 61,
      "metadata": {},
      "outputs": [
        {
          "output_type": "display_data",
          "metadata": {},
          "data": {
            "text/plain": [
              "(1, 2, 4)"
            ]
          }
        }
      ],
      "source": [
        "a,b,c = t"
      ],
      "id": "cell-208"
    },
    {
      "cell_type": "code",
      "execution_count": 65,
      "metadata": {},
      "outputs": [
        {
          "output_type": "display_data",
          "metadata": {},
          "data": {
            "text/plain": [
              "10-element Array{Int64,1}:\n",
              "  1\n",
              "  2\n",
              "  3\n",
              "  4\n",
              "  5\n",
              "  6\n",
              "  7\n",
              "  8\n",
              "  9\n",
              " 10"
            ]
          }
        }
      ],
      "source": [
        "[(1:10)...]"
      ],
      "id": "cell-209"
    },
    {
      "cell_type": "code",
      "execution_count": 66,
      "metadata": {},
      "outputs": [
        {
          "output_type": "display_data",
          "metadata": {},
          "data": {
            "text/plain": [
              "4-element Array{Int64,1}:\n",
              " 4\n",
              " 3\n",
              " 0\n",
              " 1"
            ]
          }
        }
      ],
      "source": [
        "cat([4,3], [0,1]; dims=1)"
      ],
      "id": "cell-210"
    },
    {
      "cell_type": "code",
      "execution_count": 67,
      "metadata": {},
      "outputs": [
        {
          "output_type": "display_data",
          "metadata": {},
          "data": {
            "text/plain": [
              "8-element Array{Int64,1}:\n",
              " 4\n",
              " 3\n",
              " 0\n",
              " 1\n",
              " 0\n",
              " 0\n",
              " 1\n",
              " 1"
            ]
          }
        }
      ],
      "source": [
        "l = [[4,3], [0,1], [0, 0], [1, 1]]\n",
        "# how do I concatenate it ?\n",
        "\n",
        "cat(l...; dims=1) ### see python's f(*s)"
      ],
      "id": "cell-211"
    },
    {
      "cell_type": "markdown",
      "metadata": {},
      "source": [
        "### Writing Julian Code\n",
        "\n",
        "As we’ve seen, you can use Julia just like you use MATLAB and get faster\n",
        "code. However, to write faster and *better* code, attempt to write in a\n",
        "“Julian” manner:\n",
        "\n",
        "-   Define composite types as logically needed\n",
        "-   Write type-stable functions for best performance\n",
        "-   Take advantage of multiple dispatch to write code that looks like\n",
        "    math\n",
        "-   Add methods to existing functions\n",
        "\n",
        "### Just-in-Time Compilation\n",
        "\n",
        "How is Julia so fast? Julia is just-in-time (JIT) compiled, which means\n",
        "(according to [this StackExchange\n",
        "answer](http://stackoverflow.com/questions/95635/what-does-a-just-in-time-jit-compiler-do)):\n",
        "\n",
        "> A JIT compiler runs after the program has started and compiles the\n",
        "> code (usually bytecode or some kind of VM instructions) on the fly (or\n",
        "> just-in-time, as it’s called) into a form that’s usually faster,\n",
        "> typically the host CPU’s native instruction set. *A JIT has access to\n",
        "> dynamic runtime information whereas a standard compiler doesn’t and\n",
        "> can make better optimizations like inlining functions that are used\n",
        "> frequently.*\n",
        "\n",
        "> This is in contrast to a traditional compiler that compiles all the\n",
        "> code to machine language before the program is first run.\n",
        "\n",
        "In particular, Julia uses type information at runtime to optimize how\n",
        "your code is compiled. This is why writing type-stable code makes such a\n",
        "difference in speed!\n",
        "\n",
        "## Additional Exercises\n",
        "\n",
        "Taken from QuantEcon’s [Julia\n",
        "Essentials](https://lectures.quantecon.org/jl/julia_essentials.html) and\n",
        "[Vectors, Arrays, and\n",
        "Matrices](https://lectures.quantecon.org/jl/julia_arrays.html) lectures.\n",
        "\n",
        "1.  Consider the polynomial $$p(x) = \\sum_{i=0}^n a_0 x^0$$ Using\n",
        "    `enumerate`, write a function `p` such that `p(x, coeff)` computes\n",
        "    the value of the polynomial with coefficients `coeff` evaluated at\n",
        "    `x`."
      ],
      "id": "c046c7b9-b02d-4885-b7ec-69529b9df96c"
    },
    {
      "cell_type": "code",
      "execution_count": 75,
      "metadata": {},
      "outputs": [
        {
          "output_type": "display_data",
          "metadata": {},
          "data": {
            "text/plain": [
              "ppp (generic function with 1 method)"
            ]
          }
        }
      ],
      "source": [],
      "id": "cell-216"
    },
    {
      "cell_type": "markdown",
      "metadata": {},
      "source": [
        "1.  Write a function `solve_discrete_lyapunov` that solves the discrete\n",
        "    Lyapunov equation $$S = ASA' + \\Sigma \\Sigma'$$ using the iterative\n",
        "    procedure $$S_0 = \\Sigma \\Sigma'$$\n",
        "    $$S_{t+1} = A S_t A' + \\Sigma \\Sigma'$$ taking in as arguments the\n",
        "    $n \\times n$ matrix $A$, the $n \\times k$ matrix $\\Sigma$, and a\n",
        "    number of iterations."
      ],
      "id": "9a8e6a8b-5889-4ad1-bb9f-a0046f1d388b"
    }
  ],
  "nbformat": 4,
  "nbformat_minor": 5,
  "metadata": {
    "kernelspec": {
      "name": "julia-1.8",
      "display_name": "Julia 1.8.4",
      "language": "julia"
    },
    "language_info": {
      "name": "julia",
      "file_extension": ".jl",
      "mimetype": "application/julia",
      "version": "1.8.4"
    }
  }
}
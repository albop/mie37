{
  "cells": [
    {
      "cell_type": "markdown",
      "metadata": {},
      "source": [
        "# Discrete Dynamic Programming\n",
        "\n",
        "Pablo Winant\n",
        "\n",
        "## Markov Chains\n",
        "\n",
        "A worker’s employment dynamics obey the stochastic matrix\n",
        "\n",
        "$$P = \\begin{bmatrix}\n",
        "1-\\alpha & \\alpha \\\\\n",
        "\\beta & 1-\\beta\n",
        "\\end{bmatrix}$$\n",
        "\n",
        "$$P = \\begin{bmatrix}\n",
        "1-\\alpha & ... \\\\\n",
        "\\beta & ...\n",
        "\\end{bmatrix}$$\n",
        "\n",
        "with $\\alpha\\in(0,1)$ and $\\beta\\in (0,1)$. First line corresponds to\n",
        "employment, second line to unemployment.\n",
        "\n",
        "**Which is the stationary equilibrium? (choose any value for $\\alpha$\n",
        "and $\\beta$)**"
      ],
      "id": "680b90b5-fec7-4935-aa6b-895e957a7a63"
    },
    {
      "cell_type": "code",
      "execution_count": 1,
      "metadata": {},
      "outputs": [
        {
          "output_type": "display_data",
          "metadata": {},
          "data": {
            "text/plain": [
              "2×2 Matrix{Float64}:\n",
              " 0.877  0.123\n",
              " 0.345  0.655"
            ]
          }
        }
      ],
      "source": [
        "α = 0.123\n",
        "β = 0.345\n",
        "P = [1-α α ; β 1-β]"
      ],
      "id": "cell-4"
    },
    {
      "cell_type": "code",
      "execution_count": 18,
      "metadata": {},
      "outputs": [
        {
          "output_type": "display_data",
          "metadata": {},
          "data": {
            "text/plain": [
              "3×3 Matrix{Float64}:\n",
              " 0.0615  0.877   0.0615\n",
              " 0.655   0.1725  0.1725\n",
              " 0.5424  0.1356  0.322"
            ]
          }
        }
      ],
      "source": [
        "α = 0.123\n",
        "β = 0.345\n",
        "γ = 0.678\n",
        "P = [α/2 1-α  α/2; 1-β β/2 β/2; γ*0.8 γ*0.2 1-γ]"
      ],
      "id": "cell-5"
    },
    {
      "cell_type": "code",
      "execution_count": 39,
      "metadata": {},
      "outputs": [
        {
          "output_type": "display_data",
          "metadata": {},
          "data": {
            "text/plain": [
              "3×3 Matrix{Float64}:\n",
              " 0.0615  0.877   0.0615\n",
              " 0.655   0.1725  0.1725\n",
              " 0.5424  0.1356  0.322"
            ]
          }
        }
      ],
      "source": [
        "α = 0.123\n",
        "β = 0.345\n",
        "γ = 0.678\n",
        "P = [α/2 1-α  α/2; 1-β β/2 β/2; γ*0.8 γ*0.2 1-γ]\n",
        "P"
      ],
      "id": "cell-6"
    },
    {
      "cell_type": "code",
      "execution_count": 40,
      "metadata": {},
      "outputs": [
        {
          "output_type": "display_data",
          "metadata": {},
          "data": {
            "text/plain": [
              "3×3 adjoint(::Matrix{Float64}) with eltype Float64:\n",
              " 0.0615  0.655   0.5424\n",
              " 0.877   0.1725  0.1356\n",
              " 0.0615  0.1725  0.322"
            ]
          }
        }
      ],
      "source": [
        "Pp = P'"
      ],
      "id": "cell-7"
    },
    {
      "cell_type": "code",
      "execution_count": null,
      "metadata": {},
      "outputs": [
        {
          "output_type": "display_data",
          "metadata": {},
          "data": {
            "text/plain": [
              "3-element Vector{Float64}:\n",
              " 0.41963333333333336\n",
              " 0.39503333333333335\n",
              " 0.18533333333333332"
            ]
          }
        }
      ],
      "source": [],
      "id": "cell-8"
    },
    {
      "cell_type": "code",
      "execution_count": 44,
      "metadata": {},
      "outputs": [
        {
          "output_type": "display_data",
          "metadata": {},
          "data": {
            "text/plain": [
              "1×3 adjoint(::Vector{Float64}) with eltype Float64:\n",
              " 0.400406  0.44903  0.150564"
            ]
          }
        }
      ],
      "source": [
        "μbar = μ0'*P^50 # stupid too many matrix multiplications \n"
      ],
      "id": "cell-9"
    },
    {
      "cell_type": "code",
      "execution_count": null,
      "metadata": {},
      "outputs": [
        {
          "output_type": "display_data",
          "metadata": {},
          "data": {
            "text/plain": [
              "3-element Vector{Float64}:\n",
              " 0.4004056827203767\n",
              " 0.4490299796026508\n",
              " 0.1505643376769728"
            ]
          }
        }
      ],
      "source": [
        "μ0 = ones(3)/3 # initial probability vector\n",
        "\n",
        "for t=1:40\n",
        "    μ1 = Pp * μ0\n",
        "    μ0 = μ1\n",
        "end\n",
        "\n",
        "μ0"
      ],
      "id": "cell-10"
    },
    {
      "cell_type": "code",
      "execution_count": 46,
      "metadata": {},
      "outputs": [
        {
          "output_type": "display_data",
          "metadata": {},
          "data": {
            "text/plain": [
              "3"
            ]
          }
        }
      ],
      "source": [
        "size(P, 1)"
      ],
      "id": "cell-11"
    },
    {
      "cell_type": "code",
      "execution_count": 52,
      "metadata": {},
      "outputs": [
        {
          "output_type": "display_data",
          "metadata": {},
          "data": {
            "text/plain": [
              "solve_by_simulation (generic function with 1 method)"
            ]
          }
        }
      ],
      "source": [
        "# refactor as a function to solve any stochastic matrix by simulation\n",
        "\n",
        "function solve_by_simulation(P; T=1000, τ_η=1e-10)\n",
        "\n",
        "    n = size(P, 1)\n",
        "\n",
        "    Pp = P'\n",
        "\n",
        "    μ0 = ones(n)/n # initial probability vector\n",
        "\n",
        "    for t=1:T\n",
        "        μ1 = Pp * μ0\n",
        "\n",
        "        # check whether we have a fixed point\n",
        "        # ϵ = maximum(abs, μ1 - Pp*μ1)\n",
        "        # not useful because Pp*μ1 will be computed in the next iteration\n",
        "\n",
        "        # check successsive approximation errors\n",
        "        η = maximum(abs,μ1 - μ0)\n",
        "\n",
        "        if η<τ_η\n",
        "            return μ1\n",
        "        end\n",
        "\n",
        "        μ0 = μ1\n",
        "    end\n",
        "\n",
        "    error(\"No convegence\")\n",
        "\n",
        "end"
      ],
      "id": "cell-12"
    },
    {
      "cell_type": "code",
      "execution_count": 53,
      "metadata": {},
      "outputs": [
        {
          "output_type": "display_data",
          "metadata": {},
          "data": {
            "text/plain": [
              "3-element Vector{Float64}:\n",
              " 0.40040568284433287\n",
              " 0.4490299794605776\n",
              " 0.15056433769508987"
            ]
          }
        }
      ],
      "source": [
        "solve_by_simulation(P)"
      ],
      "id": "cell-13"
    },
    {
      "cell_type": "code",
      "execution_count": null,
      "metadata": {},
      "outputs": [],
      "source": [
        "### Solve with linear algebra\n",
        "\n",
        "# let's solve M μ = μ by defining the appropriate M"
      ],
      "id": "cell-14"
    },
    {
      "cell_type": "code",
      "execution_count": 56,
      "metadata": {},
      "outputs": [],
      "source": [
        "using LinearAlgebra: I"
      ],
      "id": "cell-15"
    },
    {
      "cell_type": "code",
      "execution_count": 59,
      "metadata": {},
      "outputs": [
        {
          "output_type": "display_data",
          "metadata": {},
          "data": {
            "text/plain": [
              "3×3 Matrix{Float64}:\n",
              " -0.9385   0.655    0.5424\n",
              "  0.877   -0.8275   0.1356\n",
              "  0.0615   0.1725  -0.678"
            ]
          }
        }
      ],
      "source": [
        "P' - I"
      ],
      "id": "cell-16"
    },
    {
      "cell_type": "code",
      "execution_count": 66,
      "metadata": {},
      "outputs": [
        {
          "output_type": "display_data",
          "metadata": {},
          "data": {
            "text/plain": [
              "3-element Vector{Float64}:\n",
              " 0.4004056828214058\n",
              " 0.44902997948685536\n",
              " 0.15056433769173883"
            ]
          }
        }
      ],
      "source": [
        "# using least square solver\n",
        "F = cat( P' - I, ones(1, 3); dims=1)\n",
        "R = zeros(4)\n",
        "R[end] = 1.0\n",
        "F \\ R # here it solves a nonsquare system"
      ],
      "id": "cell-17"
    },
    {
      "cell_type": "code",
      "execution_count": 72,
      "metadata": {},
      "outputs": [
        {
          "output_type": "display_data",
          "metadata": {},
          "data": {
            "text/plain": [
              "3-element Vector{Float64}:\n",
              " 0.40040568282140593\n",
              " 0.44902997948685536\n",
              " 0.15056433769173877"
            ]
          }
        }
      ],
      "source": [
        "# using linear solver\n",
        "M = cat( P' - I,; dims=1)\n",
        "# replace last line with ones\n",
        "M[end,:] .= 1.0\n",
        "D = zeros(3)\n",
        "D[end] = 1.0\n",
        "M \\ D\n"
      ],
      "id": "cell-18"
    },
    {
      "cell_type": "markdown",
      "metadata": {},
      "source": [
        "**In the long run, what will the the fraction $p$ of time spent\n",
        "unemployed? (Denote by $X_m$ the fraction of dates were one is\n",
        "unemployed)**"
      ],
      "id": "e6b7a004-607b-471e-80c0-189849a23ed1"
    },
    {
      "cell_type": "code",
      "execution_count": 78,
      "metadata": {},
      "outputs": [
        {
          "output_type": "display_data",
          "metadata": {},
          "data": {
            "text/plain": [
              "forecast (generic function with 1 method)"
            ]
          }
        }
      ],
      "source": [
        "using Plots\n",
        "\n",
        "\n",
        "function forecast(P; T=100, μ0=ones(size(P,1))/size(P,1) )\n",
        "\n",
        "    sim = [μ0]\n",
        "\n",
        "    Pp = P'\n",
        "\n",
        "     # initial probability vector\n",
        "\n",
        "    for t=1:T\n",
        "        μ1 = Pp * μ0\n",
        "        push!(sim, μ1)\n",
        "\n",
        "        μ0 = μ1\n",
        "    end\n",
        "\n",
        "    return sim\n",
        "end"
      ],
      "id": "cell-20"
    },
    {
      "cell_type": "code",
      "execution_count": 79,
      "metadata": {},
      "outputs": [
        {
          "output_type": "display_data",
          "metadata": {},
          "data": {
            "text/plain": [
              "101-element Vector{Vector{Float64}}:\n",
              " [0.3333333333333333, 0.3333333333333333, 0.3333333333333333]\n",
              " [0.41963333333333336, 0.39503333333333335, 0.18533333333333332]\n",
              " [0.3850790833333334, 0.4612928833333334, 0.15362803333333333]\n",
              " [0.4091570474883334, 0.4381193397783334, 0.15272361273333335]\n",
              " [0.3949686135219009, 0.4551156386456709, 0.14991574783242834]\n",
              " [0.4037056146688205, 0.4452234971311626, 0.15107088820001704]\n",
              " [0.39839013568273324, 0.45133608975960343, 0.15027377455766347]\n",
              " [0.40163462745710504, 0.4476207483073078, 0.1507446242355873]\n",
              " [0.3996560039152811, 0.44988911840923734, 0.15045487767548166]\n",
              " [0.4008629424500215, 0.4485058697720903, 0.1506311877778883]\n",
              " ⋮\n",
              " [0.4004056828214061, 0.4490299794868556, 0.15056433769173902]\n",
              " [0.40040568282140615, 0.4490299794868555, 0.15056433769173902]\n",
              " [0.4004056828214061, 0.4490299794868556, 0.15056433769173902]\n",
              " [0.40040568282140615, 0.4490299794868555, 0.15056433769173902]\n",
              " [0.4004056828214061, 0.4490299794868556, 0.15056433769173902]\n",
              " [0.40040568282140615, 0.4490299794868555, 0.15056433769173902]\n",
              " [0.4004056828214061, 0.4490299794868556, 0.15056433769173902]\n",
              " [0.40040568282140615, 0.4490299794868555, 0.15056433769173902]\n",
              " [0.4004056828214061, 0.4490299794868556, 0.15056433769173902]"
            ]
          }
        }
      ],
      "source": [
        "forecast(P)"
      ],
      "id": "cell-21"
    },
    {
      "cell_type": "markdown",
      "metadata": {},
      "source": [
        "**Illustrate this convergence by generating a simulated series of length\n",
        "10000 starting at $X_0=1$. Plot $X_m-p$ against $m$. (Take\n",
        "$\\alpha=\\beta=0.1$).**\n",
        "\n",
        "## Basic Asset Pricing model\n",
        "\n",
        "A financial asset yields dividend $(x_t)$, which follows an AR1. It is\n",
        "evaluated using the stochastic discount factor:\n",
        "$\\rho_{0,t} = \\beta^t \\exp(y_t)$ where $\\beta<1$ and $y_t$ is an $AR1$.\n",
        "The price of the asset is given by\n",
        "$p_0 = \\sum_{t\\geq 0} \\rho_{0,t} U(x_t)$ where\n",
        "$U(u)=\\exp(u)^{0.5}/{0.5}$. Our goal is to find the pricing function\n",
        "$p(x,y)$, which yields the price of the asset in any state.\n",
        "\n",
        "**Write down the recursive equation which must be satisfied by $p$.**\n",
        "\n",
        "$$p_t = U(x_t) + \\beta E_t \\left[ \\frac{e^{y_{t+1}}}{e^{y_t}} p_{t+1} \\right]$$\n",
        "\n",
        "**Compute the ergodic distribution of $x$ and $y$.**\n",
        "\n",
        "**Discretize processes $(x_t)$ and $(y_t)$ using 2 states each. How\n",
        "would you represent the unknown $p()$?**\n",
        "\n",
        "**Solve for $p()$ using successive approximations**\n",
        "\n",
        "**Solve for $p()$ by solving a linear system (homework)**\n",
        "\n",
        "## Asset replacement (from Compecon)\n",
        "\n",
        "At the beginning of each year, a manufacturer must decide whether to\n",
        "continue to operate an aging physical asset or replace it with a new\n",
        "one.\n",
        "\n",
        "An asset that is $a$ years old yields a profit contribution $p(a)$ up to\n",
        "$n$ years, at which point, the asset becomes unsafe and must be replaced\n",
        "by law.\n",
        "\n",
        "The cost of a new asset is $c$. What replacement policy maximizes\n",
        "profits?\n",
        "\n",
        "Calibration: profit $p(a)=50-2.5a-2.5a^2$. Maximum asset age: 5 years.\n",
        "Asset replacement cost: 75, annual discount factor $\\delta=0.9$.\n",
        "\n",
        "**Define kind of problem, the state space, the actions, the reward\n",
        "function, and the Bellman updating equation**\n",
        "\n",
        "**Solve the problem using Value Function Iteration**\n",
        "\n",
        "**Solve the problem using Policy Iteration. Compare with VFI.**"
      ],
      "id": "aa456c23-ca60-44a9-b77e-2f16bcd4f502"
    }
  ],
  "nbformat": 4,
  "nbformat_minor": 5,
  "metadata": {
    "kernelspec": {
      "name": "julia-1.11",
      "display_name": "Julia 1.11.3",
      "language": "julia"
    },
    "language_info": {
      "name": "julia",
      "file_extension": ".jl",
      "mimetype": "application/julia",
      "version": "1.11.3"
    }
  }
}
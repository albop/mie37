{
 "cells": [
  {
   "cell_type": "markdown",
   "metadata": {},
   "source": [
    "---\n",
    "title: Optimization Pushups\n",
    "format:\n",
    "    html: default\n",
    "    ipynb: default\n",
    "---"
   ]
  },
  {
   "attachments": {},
   "cell_type": "markdown",
   "metadata": {},
   "source": [
    "\n",
    "\n",
    "The spirit of this simple tutorial consists in learning how to write simple solution algorithms. For each algorithm, test that it works, using simple test functions whose solution is known."
   ]
  },
  {
   "cell_type": "markdown",
   "metadata": {},
   "source": [
    "__Write a function `fixed_point(f::Function, x0::Float64)` which computes the fixed point of `f` starting from initial point `x0`.__"
   ]
  },
  {
   "cell_type": "code",
   "execution_count": null,
   "metadata": {},
   "outputs": [],
   "source": []
  },
  {
   "cell_type": "markdown",
   "metadata": {},
   "source": [
    "__Write a function `bisection(f::Function, a::Float64, b::Float64)` which computes a zero of function `f` within `(a,b)` using a bisection method.__"
   ]
  },
  {
   "cell_type": "code",
   "execution_count": null,
   "metadata": {},
   "outputs": [],
   "source": []
  },
  {
   "cell_type": "markdown",
   "metadata": {},
   "source": [
    "__Write a function `golden(f::Function, a::Float64, b::Float64)` which computes a zero of function `f` within `(a,b)` using a golden ratio method.__"
   ]
  },
  {
   "cell_type": "code",
   "execution_count": null,
   "metadata": {},
   "outputs": [],
   "source": []
  },
  {
   "cell_type": "markdown",
   "metadata": {},
   "source": [
    "__Write a function `zero_newton(f::Function, x0::Float64)` which computes the zero of function `f` starting from initial point `x0`.__"
   ]
  },
  {
   "cell_type": "code",
   "execution_count": null,
   "metadata": {},
   "outputs": [],
   "source": []
  },
  {
   "cell_type": "markdown",
   "metadata": {},
   "source": [
    "__Add an option `zero_newton(f::Function, x0::Float64, backtracking=true)` which computes the zero of function `f` starting from initial point `x0` using backtracking in each iteration.__"
   ]
  },
  {
   "cell_type": "code",
   "execution_count": null,
   "metadata": {},
   "outputs": [],
   "source": []
  },
  {
   "cell_type": "markdown",
   "metadata": {},
   "source": [
    "__Write a function `min_gd(f::Function, x0::Float64)` which computes the minimum of function `f` using gradient descent. Assume `f` returns a scalar and a gradient.__"
   ]
  },
  {
   "cell_type": "code",
   "execution_count": null,
   "metadata": {},
   "outputs": [],
   "source": []
  },
  {
   "cell_type": "markdown",
   "metadata": {},
   "source": [
    "__Write a function `min_nr(f::Function, x0::Float64)` which computes the minimum of function `f` using Newton-Raphson method. Assume `f` returns a scalar, a gradient, and a hessian.__"
   ]
  },
  {
   "cell_type": "code",
   "execution_count": null,
   "metadata": {},
   "outputs": [],
   "source": []
  },
  {
   "cell_type": "markdown",
   "metadata": {},
   "source": [
    "__Write a method `zero_newton(f::Function, x0::Vector{Float64})` which computes the zero of a vector valued function `f` starting from initial point `x0`.__\n",
    "\n",
    "    "
   ]
  },
  {
   "cell_type": "code",
   "execution_count": 7,
   "metadata": {},
   "outputs": [
    {
     "data": {
      "text/plain": [
       "2-element Vector{Float64}:\n",
       " 0.1\n",
       " 0.3"
      ]
     },
     "metadata": {},
     "output_type": "display_data"
    }
   ],
   "source": [
    "f(z) = let \n",
    "    x,y = z\n",
    "    [x^3 + y, x-y] \n",
    "end\n",
    "x0 = [0.1, 0.3]"
   ]
  },
  {
   "cell_type": "code",
   "execution_count": 10,
   "metadata": {},
   "outputs": [
    {
     "data": {
      "text/plain": [
       "2-element Vector{Float64}:\n",
       "  0.301\n",
       " -0.19999999999999998"
      ]
     },
     "metadata": {},
     "output_type": "display_data"
    }
   ],
   "source": [
    "f(x0)"
   ]
  },
  {
   "cell_type": "code",
   "execution_count": 12,
   "metadata": {},
   "outputs": [
    {
     "data": {
      "text/plain": [
       "2×2 Matrix{Float64}:\n",
       " 0.03   1.0\n",
       " 1.0   -1.0"
      ]
     },
     "metadata": {},
     "output_type": "display_data"
    }
   ],
   "source": [
    "using ForwardDiff\n",
    "ForwardDiff.jacobian(f, x0)\n"
   ]
  },
  {
   "cell_type": "code",
   "execution_count": 30,
   "metadata": {},
   "outputs": [
    {
     "data": {
      "text/plain": [
       "zero_newton (generic function with 1 method)"
      ]
     },
     "metadata": {},
     "output_type": "display_data"
    }
   ],
   "source": [
    "function zero_newton(f, x0; maxit=10, verbose=false, τ_η=1e-10, τ_ϵ=1e-10)\n",
    "\n",
    "    # local x1\n",
    "    x1 = x0\n",
    "    \n",
    "    for it ∈ 1:maxit\n",
    "\n",
    "        f0 = f(x0)\n",
    "        ϵ = maximum(abs.(f0))\n",
    "        if ϵ < τ_ϵ\n",
    "            verbose ? println(\"Iteration $(it): ϵ=$(ϵ) \") : nothing\n",
    "            return x0\n",
    "        end\n",
    "\n",
    "\n",
    "        J0 = ForwardDiff.jacobian(f, x0)\n",
    "\n",
    "        x1 = x0 - J0 \\ f0\n",
    "\n",
    "        η = maximum(abs.(x1-x0))\n",
    "        if η<τ_η\n",
    "            return x1\n",
    "        end\n",
    "\n",
    "        # cond ? do : otherwise\n",
    "\n",
    "        verbose ? println(\"Iteration $(it): ϵ=$(ϵ) : η=$(η)\") : nothing\n",
    "\n",
    "\n",
    "        x0 = x1\n",
    "\n",
    "    end\n",
    "\n",
    "    return x1\n",
    "\n",
    "end"
   ]
  },
  {
   "cell_type": "code",
   "execution_count": 31,
   "metadata": {},
   "outputs": [
    {
     "name": "stdout",
     "output_type": "stream",
     "text": [
      "Iteration 1: ϵ=0.301 : η=0.2980582524271845\n",
      "Iteration 2: ϵ=0.0019417548939487858 : η=0.00194173293071458\n",
      "Iteration 3: ϵ=1.4642100930805857e-8 : η=1.4642100930805848e-8\n",
      "Iteration 4: ϵ=6.617444900424222e-24 \n"
     ]
    },
    {
     "data": {
      "text/plain": [
       "2-element Vector{Float64}:\n",
       " 6.617444900424222e-24\n",
       " 6.617444900424222e-24"
      ]
     },
     "metadata": {},
     "output_type": "display_data"
    }
   ],
   "source": [
    "zero_newton(f, x0; verbose=true)"
   ]
  },
  {
   "cell_type": "markdown",
   "metadata": {},
   "source": [
    "__Add an method `zero_newton(f::Function, x0::Vector{Float64}, backtracking=true)` which computes the zero of function `f` starting from initial point `x0` using backtracking in each iteration.__"
   ]
  },
  {
   "cell_type": "code",
   "execution_count": 39,
   "metadata": {},
   "outputs": [
    {
     "data": {
      "text/plain": [
       "zero_newton (generic function with 1 method)"
      ]
     },
     "metadata": {},
     "output_type": "display_data"
    }
   ],
   "source": [
    "function zero_newton(f, x0; maxit=10, verbose=false, τ_η=1e-10, τ_ϵ=1e-10, backtrack=true)\n",
    "\n",
    "    # local x1\n",
    "    x1 = x0\n",
    "    \n",
    "    for it ∈ 1:maxit\n",
    "\n",
    "        f0 = f(x0)\n",
    "        ϵ = maximum(abs.(f0))\n",
    "        if ϵ < τ_ϵ\n",
    "            verbose ? println(\"Iteration $(it): ϵ=$(ϵ) \") : nothing\n",
    "            return x0\n",
    "        end\n",
    "\n",
    "\n",
    "        J0 = ForwardDiff.jacobian(f, x0)\n",
    "        \n",
    "        # Newton steap\n",
    "        Δ = - J0 \\ f0\n",
    "        \n",
    "        if !backtrack\n",
    "        \n",
    "            x1 = x0 + Δ\n",
    "\n",
    "        else\n",
    "            for i = 0:10\n",
    "                x1 = x0 + 2.0^(-i)*Δ\n",
    "\n",
    "                # test function for new guess\n",
    "                f1 = f(x1)\n",
    "                ϵ1 = maximum(abs.(f1))\n",
    "                \n",
    "                if ϵ1<ϵ\n",
    "                    # new guess is good\n",
    "                    break\n",
    "                end\n",
    "\n",
    "            end\n",
    "        end\n",
    "\n",
    "        η = maximum(abs.(x1-x0))\n",
    "        if η<τ_η\n",
    "            return x1\n",
    "        end\n",
    "\n",
    "        # cond ? do : otherwise\n",
    "\n",
    "        verbose ? println(\"Iteration $(it): ϵ=$(ϵ) : η=$(η)\") : nothing\n",
    "\n",
    "\n",
    "        x0 = x1\n",
    "\n",
    "    end\n",
    "\n",
    "    return x1\n",
    "\n",
    "end"
   ]
  },
  {
   "cell_type": "code",
   "execution_count": 42,
   "metadata": {},
   "outputs": [
    {
     "name": "stdout",
     "output_type": "stream",
     "text": [
      "Iteration 1: ϵ=0.301 : η=0.2980582524271845\n",
      "Iteration 2: ϵ=0.0019417548939487858 : η=0.00194173293071458\n",
      "Iteration 3: ϵ=1.4642100930805857e-8 : η=1.4642100930805848e-8\n",
      "Iteration 4: ϵ=6.617444900424222e-24 \n"
     ]
    },
    {
     "data": {
      "text/plain": [
       "2-element Vector{Float64}:\n",
       " 6.617444900424222e-24\n",
       " 6.617444900424222e-24"
      ]
     },
     "metadata": {},
     "output_type": "display_data"
    }
   ],
   "source": [
    "zero_newton(f, x0, verbose=true, backtrack=true)"
   ]
  },
  {
   "cell_type": "markdown",
   "metadata": {},
   "source": [
    "__Add a method `zero_newton(f::Function, x0::Vector{Float64}, backtracking=true, lb=Vector{Float64})` which computes the zero of function `f` starting from initial point `x0` taking complementarity constraint into account `x>=lb` using the Fischer-Burmeister method.__"
   ]
  },
  {
   "cell_type": "code",
   "execution_count": 62,
   "metadata": {},
   "outputs": [
    {
     "data": {
      "text/plain": [
       "2-element Vector{Float64}:\n",
       "      0.0\n",
       " -10000.0"
      ]
     },
     "metadata": {},
     "output_type": "display_data"
    }
   ],
   "source": [
    "g(z) = let\n",
    "    x,y=z\n",
    "    [ y-x, x^2+y^2-1 ]\n",
    "end\n",
    "\n",
    "\n",
    "lb = [0.0, -10000]"
   ]
  },
  {
   "cell_type": "code",
   "execution_count": 63,
   "metadata": {},
   "outputs": [
    {
     "data": {
      "text/plain": [
       "φ_FB (generic function with 1 method)"
      ]
     },
     "metadata": {},
     "output_type": "display_data"
    }
   ],
   "source": [
    "φ_FB(a,b) = a+b-sqrt(a^2+b^2)  # min"
   ]
  },
  {
   "cell_type": "code",
   "execution_count": 71,
   "metadata": {},
   "outputs": [
    {
     "data": {
      "text/plain": [
       "ncp (generic function with 2 methods)"
      ]
     },
     "metadata": {},
     "output_type": "display_data"
    }
   ],
   "source": [
    "function ncp(f, x0, lb; args...)\n",
    "    \n",
    "    # the dot calls φ_FB component-wise on its vector arguments\n",
    "    # fun(u) = φ_FB.(f(u), u - lb)\n",
    "\n",
    "    fun = u-> φ_FB.(f(u), u - lb)\n",
    "\n",
    "    zero_newton(fun, x0; args...)\n",
    "\n",
    "end"
   ]
  },
  {
   "cell_type": "code",
   "execution_count": 72,
   "metadata": {},
   "outputs": [
    {
     "data": {
      "text/plain": [
       "2-element Vector{Float64}:\n",
       " 0.1\n",
       " 0.3"
      ]
     },
     "metadata": {},
     "output_type": "display_data"
    }
   ],
   "source": [
    "x0"
   ]
  },
  {
   "cell_type": "code",
   "execution_count": 73,
   "metadata": {},
   "outputs": [
    {
     "name": "stdout",
     "output_type": "stream",
     "text": [
      "Iteration 1: ϵ=0.900040498785529 : η=0.8449227125187968\n",
      "Iteration 2: ϵ=0.34501875850946817 : η=0.17623432346721998\n",
      "Iteration 3: ϵ=0.04599075111946149 : η=0.022412443670669857\n",
      "Iteration 4: ϵ=0.0005761770207755035 : η=0.0002880043594630788\n",
      "Iteration 5: ϵ=8.413735486101359e-8 : η=4.2068675654149956e-8\n",
      "Iteration 6: ϵ=0.0 \n"
     ]
    },
    {
     "data": {
      "text/plain": [
       "2-element Vector{Float64}:\n",
       " -5.460886251568741e-17\n",
       "  1.0000000000002816"
      ]
     },
     "metadata": {},
     "output_type": "display_data"
    }
   ],
   "source": [
    "ncp(g, x0, lb; maxit=100, verbose=true)"
   ]
  },
  {
   "cell_type": "code",
   "execution_count": 74,
   "metadata": {},
   "outputs": [
    {
     "name": "stdout",
     "output_type": "stream",
     "text": [
      "Iteration 1: ϵ=0.2800039197663864 : η=0.11666503345865797\n",
      "Iteration 2: ϵ=0.027217503327847226 : η=0.009494525381928298\n",
      "Iteration 3: ϵ=0.0001802549850253854 : η=6.37240192483679e-5\n",
      "Iteration 4: ϵ=8.119968697428703e-9 : η=2.8708424526513454e-9\n",
      "Iteration 5: ϵ=0.0 \n"
     ]
    },
    {
     "data": {
      "text/plain": [
       "2-element Vector{Float64}:\n",
       " 0.7071067811866388\n",
       " 0.7071067811866388"
      ]
     },
     "metadata": {},
     "output_type": "display_data"
    }
   ],
   "source": [
    "ncp(g, [0.6, 0.6], lb; maxit=100, verbose=true)"
   ]
  },
  {
   "cell_type": "code",
   "execution_count": null,
   "metadata": {},
   "outputs": [],
   "source": []
  }
 ],
 "metadata": {
  "kernelspec": {
   "display_name": "Julia 1.10.2",
   "language": "julia",
   "name": "julia-1.10"
  },
  "language_info": {
   "file_extension": ".jl",
   "mimetype": "application/julia",
   "name": "julia",
   "version": "1.10.2"
  }
 },
 "nbformat": 4,
 "nbformat_minor": 4
}

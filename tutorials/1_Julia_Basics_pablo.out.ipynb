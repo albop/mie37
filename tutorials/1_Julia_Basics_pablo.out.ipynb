{
  "cells": [
    {
      "cell_type": "markdown",
      "metadata": {},
      "source": [
        "# Julia Basics\n",
        "\n",
        "Pablo Winant\n",
        "\n",
        "### What is Julia\n",
        "\n",
        "-   developped at MIT on top of **opensource** technologies\n",
        "    -   linux / git / llvm\n",
        "-   syntax inspired by Matlab but:\n",
        "    -   more consistent\n",
        "    -   lots of features from high level languages\n",
        "-   everything is JIT-compiled\n",
        "    -   interpreted vs compiled treadeoff\n",
        "    -   -\\> very fast\n",
        "    -   most of the base library is written in Julia\n",
        "-   opensource/free + vibrant community\n",
        "\n",
        "Some useful links from QuantEcon:\n",
        "\n",
        "-   [Julia\n",
        "    cheatsheet](https://cheatsheets.quantecon.org/julia-cheatsheet.html)\n",
        "-   [Julia-Matlab\n",
        "    comparison](https://cheatsheets.quantecon.org/index.html)\n",
        "-   [Julia\n",
        "    essentials](https://lectures.quantecon.org/jl/julia_essentials.html)\n",
        "-   [Vectors, arrays and\n",
        "    matrices](https://lectures.quantecon.org/jl/julia_arrays.html)\n",
        "\n",
        "Excellent resources at: [julialang](https://julialang.org/learning/) -\n",
        "checkout JuliaAcademy, it’s free - ongoing\n",
        "[MOOC](https://computationalthinking.mit.edu/Spring21/) at MIT\n",
        "\n",
        "### an example of what you shouldn’t do in Matlab\n",
        "\n",
        "How I learnt: interpreted code is slow, so vectorize your coe."
      ],
      "id": "c64955ac-3a09-4525-a18b-00605468c446"
    },
    {
      "cell_type": "code",
      "execution_count": 2,
      "metadata": {},
      "outputs": [
        {
          "output_type": "stream",
          "name": "stdout",
          "text": [
            "  0.069282 seconds (43.84 k allocations: 2.184 MiB, 8.48% gc time, 57.28% compilation time)"
          ]
        },
        {
          "output_type": "display_data",
          "metadata": {},
          "data": {
            "text/plain": [
              "10-element Vector{Float64}:\n",
              " 1.0e6\n",
              " 2.0e6\n",
              " 3.0e6\n",
              " 4.0e6\n",
              " 5.0e6\n",
              " 6.0e6\n",
              " 7.0e6\n",
              " 8.0e6\n",
              " 9.0e6\n",
              " 1.0e7"
            ]
          }
        }
      ],
      "source": [
        "function stupid_loop(I,J,K)\n",
        "    t = 0.0\n",
        "    for i=1:I\n",
        "        for j=1:J\n",
        "            for k = 1:K\n",
        "                t += 1.0\n",
        "            end        \n",
        "        end\n",
        "    end\n",
        "    return t\n",
        "end\n",
        "@time [ stupid_loop(1000,1000,i) for i =1:10]"
      ],
      "id": "cell-4"
    },
    {
      "cell_type": "code",
      "execution_count": 3,
      "metadata": {},
      "outputs": [
        {
          "output_type": "stream",
          "name": "stdout",
          "text": [
            "  0.529853 seconds"
          ]
        },
        {
          "output_type": "display_data",
          "metadata": {},
          "data": {
            "text/plain": [
              "1.0e9"
            ]
          }
        }
      ],
      "source": [
        "@time stupid_loop(1000,1000,1000)"
      ],
      "id": "cell-5"
    },
    {
      "cell_type": "markdown",
      "metadata": {},
      "source": [
        "Code is translated to LLVM code then to instructions for the processor.\n",
        "Note that processor instructions are shorter than LLVM code."
      ],
      "id": "105f1185-96e4-4b0f-b709-d322b736118a"
    },
    {
      "cell_type": "code",
      "execution_count": 3,
      "metadata": {},
      "outputs": [
        {
          "output_type": "stream",
          "name": "stdout",
          "text": [
            ";  @ /home/pablo/Teaching/ensae/mie37/tutorials/1_Julia_Basics.ipynb:1 within `stupid_loop`\n",
            "define double @julia_stupid_loop_1248(i64 signext %0, i64 signext %1, i64 signext %2) #0 {\n",
            "top:\n",
            ";  @ /home/pablo/Teaching/ensae/mie37/tutorials/1_Julia_Basics.ipynb:3 within `stupid_loop`\n",
            "; ┌ @ range.jl:5 within `Colon`\n",
            "; │┌ @ range.jl:397 within `UnitRange`\n",
            "; ││┌ @ range.jl:404 within `unitrange_last`\n",
            "     %.inv = icmp sgt i64 %0, 0\n",
            "     %. = select i1 %.inv, i64 %0, i64 0\n",
            "; └└└\n",
            "  br i1 %.inv, label %L16.preheader, label %L85\n",
            "\n",
            "L16.preheader:                                    ; preds = %top\n",
            "  %.inv26 = icmp sgt i64 %1, 0\n",
            "  %.24 = select i1 %.inv26, i64 %1, i64 0\n",
            "  %.inv27 = icmp sgt i64 %2, 0\n",
            "  %.25 = select i1 %.inv27, i64 %2, i64 0\n",
            ";  @ /home/pablo/Teaching/ensae/mie37/tutorials/1_Julia_Basics.ipynb:4 within `stupid_loop`\n",
            "  %3 = select i1 %.inv26, i1 %.inv27, i1 false\n",
            "  br i1 %3, label %L33.preheader.split.us.us.us, label %L85\n",
            "\n",
            "L74.us.us:                                        ; preds = %L63.us.us.us\n",
            ";  @ /home/pablo/Teaching/ensae/mie37/tutorials/1_Julia_Basics.ipynb:9 within `stupid_loop`\n",
            "; ┌ @ range.jl:891 within `iterate`\n",
            "; │┌ @ promotion.jl:499 within `==`\n",
            "    %.not29.us.us = icmp eq i64 %value_phi3.us.us, %.\n",
            "; │└\n",
            "   %4 = add nuw i64 %value_phi3.us.us, 1\n",
            "; └\n",
            "  br i1 %.not29.us.us, label %L85, label %L33.preheader.split.us.us.us\n",
            "\n",
            "L33.preheader.split.us.us.us:                     ; preds = %L74.us.us, %L16.preheader\n",
            "  %value_phi3.us.us = phi i64 [ %4, %L74.us.us ], [ 1, %L16.preheader ]\n",
            "  %value_phi4.us.us = phi double [ %6, %L74.us.us ], [ 0.000000e+00, %L16.preheader ]\n",
            ";  @ /home/pablo/Teaching/ensae/mie37/tutorials/1_Julia_Basics.ipynb:5 within `stupid_loop`\n",
            "  br label %L50.preheader.us.us.us\n",
            "\n",
            "L50.preheader.us.us.us:                           ; preds = %L63.us.us.us, %L33.preheader.split.us.us.us\n",
            "  %value_phi8.us.us.us = phi double [ %6, %L63.us.us.us ], [ %value_phi4.us.us, %L33.preheader.split.us.us.us ]\n",
            "  %value_phi9.us.us.us = phi i64 [ %5, %L63.us.us.us ], [ 1, %L33.preheader.split.us.us.us ]\n",
            ";  @ /home/pablo/Teaching/ensae/mie37/tutorials/1_Julia_Basics.ipynb:7 within `stupid_loop`\n",
            "  br label %L50.us.us.us\n",
            "\n",
            "L63.us.us.us:                                     ; preds = %L50.us.us.us\n",
            ";  @ /home/pablo/Teaching/ensae/mie37/tutorials/1_Julia_Basics.ipynb:8 within `stupid_loop`\n",
            "; ┌ @ range.jl:891 within `iterate`\n",
            "; │┌ @ promotion.jl:499 within `==`\n",
            "    %.not28.us.us.us = icmp eq i64 %value_phi9.us.us.us, %.24\n",
            "; │└\n",
            "   %5 = add nuw i64 %value_phi9.us.us.us, 1\n",
            "; └\n",
            "  br i1 %.not28.us.us.us, label %L74.us.us, label %L50.preheader.us.us.us\n",
            "\n",
            "L50.us.us.us:                                     ; preds = %L50.us.us.us, %L50.preheader.us.us.us\n",
            "  %value_phi13.us.us.us = phi double [ %6, %L50.us.us.us ], [ %value_phi8.us.us.us, %L50.preheader.us.us.us ]\n",
            "  %value_phi14.us.us.us = phi i64 [ %7, %L50.us.us.us ], [ 1, %L50.preheader.us.us.us ]\n",
            ";  @ /home/pablo/Teaching/ensae/mie37/tutorials/1_Julia_Basics.ipynb:6 within `stupid_loop`\n",
            "; ┌ @ float.jl:408 within `+`\n",
            "   %6 = fadd double %value_phi13.us.us.us, 1.000000e+00\n",
            "; └\n",
            ";  @ /home/pablo/Teaching/ensae/mie37/tutorials/1_Julia_Basics.ipynb:7 within `stupid_loop`\n",
            "; ┌ @ range.jl:891 within `iterate`\n",
            "; │┌ @ promotion.jl:499 within `==`\n",
            "    %.not.us.us.us = icmp eq i64 %value_phi14.us.us.us, %.25\n",
            "; │└\n",
            "   %7 = add nuw i64 %value_phi14.us.us.us, 1\n",
            "; └\n",
            "  br i1 %.not.us.us.us, label %L63.us.us.us, label %L50.us.us.us\n",
            "\n",
            "L85:                                              ; preds = %L74.us.us, %L16.preheader, %top\n",
            "  %value_phi23 = phi double [ 0.000000e+00, %top ], [ %6, %L74.us.us ], [ 0.000000e+00, %L16.preheader ]\n",
            ";  @ /home/pablo/Teaching/ensae/mie37/tutorials/1_Julia_Basics.ipynb:10 within `stupid_loop`\n",
            "  ret double %value_phi23\n",
            "}"
          ]
        }
      ],
      "source": [
        "@code_llvm stupid_loop(10,10,10)"
      ],
      "id": "cell-7"
    },
    {
      "cell_type": "code",
      "execution_count": 4,
      "metadata": {},
      "outputs": [
        {
          "output_type": "stream",
          "name": "stdout",
          "text": [
            "    .text\n",
            "    .file   \"stupid_loop\"\n",
            "    .section    .rodata.cst8,\"aM\",@progbits,8\n",
            "    .p2align    3                               # -- Begin function julia_stupid_loop_1283\n",
            ".LCPI0_0:\n",
            "    .quad   0x3ff0000000000000              # double 1\n",
            "    .text\n",
            "    .globl  julia_stupid_loop_1283\n",
            "    .p2align    4, 0x90\n",
            "    .type   julia_stupid_loop_1283,@function\n",
            "julia_stupid_loop_1283:                 # @julia_stupid_loop_1283\n",
            "; ┌ @ /home/pablo/Teaching/ensae/mie37/tutorials/1_Julia_Basics.ipynb:1 within `stupid_loop`\n",
            "    .cfi_startproc\n",
            "# %bb.0:                                # %top\n",
            "; │ @ /home/pablo/Teaching/ensae/mie37/tutorials/1_Julia_Basics.ipynb:3 within `stupid_loop`\n",
            "; │┌ @ range.jl:5 within `Colon`\n",
            "; ││┌ @ range.jl:397 within `UnitRange`\n",
            "; │││┌ @ range.jl:404 within `unitrange_last`\n",
            "    testq   %rdi, %rdi\n",
            "    vxorpd  %xmm0, %xmm0, %xmm0\n",
            "; │└└└\n",
            "    jle .LBB0_9\n",
            "# %bb.1:                                # %L16.preheader\n",
            "    testq   %rsi, %rsi\n",
            "; │ @ /home/pablo/Teaching/ensae/mie37/tutorials/1_Julia_Basics.ipynb:4 within `stupid_loop`\n",
            "    jle .LBB0_9\n",
            "# %bb.2:                                # %L16.preheader\n",
            "    testq   %rdx, %rdx\n",
            "    jle .LBB0_9\n",
            "# %bb.3:                                # %L33.preheader.split.us.us.us.preheader\n",
            "    pushq   %rbp\n",
            "    .cfi_def_cfa_offset 16\n",
            "    .cfi_offset %rbp, -16\n",
            "    movq    %rsp, %rbp\n",
            "    .cfi_def_cfa_register %rbp\n",
            "    movq    %rdi, %rax\n",
            "    movq    %rsi, %rcx\n",
            "    vxorpd  %xmm0, %xmm0, %xmm0\n",
            "    sarq    $63, %rax\n",
            "    sarq    $63, %rcx\n",
            "    andnq   %rdi, %rax, %r8\n",
            "    movabsq $.LCPI0_0, %rdi\n",
            "    andnq   %rsi, %rcx, %rcx\n",
            "    movq    %rdx, %rsi\n",
            "    vmovsd  (%rdi), %xmm1                   # xmm1 = mem[0],zero\n",
            "    sarq    $63, %rsi\n",
            "    andnq   %rdx, %rsi, %rax\n",
            "    movl    $1, %esi\n",
            "; │ @ /home/pablo/Teaching/ensae/mie37/tutorials/1_Julia_Basics.ipynb:5 within `stupid_loop`\n",
            "    popq    %rbp\n",
            "    .cfi_def_cfa %rsp, 8\n",
            "    .cfi_restore %rbp\n",
            "    .p2align    4, 0x90\n",
            ".LBB0_5:                                # %L33.preheader.split.us.us.us\n",
            "                                        # =>This Loop Header: Depth=1\n",
            "                                        #     Child Loop BB0_6 Depth 2\n",
            "                                        #       Child Loop BB0_7 Depth 3\n",
            "    movl    $1, %edi\n",
            "    .p2align    4, 0x90\n",
            ".LBB0_6:                                # %L50.preheader.us.us.us\n",
            "                                        #   Parent Loop BB0_5 Depth=1\n",
            "                                        # =>  This Loop Header: Depth=2\n",
            "                                        #       Child Loop BB0_7 Depth 3\n",
            "    movq    %rax, %rdx\n",
            "    .p2align    4, 0x90\n",
            ".LBB0_7:                                # %L50.us.us.us\n",
            "                                        #   Parent Loop BB0_5 Depth=1\n",
            "                                        #     Parent Loop BB0_6 Depth=2\n",
            "                                        # =>    This Inner Loop Header: Depth=3\n",
            "; │ @ /home/pablo/Teaching/ensae/mie37/tutorials/1_Julia_Basics.ipynb:6 within `stupid_loop`\n",
            "; │┌ @ float.jl:408 within `+`\n",
            "    vaddsd  %xmm1, %xmm0, %xmm0\n",
            "; │└\n",
            "; │ @ /home/pablo/Teaching/ensae/mie37/tutorials/1_Julia_Basics.ipynb:7 within `stupid_loop`\n",
            "; │┌ @ range.jl:891 within `iterate`\n",
            "; ││┌ @ promotion.jl:499 within `==`\n",
            "    addq    $-1, %rdx\n",
            "; │└└\n",
            "    jne .LBB0_7\n",
            "# %bb.8:                                # %L63.us.us.us\n",
            "                                        #   in Loop: Header=BB0_6 Depth=2\n",
            "; │ @ /home/pablo/Teaching/ensae/mie37/tutorials/1_Julia_Basics.ipynb:8 within `stupid_loop`\n",
            "; │┌ @ range.jl:891 within `iterate`\n",
            "; ││┌ @ promotion.jl:499 within `==`\n",
            "    cmpq    %rcx, %rdi\n",
            "; ││└\n",
            "    leaq    1(%rdi), %rdi\n",
            "; │└\n",
            "    jne .LBB0_6\n",
            "# %bb.4:                                # %L74.us.us\n",
            "                                        #   in Loop: Header=BB0_5 Depth=1\n",
            "; │ @ /home/pablo/Teaching/ensae/mie37/tutorials/1_Julia_Basics.ipynb:9 within `stupid_loop`\n",
            "; │┌ @ range.jl:891 within `iterate`\n",
            "; ││┌ @ promotion.jl:499 within `==`\n",
            "    cmpq    %r8, %rsi\n",
            "; ││└\n",
            "    leaq    1(%rsi), %rsi\n",
            "; │└\n",
            "    jne .LBB0_5\n",
            ".LBB0_9:                                # %L85\n",
            "; │ @ /home/pablo/Teaching/ensae/mie37/tutorials/1_Julia_Basics.ipynb:10 within `stupid_loop`\n",
            "    retq\n",
            ".Lfunc_end0:\n",
            "    .size   julia_stupid_loop_1283, .Lfunc_end0-julia_stupid_loop_1283\n",
            "    .cfi_endproc\n",
            "; └\n",
            "                                        # -- End function\n",
            "    .section    \".note.GNU-stack\",\"\",@progbits"
          ]
        }
      ],
      "source": [
        "@code_native stupid_loop(10,10,10)"
      ],
      "id": "cell-8"
    },
    {
      "cell_type": "markdown",
      "metadata": {},
      "source": [
        "### Syntax Review\n",
        "\n",
        "#### Variable assignment\n",
        "\n",
        "Assignement operator is = (equality is ==, identity is ===)"
      ],
      "id": "f7f5bf6a-82ff-4ab9-9a04-577c24df5f57"
    },
    {
      "cell_type": "code",
      "execution_count": 4,
      "metadata": {},
      "outputs": [
        {
          "output_type": "display_data",
          "metadata": {},
          "data": {
            "text/plain": [
              "10"
            ]
          }
        }
      ],
      "source": [
        "# Assign the value 10 to the variable x\n",
        "x = 10"
      ],
      "id": "cell-11"
    },
    {
      "cell_type": "code",
      "execution_count": 5,
      "metadata": {},
      "outputs": [
        {
          "output_type": "display_data",
          "metadata": {},
          "data": {
            "text/plain": [
              "10"
            ]
          }
        }
      ],
      "source": [
        "x"
      ],
      "id": "cell-12"
    },
    {
      "cell_type": "code",
      "execution_count": 8,
      "metadata": {},
      "outputs": [
        {
          "output_type": "display_data",
          "metadata": {},
          "data": {
            "text/plain": [
              "false"
            ]
          }
        }
      ],
      "source": [
        "4 == x"
      ],
      "id": "cell-13"
    },
    {
      "cell_type": "code",
      "execution_count": 9,
      "metadata": {},
      "outputs": [
        {
          "output_type": "display_data",
          "metadata": {},
          "data": {
            "text/plain": [
              "0.0001"
            ]
          }
        }
      ],
      "source": [
        "# Variable names can have Unicode characters\n",
        "# To get ϵ in the REPL, type \\epsilon<TAB>\n",
        "a = 20\n",
        "\n",
        "α = 10\n",
        "\n",
        "# prey / predator \n",
        "🐳 = 0.1\n",
        "🦈 = 0.1 * 🐳\n",
        "\n",
        "σ = 34\n",
        "ϵ = 1e-4"
      ],
      "id": "cell-14"
    },
    {
      "cell_type": "markdown",
      "metadata": {},
      "source": [
        "Default semantic is pass-by-reference:"
      ],
      "id": "80be38b9-ce69-4034-a0c8-819978ed53f3"
    },
    {
      "cell_type": "code",
      "execution_count": 11,
      "metadata": {},
      "outputs": [
        {
          "output_type": "display_data",
          "metadata": {},
          "data": {
            "text/plain": [
              "4-element Vector{Int64}:\n",
              " 10\n",
              "  2\n",
              "  3\n",
              "  4"
            ]
          }
        }
      ],
      "source": [
        "a = [1,2,3,4]\n",
        "b = a\n",
        "a[1] = 10\n",
        "b"
      ],
      "id": "cell-16"
    },
    {
      "cell_type": "markdown",
      "metadata": {},
      "source": [
        "To work on a copy: `copy` or `deepcopy`"
      ],
      "id": "3072163f-2b15-4660-bfcd-04f3c18d9172"
    },
    {
      "cell_type": "code",
      "execution_count": 13,
      "metadata": {},
      "outputs": [
        {
          "output_type": "display_data",
          "metadata": {},
          "data": {
            "text/plain": [
              "4-element Vector{Int64}:\n",
              " 1\n",
              " 2\n",
              " 3\n",
              " 4"
            ]
          }
        }
      ],
      "source": [
        "a = [1,2,3,4]\n",
        "b = copy(a)\n",
        "a[1]=10\n",
        "b"
      ],
      "id": "cell-18"
    },
    {
      "cell_type": "code",
      "execution_count": 15,
      "metadata": {},
      "outputs": [
        {
          "output_type": "display_data",
          "metadata": {},
          "data": {
            "text/plain": [
              "4-element BitVector:\n",
              " 0\n",
              " 1\n",
              " 1\n",
              " 1"
            ]
          }
        }
      ],
      "source": [
        "a .== b "
      ],
      "id": "cell-19"
    },
    {
      "cell_type": "code",
      "execution_count": 16,
      "metadata": {},
      "outputs": [
        {
          "output_type": "display_data",
          "metadata": {},
          "data": {
            "text/plain": [
              "4-element BitVector:\n",
              " 1\n",
              " 1\n",
              " 1\n",
              " 1"
            ]
          }
        }
      ],
      "source": [
        "a .== b"
      ],
      "id": "cell-20"
    },
    {
      "cell_type": "code",
      "execution_count": 19,
      "metadata": {},
      "outputs": [
        {
          "output_type": "display_data",
          "metadata": {},
          "data": {
            "text/plain": [
              "false"
            ]
          }
        }
      ],
      "source": [
        "c === b"
      ],
      "id": "cell-21"
    },
    {
      "cell_type": "markdown",
      "metadata": {},
      "source": [
        "#### Basic types"
      ],
      "id": "e6944381-040c-4a24-9eb3-1c655838092f"
    },
    {
      "cell_type": "code",
      "execution_count": 16,
      "metadata": {},
      "outputs": [
        {
          "output_type": "display_data",
          "metadata": {},
          "data": {
            "text/html": [
              "<pre>Vector{Int64}<span class=\"ansi-bright-black-fg\"> (alias for </span><span class=\"ansi-bright-black-fg\">Array{Int64, 1}</span><span class=\"ansi-bright-black-fg\">)</span></pre>"
            ]
          }
        }
      ],
      "source": [
        "# for any object `typeof` returns the type\n",
        "typeof(a)"
      ],
      "id": "cell-23"
    },
    {
      "cell_type": "code",
      "execution_count": 15,
      "metadata": {},
      "outputs": [
        {
          "output_type": "display_data",
          "metadata": {},
          "data": {
            "text/plain": [
              "3-element Vector{Int64}:\n",
              " 1\n",
              " 2\n",
              " 3"
            ]
          }
        }
      ],
      "source": [
        "[1,2,3]"
      ],
      "id": "cell-24"
    },
    {
      "cell_type": "code",
      "execution_count": 19,
      "metadata": {},
      "outputs": [
        {
          "output_type": "display_data",
          "metadata": {},
          "data": {
            "text/plain": [
              "true"
            ]
          }
        }
      ],
      "source": [
        "typeof(randn(3,3)) == Matrix{Float64}"
      ],
      "id": "cell-25"
    },
    {
      "cell_type": "markdown",
      "metadata": {},
      "source": [
        "#### Numbers"
      ],
      "id": "c1190f4b-196c-406d-9fb3-2c10bcb0b3da"
    },
    {
      "cell_type": "code",
      "execution_count": 22,
      "metadata": {},
      "outputs": [
        {
          "output_type": "display_data",
          "metadata": {},
          "data": {
            "text/plain": [
              "4"
            ]
          }
        }
      ],
      "source": [
        "y = 2 + 2"
      ],
      "id": "cell-27"
    },
    {
      "cell_type": "code",
      "execution_count": 23,
      "metadata": {},
      "outputs": [
        {
          "output_type": "display_data",
          "metadata": {},
          "data": {
            "text/plain": [
              "-4"
            ]
          }
        }
      ],
      "source": [
        "-y"
      ],
      "id": "cell-28"
    },
    {
      "cell_type": "code",
      "execution_count": 24,
      "metadata": {},
      "outputs": [
        {
          "output_type": "display_data",
          "metadata": {},
          "data": {
            "text/plain": [
              "7.82"
            ]
          }
        }
      ],
      "source": [
        "0.34*23"
      ],
      "id": "cell-29"
    },
    {
      "cell_type": "code",
      "execution_count": 26,
      "metadata": {},
      "outputs": [
        {
          "output_type": "display_data",
          "metadata": {},
          "data": {
            "text/plain": [
              "0.75"
            ]
          }
        }
      ],
      "source": [
        "3 / 4"
      ],
      "id": "cell-30"
    },
    {
      "cell_type": "code",
      "execution_count": 26,
      "metadata": {},
      "outputs": [
        {
          "output_type": "display_data",
          "metadata": {},
          "data": {
            "text/plain": [
              "5//4"
            ]
          }
        }
      ],
      "source": [
        "3 // 4 + 1//2"
      ],
      "id": "cell-31"
    },
    {
      "cell_type": "code",
      "execution_count": 29,
      "metadata": {},
      "outputs": [
        {
          "output_type": "display_data",
          "metadata": {},
          "data": {
            "text/plain": [
              "17//12"
            ]
          }
        }
      ],
      "source": [
        "3//4 + 2//3"
      ],
      "id": "cell-32"
    },
    {
      "cell_type": "code",
      "execution_count": null,
      "metadata": {},
      "outputs": [
        {
          "output_type": "display_data",
          "metadata": {},
          "data": {
            "text/plain": [
              "Rational{Int64}"
            ]
          }
        }
      ],
      "source": [
        "typeof(3//4 + 2//3)"
      ],
      "id": "cell-33"
    },
    {
      "cell_type": "code",
      "execution_count": 29,
      "metadata": {},
      "outputs": [
        {
          "output_type": "display_data",
          "metadata": {},
          "data": {
            "text/plain": [
              "12"
            ]
          }
        }
      ],
      "source": [
        "# Scalar multiplication doesn't require *\n",
        "3(4 - 2) "
      ],
      "id": "cell-34"
    },
    {
      "cell_type": "code",
      "execution_count": 30,
      "metadata": {},
      "outputs": [
        {
          "output_type": "display_data",
          "metadata": {},
          "data": {
            "text/plain": [
              "40"
            ]
          }
        }
      ],
      "source": [
        "x = 4\n",
        "2x + 2x^2"
      ],
      "id": "cell-35"
    },
    {
      "cell_type": "code",
      "execution_count": 38,
      "metadata": {},
      "outputs": [
        {
          "output_type": "display_data",
          "metadata": {},
          "data": {
            "text/plain": [
              "BigInt"
            ]
          }
        }
      ],
      "source": [
        "typeof(big(100))"
      ],
      "id": "cell-36"
    },
    {
      "cell_type": "code",
      "execution_count": 41,
      "metadata": {},
      "outputs": [
        {
          "output_type": "display_data",
          "metadata": {},
          "data": {
            "text/plain": [
              "402387260077093773543702433923003985719374864210714632543799910429938512398629020592044208486969404800479988610197196058631666872994808558901323829669944590997424504087073759918823627727188732519779505950995276120874975462497043601418278094646496291056393887437886487337119181045825783647849977012476632889835955735432513185323958463075557409114262417474349347553428646576611667797396668820291207379143853719588249808126867838374559731746136085379534524221586593201928090878297308431392844403281231558611036976801357304216168747609675871348312025478589320767169132448426236131412508780208000261683151027341827977704784635868170164365024153691398281264810213092761244896359928705114964975419909342221566832572080821333186116811553615836546984046708975602900950537616475847728421889679646244945160765353408198901385442487984959953319101723355556602139450399736280750137837615307127761926849034352625200015888535147331611702103968175921510907788019393178114194545257223865541461062892187960223838971476088506276862967146674697562911234082439208160153780889893964518263243671616762179168909779911903754031274622289988005195444414282012187361745992642956581746628302955570299024324153181617210465832036786906117260158783520751516284225540265170483304226143974286933061690897968482590125458327168226458066526769958652682272807075781391858178889652208164348344825993266043367660176999612831860788386150279465955131156552036093988180612138558600301435694527224206344631797460594682573103790084024432438465657245014402821885252470935190620929023136493273497565513958720559654228749774011413346962715422845862377387538230483865688976461927383814900140767310446640259899490222221765904339901886018566526485061799702356193897017860040811889729918311021171229845901641921068884387121855646124960798722908519296819372388642614839657382291123125024186649353143970137428531926649875337218940694281434118520158014123344828015051399694290153483077644569099073152433278288269864602789864321139083506217095002597389863554277196742822248757586765752344220207573630569498825087968928162753848863396909959826280956121450994871701244516461260379029309120889086942028510640182154399457156805941872748998094254742173582401063677404595741785160829230135358081840096996372524230560855903700624271243416909004153690105933983835777939410970027753472000000000000000000000000000000000000000000000000000000000000000000000000000000000000000000000000000000000000000000000000000000000000000000000000000000000000000000000000000000000000000000000000000000000000000000000000000000000000000000000000000000000"
            ]
          }
        }
      ],
      "source": [
        "factorial(big(1000))"
      ],
      "id": "cell-37"
    },
    {
      "cell_type": "code",
      "execution_count": 36,
      "metadata": {},
      "outputs": [
        {
          "output_type": "display_data",
          "metadata": {},
          "data": {
            "text/plain": [
              "8"
            ]
          }
        }
      ],
      "source": [
        "sizeof(x)"
      ],
      "id": "cell-38"
    },
    {
      "cell_type": "code",
      "execution_count": 41,
      "metadata": {},
      "outputs": [
        {
          "output_type": "display_data",
          "metadata": {},
          "data": {
            "text/plain": [
              "Int64"
            ]
          }
        }
      ],
      "source": [],
      "id": "cell-39"
    },
    {
      "cell_type": "code",
      "execution_count": 45,
      "metadata": {},
      "outputs": [
        {
          "output_type": "display_data",
          "metadata": {},
          "data": {
            "text/plain": [
              "1//10"
            ]
          }
        }
      ],
      "source": [
        "# (big(100))//big(1000)"
      ],
      "id": "cell-40"
    },
    {
      "cell_type": "code",
      "execution_count": 44,
      "metadata": {},
      "outputs": [
        {
          "output_type": "display_data",
          "metadata": {},
          "data": {
            "text/plain": [
              "\"0000000000000000000000000000000000000000000000000000000000000001\""
            ]
          }
        }
      ],
      "source": [
        "bitstring(1)"
      ],
      "id": "cell-41"
    },
    {
      "cell_type": "markdown",
      "metadata": {},
      "source": [
        "#### Booleans\n",
        "\n",
        "Equality"
      ],
      "id": "bd68c0a6-201f-4243-81e3-36723054e2bc"
    },
    {
      "cell_type": "code",
      "execution_count": 45,
      "metadata": {},
      "outputs": [
        {
          "output_type": "display_data",
          "metadata": {},
          "data": {
            "text/plain": [
              "false"
            ]
          }
        }
      ],
      "source": [
        "0 == 1"
      ],
      "id": "cell-44"
    },
    {
      "cell_type": "code",
      "execution_count": 46,
      "metadata": {},
      "outputs": [
        {
          "output_type": "display_data",
          "metadata": {},
          "data": {
            "text/plain": [
              "true"
            ]
          }
        }
      ],
      "source": [
        "2 != 3"
      ],
      "id": "cell-45"
    },
    {
      "cell_type": "code",
      "execution_count": 51,
      "metadata": {},
      "outputs": [
        {
          "output_type": "display_data",
          "metadata": {},
          "data": {
            "text/plain": [
              "true"
            ]
          }
        }
      ],
      "source": [
        "3 < 4"
      ],
      "id": "cell-46"
    },
    {
      "cell_type": "code",
      "execution_count": 47,
      "metadata": {},
      "outputs": [
        {
          "output_type": "display_data",
          "metadata": {},
          "data": {
            "text/plain": [
              "false"
            ]
          }
        }
      ],
      "source": [
        "true == false"
      ],
      "id": "cell-47"
    },
    {
      "cell_type": "markdown",
      "metadata": {},
      "source": [
        "Identity"
      ],
      "id": "ae62f281-820c-4d79-b634-b39271c44028"
    },
    {
      "cell_type": "code",
      "execution_count": null,
      "metadata": {},
      "outputs": [],
      "source": [
        "a = [34, 35]\n",
        "b = [34, 35]\n",
        "c = a"
      ],
      "id": "cell-49"
    },
    {
      "cell_type": "code",
      "execution_count": null,
      "metadata": {},
      "outputs": [],
      "source": [
        "c === a"
      ],
      "id": "cell-50"
    },
    {
      "cell_type": "code",
      "execution_count": null,
      "metadata": {},
      "outputs": [],
      "source": [
        "b === a"
      ],
      "id": "cell-51"
    },
    {
      "cell_type": "markdown",
      "metadata": {},
      "source": [
        "Boolean operator"
      ],
      "id": "b4e4acba-b40b-4042-90bc-ea408abb2234"
    },
    {
      "cell_type": "code",
      "execution_count": 54,
      "metadata": {},
      "outputs": [
        {
          "output_type": "display_data",
          "metadata": {},
          "data": {
            "text/plain": [
              "false"
            ]
          }
        }
      ],
      "source": [
        "true && false"
      ],
      "id": "cell-53"
    },
    {
      "cell_type": "code",
      "execution_count": 55,
      "metadata": {},
      "outputs": [
        {
          "output_type": "display_data",
          "metadata": {},
          "data": {
            "text/plain": [
              "true"
            ]
          }
        }
      ],
      "source": [
        "true || false"
      ],
      "id": "cell-54"
    },
    {
      "cell_type": "code",
      "execution_count": 56,
      "metadata": {},
      "outputs": [
        {
          "output_type": "display_data",
          "metadata": {},
          "data": {
            "text/plain": [
              "false"
            ]
          }
        }
      ],
      "source": [
        "!true"
      ],
      "id": "cell-55"
    },
    {
      "cell_type": "code",
      "execution_count": 50,
      "metadata": {},
      "outputs": [],
      "source": [
        "factorial(1000)"
      ],
      "id": "cell-56"
    },
    {
      "cell_type": "code",
      "execution_count": 52,
      "metadata": {},
      "outputs": [
        {
          "output_type": "display_data",
          "metadata": {},
          "data": {
            "text/plain": [
              "false"
            ]
          }
        }
      ],
      "source": [
        "a  = 2\n",
        "b = 3\n",
        "\n",
        "(a > b) && (factorial(1000) > 10)\n"
      ],
      "id": "cell-57"
    },
    {
      "cell_type": "markdown",
      "metadata": {},
      "source": [
        "#### Strings"
      ],
      "id": "24cbfcde-2a95-4719-a03f-39111a368c22"
    },
    {
      "cell_type": "code",
      "execution_count": 53,
      "metadata": {},
      "outputs": [
        {
          "output_type": "display_data",
          "metadata": {},
          "data": {
            "text/plain": [
              "\"This is a string\""
            ]
          }
        }
      ],
      "source": [
        "# Strings are written using double quotes\n",
        "str = \"This is a string\""
      ],
      "id": "cell-59"
    },
    {
      "cell_type": "code",
      "execution_count": 54,
      "metadata": {},
      "outputs": [
        {
          "output_type": "display_data",
          "metadata": {},
          "data": {
            "text/plain": [
              "'🦆': Unicode U+1F986 (category So: Symbol, other)"
            ]
          }
        }
      ],
      "source": [
        "ch = '🦆' # this is a character"
      ],
      "id": "cell-60"
    },
    {
      "cell_type": "code",
      "execution_count": 55,
      "metadata": {},
      "outputs": [
        {
          "output_type": "display_data",
          "metadata": {},
          "data": {
            "text/plain": [
              "\"α is a string\""
            ]
          }
        }
      ],
      "source": [
        "# Strings can also contain Unicode characters\n",
        "fancy_str = \"α is a string\""
      ],
      "id": "cell-61"
    },
    {
      "cell_type": "code",
      "execution_count": 64,
      "metadata": {},
      "outputs": [
        {
          "output_type": "stream",
          "name": "stdout",
          "text": [
            "Iteration : 10"
          ]
        }
      ],
      "source": [
        "n = 10\n",
        "println(\"Iteration : \", n)"
      ],
      "id": "cell-62"
    },
    {
      "cell_type": "code",
      "execution_count": 56,
      "metadata": {},
      "outputs": [
        {
          "output_type": "display_data",
          "metadata": {},
          "data": {
            "text/plain": [
              "\"2 + 2 = 5\""
            ]
          }
        }
      ],
      "source": [
        "# String interpolation using $\n",
        "# The expression in parentheses is evaluated and the result is \n",
        "# inserted into the string\n",
        "a = 2+2\n",
        "\"2 + 2 = $(a+1)\""
      ],
      "id": "cell-63"
    },
    {
      "cell_type": "code",
      "execution_count": 59,
      "metadata": {},
      "outputs": [
        {
          "output_type": "stream",
          "name": "stdout",
          "text": [
            "It took me 4 iterations"
          ]
        }
      ],
      "source": [
        "println(\"It took me $(a) iterations\")"
      ],
      "id": "cell-64"
    },
    {
      "cell_type": "code",
      "execution_count": 63,
      "metadata": {},
      "outputs": [
        {
          "output_type": "display_data",
          "metadata": {},
          "data": {
            "text/plain": [
              "\"helloworld\""
            ]
          }
        }
      ],
      "source": [
        "# String concatenation using *\n",
        "\"hello\" * \"world\""
      ],
      "id": "cell-65"
    },
    {
      "cell_type": "code",
      "execution_count": 60,
      "metadata": {},
      "outputs": [
        {
          "output_type": "stream",
          "name": "stdout",
          "text": [
            "123"
          ]
        }
      ],
      "source": [
        "print(\"1\")\n",
        "print(\"2\")\n",
        "print(\"3\")"
      ],
      "id": "cell-66"
    },
    {
      "cell_type": "code",
      "execution_count": 70,
      "metadata": {},
      "outputs": [
        {
          "output_type": "stream",
          "name": "stdout",
          "text": [
            "1\n",
            "2\n",
            "3"
          ]
        }
      ],
      "source": [
        "println(\"1\")\n",
        "println(\"2\")\n",
        "println(\"3\")"
      ],
      "id": "cell-67"
    },
    {
      "cell_type": "code",
      "execution_count": 44,
      "metadata": {},
      "outputs": [
        {
          "output_type": "stream",
          "name": "stdout",
          "text": [
            "hello world"
          ]
        }
      ],
      "source": [
        "println(\"hello \", \"world\")"
      ],
      "id": "cell-68"
    },
    {
      "cell_type": "markdown",
      "metadata": {},
      "source": [
        "#### Arrays\n",
        "\n",
        "Julia has one-dimensional arrays. They are also called Vector."
      ],
      "id": "f09a3eed-d69b-4f07-b857-f073c5a8e312"
    },
    {
      "cell_type": "code",
      "execution_count": 64,
      "metadata": {},
      "outputs": [
        {
          "output_type": "display_data",
          "metadata": {},
          "data": {
            "text/plain": [
              "2-element Vector{Int64}:\n",
              " 1\n",
              " 2"
            ]
          }
        }
      ],
      "source": [
        "A = [1, 2]"
      ],
      "id": "cell-71"
    },
    {
      "cell_type": "markdown",
      "metadata": {},
      "source": [
        "All elements have the type:"
      ],
      "id": "ac84dcc4-1985-4a19-bcad-bf4dda914682"
    },
    {
      "cell_type": "code",
      "execution_count": 66,
      "metadata": {},
      "outputs": [
        {
          "output_type": "display_data",
          "metadata": {},
          "data": {
            "text/plain": [
              "2-element Vector{Float64}:\n",
              " 5.0\n",
              " 1.4"
            ]
          }
        }
      ],
      "source": [
        "A = [5, 1.4]"
      ],
      "id": "cell-73"
    },
    {
      "cell_type": "code",
      "execution_count": 73,
      "metadata": {},
      "outputs": [
        {
          "output_type": "display_data",
          "metadata": {},
          "data": {
            "text/plain": [
              "false"
            ]
          }
        }
      ],
      "source": [
        "typeof(A) == Vector{Int64}"
      ],
      "id": "cell-74"
    },
    {
      "cell_type": "code",
      "execution_count": 69,
      "metadata": {},
      "outputs": [
        {
          "output_type": "display_data",
          "metadata": {},
          "data": {
            "text/plain": [
              "2-element Vector{Float64}:\n",
              " 5.0\n",
              " 1.4"
            ]
          }
        }
      ],
      "source": [
        "A''"
      ],
      "id": "cell-75"
    },
    {
      "cell_type": "markdown",
      "metadata": {},
      "source": [
        "To get the size of an array:"
      ],
      "id": "88db8f84-76b7-42a6-8215-9575f3e04d88"
    },
    {
      "cell_type": "code",
      "execution_count": 77,
      "metadata": {},
      "outputs": [
        {
          "output_type": "display_data",
          "metadata": {},
          "data": {
            "text/plain": [
              "2"
            ]
          }
        }
      ],
      "source": [
        "length(A)"
      ],
      "id": "cell-77"
    },
    {
      "cell_type": "code",
      "execution_count": 70,
      "metadata": {},
      "outputs": [
        {
          "output_type": "display_data",
          "metadata": {},
          "data": {
            "text/plain": [
              "(2,)"
            ]
          }
        }
      ],
      "source": [
        "size(A)"
      ],
      "id": "cell-78"
    },
    {
      "cell_type": "markdown",
      "metadata": {},
      "source": [
        "Arrays are *mutable*"
      ],
      "id": "cc7bb6bf-b35b-433c-8132-6fc728326cea"
    },
    {
      "cell_type": "code",
      "execution_count": 71,
      "metadata": {},
      "outputs": [
        {
          "output_type": "display_data",
          "metadata": {},
          "data": {
            "text/plain": [
              "10"
            ]
          }
        }
      ],
      "source": [
        "A[1] = 10"
      ],
      "id": "cell-80"
    },
    {
      "cell_type": "code",
      "execution_count": 72,
      "metadata": {},
      "outputs": [
        {
          "output_type": "display_data",
          "metadata": {},
          "data": {
            "text/plain": [
              "2-element Vector{Float64}:\n",
              " 10.0\n",
              "  1.4"
            ]
          }
        }
      ],
      "source": [
        "A"
      ],
      "id": "cell-81"
    },
    {
      "cell_type": "markdown",
      "metadata": {},
      "source": [
        "Julia has one-based indexing: you refer to the first element as 1\n",
        "($\\neq$ zero-based indexing in C or Python)"
      ],
      "id": "e804f3b2-25e9-496e-a7dc-6432492a75de"
    },
    {
      "cell_type": "code",
      "execution_count": 75,
      "metadata": {},
      "outputs": [
        {
          "output_type": "display_data",
          "metadata": {},
          "data": {
            "text/plain": [
              "1.4"
            ]
          }
        }
      ],
      "source": [
        "A[2]"
      ],
      "id": "cell-83"
    },
    {
      "cell_type": "markdown",
      "metadata": {},
      "source": [
        "Arrays are mutable and their size can be changed too:"
      ],
      "id": "da14060f-0e04-4229-bfea-193695fff7a9"
    },
    {
      "cell_type": "code",
      "execution_count": 78,
      "metadata": {},
      "outputs": [
        {
          "output_type": "display_data",
          "metadata": {},
          "data": {
            "text/plain": [
              "5-element Vector{Float64}:\n",
              " 10.0\n",
              "  1.4\n",
              " 29.0\n",
              " 29.0\n",
              " 29.0"
            ]
          }
        }
      ],
      "source": [
        "push!(A, 29)\n",
        "A"
      ],
      "id": "cell-85"
    },
    {
      "cell_type": "code",
      "execution_count": 79,
      "metadata": {},
      "outputs": [
        {
          "output_type": "display_data",
          "metadata": {},
          "data": {
            "text/plain": [
              "6-element Vector{Float64}:\n",
              " -1.0\n",
              " 10.0\n",
              "  1.4\n",
              " 29.0\n",
              " 29.0\n",
              " 29.0"
            ]
          }
        }
      ],
      "source": [
        "prepend!(A, -1)"
      ],
      "id": "cell-86"
    },
    {
      "cell_type": "code",
      "execution_count": 80,
      "metadata": {},
      "outputs": [
        {
          "output_type": "display_data",
          "metadata": {},
          "data": {
            "text/plain": [
              "5-element Vector{Float64}:\n",
              " 28.0\n",
              "  1.0\n",
              "  1.4\n",
              " 29.0\n",
              " 29.0"
            ]
          }
        }
      ],
      "source": [
        "prepend!(A, 28)"
      ],
      "id": "cell-87"
    },
    {
      "cell_type": "markdown",
      "metadata": {},
      "source": [
        "Two comments: - the `push!` operation is *fast* - `!` is a julia\n",
        "convention to express the fact that `push!` mutates its first argument"
      ],
      "id": "e1d3cad3-fbc1-4baa-bd97-0908a455adb5"
    },
    {
      "cell_type": "code",
      "execution_count": 81,
      "metadata": {},
      "outputs": [
        {
          "output_type": "display_data",
          "metadata": {},
          "data": {
            "text/plain": [
              "2-element Vector{String}:\n",
              " \"a\"\n",
              " \"b\""
            ]
          }
        }
      ],
      "source": [
        "[\"a\", \"b\"]"
      ],
      "id": "cell-89"
    },
    {
      "cell_type": "code",
      "execution_count": 82,
      "metadata": {},
      "outputs": [
        {
          "output_type": "display_data",
          "metadata": {},
          "data": {
            "text/plain": [
              "2-element Vector{Any}:\n",
              "  \"a\"\n",
              " 1"
            ]
          }
        }
      ],
      "source": [
        "[\"a\", 1]"
      ],
      "id": "cell-90"
    },
    {
      "cell_type": "markdown",
      "metadata": {},
      "source": [
        "#### tuples"
      ],
      "id": "1d31983b-087a-47eb-9a3d-fff6ac1c96d4"
    },
    {
      "cell_type": "code",
      "execution_count": 80,
      "metadata": {},
      "outputs": [
        {
          "output_type": "display_data",
          "metadata": {},
          "data": {
            "text/plain": [
              "(6,)"
            ]
          }
        }
      ],
      "source": [
        "size(A)  # is a tuple"
      ],
      "id": "cell-92"
    },
    {
      "cell_type": "code",
      "execution_count": 81,
      "metadata": {},
      "outputs": [
        {
          "output_type": "display_data",
          "metadata": {},
          "data": {
            "text/plain": [
              "(5,)"
            ]
          }
        }
      ],
      "source": [
        "(5,)"
      ],
      "id": "cell-93"
    },
    {
      "cell_type": "code",
      "execution_count": 82,
      "metadata": {},
      "outputs": [
        {
          "output_type": "display_data",
          "metadata": {},
          "data": {
            "text/plain": [
              "(1, 2, 3, 4)"
            ]
          }
        }
      ],
      "source": [
        "# you can create tuples with (,,,)\n",
        "t = (1,2,3,4)\n"
      ],
      "id": "cell-94"
    },
    {
      "cell_type": "code",
      "execution_count": 83,
      "metadata": {},
      "outputs": [
        {
          "output_type": "display_data",
          "metadata": {},
          "data": {
            "text/plain": [
              "(1, 2, 3, 4)"
            ]
          }
        }
      ],
      "source": [
        "t"
      ],
      "id": "cell-95"
    },
    {
      "cell_type": "markdown",
      "metadata": {},
      "source": [
        "tuples differ from arrays in two ways: - they are immutable - they can\n",
        "contain non-homogenous objects"
      ],
      "id": "a17983c9-43f5-4373-b361-2c4a966808a0"
    },
    {
      "cell_type": "code",
      "execution_count": 84,
      "metadata": {},
      "outputs": [
        {
          "output_type": "display_data",
          "metadata": {},
          "data": {
            "text/plain": [
              "1"
            ]
          }
        }
      ],
      "source": [
        "t[1]"
      ],
      "id": "cell-97"
    },
    {
      "cell_type": "code",
      "execution_count": 85,
      "metadata": {},
      "outputs": [],
      "source": [
        "t[1] = 2"
      ],
      "id": "cell-98"
    },
    {
      "cell_type": "code",
      "execution_count": 91,
      "metadata": {},
      "outputs": [
        {
          "output_type": "display_data",
          "metadata": {},
          "data": {
            "text/plain": [
              "Tuple{Int64, String, Vector{Int64}}"
            ]
          }
        }
      ],
      "source": [
        "typeof((1, \"1\", [1]))"
      ],
      "id": "cell-99"
    },
    {
      "cell_type": "markdown",
      "metadata": {},
      "source": [
        "2d arrays are also called matrices… and can be used for matrix\n",
        "multiplications."
      ],
      "id": "7264ac2e-8b6a-4cba-89dd-7905dd3fa8e7"
    },
    {
      "cell_type": "code",
      "execution_count": 86,
      "metadata": {},
      "outputs": [
        {
          "output_type": "display_data",
          "metadata": {},
          "data": {
            "text/plain": [
              "2×2 Matrix{Int64}:\n",
              " 3  4\n",
              " 5  6"
            ]
          }
        }
      ],
      "source": [
        "[3 4  ;   5 6]"
      ],
      "id": "cell-101"
    },
    {
      "cell_type": "code",
      "execution_count": 89,
      "metadata": {},
      "outputs": [
        {
          "output_type": "display_data",
          "metadata": {},
          "data": {
            "text/plain": [
              "4×1×2 Array{Int64, 3}:\n",
              "[:, :, 1] =\n",
              " 3\n",
              " 4\n",
              " 2\n",
              " 2\n",
              "\n",
              "[:, :, 2] =\n",
              " 3\n",
              " 4\n",
              " 5\n",
              " 6"
            ]
          }
        }
      ],
      "source": [
        "[ [[3, 4] ;[2, 2]];;; [[3, 4]; [5, 6]]] # concatenate along second dimension"
      ],
      "id": "cell-102"
    },
    {
      "cell_type": "code",
      "execution_count": null,
      "metadata": {},
      "outputs": [
        {
          "output_type": "display_data",
          "metadata": {},
          "data": {
            "text/plain": [
              "4×2 Matrix{Int64}:\n",
              " 1  5\n",
              " 2  6\n",
              " 3  7\n",
              " 4  8"
            ]
          }
        }
      ],
      "source": [
        "a1 = [1,2,3,4]\n",
        "a2 = [1,2,3,4]  .+ 4\n",
        "# [a1 ;; a2]\n",
        "cat(a1, a2; dims=2)"
      ],
      "id": "cell-103"
    },
    {
      "cell_type": "code",
      "execution_count": 37,
      "metadata": {},
      "outputs": [
        {
          "output_type": "display_data",
          "metadata": {},
          "data": {
            "text/plain": [
              "1×3 Array{Float64,2}:\n",
              " 1.0  0.6  0.0"
            ]
          }
        }
      ],
      "source": [
        "b = [1 0.6 0]"
      ],
      "id": "cell-104"
    },
    {
      "cell_type": "code",
      "execution_count": null,
      "metadata": {},
      "outputs": [],
      "source": [
        "B = [0.1 0.2 0.3; 4 5 6]"
      ],
      "id": "cell-105"
    },
    {
      "cell_type": "markdown",
      "metadata": {},
      "source": [
        "Other ways to construct arrays:"
      ],
      "id": "2b60b617-5929-49e4-9234-c5ca15f02210"
    },
    {
      "cell_type": "code",
      "execution_count": 94,
      "metadata": {},
      "outputs": [
        {
          "output_type": "display_data",
          "metadata": {},
          "data": {
            "text/plain": [
              "2×3 Matrix{Float64}:\n",
              " 0.0  23.2  0.0\n",
              " 0.0   0.0  0.0"
            ]
          }
        }
      ],
      "source": [
        "# zero array\n",
        "t = zeros(2,3)\n",
        "t[1,2] = 23.2\n",
        "t"
      ],
      "id": "cell-107"
    },
    {
      "cell_type": "code",
      "execution_count": 97,
      "metadata": {},
      "outputs": [
        {
          "output_type": "display_data",
          "metadata": {},
          "data": {
            "text/plain": [
              "2×3 Matrix{Int64}:\n",
              " 0  23  0\n",
              " 0   0  0"
            ]
          }
        }
      ],
      "source": [
        "# zero array\n",
        "t = zeros(Int64,2,3)\n",
        "t[1,2] = 23\n",
        "t"
      ],
      "id": "cell-108"
    },
    {
      "cell_type": "code",
      "execution_count": 79,
      "metadata": {},
      "outputs": [
        {
          "output_type": "display_data",
          "metadata": {},
          "data": {
            "text/plain": [
              "3×3 Matrix{Float64}:\n",
              " 0.151296  0.390327  0.239194\n",
              " 0.726286  0.371063  0.133779\n",
              " 0.037311  0.183624  0.72499"
            ]
          }
        }
      ],
      "source": [
        "# random array (uniform distribution)\n",
        "t= rand(3,3)\n",
        "t"
      ],
      "id": "cell-109"
    },
    {
      "cell_type": "code",
      "execution_count": 99,
      "metadata": {},
      "outputs": [
        {
          "output_type": "display_data",
          "metadata": {},
          "data": {
            "text/plain": [
              "3×3×2×2 Array{Float64, 4}:\n",
              "[:, :, 1, 1] =\n",
              " -1.87278  -0.309205   0.249804\n",
              " -1.93702  -0.331663   1.7964\n",
              "  1.31126  -0.730084  -0.488771\n",
              "\n",
              "[:, :, 2, 1] =\n",
              " -1.02687    1.27482   0.207381\n",
              "  0.954285  -1.5966   -0.377572\n",
              " -0.725551  -1.47646   0.221127\n",
              "\n",
              "[:, :, 1, 2] =\n",
              " -0.943978  -0.482072   -1.26438\n",
              " -1.01204    0.0370359   0.111284\n",
              " -0.361247  -0.0701506  -1.27103\n",
              "\n",
              "[:, :, 2, 2] =\n",
              " -1.10099     0.387518   0.825336\n",
              " -1.12199    -0.975774  -1.24188\n",
              " -0.0136014   1.39104    0.579525"
            ]
          }
        }
      ],
      "source": [
        "# random array (normal distribution)\n",
        "t= randn(3,3,2,2)\n",
        "t"
      ],
      "id": "cell-110"
    },
    {
      "cell_type": "markdown",
      "metadata": {},
      "source": [
        "Vectorized operations take a ., even comparisons (pointwise operations)"
      ],
      "id": "9e40bed4-5f2a-4224-b714-61c97c3ad53f"
    },
    {
      "cell_type": "code",
      "execution_count": 102,
      "metadata": {},
      "outputs": [
        {
          "output_type": "display_data",
          "metadata": {},
          "data": {
            "text/plain": [
              "2×2 Matrix{Int64}:\n",
              " 1  2\n",
              " 3  4"
            ]
          }
        }
      ],
      "source": [
        "B = [1 2;3 4]"
      ],
      "id": "cell-112"
    },
    {
      "cell_type": "code",
      "execution_count": 103,
      "metadata": {},
      "outputs": [
        {
          "output_type": "display_data",
          "metadata": {},
          "data": {
            "text/plain": [
              "2×2 Matrix{Int64}:\n",
              "  7  10\n",
              " 15  22"
            ]
          }
        }
      ],
      "source": [
        "B*B"
      ],
      "id": "cell-113"
    },
    {
      "cell_type": "code",
      "execution_count": 104,
      "metadata": {},
      "outputs": [
        {
          "output_type": "display_data",
          "metadata": {},
          "data": {
            "text/plain": [
              "2×2 Matrix{Int64}:\n",
              " 1   4\n",
              " 9  16"
            ]
          }
        }
      ],
      "source": [
        "B .* B"
      ],
      "id": "cell-114"
    },
    {
      "cell_type": "code",
      "execution_count": null,
      "metadata": {},
      "outputs": [
        {
          "output_type": "display_data",
          "metadata": {},
          "data": {
            "text/plain": [
              "f (generic function with 1 method)"
            ]
          }
        }
      ],
      "source": [
        "f(x) = x^2 + 1"
      ],
      "id": "cell-115"
    },
    {
      "cell_type": "code",
      "execution_count": 106,
      "metadata": {},
      "outputs": [
        {
          "output_type": "display_data",
          "metadata": {},
          "data": {
            "text/plain": [
              "1850"
            ]
          }
        }
      ],
      "source": [
        "f(43)"
      ],
      "id": "cell-116"
    },
    {
      "cell_type": "code",
      "execution_count": 108,
      "metadata": {},
      "outputs": [
        {
          "output_type": "display_data",
          "metadata": {},
          "data": {
            "text/plain": [
              "2×2 Matrix{Int64}:\n",
              "  2   5\n",
              " 10  17"
            ]
          }
        }
      ],
      "source": [
        "f.(B)"
      ],
      "id": "cell-117"
    },
    {
      "cell_type": "code",
      "execution_count": 108,
      "metadata": {},
      "outputs": [
        {
          "output_type": "display_data",
          "metadata": {},
          "data": {
            "text/plain": [
              "5-element Vector{Int64}:\n",
              "  2\n",
              "  5\n",
              " 10\n",
              " 17\n",
              " 26"
            ]
          }
        }
      ],
      "source": [
        "# [ f(e) for e in [1,2,3,4,5] ]\n",
        "f.([1,2,3,4,5])"
      ],
      "id": "cell-118"
    },
    {
      "cell_type": "markdown",
      "metadata": {},
      "source": [
        "Elements are always accessed with square brackets:"
      ],
      "id": "53cdf7a1-1f07-4008-a245-b67ab60f0f81"
    },
    {
      "cell_type": "code",
      "execution_count": 109,
      "metadata": {},
      "outputs": [
        {
          "output_type": "display_data",
          "metadata": {},
          "data": {
            "text/plain": [
              "2×3 Matrix{Int64}:\n",
              " 1  2  3\n",
              " 4  5  6"
            ]
          }
        }
      ],
      "source": [
        "B = [1 2 3; 4 5 6]"
      ],
      "id": "cell-120"
    },
    {
      "cell_type": "code",
      "execution_count": null,
      "metadata": {},
      "outputs": [],
      "source": [
        "You get element $B_{ij}$ with `B[i,j]`"
      ],
      "id": "cell-121"
    },
    {
      "cell_type": "code",
      "execution_count": 109,
      "metadata": {},
      "outputs": [
        {
          "output_type": "display_data",
          "metadata": {},
          "data": {
            "text/plain": [
              "2"
            ]
          }
        }
      ],
      "source": [
        "B[1,2]"
      ],
      "id": "cell-122"
    },
    {
      "cell_type": "markdown",
      "metadata": {},
      "source": [
        "You select a whole row/column with `:`"
      ],
      "id": "88bfc629-dc83-4751-a608-94b5064fbaf7"
    },
    {
      "cell_type": "code",
      "execution_count": 112,
      "metadata": {},
      "outputs": [
        {
          "output_type": "display_data",
          "metadata": {},
          "data": {
            "text/plain": [
              "2×3 Matrix{Int64}:\n",
              " 1  2  5\n",
              " 3  4  6"
            ]
          }
        }
      ],
      "source": [
        "B = [B ;; [5,6]]"
      ],
      "id": "cell-124"
    },
    {
      "cell_type": "code",
      "execution_count": 113,
      "metadata": {},
      "outputs": [
        {
          "output_type": "display_data",
          "metadata": {},
          "data": {
            "text/plain": [
              "3-element Vector{Int64}:\n",
              " 1\n",
              " 2\n",
              " 5"
            ]
          }
        }
      ],
      "source": [
        "B[1,:]"
      ],
      "id": "cell-125"
    },
    {
      "cell_type": "code",
      "execution_count": 115,
      "metadata": {},
      "outputs": [
        {
          "output_type": "display_data",
          "metadata": {},
          "data": {
            "text/plain": [
              "2×3 Matrix{Int64}:\n",
              " 1  2  5\n",
              " 3  4  6"
            ]
          }
        }
      ],
      "source": [
        "B"
      ],
      "id": "cell-126"
    },
    {
      "cell_type": "code",
      "execution_count": 114,
      "metadata": {},
      "outputs": [
        {
          "output_type": "display_data",
          "metadata": {},
          "data": {
            "text/plain": [
              "2×2 Matrix{Int64}:\n",
              " 1  2\n",
              " 3  4"
            ]
          }
        }
      ],
      "source": [
        "B[:,1:2]"
      ],
      "id": "cell-127"
    },
    {
      "cell_type": "code",
      "execution_count": 117,
      "metadata": {},
      "outputs": [
        {
          "output_type": "display_data",
          "metadata": {},
          "data": {
            "text/plain": [
              "2×2 Matrix{Int64}:\n",
              " 1  2\n",
              " 3  4"
            ]
          }
        }
      ],
      "source": [
        "B[:,1:end-1]"
      ],
      "id": "cell-128"
    },
    {
      "cell_type": "markdown",
      "metadata": {},
      "source": [
        "#### Control flow\n",
        "\n",
        "Conditions"
      ],
      "id": "616dd32b-3953-49e2-9cbe-4820c8792987"
    },
    {
      "cell_type": "code",
      "execution_count": 97,
      "metadata": {},
      "outputs": [
        {
          "output_type": "stream",
          "name": "stdout",
          "text": [
            "x is zero"
          ]
        }
      ],
      "source": [
        "x = 0\n",
        "if x<0\n",
        "    # block\n",
        "    println(\"x is negative\")\n",
        "elseif (x > 0) # optional and unlimited\n",
        "    println(\"x is positive\")\n",
        "else         # optional\n",
        "    println(\"x is zero\")\n",
        "end"
      ],
      "id": "cell-131"
    },
    {
      "cell_type": "markdown",
      "metadata": {},
      "source": [
        "While"
      ],
      "id": "9ad294f4-03f3-46d4-b7e2-e821429fe1b5"
    },
    {
      "cell_type": "code",
      "execution_count": 119,
      "metadata": {},
      "outputs": [
        {
          "output_type": "stream",
          "name": "stdout",
          "text": [
            "3\n",
            "2\n",
            "1"
          ]
        }
      ],
      "source": [
        "i = 3\n",
        "while i > 0\n",
        "    println(i)\n",
        "    i -= 1 # decrement\n",
        "end"
      ],
      "id": "cell-133"
    },
    {
      "cell_type": "markdown",
      "metadata": {},
      "source": [
        "For loops: your iterate over any iterable object: - range `i1:i2` -\n",
        "vector - tuple"
      ],
      "id": "c0445695-ed9e-4582-8faf-8e28c4beb6e9"
    },
    {
      "cell_type": "code",
      "execution_count": 122,
      "metadata": {},
      "outputs": [
        {
          "output_type": "stream",
          "name": "stdout",
          "text": [
            "1\n",
            "2\n",
            "3"
          ]
        }
      ],
      "source": [
        "# Iterate through ranges of numbers\n",
        "for i ∈ (1:3)\n",
        "    println(i)\n",
        "end"
      ],
      "id": "cell-135"
    },
    {
      "cell_type": "code",
      "execution_count": 123,
      "metadata": {},
      "outputs": [
        {
          "output_type": "stream",
          "name": "stdout",
          "text": [
            "Boston\n",
            "New York\n",
            "Philadelphia"
          ]
        }
      ],
      "source": [
        "# Iterate through arrays\n",
        "cities = [\"Boston\", \"New York\", \"Philadelphia\"]\n",
        "for city ∈ cities\n",
        "    println(city)\n",
        "end"
      ],
      "id": "cell-136"
    },
    {
      "cell_type": "code",
      "execution_count": 100,
      "metadata": {},
      "outputs": [
        {
          "output_type": "display_data",
          "metadata": {},
          "data": {
            "text/plain": [
              "3-element Vector{String}:\n",
              " \"Boston\"\n",
              " \"New York\"\n",
              " \"Philadelphia\""
            ]
          }
        }
      ],
      "source": [
        "cities"
      ],
      "id": "cell-137"
    },
    {
      "cell_type": "code",
      "execution_count": 124,
      "metadata": {},
      "outputs": [
        {
          "output_type": "display_data",
          "metadata": {},
          "data": {
            "text/plain": [
              "3-element Vector{String}:\n",
              " \"Massachussets\"\n",
              " \"New York\"\n",
              " \"Pennsylvania\""
            ]
          }
        }
      ],
      "source": [
        "states = [\"Massachussets\", \"New York\", \"Pennsylvania\"]"
      ],
      "id": "cell-138"
    },
    {
      "cell_type": "code",
      "execution_count": 127,
      "metadata": {},
      "outputs": [
        {
          "output_type": "stream",
          "name": "stdout",
          "text": [
            "Boston : Massachussets\n",
            "New York : New York\n",
            "Philadelphia : Pennsylvania"
          ]
        }
      ],
      "source": [
        "for i = 1:length(cities)\n",
        "    println(cities[i], \" : \", states[i])\n",
        "end"
      ],
      "id": "cell-139"
    },
    {
      "cell_type": "code",
      "execution_count": 131,
      "metadata": {},
      "outputs": [
        {
          "output_type": "stream",
          "name": "stdout",
          "text": [
            "Boston : Massachussets\n",
            "New York : New York\n",
            "Philadelphia : Pennsylvania"
          ]
        }
      ],
      "source": [
        "for (i,c) in enumerate(cities)\n",
        "    println(c, \" : \", states[i])\n",
        "end"
      ],
      "id": "cell-140"
    },
    {
      "cell_type": "code",
      "execution_count": 136,
      "metadata": {},
      "outputs": [
        {
          "output_type": "stream",
          "name": "stdout",
          "text": [
            "state: Massachussets     city: Boston\n",
            "state: New York      city: New York\n",
            "state: Pennsylvania      city: Philadelphia"
          ]
        }
      ],
      "source": [
        "for (c,s) in zip(cities, states)\n",
        "    println(\"state: $s \\t city: $c\")\n",
        "end"
      ],
      "id": "cell-141"
    },
    {
      "cell_type": "code",
      "execution_count": null,
      "metadata": {},
      "outputs": [],
      "source": [
        "for (i,c) in enumeratea(cities)\n",
        "    println(c, \" : \", states[i])\n",
        "end"
      ],
      "id": "cell-142"
    },
    {
      "cell_type": "code",
      "execution_count": 118,
      "metadata": {},
      "outputs": [
        {
          "output_type": "display_data",
          "metadata": {},
          "data": {
            "text/plain": [
              "zip([\"Boston\", \"New York\", \"Philadelphia\"], [\"Massachussets\", \"New York\", \"Pennsylvania\"])"
            ]
          }
        }
      ],
      "source": [
        "two_by_two_iterable = zip(cities, states)"
      ],
      "id": "cell-143"
    },
    {
      "cell_type": "code",
      "execution_count": 120,
      "metadata": {},
      "outputs": [
        {
          "output_type": "display_data",
          "metadata": {},
          "data": {
            "text/plain": [
              "Base.Iterators.Zip{Tuple{Vector{String}, Vector{String}}}"
            ]
          }
        }
      ],
      "source": [
        "typeof(two_by_two_iterable)"
      ],
      "id": "cell-144"
    },
    {
      "cell_type": "code",
      "execution_count": 121,
      "metadata": {},
      "outputs": [
        {
          "output_type": "display_data",
          "metadata": {},
          "data": {
            "text/plain": [
              "3-element Vector{Tuple{String, String}}:\n",
              " (\"Boston\", \"Massachussets\")\n",
              " (\"New York\", \"New York\")\n",
              " (\"Philadelphia\", \"Pennsylvania\")"
            ]
          }
        }
      ],
      "source": [
        "collect(two_by_two_iterable)"
      ],
      "id": "cell-145"
    },
    {
      "cell_type": "code",
      "execution_count": 122,
      "metadata": {},
      "outputs": [
        {
          "output_type": "display_data",
          "metadata": {},
          "data": {
            "text/plain": [
              "3-element Vector{Tuple{String, String}}:\n",
              " (\"Boston\", \"Massachussets\")\n",
              " (\"New York\", \"New York\")\n",
              " (\"Philadelphia\", \"Pennsylvania\")"
            ]
          }
        }
      ],
      "source": [
        "[two_by_two_iterable...]"
      ],
      "id": "cell-146"
    },
    {
      "cell_type": "code",
      "execution_count": 106,
      "metadata": {},
      "outputs": [
        {
          "output_type": "stream",
          "name": "stdout",
          "text": [
            "(\"Boston\", \"Massachussets\")\n",
            "(\"New York\", \"New York\")\n",
            "(\"Philadelphia\", \"Pennsylvania\")"
          ]
        }
      ],
      "source": [
        "# Iterate through arrays of tuples using zip\n",
        "for kw in zip(cities, states)\n",
        "    println(kw)\n",
        "end"
      ],
      "id": "cell-147"
    },
    {
      "cell_type": "code",
      "execution_count": 123,
      "metadata": {},
      "outputs": [
        {
          "output_type": "stream",
          "name": "stdout",
          "text": [
            "City: Boston | State: Massachussets\n",
            "City: New York | State: New York\n",
            "City: Philadelphia | State: Pennsylvania"
          ]
        }
      ],
      "source": [
        "# Iterate through arrays of tuples using zip\n",
        "for (city, state) in zip(cities, states)\n",
        "    println(\"City: $city | State: $state\")\n",
        "end"
      ],
      "id": "cell-148"
    },
    {
      "cell_type": "code",
      "execution_count": 108,
      "metadata": {},
      "outputs": [
        {
          "output_type": "stream",
          "name": "stdout",
          "text": [
            "City 1 is Boston\n",
            "City 2 is New York\n",
            "City 3 is Philadelphia"
          ]
        }
      ],
      "source": [
        "# Iterate through arrays and their indices using enumerate\n",
        "for (i, city) in enumerate(cities)\n",
        "    println(\"City $i is $city\")\n",
        "end"
      ],
      "id": "cell-150"
    },
    {
      "cell_type": "markdown",
      "metadata": {},
      "source": [
        "#### List comprehensions"
      ],
      "id": "4adb7a73-5834-48bd-9629-5f9506af9537"
    },
    {
      "cell_type": "code",
      "execution_count": 111,
      "metadata": {},
      "outputs": [
        {
          "output_type": "display_data",
          "metadata": {},
          "data": {
            "text/plain": [
              "10-element Vector{Float64}:\n",
              "  1.0\n",
              "  2.0\n",
              "  3.0\n",
              "  4.0\n",
              "  5.0\n",
              "  6.0\n",
              "  7.0\n",
              "  8.0\n",
              "  9.0\n",
              " 10.0"
            ]
          }
        }
      ],
      "source": [
        "[1:10 ...] # unpack operator"
      ],
      "id": "cell-152"
    },
    {
      "cell_type": "code",
      "execution_count": 137,
      "metadata": {},
      "outputs": [
        {
          "output_type": "display_data",
          "metadata": {},
          "data": {
            "text/plain": [
              "10-element Vector{Int64}:\n",
              "   1\n",
              "   4\n",
              "   9\n",
              "  16\n",
              "  25\n",
              "  36\n",
              "  49\n",
              "  64\n",
              "  81\n",
              " 100"
            ]
          }
        }
      ],
      "source": [
        "[i^2 for i  in 1:10] # collect with comprehension syntax"
      ],
      "id": "cell-153"
    },
    {
      "cell_type": "code",
      "execution_count": 125,
      "metadata": {},
      "outputs": [],
      "source": [
        "[i^2 for i=1:10000000 if mod(i,2)==0] ;"
      ],
      "id": "cell-154"
    },
    {
      "cell_type": "code",
      "execution_count": 133,
      "metadata": {},
      "outputs": [],
      "source": [
        "@time sum( [i^2 for i=1:10000000000 if mod(i,2)==0] )"
      ],
      "id": "cell-155"
    },
    {
      "cell_type": "code",
      "execution_count": 1,
      "metadata": {},
      "outputs": [
        {
          "output_type": "display_data",
          "metadata": {},
          "data": {
            "text/plain": [
              "fun (generic function with 1 method)"
            ]
          }
        }
      ],
      "source": [
        "function fun()\n",
        "    t = 0\n",
        "    for  i=1:10000000000\n",
        "        if mod(i,2)==0\n",
        "            t += i^2\n",
        "        end\n",
        "    end\n",
        "    return t\n",
        "end"
      ],
      "id": "cell-156"
    },
    {
      "cell_type": "code",
      "execution_count": 2,
      "metadata": {},
      "outputs": [
        {
          "output_type": "stream",
          "name": "stdout",
          "text": [
            "  2.552283 seconds"
          ]
        },
        {
          "output_type": "display_data",
          "metadata": {},
          "data": {
            "text/plain": [
              "-4494074839411110912"
            ]
          }
        }
      ],
      "source": [
        "@time fun()"
      ],
      "id": "cell-157"
    },
    {
      "cell_type": "code",
      "execution_count": 8,
      "metadata": {},
      "outputs": [
        {
          "output_type": "display_data",
          "metadata": {},
          "data": {
            "text/plain": [
              "Base.Generator{Base.Iterators.Filter{var\"#24#26\", UnitRange{Int64}}, var\"#23#25\"}(var\"#23#25\"(), Base.Iterators.Filter{var\"#24#26\", UnitRange{Int64}}(var\"#24#26\"(), 1:10000000000))"
            ]
          }
        }
      ],
      "source": [
        "gen = (i^2 for i=1:10000000000 if mod(i,2)==0)"
      ],
      "id": "cell-158"
    },
    {
      "cell_type": "code",
      "execution_count": 10,
      "metadata": {},
      "outputs": [
        {
          "output_type": "stream",
          "name": "stdout",
          "text": [
            " 16.349360 seconds (1 allocation: 16 bytes)"
          ]
        },
        {
          "output_type": "display_data",
          "metadata": {},
          "data": {
            "text/plain": [
              "-4494074839411110912"
            ]
          }
        }
      ],
      "source": [
        "@time sum(gen)"
      ],
      "id": "cell-159"
    },
    {
      "cell_type": "code",
      "execution_count": 11,
      "metadata": {},
      "outputs": [],
      "source": [
        "## Named Tuples"
      ],
      "id": "cell-160"
    },
    {
      "cell_type": "code",
      "execution_count": 13,
      "metadata": {},
      "outputs": [
        {
          "output_type": "display_data",
          "metadata": {},
          "data": {
            "text/plain": [
              "(a = 1, b = 2, c = 3)"
            ]
          }
        }
      ],
      "source": [
        "t = (;a=1,b=2,c=3)"
      ],
      "id": "cell-161"
    },
    {
      "cell_type": "code",
      "execution_count": 17,
      "metadata": {},
      "outputs": [
        {
          "output_type": "display_data",
          "metadata": {},
          "data": {
            "text/plain": [
              "1"
            ]
          }
        }
      ],
      "source": [
        "t[1] # indexed like tuple\n",
        "# t[1] = 2 # immutable\n",
        "t.a # access fields using names"
      ],
      "id": "cell-162"
    },
    {
      "cell_type": "code",
      "execution_count": 18,
      "metadata": {},
      "outputs": [
        {
          "output_type": "display_data",
          "metadata": {},
          "data": {
            "text/plain": [
              "(α = 0.3, β = 0.96)"
            ]
          }
        }
      ],
      "source": [
        "model = (;\n",
        "    α = 0.3,\n",
        "    β = 0.96\n",
        ")"
      ],
      "id": "cell-163"
    },
    {
      "cell_type": "code",
      "execution_count": 21,
      "metadata": {},
      "outputs": [
        {
          "output_type": "display_data",
          "metadata": {},
          "data": {
            "text/plain": [
              "(α = 0.3, β = 0.9, γ = 0.2)"
            ]
          }
        }
      ],
      "source": [
        "merge(model, (;β=0.9, γ=0.2))"
      ],
      "id": "cell-164"
    },
    {
      "cell_type": "code",
      "execution_count": 23,
      "metadata": {},
      "outputs": [
        {
          "output_type": "display_data",
          "metadata": {},
          "data": {
            "text/plain": [
              "0.96"
            ]
          }
        }
      ],
      "source": [
        "# unpack values from a tuple\n",
        "\n",
        "α = model[1]\n",
        "β = model[2]"
      ],
      "id": "cell-165"
    },
    {
      "cell_type": "code",
      "execution_count": 24,
      "metadata": {},
      "outputs": [
        {
          "output_type": "display_data",
          "metadata": {},
          "data": {
            "text/plain": [
              "0.96"
            ]
          }
        }
      ],
      "source": [
        "# unpack values from a namedtuple\n",
        "\n",
        "α = model.α\n",
        "β = model.β"
      ],
      "id": "cell-166"
    },
    {
      "cell_type": "code",
      "execution_count": 27,
      "metadata": {},
      "outputs": [
        {
          "output_type": "display_data",
          "metadata": {},
          "data": {
            "text/plain": [
              "0.3"
            ]
          }
        }
      ],
      "source": [
        "# namedtuple unpacking\n",
        "\n",
        "(;α, β) = model\n",
        "α"
      ],
      "id": "cell-167"
    },
    {
      "cell_type": "code",
      "execution_count": 26,
      "metadata": {},
      "outputs": [
        {
          "output_type": "display_data",
          "metadata": {},
          "data": {
            "text/plain": [
              "0.3"
            ]
          }
        }
      ],
      "source": [],
      "id": "cell-168"
    },
    {
      "cell_type": "markdown",
      "metadata": {},
      "source": [
        "### Data Types and multiple dispatch\n",
        "\n",
        "#### Composite types\n",
        "\n",
        "A **composite type** is a collection of named fields that can be treated\n",
        "as a single value. They bear a passing resemblance to MATLAB structs.\n",
        "\n",
        "All fields must be declared ahead of time. The double colon, `::`,\n",
        "constrains a field to contain values of a certain type. This is optional\n",
        "for any field."
      ],
      "id": "60fe285b-5ec3-42e9-96c9-062c2a6bc68b"
    },
    {
      "cell_type": "code",
      "execution_count": 98,
      "metadata": {},
      "outputs": [],
      "source": [
        "# Type definition with 4 fields\n",
        "struct ParameterFree\n",
        "    value  \n",
        "    transformation  \n",
        "    tex_label\n",
        "    description \n",
        "end"
      ],
      "id": "cell-171"
    },
    {
      "cell_type": "code",
      "execution_count": 95,
      "metadata": {},
      "outputs": [
        {
          "output_type": "display_data",
          "metadata": {},
          "data": {
            "text/plain": [
              "ParameterFree(\"1\", var\"#9#10\"(), \"\\\\sqrt{1+x^2}\", (\"a\", 1))"
            ]
          }
        }
      ],
      "source": [
        "pf = ParameterFree(\"1\", x->x^2, \"\\\\sqrt{1+x^2}\", (\"a\",1))"
      ],
      "id": "cell-172"
    },
    {
      "cell_type": "code",
      "execution_count": 99,
      "metadata": {},
      "outputs": [
        {
          "output_type": "display_data",
          "metadata": {},
          "data": {
            "text/plain": [
              "\"1\""
            ]
          }
        }
      ],
      "source": [
        "pf.value"
      ],
      "id": "cell-173"
    },
    {
      "cell_type": "markdown",
      "metadata": {},
      "source": [
        "Two reasons to create structures: - syntactic shortcut (you access the\n",
        "fields with .) - specify the types of the fields"
      ],
      "id": "b2729d2e-f028-4213-b9c9-e4b2a6fef1d8"
    },
    {
      "cell_type": "code",
      "execution_count": 100,
      "metadata": {},
      "outputs": [],
      "source": [
        "# Type definition\n",
        "struct Parameter\n",
        "    value ::Float64\n",
        "    transformation ::Function # Function is a type!\n",
        "    tex_label::String\n",
        "    description::String\n",
        "end"
      ],
      "id": "cell-175"
    },
    {
      "cell_type": "code",
      "execution_count": 101,
      "metadata": {},
      "outputs": [],
      "source": [
        "p = Parameter(\"1\", x->x^2, \"\\\\sqrt{1+x^2}\", (\"a\",1))"
      ],
      "id": "cell-176"
    },
    {
      "cell_type": "code",
      "execution_count": 102,
      "metadata": {},
      "outputs": [
        {
          "output_type": "display_data",
          "metadata": {},
          "data": {
            "text/plain": [
              "Parameter(0.43, var\"#13#14\"(), \"\\\\sqrt{1+x^2}\", \"This is a description\")"
            ]
          }
        }
      ],
      "source": [
        "p = Parameter(0.43, x->x^2, \"\\\\sqrt{1+x^2}\", \"This is a description\")"
      ],
      "id": "cell-177"
    },
    {
      "cell_type": "code",
      "execution_count": 103,
      "metadata": {},
      "outputs": [
        {
          "output_type": "display_data",
          "metadata": {},
          "data": {
            "text/plain": [
              "0.43"
            ]
          }
        }
      ],
      "source": [
        "p.value"
      ],
      "id": "cell-178"
    },
    {
      "cell_type": "markdown",
      "metadata": {},
      "source": [
        "When a type with $n$ fields is defined, a constructor (function that\n",
        "creates an instance of that type) that takes $n$ ordered arguments is\n",
        "automatically created. Additional constructors can be defined for\n",
        "convenience."
      ],
      "id": "2dce1844-47b1-485a-b49c-43fb8076ed13"
    },
    {
      "cell_type": "code",
      "execution_count": 104,
      "metadata": {},
      "outputs": [
        {
          "output_type": "display_data",
          "metadata": {},
          "data": {
            "text/plain": [
              "Parameter(0.9, identity, \"\\\\beta\", \"Discount rate\")"
            ]
          }
        }
      ],
      "source": [
        "# Creating an instance of the Parameter type using the default\n",
        "# constructor\n",
        "β = Parameter(0.9, identity, \"\\\\beta\", \"Discount rate\")"
      ],
      "id": "cell-180"
    },
    {
      "cell_type": "code",
      "execution_count": 106,
      "metadata": {},
      "outputs": [
        {
          "output_type": "display_data",
          "metadata": {},
          "data": {
            "text/plain": [
              "Parameter"
            ]
          }
        }
      ],
      "source": [
        "function Parameter(value)\n",
        "    return Parameter(value, x->x, \"x\", \"Anonymous\")\n",
        "end"
      ],
      "id": "cell-181"
    },
    {
      "cell_type": "code",
      "execution_count": 107,
      "metadata": {},
      "outputs": [
        {
          "output_type": "display_data",
          "metadata": {},
          "data": {
            "text/plain": [
              "Parameter(0.4, var\"#15#16\"(), \"x\", \"Anonymous\")"
            ]
          }
        }
      ],
      "source": [
        "Parameter(0.4)"
      ],
      "id": "cell-182"
    },
    {
      "cell_type": "code",
      "execution_count": 108,
      "metadata": {},
      "outputs": [
        {
          "output_type": "display_data",
          "metadata": {},
          "data": {
            "text/plain": [
              "Parameter"
            ]
          }
        }
      ],
      "source": [
        "Parameter(value, transformation, tex) = Parameter(value, transformation, tex, \"no description\")"
      ],
      "id": "cell-183"
    },
    {
      "cell_type": "code",
      "execution_count": 109,
      "metadata": {},
      "outputs": [
        {
          "output_type": "display_data",
          "metadata": {},
          "data": {
            "text/html": [
              "# 4 methods for type constructor:<ul><li> Parameter(value::<b>Float64</b>, transformation::<b>Function</b>, tex_label::<b>String</b>, description::<b>String</b>) in Main at In[100]:3</li> <li> Parameter(value) in Main at In[106]:1</li> <li> Parameter(value, transformation, tex) in Main at In[108]:1</li> <li> Parameter(value, transformation, tex_label, description) in Main at In[100]:3</li> </ul>"
            ]
          }
        }
      ],
      "source": [
        "methods( Parameter )"
      ],
      "id": "cell-184"
    },
    {
      "cell_type": "code",
      "execution_count": 110,
      "metadata": {},
      "outputs": [
        {
          "output_type": "display_data",
          "metadata": {},
          "data": {
            "text/plain": [
              "Parameter(0.5, identity, \"\\alpha\", \"No description available\")"
            ]
          }
        }
      ],
      "source": [
        "# Alternative constructors end with an appeal to the default\n",
        "# constructor\n",
        "function Parameter(value::Float64, tex_label::String)\n",
        "    transformation = identity\n",
        "    description = \"No description available\"\n",
        "    return Parameter(value, transformation, tex_label, description)\n",
        "end\n",
        "\n",
        "α = Parameter(0.5, \"\\alpha\")"
      ],
      "id": "cell-185"
    },
    {
      "cell_type": "markdown",
      "metadata": {},
      "source": [
        "Now the function `Parameter` has two different `methods` with different\n",
        "signatures:"
      ],
      "id": "1a35cf63-03f1-4454-8f19-2dd5de0ec69d"
    },
    {
      "cell_type": "code",
      "execution_count": 9,
      "metadata": {},
      "outputs": [
        {
          "output_type": "display_data",
          "metadata": {},
          "data": {
            "text/html": [
              "# 4 methods for type constructor:<ul><li> Parameter(value::<b>Float64</b>, transformation::<b>Function</b>, tex_label::<b>String</b>, description::<b>String</b>) in Main at In[1]:3</li> <li> Parameter(value::<b>Float64</b>, tex_label::<b>String</b>) in Main at In[8]:4</li> <li> Parameter(value, transformation, tex) in Main at In[5]:1</li> <li> Parameter(value, transformation, tex_label, description) in Main at In[1]:3</li> </ul>"
            ]
          }
        }
      ],
      "source": [
        "methods(Parameter)"
      ],
      "id": "cell-187"
    },
    {
      "cell_type": "markdown",
      "metadata": {},
      "source": [
        "We have seen that a function can have several implementations, called\n",
        "methods, for different number of arguments, or for different types of\n",
        "arguments."
      ],
      "id": "7d138239-b3f5-429d-8dde-7dc9dfcf9827"
    },
    {
      "cell_type": "code",
      "execution_count": 111,
      "metadata": {},
      "outputs": [
        {
          "output_type": "display_data",
          "metadata": {},
          "data": {
            "text/plain": [
              "fun (generic function with 1 method)"
            ]
          }
        }
      ],
      "source": [
        "fun(x::Int64, y::Int64) = x^3 + y"
      ],
      "id": "cell-189"
    },
    {
      "cell_type": "code",
      "execution_count": 114,
      "metadata": {},
      "outputs": [
        {
          "output_type": "display_data",
          "metadata": {},
          "data": {
            "text/plain": [
              "fun (generic function with 2 methods)"
            ]
          }
        }
      ],
      "source": [
        "fun(x::Float64, y::Int64) = x/2 + y"
      ],
      "id": "cell-190"
    },
    {
      "cell_type": "code",
      "execution_count": 115,
      "metadata": {},
      "outputs": [
        {
          "output_type": "display_data",
          "metadata": {},
          "data": {
            "text/plain": [
              "10"
            ]
          }
        }
      ],
      "source": [
        "fun(2, 2)"
      ],
      "id": "cell-191"
    },
    {
      "cell_type": "code",
      "execution_count": 117,
      "metadata": {},
      "outputs": [
        {
          "output_type": "display_data",
          "metadata": {},
          "data": {
            "text/plain": [
              "3.0"
            ]
          }
        }
      ],
      "source": [
        "fun(2.0, 2)"
      ],
      "id": "cell-192"
    },
    {
      "cell_type": "code",
      "execution_count": null,
      "metadata": {},
      "outputs": [],
      "source": [
        "α.tex_label"
      ],
      "id": "cell-193"
    },
    {
      "cell_type": "code",
      "execution_count": 118,
      "metadata": {},
      "outputs": [
        {
          "output_type": "display_data",
          "metadata": {},
          "data": {
            "text/plain": [
              "0.5"
            ]
          }
        }
      ],
      "source": [
        "# Access a particular field using .\n",
        "α.value"
      ],
      "id": "cell-194"
    },
    {
      "cell_type": "code",
      "execution_count": null,
      "metadata": {},
      "outputs": [],
      "source": [
        "# Fields are modifiable and can be assigned to, like \n",
        "# ordinary variables\n",
        "α.value = 0.75"
      ],
      "id": "cell-195"
    },
    {
      "cell_type": "markdown",
      "metadata": {},
      "source": [
        "### Mutable vs non mutable types\n",
        "\n",
        "by default structures in Julia are non-mutable"
      ],
      "id": "cc370f21-72f0-48dd-86c6-8abeaf82016f"
    },
    {
      "cell_type": "code",
      "execution_count": 123,
      "metadata": {},
      "outputs": [],
      "source": [
        "p.value = 3.0"
      ],
      "id": "cell-198"
    },
    {
      "cell_type": "code",
      "execution_count": 124,
      "metadata": {},
      "outputs": [],
      "source": [
        "mutable struct Params\n",
        "    x:: Float64\n",
        "    y:: Float64\n",
        "end"
      ],
      "id": "cell-199"
    },
    {
      "cell_type": "code",
      "execution_count": 125,
      "metadata": {},
      "outputs": [
        {
          "output_type": "display_data",
          "metadata": {},
          "data": {
            "text/plain": [
              "Params(0.4, 0.2)"
            ]
          }
        }
      ],
      "source": [
        "pos = Params(0.4, 0.2)"
      ],
      "id": "cell-200"
    },
    {
      "cell_type": "code",
      "execution_count": 126,
      "metadata": {},
      "outputs": [
        {
          "output_type": "display_data",
          "metadata": {},
          "data": {
            "text/plain": [
              "0.5"
            ]
          }
        }
      ],
      "source": [
        "pos.x = 0.5"
      ],
      "id": "cell-201"
    },
    {
      "cell_type": "markdown",
      "metadata": {},
      "source": [
        "### Parameterized Types\n",
        "\n",
        "**Parameterized types** are data types that are defined to handle values\n",
        "identically regardless of the type of those values.\n",
        "\n",
        "Arrays are a familiar example. An `Array{T,1}` is a one-dimensional\n",
        "array filled with objects of any type `T` (e.g. `Float64`, `String`)."
      ],
      "id": "8a6f2b82-a0cd-48ac-9f09-f2b8da108d7e"
    },
    {
      "cell_type": "code",
      "execution_count": 127,
      "metadata": {},
      "outputs": [],
      "source": [
        "# Defining a parametric point\n",
        "struct Duple{T} # T is a parameter to the type Duple\n",
        "    x::T\n",
        "    y::T\n",
        "end"
      ],
      "id": "cell-203"
    },
    {
      "cell_type": "code",
      "execution_count": 130,
      "metadata": {},
      "outputs": [
        {
          "output_type": "display_data",
          "metadata": {},
          "data": {
            "text/plain": [
              "Duple{Int64}(3, 3)"
            ]
          }
        }
      ],
      "source": [
        "Duple(3, 3)"
      ],
      "id": "cell-204"
    },
    {
      "cell_type": "code",
      "execution_count": 128,
      "metadata": {},
      "outputs": [],
      "source": [
        "Duple(3, -1.0)"
      ],
      "id": "cell-205"
    },
    {
      "cell_type": "code",
      "execution_count": 29,
      "metadata": {},
      "outputs": [],
      "source": [
        "struct Truple{T}\n",
        "    x::Duple{T}\n",
        "    z::T\n",
        "end"
      ],
      "id": "cell-206"
    },
    {
      "cell_type": "markdown",
      "metadata": {},
      "source": [
        "This single declaration defines an unlimited number of new types:\n",
        "`Duple{String}`, `Duple{Float64}`, etc. are all immediately usable."
      ],
      "id": "66203e8a-417b-4889-bcac-035a3919bdb7"
    },
    {
      "cell_type": "code",
      "execution_count": 30,
      "metadata": {},
      "outputs": [
        {
          "output_type": "display_data",
          "metadata": {},
          "data": {
            "text/plain": [
              "8"
            ]
          }
        }
      ],
      "source": [
        "sizeof(3.0)"
      ],
      "id": "cell-208"
    },
    {
      "cell_type": "code",
      "execution_count": 31,
      "metadata": {},
      "outputs": [
        {
          "output_type": "display_data",
          "metadata": {},
          "data": {
            "text/plain": [
              "16"
            ]
          }
        }
      ],
      "source": [
        "sizeof( Duple(3.0, -15.0) )"
      ],
      "id": "cell-209"
    },
    {
      "cell_type": "code",
      "execution_count": null,
      "metadata": {},
      "outputs": [],
      "source": [
        "# What happens here?\n",
        "Duple(1.5, 3)"
      ],
      "id": "cell-210"
    },
    {
      "cell_type": "code",
      "execution_count": 35,
      "metadata": {},
      "outputs": [],
      "source": [
        "struct Truple3{T,S}\n",
        "    x::Tuple{T,S}\n",
        "    z::S\n",
        "end"
      ],
      "id": "cell-211"
    },
    {
      "cell_type": "markdown",
      "metadata": {},
      "source": [
        "We can also restrict the type parameter `T`:"
      ],
      "id": "eea728c3-c610-40b9-a551-b61cfd716e79"
    },
    {
      "cell_type": "code",
      "execution_count": 37,
      "metadata": {},
      "outputs": [
        {
          "output_type": "display_data",
          "metadata": {},
          "data": {
            "text/plain": [
              "false"
            ]
          }
        }
      ],
      "source": [
        "typeof(\"S\") <: Number"
      ],
      "id": "cell-213"
    },
    {
      "cell_type": "code",
      "execution_count": 38,
      "metadata": {},
      "outputs": [
        {
          "output_type": "display_data",
          "metadata": {},
          "data": {
            "text/plain": [
              "true"
            ]
          }
        }
      ],
      "source": [
        "typeof(4) <: Number"
      ],
      "id": "cell-214"
    },
    {
      "cell_type": "code",
      "execution_count": 40,
      "metadata": {},
      "outputs": [],
      "source": [
        "# T can be any subtype of Number, but nothing else\n",
        "struct PlanarCoordinate{T<:Number}\n",
        "    x::T\n",
        "    y::T\n",
        "end"
      ],
      "id": "cell-215"
    },
    {
      "cell_type": "code",
      "execution_count": 41,
      "metadata": {},
      "outputs": [],
      "source": [
        "PlanarCoordinate(\"4th Ave\", \"14th St\")"
      ],
      "id": "cell-216"
    },
    {
      "cell_type": "code",
      "execution_count": 42,
      "metadata": {},
      "outputs": [
        {
          "output_type": "display_data",
          "metadata": {},
          "data": {
            "text/plain": [
              "PlanarCoordinate{Rational{Int64}}(2//3, 8//9)"
            ]
          }
        }
      ],
      "source": [
        "PlanarCoordinate(2//3, 8//9)"
      ],
      "id": "cell-217"
    },
    {
      "cell_type": "markdown",
      "metadata": {},
      "source": [
        "Arrays are an exemple of mutable, parameterized types\n",
        "\n",
        "### Why Use Types?\n",
        "\n",
        "You can write all your code without thinking about types at all. If you\n",
        "do this, however, you’ll be missing out on some of the biggest benefits\n",
        "of using Julia.\n",
        "\n",
        "If you understand types, you can:\n",
        "\n",
        "-   Write faster code\n",
        "-   Write expressive, clear, and well-structured programs (keep this in\n",
        "    mind when we talk about functions)\n",
        "-   Reason more clearly about how your code works\n",
        "\n",
        "Even if you only use built-in functions and types, your code still takes\n",
        "advantage of Julia’s type system. That’s why it’s important to\n",
        "understand what types are and how to use them."
      ],
      "id": "fac67a40-33cc-469f-8044-e542ecf286b7"
    },
    {
      "cell_type": "code",
      "execution_count": 49,
      "metadata": {},
      "outputs": [
        {
          "output_type": "display_data",
          "metadata": {},
          "data": {
            "text/plain": [
              "-25554.110202663698"
            ]
          }
        }
      ],
      "source": [
        "# Example: writing type-stable functions\n",
        "function sumofsins_unstable(n::Integer)  \n",
        "    sum = 0:: Integer\n",
        "    for i in 1:n  \n",
        "        sum += sin(3.4)  \n",
        "    end  \n",
        "    return sum \n",
        "end  \n",
        "\n",
        "function sumofsins_stable(n::Integer)  \n",
        "    sum = 0.0 :: Float64\n",
        "    for i in 1:n  \n",
        "        sum += sin(3.4)  \n",
        "    end  \n",
        "    return sum \n",
        "end\n",
        "\n",
        "# Compile and run\n",
        "sumofsins_unstable(Int(1e5))\n",
        "sumofsins_stable(Int(1e5))"
      ],
      "id": "cell-221"
    },
    {
      "cell_type": "code",
      "execution_count": 50,
      "metadata": {},
      "outputs": [
        {
          "output_type": "stream",
          "name": "stdout",
          "text": [
            "  0.000176 seconds"
          ]
        },
        {
          "output_type": "display_data",
          "metadata": {},
          "data": {
            "text/plain": [
              "-25554.110202663698"
            ]
          }
        }
      ],
      "source": [
        "@time sumofsins_unstable(Int(1e5))"
      ],
      "id": "cell-222"
    },
    {
      "cell_type": "code",
      "execution_count": 47,
      "metadata": {},
      "outputs": [
        {
          "output_type": "stream",
          "name": "stdout",
          "text": [
            "  0.000168 seconds"
          ]
        },
        {
          "output_type": "display_data",
          "metadata": {},
          "data": {
            "text/plain": [
              "-25554.110202663698"
            ]
          }
        }
      ],
      "source": [
        "@time sumofsins_stable(Int(1e5))"
      ],
      "id": "cell-223"
    },
    {
      "cell_type": "markdown",
      "metadata": {},
      "source": [
        "In `sumofsins_stable`, the compiler is guaranteed that `sum` is of type\n",
        "`Float64` throughout; therefore, it saves time and memory. On the other\n",
        "hand, in `sumofsins_unstable`, the compiler must check the type of `sum`\n",
        "at each iteration of the loop. Let’s look at the LLVM [intermediate\n",
        "representation](http://www.johnmyleswhite.com/notebook/2013/12/06/writing-type-stable-code-in-julia/).\n",
        "\n",
        "### Multiple Dispatch\n",
        "\n",
        "So far we have defined functions over argument lists of any type.\n",
        "Methods allow us to define functions “piecewise”. For any set of input\n",
        "arguments, we can define a **method**, a definition of one possible\n",
        "behavior for a function."
      ],
      "id": "e7e380ed-17a5-47b6-8319-21d66f150634"
    },
    {
      "cell_type": "code",
      "execution_count": 51,
      "metadata": {},
      "outputs": [
        {
          "output_type": "display_data",
          "metadata": {},
          "data": {
            "text/plain": [
              "print_type (generic function with 1 method)"
            ]
          }
        }
      ],
      "source": [
        "# Define one method of the function print_type\n",
        "function print_type(x::Number)\n",
        "    println(\"$x is a number\")\n",
        "end"
      ],
      "id": "cell-227"
    },
    {
      "cell_type": "code",
      "execution_count": 53,
      "metadata": {},
      "outputs": [
        {
          "output_type": "display_data",
          "metadata": {},
          "data": {
            "text/plain": [
              "print_type (generic function with 2 methods)"
            ]
          }
        }
      ],
      "source": [
        "# Define another method\n",
        "function print_type(x::String)\n",
        "    println(\"$x is a string\")\n",
        "end"
      ],
      "id": "cell-228"
    },
    {
      "cell_type": "code",
      "execution_count": 54,
      "metadata": {},
      "outputs": [
        {
          "output_type": "display_data",
          "metadata": {},
          "data": {
            "text/plain": [
              "print_type (generic function with 3 methods)"
            ]
          }
        }
      ],
      "source": [
        "# Define yet another method\n",
        "function print_type(x::Number, y::Number)\n",
        "    println(\"$x and $y are both numbers\")\n",
        "end"
      ],
      "id": "cell-229"
    },
    {
      "cell_type": "code",
      "execution_count": 55,
      "metadata": {},
      "outputs": [
        {
          "output_type": "display_data",
          "metadata": {},
          "data": {
            "text/html": [
              "# 3 methods for generic function <b>print_type</b>:<ul><li> print_type(x::<b>String</b>) in Main at In[53]:3</li> <li> print_type(x::<b>Number</b>) in Main at In[51]:3</li> <li> print_type(x::<b>Number</b>, y::<b>Number</b>) in Main at In[54]:3</li> </ul>"
            ]
          }
        }
      ],
      "source": [
        "# See all methods for a given function\n",
        "methods(print_type)"
      ],
      "id": "cell-230"
    },
    {
      "cell_type": "markdown",
      "metadata": {},
      "source": [
        "Julia uses **multiple dispatch** to decide which **method** of a\n",
        "**function** to execute when a function is applied. In particular, Julia\n",
        "compares the types of *all* arguments to the signatures of the\n",
        "function’s methods in order to choose the applicable one, not just the\n",
        "first (hence “multiple”)."
      ],
      "id": "abf4ccfb-e30a-4e58-b8c2-97a752734632"
    },
    {
      "cell_type": "code",
      "execution_count": 56,
      "metadata": {},
      "outputs": [
        {
          "output_type": "stream",
          "name": "stdout",
          "text": [
            "5 is a number"
          ]
        }
      ],
      "source": [
        "print_type(5)"
      ],
      "id": "cell-232"
    },
    {
      "cell_type": "code",
      "execution_count": 57,
      "metadata": {},
      "outputs": [
        {
          "output_type": "stream",
          "name": "stdout",
          "text": [
            "foo is a string"
          ]
        }
      ],
      "source": [
        "print_type(\"foo\")"
      ],
      "id": "cell-233"
    },
    {
      "cell_type": "code",
      "execution_count": 58,
      "metadata": {},
      "outputs": [],
      "source": [
        "print_type([1, 2, 3])"
      ],
      "id": "cell-234"
    },
    {
      "cell_type": "markdown",
      "metadata": {},
      "source": [
        "#### Other types of functions\n",
        "\n",
        "Julia supports a short function definition for one-liners"
      ],
      "id": "f828dd66-b9fd-4f9f-91ac-e36b99219863"
    },
    {
      "cell_type": "code",
      "execution_count": null,
      "metadata": {},
      "outputs": [],
      "source": [
        "f(x::Float64) = x^2.0\n",
        "f(x::Int64) = x^3"
      ],
      "id": "cell-236"
    },
    {
      "cell_type": "markdown",
      "metadata": {},
      "source": [
        "As well as a special syntax for anonymous functions"
      ],
      "id": "775eb59d-8f45-44b3-ba79-ce179ae6926d"
    },
    {
      "cell_type": "code",
      "execution_count": null,
      "metadata": {},
      "outputs": [],
      "source": [
        "u->u^2"
      ],
      "id": "cell-238"
    },
    {
      "cell_type": "code",
      "execution_count": null,
      "metadata": {},
      "outputs": [],
      "source": [
        "map(u->u^2, [1,2,3,4])"
      ],
      "id": "cell-239"
    },
    {
      "cell_type": "markdown",
      "metadata": {},
      "source": [
        "### Keyword arguments and optional arguments"
      ],
      "id": "2dd377a5-bcd5-4ccb-893d-7b9d1d196a29"
    },
    {
      "cell_type": "code",
      "execution_count": 59,
      "metadata": {},
      "outputs": [],
      "source": [
        "f(a,b,c=true; algo=\"newton\")"
      ],
      "id": "cell-241"
    },
    {
      "cell_type": "markdown",
      "metadata": {},
      "source": [
        "### Packing/unpacking"
      ],
      "id": "dc7844ff-a592-48ae-a9c2-3ef7d64c16ab"
    },
    {
      "cell_type": "code",
      "execution_count": 60,
      "metadata": {},
      "outputs": [
        {
          "output_type": "display_data",
          "metadata": {},
          "data": {
            "text/plain": [
              "(1, 2, 4)"
            ]
          }
        }
      ],
      "source": [
        "t = (1,2,4)"
      ],
      "id": "cell-243"
    },
    {
      "cell_type": "code",
      "execution_count": 61,
      "metadata": {},
      "outputs": [
        {
          "output_type": "display_data",
          "metadata": {},
          "data": {
            "text/plain": [
              "(1, 2, 4)"
            ]
          }
        }
      ],
      "source": [
        "a,b,c = t"
      ],
      "id": "cell-244"
    },
    {
      "cell_type": "code",
      "execution_count": 65,
      "metadata": {},
      "outputs": [
        {
          "output_type": "display_data",
          "metadata": {},
          "data": {
            "text/plain": [
              "10-element Array{Int64,1}:\n",
              "  1\n",
              "  2\n",
              "  3\n",
              "  4\n",
              "  5\n",
              "  6\n",
              "  7\n",
              "  8\n",
              "  9\n",
              " 10"
            ]
          }
        }
      ],
      "source": [
        "[(1:10)...]"
      ],
      "id": "cell-245"
    },
    {
      "cell_type": "code",
      "execution_count": 66,
      "metadata": {},
      "outputs": [
        {
          "output_type": "display_data",
          "metadata": {},
          "data": {
            "text/plain": [
              "4-element Array{Int64,1}:\n",
              " 4\n",
              " 3\n",
              " 0\n",
              " 1"
            ]
          }
        }
      ],
      "source": [
        "cat([4,3], [0,1]; dims=1)"
      ],
      "id": "cell-246"
    },
    {
      "cell_type": "code",
      "execution_count": 67,
      "metadata": {},
      "outputs": [
        {
          "output_type": "display_data",
          "metadata": {},
          "data": {
            "text/plain": [
              "8-element Array{Int64,1}:\n",
              " 4\n",
              " 3\n",
              " 0\n",
              " 1\n",
              " 0\n",
              " 0\n",
              " 1\n",
              " 1"
            ]
          }
        }
      ],
      "source": [
        "l = [[4,3], [0,1], [0, 0], [1, 1]]\n",
        "# how do I concatenate it ?\n",
        "\n",
        "cat(l...; dims=1) ### see python's f(*s)"
      ],
      "id": "cell-247"
    },
    {
      "cell_type": "markdown",
      "metadata": {},
      "source": [
        "### Writing Julian Code\n",
        "\n",
        "As we’ve seen, you can use Julia just like you use MATLAB and get faster\n",
        "code. However, to write faster and *better* code, attempt to write in a\n",
        "“Julian” manner:\n",
        "\n",
        "-   Define composite types as logically needed\n",
        "-   Write type-stable functions for best performance\n",
        "-   Take advantage of multiple dispatch to write code that looks like\n",
        "    math\n",
        "-   Add methods to existing functions\n",
        "\n",
        "### Just-in-Time Compilation\n",
        "\n",
        "How is Julia so fast? Julia is just-in-time (JIT) compiled, which means\n",
        "(according to [this StackExchange\n",
        "answer](http://stackoverflow.com/questions/95635/what-does-a-just-in-time-jit-compiler-do)):\n",
        "\n",
        "> A JIT compiler runs after the program has started and compiles the\n",
        "> code (usually bytecode or some kind of VM instructions) on the fly (or\n",
        "> just-in-time, as it’s called) into a form that’s usually faster,\n",
        "> typically the host CPU’s native instruction set. *A JIT has access to\n",
        "> dynamic runtime information whereas a standard compiler doesn’t and\n",
        "> can make better optimizations like inlining functions that are used\n",
        "> frequently.*\n",
        "\n",
        "> This is in contrast to a traditional compiler that compiles all the\n",
        "> code to machine language before the program is first run.\n",
        "\n",
        "In particular, Julia uses type information at runtime to optimize how\n",
        "your code is compiled. This is why writing type-stable code makes such a\n",
        "difference in speed!\n",
        "\n",
        "## Additional Exercises\n",
        "\n",
        "Taken from QuantEcon’s [Julia\n",
        "Essentials](https://lectures.quantecon.org/jl/julia_essentials.html) and\n",
        "[Vectors, Arrays, and\n",
        "Matrices](https://lectures.quantecon.org/jl/julia_arrays.html) lectures.\n",
        "\n",
        "1.  Consider the polynomial $$p(x) = \\sum_{i=0}^n a_0 x^0$$ Using\n",
        "    `enumerate`, write a function `p` such that `p(x, coeff)` computes\n",
        "    the value of the polynomial with coefficients `coeff` evaluated at\n",
        "    `x`."
      ],
      "id": "de5e00f6-7809-463c-a73e-82ad82ec90b4"
    },
    {
      "cell_type": "code",
      "execution_count": 75,
      "metadata": {},
      "outputs": [
        {
          "output_type": "display_data",
          "metadata": {},
          "data": {
            "text/plain": [
              "ppp (generic function with 1 method)"
            ]
          }
        }
      ],
      "source": [],
      "id": "cell-252"
    },
    {
      "cell_type": "markdown",
      "metadata": {},
      "source": [
        "1.  Write a function `solve_discrete_lyapunov` that solves the discrete\n",
        "    Lyapunov equation $$S = ASA' + \\Sigma \\Sigma'$$ using the iterative\n",
        "    procedure $$S_0 = \\Sigma \\Sigma'$$\n",
        "    $$S_{t+1} = A S_t A' + \\Sigma \\Sigma'$$ taking in as arguments the\n",
        "    $n \\times n$ matrix $A$, the $n \\times k$ matrix $\\Sigma$, and a\n",
        "    number of iterations."
      ],
      "id": "852d72ae-8a9f-4b46-872a-ee7b6daba17c"
    }
  ],
  "nbformat": 4,
  "nbformat_minor": 5,
  "metadata": {
    "kernelspec": {
      "name": "julia-1.11",
      "display_name": "Julia 1.11.3",
      "language": "julia"
    },
    "language_info": {
      "name": "julia",
      "file_extension": ".jl",
      "mimetype": "application/julia",
      "version": "1.11.3"
    }
  }
}
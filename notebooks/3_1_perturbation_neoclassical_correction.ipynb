{
 "cells": [
  {
   "cell_type": "markdown",
   "metadata": {},
   "source": [
    "# Tutorial: Perturbation of the Neoclassical Growth Model\n",
    "\n",
    "## Advanced Macro: numerical methods"
   ]
  },
  {
   "cell_type": "markdown",
   "metadata": {},
   "source": [
    "__Warm-up: install and test the `ForwardDiff` library. Check the jacobian function.__"
   ]
  },
  {
   "cell_type": "code",
   "execution_count": 1,
   "metadata": {},
   "outputs": [],
   "source": [
    "# using ForwardDiff"
   ]
  },
  {
   "cell_type": "code",
   "execution_count": 2,
   "metadata": {},
   "outputs": [],
   "source": [
    "# import ForwardDiff\n",
    "# ForwardDiff.jacobian"
   ]
  },
  {
   "cell_type": "code",
   "execution_count": 7,
   "metadata": {},
   "outputs": [],
   "source": [
    "using ForwardDiff: jacobian"
   ]
  },
  {
   "cell_type": "code",
   "execution_count": 12,
   "metadata": {},
   "outputs": [
    {
     "data": {
      "text/plain": [
       "f (generic function with 2 methods)"
      ]
     },
     "execution_count": 12,
     "metadata": {},
     "output_type": "execute_result"
    }
   ],
   "source": [
    "function f(x)\n",
    "    a = x[1]\n",
    "    b = x[2] + 0.01\n",
    "    for i=1:10\n",
    "        b += a*i\n",
    "    end\n",
    "    return [(sin(a) + cos(b))^2, 1+(sin(a^2) + cos(b))]\n",
    "end"
   ]
  },
  {
   "cell_type": "code",
   "execution_count": 13,
   "metadata": {},
   "outputs": [
    {
     "data": {
      "text/plain": [
       "2-element Array{Float64,1}:\n",
       " 0.36160216439462284\n",
       " 1.4426536581911549"
      ]
     },
     "execution_count": 13,
     "metadata": {},
     "output_type": "execute_result"
    }
   ],
   "source": [
    "f([0.2, 0.4])"
   ]
  },
  {
   "cell_type": "code",
   "execution_count": 14,
   "metadata": {},
   "outputs": [
    {
     "name": "stdout",
     "output_type": "stream",
     "text": [
      "  0.577989 seconds (1.26 M allocations: 62.461 MiB, 3.44% gc time)\n"
     ]
    },
    {
     "data": {
      "text/plain": [
       "2×2 Array{Float64,2}:\n",
       " 61.7259  1.10086\n",
       " 50.7438  0.915348"
      ]
     },
     "execution_count": 14,
     "metadata": {},
     "output_type": "execute_result"
    }
   ],
   "source": [
    "@time jacobian(f, [0.2, 0.4])"
   ]
  },
  {
   "cell_type": "markdown",
   "metadata": {},
   "source": [
    "__Warm-up(2): install and test the `NLSolve` library. Find the root of a simple 2 variables function.__"
   ]
  },
  {
   "cell_type": "code",
   "execution_count": 8,
   "metadata": {},
   "outputs": [
    {
     "data": {
      "text/plain": [
       "Results of Nonlinear Solver Algorithm\n",
       " * Algorithm: Trust-region with dogleg and autoscaling\n",
       " * Starting Point: [0.0, 0.0]\n",
       " * Zero: [0.5436890126920804, 0.8392867552141576]\n",
       " * Inf-norm of residuals: 0.000000\n",
       " * Iterations: 5\n",
       " * Convergence: true\n",
       "   * |x - x'| < 0.0e+00: false\n",
       "   * |f(x)| < 1.0e-08: true\n",
       " * Function Calls (f): 6\n",
       " * Jacobian Calls (df/dx): 6"
      ]
     },
     "execution_count": 8,
     "metadata": {},
     "output_type": "execute_result"
    }
   ],
   "source": [
    "using NLsolve\n",
    "f(x) = [(x[1]*x[2])-1 + x[1], x[1]*x[1] + x[1] - x[2]]\n",
    "x0 = [0.0, 0.0]\n",
    "res = NLsolve.nlsolve(f, x0) # here there might be multiple solution depending on the initial guess"
   ]
  },
  {
   "cell_type": "markdown",
   "metadata": {},
   "source": [
    "\n",
    "Consider the deterministic neoclassical growth model\n",
    "\n",
    "- Transition Equation\n",
    "$$\\begin{eqnarray}\n",
    "k_t & = & (1-\\delta) k_{t-1} + i_{t-1} \\\\\\\\\n",
    "z_t & = & \\rho z_{t-1}\n",
    "\\end{eqnarray}\n",
    "$$\n",
    "\n",
    "- Definition:\n",
    "$$c_t = \\exp(z_t) k_t^\\alpha - i_t$$\n",
    "\n",
    "- Control $i_t\\in[-(1-\\delta) k_t,k_t^\\alpha[$\n",
    "  - or equivalently $c_t \\in [0, k_t^{\\alpha}]$\n",
    "\n",
    "- Objective:\n",
    "$$\\max_{i_t} \\sum_{t\\geq0} \\beta^t U(c_t)$$\n",
    "\n",
    "\n",
    "\n",
    "- Optimality Condition:\n",
    "$$\\beta  \\left[ \\frac{\\left(c_{t+1}\\right)^{-\\gamma}}{\\left(c_t\\right)^{-\\gamma}} \\left( (1-\\delta) + \\alpha k_t^{\\alpha -1} \\right)\\right] = 1$$\n",
    "  - Takes into account the fact that $c_t>0$.\n",
    "- Definition:\n",
    "$$c_t = k_t^\\alpha - i_t$$\n",
    "\n",
    "\n",
    "- Calibration:\n",
    "  - $\\beta = 0.96$\n",
    "  - $\\delta = 0.1$\n",
    "  - $\\gamma = 4.0$\n",
    "  - $\\alpha = 0.3$\n",
    "  - $U(x)=\\frac{x^{1-\\gamma}}{1-\\gamma}$\n",
    "  \n",
    "\n",
    "Our goal is to solve for the model dynamics close to the steady-state."
   ]
  },
  {
   "cell_type": "markdown",
   "metadata": {},
   "source": [
    "__Create a structure `Calibration` to hold the model parameters.__"
   ]
  },
  {
   "cell_type": "code",
   "execution_count": 9,
   "metadata": {},
   "outputs": [],
   "source": [
    "struct Calibration\n",
    "    α::Float64\n",
    "    β::Float64\n",
    "    γ::Float64\n",
    "    δ::Float64\n",
    "    ρ::Float64\n",
    "end"
   ]
  },
  {
   "cell_type": "code",
   "execution_count": 10,
   "metadata": {},
   "outputs": [
    {
     "data": {
      "text/plain": [
       "Calibration(0.3, 0.96, 4.0, 0.1, 0.9)"
      ]
     },
     "execution_count": 10,
     "metadata": {},
     "output_type": "execute_result"
    }
   ],
   "source": [
    "c = Calibration(0.3, 0.96, 4.0, 0.1, 0.9)"
   ]
  },
  {
   "cell_type": "code",
   "execution_count": 12,
   "metadata": {},
   "outputs": [
    {
     "data": {
      "text/plain": [
       "U (generic function with 1 method)"
      ]
     },
     "execution_count": 12,
     "metadata": {},
     "output_type": "execute_result"
    }
   ],
   "source": [
    "U(x, c) = x^(1-c.γ)/(1-c.γ)"
   ]
  },
  {
   "cell_type": "markdown",
   "metadata": {},
   "source": [
    "__Define two functions:__\n",
    "- `transition(z, k, i, p::ModelCalibration)::Tuple{Float64, Float64}` which returns productivity and capital at date `t+1` as a function of productivity, capital and investment at date `t`\n",
    "- `arbitrage(z, k, i, Z, K, I, p::Calibration)::Tuple{Float64}` which returns the residual of the euler equation (lower case variable for date t, upper case for date t+1)\n",
    "- Note that we don't specify the arguments type so that we can us duck typing to perform automatic differentiation."
   ]
  },
  {
   "cell_type": "code",
   "execution_count": 22,
   "metadata": {},
   "outputs": [
    {
     "data": {
      "text/plain": [
       "transition (generic function with 2 methods)"
      ]
     },
     "execution_count": 22,
     "metadata": {},
     "output_type": "execute_result"
    }
   ],
   "source": [
    "function transition(z, k, i, p::Calibration)\n",
    "    Z = p.ρ*z\n",
    "    K = (1-p.δ)*k + i\n",
    "    return (Z, K)\n",
    "end"
   ]
  },
  {
   "cell_type": "code",
   "execution_count": 23,
   "metadata": {},
   "outputs": [
    {
     "data": {
      "text/plain": [
       "(0.09000000000000001, 2.9000000000000004)"
      ]
     },
     "execution_count": 23,
     "metadata": {},
     "output_type": "execute_result"
    }
   ],
   "source": [
    "transition(0.1, 3.0, 0.2, c)"
   ]
  },
  {
   "cell_type": "code",
   "execution_count": 20,
   "metadata": {},
   "outputs": [
    {
     "data": {
      "text/plain": [
       "arbitrage (generic function with 1 method)"
      ]
     },
     "execution_count": 20,
     "metadata": {},
     "output_type": "execute_result"
    }
   ],
   "source": [
    "function arbitrage(z, k, i, Z, K, I, p::Calibration)\n",
    "    c = exp(z)*k^p.α - i\n",
    "    C = exp(Z)*K^p.α - I\n",
    "    res = p.β * (C/c)^(-p.γ)*(1-p.δ + exp(Z)*k^(p.α-1)*p.α) - 1\n",
    "    return [res]\n",
    "end"
   ]
  },
  {
   "cell_type": "markdown",
   "metadata": {},
   "source": [
    "__Using multiple dispatch, define two variants of the same functions, that take vectors as input and output arguments:__\n",
    "- `arbitrage(s, x, S, X, p::Calibration)`\n",
    "- `transition(s, x, p::Calibration)`\n",
    "- We aim to supply vectors, for s,x,S and X, but we don't supply arguments types: we use duck typing, in order to use automatic differentiation."
   ]
  },
  {
   "cell_type": "code",
   "execution_count": 24,
   "metadata": {},
   "outputs": [
    {
     "data": {
      "text/plain": [
       "transition (generic function with 2 methods)"
      ]
     },
     "execution_count": 24,
     "metadata": {},
     "output_type": "execute_result"
    }
   ],
   "source": [
    "transition(s, x, p) = [transition(s[1], s[2], x[1], p)...]"
   ]
  },
  {
   "cell_type": "code",
   "execution_count": 25,
   "metadata": {},
   "outputs": [
    {
     "data": {
      "text/plain": [
       "arbitrage (generic function with 2 methods)"
      ]
     },
     "execution_count": 25,
     "metadata": {},
     "output_type": "execute_result"
    }
   ],
   "source": [
    "arbitrage(s, x, S, X, p) = arbitrage(s[1],s[2], x[1], S[1], S[2], X[1], p)"
   ]
  },
  {
   "cell_type": "markdown",
   "metadata": {},
   "source": [
    "__Write a function `steady_state(p::Calibration)::Tuple{Vector,Vector}` which computes the steady-state of the model computed by hand.__ It returns two vectors, one for the states, one for the controls. Check that the steady-state satisfies the model equations.\n"
   ]
  },
  {
   "cell_type": "code",
   "execution_count": 26,
   "metadata": {},
   "outputs": [
    {
     "data": {
      "text/plain": [
       "steady_state (generic function with 1 method)"
      ]
     },
     "execution_count": 26,
     "metadata": {},
     "output_type": "execute_result"
    }
   ],
   "source": [
    "function steady_state(p::Calibration)\n",
    "    kbar = ((1/p.β - (1-p.δ))/p.α)^(1/(p.α - 1))\n",
    "    ibar = p.δ * kbar\n",
    "    zbar = 0.0\n",
    "    return ([zbar, kbar], [ibar])\n",
    "end\n"
   ]
  },
  {
   "cell_type": "code",
   "execution_count": 27,
   "metadata": {},
   "outputs": [
    {
     "data": {
      "text/plain": [
       "([0.0, 2.920822149964071], [0.29208221499640713])"
      ]
     },
     "execution_count": 27,
     "metadata": {},
     "output_type": "execute_result"
    }
   ],
   "source": [
    "s0, x0 = steady_state(c)"
   ]
  },
  {
   "cell_type": "code",
   "execution_count": 28,
   "metadata": {},
   "outputs": [
    {
     "data": {
      "text/plain": [
       "1-element Array{Float64,1}:\n",
       " 0.0"
      ]
     },
     "execution_count": 28,
     "metadata": {},
     "output_type": "execute_result"
    }
   ],
   "source": [
    "# this should satisfy the model equations:\n",
    "arbitrage(s0, x0, s0, x0, c)"
   ]
  },
  {
   "cell_type": "code",
   "execution_count": 29,
   "metadata": {},
   "outputs": [
    {
     "data": {
      "text/plain": [
       "2-element Array{Float64,1}:\n",
       " 0.0\n",
       " 0.0"
      ]
     },
     "execution_count": 29,
     "metadata": {},
     "output_type": "execute_result"
    }
   ],
   "source": [
    "transition(s0, x0, c) - s0"
   ]
  },
  {
   "cell_type": "markdown",
   "metadata": {},
   "source": [
    "Functions `arbitrage` and `transition` corresponds to a standard representation of the model.\n",
    "\n",
    "$$\\begin{eqnarray}f(s_t , x_t, s_{t+1}, x_{t+1}) & = & 0 \\\\\\\\ \n",
    "s_{t+1} & = & g( s_t , x_t)\n",
    " \\end{eqnarray}$$\n",
    " \n",
    "When we differentiate it, we get:\n",
    "\n",
    "$$\\begin{eqnarray}\\Delta f(s_t , x_t, s_{t+1}, x_{t+1})  =  f^{\\prime}_{s_t} \\Delta s_t + f^{\\prime}_{x_t} \\Delta x_t + f^{\\prime}_{x_{t+1}} \\Delta x_{t+1} +   f^{\\prime}_{s_{t+1}} \\Delta S_{t+1} & = & 0 \\\\\\\\\n",
    "\\Delta s_{t+1} & = & g^{\\prime}_s \\Delta s_t + g^{\\prime}_x \\Delta x_t\\end{eqnarray}$$\n",
    "\n",
    "where derivatives are computed at the steady-state."
   ]
  },
  {
   "cell_type": "markdown",
   "metadata": {},
   "source": [
    "The *first order* system satisfies\n",
    "\n",
    "$$\\begin{eqnarray}A s_t + B x_t + C s_{t+1} + D x_{t+1} & = & 0 \\\\\\\\ \n",
    "s_{t+1} & = & E s_t + F x_t\n",
    " \\end{eqnarray}$$\n",
    "\n",
    "__Define a structure `PerturbedModel` to hold matrices A,B,C,D,E,F.__\n",
    "\n"
   ]
  },
  {
   "cell_type": "code",
   "execution_count": 30,
   "metadata": {},
   "outputs": [],
   "source": [
    "struct PerturbedModel\n",
    "    A::Matrix{Float64}\n",
    "    B::Matrix{Float64}\n",
    "    C::Matrix{Float64}\n",
    "    D::Matrix{Float64}\n",
    "    E::Matrix{Float64}\n",
    "    F::Matrix{Float64}\n",
    "end"
   ]
  },
  {
   "cell_type": "markdown",
   "metadata": {},
   "source": [
    "__Write a function `first_order_model(s::Vector, x::Vector, p::Calibration)::PerturbedModel`, which returns the first order model, given the steady-state and the calibration. Suggestion: use `ForwardDiff.jl` library.__"
   ]
  },
  {
   "cell_type": "markdown",
   "metadata": {},
   "source": [
    "Partial derivatives: for a multi variable function $(x1, x2, ... x_k)\\rightarrow R^n$where $_i \\in R^{p_i}$(each variable is a vector), we denote by `f^{\\prime}_{x_i}` the partial derivative with respect to the i-th argument. It is the derivative of function $\\varphi:  R^{p_i} \\rightarrow R^n, u\\mapsto f(x1, \\cdots, x_i,  u , x_{i+1}, \\cdots) $.\n",
    "Hence it is represented by a jacobian matrix $R^{p_i}\\times R^n$"
   ]
  },
  {
   "cell_type": "code",
   "execution_count": 31,
   "metadata": {},
   "outputs": [
    {
     "data": {
      "text/plain": [
       "2×2 Array{Float64,2}:\n",
       " 0.0  0.0\n",
       " 0.0  0.0"
      ]
     },
     "execution_count": 31,
     "metadata": {},
     "output_type": "execute_result"
    }
   ],
   "source": [
    "# here is how we can compute all matrices\n",
    "A = jacobian((u->arbitrage(u, x0, s0, x0, c)) , s0 )\n",
    "B = jacobian((u->arbitrage(s0, u, s0, x0, c)) , s0 )\n",
    "C = jacobian((u->arbitrage(s0, x0, u, x0, c)) , s0 )\n",
    "D = jacobian((u->arbitrage(s0, x0, s0, u, c)) , s0 )\n",
    "E = jacobian((u->transition(s0, x0, c)) , s0 )\n",
    "F = jacobian((u->transition(s0, x0, c)) , s0 )"
   ]
  },
  {
   "cell_type": "markdown",
   "metadata": {},
   "source": [
    "__We look for a linear solution $x_t = X s_t$ . Write the matrix equation which `X` must satisfy. Write a function `residual(X::Array, M::PerturbedModel)` which computes the residual of this equation for a given `X`.__\n"
   ]
  },
  {
   "cell_type": "code",
   "execution_count": null,
   "metadata": {},
   "outputs": [],
   "source": []
  },
  {
   "cell_type": "markdown",
   "metadata": {},
   "source": [
    "__Write a function `T(X, M::PerturbedModel)`  which implements the time iteration step.__"
   ]
  },
  {
   "cell_type": "code",
   "execution_count": null,
   "metadata": {},
   "outputs": [],
   "source": []
  },
  {
   "cell_type": "markdown",
   "metadata": {},
   "source": [
    "__Write function `linear_time_iteration(X_0::Matrix, m::PerturbedModel)::Matrix` which implements the time iteration algorithm. Apply it to `X0 = rand(1,2)` and check that the result satisfies the first order model.__\n",
    "\n",
    "    "
   ]
  },
  {
   "cell_type": "code",
   "execution_count": null,
   "metadata": {},
   "outputs": [],
   "source": []
  },
  {
   "cell_type": "markdown",
   "metadata": {},
   "source": [
    "__Define two linear operators `L_S(S::Matrix, X_0::Matrix, m::PerturbedModel)::Matrix` and `L_T(S::Matrix, X_0::Matrix, m::PerturbedModel)::Matrix` which implement the derivatives of the simulation and the time-iteration operator respectively.__"
   ]
  },
  {
   "cell_type": "code",
   "execution_count": null,
   "metadata": {},
   "outputs": [],
   "source": []
  },
  {
   "cell_type": "markdown",
   "metadata": {},
   "source": [
    "__Implement a function `spectral_radius(f::Function)::Float64` which implements the power iteration method to compute the biggest eigenvalues of the two previously defined operators. Check that Blamnchard-Kahn conditions are met.__"
   ]
  },
  {
   "cell_type": "code",
   "execution_count": null,
   "metadata": {},
   "outputs": [],
   "source": []
  },
  {
   "cell_type": "markdown",
   "metadata": {},
   "source": [
    "__Write a function `simulate(s0::Vector, X::Matrix, p::Calibration, T::Int64)::Tuple{Matrix, Matrix}` to simulate the model over $T$ periods (by using the formula $\\Delta s_t = (E + F X) s_{t-11}$. Return a matrix for the states (one line per date) and another matrix for the controls. Bonus: add a keyword option to compute variables levels or log-deviations. If possible, return a DataFrame object.__"
   ]
  },
  {
   "cell_type": "code",
   "execution_count": null,
   "metadata": {},
   "outputs": [],
   "source": []
  },
  {
   "cell_type": "markdown",
   "metadata": {},
   "source": [
    "__Make some nice plots.__"
   ]
  },
  {
   "cell_type": "code",
   "execution_count": null,
   "metadata": {},
   "outputs": [],
   "source": []
  }
 ],
 "metadata": {
  "kernelspec": {
   "display_name": "Julia 1.5.3",
   "language": "julia",
   "name": "julia-1.5"
  },
  "language_info": {
   "file_extension": ".jl",
   "mimetype": "application/julia",
   "name": "julia",
   "version": "1.5.3"
  }
 },
 "nbformat": 4,
 "nbformat_minor": 4
}

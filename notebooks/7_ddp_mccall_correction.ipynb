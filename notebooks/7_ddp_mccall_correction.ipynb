{
 "cells": [
  {
   "cell_type": "markdown",
   "id": "66d5a921-11fd-4644-a442-0262024a57b7",
   "metadata": {},
   "source": [
    "# Tutorial: Discrete Dynamic Programming (2)\n",
    "\n",
    "## Advanced Macro: numerical methods"
   ]
  },
  {
   "cell_type": "markdown",
   "id": "fab9401f-5ba1-40b7-8dab-b09a083d7537",
   "metadata": {},
   "source": [
    "### Job-Search Model\n",
    "\n",
    "- When unemployed in date, a job-seeker\n",
    "  - consumes unemployment benefit $c_t = \\underline{c}$\n",
    "  - receives in every date $t$ a job offer $w_t$\n",
    "    - $w_t$ is i.i.d., \n",
    "    - takes values $w_1, w_2, w_3$ with probabilities $p_1, p_2, p_3$\n",
    "  - if job-seeker accepts, becomes employed at rate $w_t$ in the next period\n",
    "  - else he stays unemployed\n",
    "  \n",
    "- When employed at rate $w$\n",
    "  - worker consumes salary $c_t = w$\n",
    "  - with small probability $\\lambda>0$ looses his job:\n",
    "    - starts next period unemployed\n",
    "  - otherwise stays employed at same rate\n",
    "- Objective: $\\max E_0 \\left\\{ \\sum \\beta^t \\log(w_t) \\right\\}$\n"
   ]
  },
  {
   "cell_type": "markdown",
   "id": "582c4b30-f5b7-4e87-a42e-bb86be8bf1a7",
   "metadata": {},
   "source": [
    "__What are the states, the controls, the reward of this problem ? Write down the Bellman equation.__"
   ]
  },
  {
   "cell_type": "markdown",
   "id": "67de3927-d762-4324-8d9f-672f80351594",
   "metadata": {},
   "source": [
    "Here is the Bellman equation:\n",
    "\n",
    "- If Unemployed, facing current offer $w$:  \n",
    "$$V^U(w) = U(\\underline{c}) + \\max_{a} \\begin{cases} \\beta V^E(w) & \\text{if $a(w)$ is true} \\\\\\\\ \\beta  \\\\E_{w'}\\left[ V^U(w^{\\prime}) \\right]  & \\text{if $a(w)$ is false} \\end{cases}$$\n",
    "- If Employed, at rate $w$\n",
    "$$V^E(w) = U(w) +  (1-\\lambda) \\beta V^E(w) +  \\lambda \\beta \\\\E_{w'}\\left[ V^U(w^{\\prime}) \\right] $$\n"
   ]
  },
  {
   "cell_type": "markdown",
   "id": "fa2980a7-8d14-414b-b79f-0316c46f9703",
   "metadata": {},
   "source": [
    "__Define a parameter structure for the model.__"
   ]
  },
  {
   "cell_type": "code",
   "execution_count": 2,
   "id": "22b385f4-d91c-4fbf-ac24-8e59c80b60d3",
   "metadata": {},
   "outputs": [],
   "source": [
    "struct Parameters\n",
    "    β::Float64\n",
    "    cbar::Float64\n",
    "    λ::Float64\n",
    "    w::Vector{Float64}\n",
    "    p::Vector{Float64}\n",
    "end"
   ]
  },
  {
   "cell_type": "code",
   "execution_count": 4,
   "id": "cf7f36a5-d4a4-48a4-bd38-b91835ba0770",
   "metadata": {},
   "outputs": [
    {
     "data": {
      "text/plain": [
       "Parameters(0.9, 0.5, 0.1, [0.9, 1.0, 1.1], [0.3, 0.4, 0.3])"
      ]
     },
     "execution_count": 4,
     "metadata": {},
     "output_type": "execute_result"
    }
   ],
   "source": [
    "p = Parameters(0.9, 0.5, 0.1, [0.9,1,1.1], [0.3,0.4,0.3])"
   ]
  },
  {
   "cell_type": "markdown",
   "id": "ad8ee344-9dc2-4ea9-81d2-83d795058a6f",
   "metadata": {},
   "source": [
    "__Define a function  `value_update(V_U::Vector{Float64}, V_E::Vector{Float64}, x::Vector{Bool}, p::Parameters)::Tuple{Vector, Vector}`, which takes in value functions tomorrow and a policy vector and return updated values for today.__"
   ]
  },
  {
   "cell_type": "code",
   "execution_count": 5,
   "id": "ab4b4006-d0d7-4da7-928c-4b5c94b31a1c",
   "metadata": {},
   "outputs": [
    {
     "data": {
      "text/plain": [
       "value_update (generic function with 1 method)"
      ]
     },
     "execution_count": 5,
     "metadata": {},
     "output_type": "execute_result"
    }
   ],
   "source": [
    "function value_update(V_U, V_E, x, p)\n",
    "    \n",
    "    V_U_0 = zeros(3)\n",
    "    V_E_0 = zeros(3)\n",
    "    \n",
    "    # value being unemployed\n",
    "    for i=1:3\n",
    "#         w_0 = p.w # job offer\n",
    "        U_0 = log(p.cbar)\n",
    "        if x[i] # if offer is accepted\n",
    "            V_U_0[i] = U_0  + p.β * V_E[i]\n",
    "        else\n",
    "            E_V_U = sum( p.p[j]*V_U[j] for j=1:3 ) # expected value of being unemployed tomorrow\n",
    "            V_U_0[i] = U_0 + p.β * E_V_U\n",
    "        end\n",
    "    end\n",
    "    \n",
    "    # value being employed\n",
    "    E_V_U = sum( p.p[j]*V_U[j] for j=1:3 )  # expected value of being unemployed tomorrow\n",
    "    for i=1:3\n",
    "        U_0 = log(p.w[i])\n",
    "        V_E_0[i] = U_0 + p.β*( (1-p.λ)*V_E[i] + p.λ* E_V_U   )\n",
    "    end\n",
    "    \n",
    "\n",
    "    return V_U_0, V_E_0\n",
    "end"
   ]
  },
  {
   "cell_type": "code",
   "execution_count": 7,
   "id": "3dc55c59-7df2-43ab-858d-c335173d861d",
   "metadata": {},
   "outputs": [
    {
     "data": {
      "text/plain": [
       "([-0.6931471805599453, -0.6931471805599453, -0.6931471805599453], [-0.10536051565782628, 0.0, 0.09531017980432493])"
      ]
     },
     "execution_count": 7,
     "metadata": {},
     "output_type": "execute_result"
    }
   ],
   "source": [
    "V0 = zeros(3)\n",
    "x0 = [false, false, true]\n",
    "r = value_update(V0, V0, x0, p)"
   ]
  },
  {
   "cell_type": "markdown",
   "id": "2f61a503-6b8e-40e6-8bf5-619f4d116a4b",
   "metadata": {},
   "source": [
    "__Define a function __Define a function `policy_eval(x::Vector{Bool}, p::Parameter)::Tuple{Vector, Vector}` which takes in a policy vector and returns the value(s) of following this policies forever. You can add relevant arguments to the function.__ which takes in a policy vector and returns the value(s) of following this policies forever. You can add relevant arguments to the function.__"
   ]
  },
  {
   "cell_type": "code",
   "execution_count": 23,
   "id": "edb35163-a870-43d3-b7f5-2a644a88b3fd",
   "metadata": {},
   "outputs": [
    {
     "data": {
      "text/plain": [
       "norm (generic function with 2 methods)"
      ]
     },
     "execution_count": 23,
     "metadata": {},
     "output_type": "execute_result"
    }
   ],
   "source": [
    "norm(u::Tuple{Vector, Vector}) = max( maximum(abs,u[1]), maximum(abs,u[2]))"
   ]
  },
  {
   "cell_type": "code",
   "execution_count": 26,
   "id": "07b2b802-12d1-4ef8-a360-5b2202a1a0db",
   "metadata": {},
   "outputs": [
    {
     "data": {
      "text/plain": [
       "- (generic function with 193 methods)"
      ]
     },
     "execution_count": 26,
     "metadata": {},
     "output_type": "execute_result"
    }
   ],
   "source": [
    "import Base.-\n",
    "-(u::Tuple{Vector, Vector}, v::Tuple{Vector, Vector}) = (u[1]-v[1], u[2]-v[2] )"
   ]
  },
  {
   "cell_type": "code",
   "execution_count": 43,
   "id": "6ebb9fbd-0bae-4134-822e-3db75c832dcb",
   "metadata": {},
   "outputs": [
    {
     "data": {
      "text/plain": [
       "policy_eval (generic function with 1 method)"
      ]
     },
     "execution_count": 43,
     "metadata": {},
     "output_type": "execute_result"
    }
   ],
   "source": [
    "function policy_eval(x, p::Parameters; N=1000, verbose=false, η_tol= 1e-6)\n",
    "    VU = zeros(3)\n",
    "    VE = zeros(3)\n",
    "    η0 = 1\n",
    "    for n in 1:N\n",
    "        VU_new, VE_new = value_update(VU, VE, x, p)\n",
    "        η = norm( (VU_new, VE_new) - (VU, VE) ) # successive approximation errors\n",
    "        \n",
    "        if η<η_tol\n",
    "            return VU_new, VE_new\n",
    "        end\n",
    "        \n",
    "        λ = η/η0\n",
    "        η0 = η\n",
    "        if verbose\n",
    "            println(n, \" : \", η, \" : \", λ)\n",
    "        end\n",
    "        VU,VE = VU_new,VE_new\n",
    "    end\n",
    "    return VU, VE\n",
    "    \n",
    "end"
   ]
  },
  {
   "cell_type": "code",
   "execution_count": 45,
   "id": "79e1e65d-4193-4bb0-977f-093f0794d065",
   "metadata": {},
   "outputs": [
    {
     "data": {
      "text/plain": [
       "([-2.766351611958541, -2.766351611958541, -1.2237176460284465], [-1.6456852372477617, -1.0911562075082548, -0.5895236822571854])"
      ]
     },
     "execution_count": 45,
     "metadata": {},
     "output_type": "execute_result"
    }
   ],
   "source": [
    "policy_eval(x0, p, verbose=false)"
   ]
  },
  {
   "cell_type": "markdown",
   "id": "43de188f-eba4-4e88-8cb3-dc932e29b111",
   "metadata": {},
   "source": [
    "__Define a function `bellman_step(V_E::Vector, V_U::Vector, p::Parameters)::Tuple{Vector, Vector, Vector}` which returns updated values, together with improved policy rules.__"
   ]
  },
  {
   "cell_type": "code",
   "execution_count": 47,
   "id": "54b14005-f350-43b7-94e6-066a6ca42443",
   "metadata": {},
   "outputs": [
    {
     "data": {
      "text/plain": [
       "bellman_update (generic function with 1 method)"
      ]
     },
     "execution_count": 47,
     "metadata": {},
     "output_type": "execute_result"
    }
   ],
   "source": [
    "function bellman_update(V_U, V_E, p)\n",
    "    \n",
    "    V_U_0 = zeros(3)\n",
    "    V_E_0 = zeros(3)\n",
    "    x = zeros(Bool, 3)\n",
    "    \n",
    "    # value being unemployed\n",
    "    for i=1:3\n",
    "#         w_0 = p.w # job offer\n",
    "        U_0 = log(p.cbar)\n",
    "        \n",
    "        # value of acceppting\n",
    "        Vaccept =  U_0  + p.β * V_E[i]\n",
    "        \n",
    "        # value of rejecting\n",
    "        E_V_U = sum( p.p[j]*V_U[j] for j=1:3 ) # expected value of being unemployed tomorrow\n",
    "        Vreject = U_0 + p.β * E_V_U\n",
    "        \n",
    "        if Vaccept>Vreject\n",
    "            V_U_0[i] = Vaccept\n",
    "            x[i] = true\n",
    "        else\n",
    "            V_U_0[i] = Vreject\n",
    "            x[i] = false\n",
    "        end\n",
    "\n",
    "    end\n",
    "    \n",
    "    # value being employed\n",
    "    E_V_U = sum( p.p[j]*V_U[j] for j=1:3 )  # expected value of being unemployed tomorrow\n",
    "    for i=1:3\n",
    "        U_0 = log(p.w[i])\n",
    "        V_E_0[i] = U_0 + p.β*( (1-p.λ)*V_E[i] + p.λ* E_V_U   )\n",
    "    end\n",
    "    \n",
    "\n",
    "    return V_U_0, V_E_0, x\n",
    "end"
   ]
  },
  {
   "cell_type": "code",
   "execution_count": 50,
   "id": "907d4628-91bb-4a76-b695-b191e5c2f51b",
   "metadata": {},
   "outputs": [
    {
     "data": {
      "text/plain": [
       "([-0.6931471805599453, -0.6931471805599453, -0.6931471805599453], [-0.10536051565782628, 0.0, 0.09531017980432493], Bool[0, 0, 0])"
      ]
     },
     "execution_count": 50,
     "metadata": {},
     "output_type": "execute_result"
    }
   ],
   "source": [
    "bellman_update(V0, V0, p)"
   ]
  },
  {
   "cell_type": "markdown",
   "id": "ce6555c7-f055-4b3c-be2f-d3111b50d804",
   "metadata": {},
   "source": [
    "__Implement Value Function Iteration__"
   ]
  },
  {
   "cell_type": "code",
   "execution_count": 74,
   "id": "a8d39209-bf35-4478-abb6-0c3d498aefd2",
   "metadata": {},
   "outputs": [
    {
     "data": {
      "text/plain": [
       "vfi (generic function with 4 methods)"
      ]
     },
     "execution_count": 74,
     "metadata": {},
     "output_type": "execute_result"
    }
   ],
   "source": [
    "function vfi(p::Parameters; N=1000, η_tol=1e-6, verbose=true)\n",
    "    VU = zeros(3)\n",
    "    VE = zeros(3)\n",
    "    x0 = zeros(Bool, 3)\n",
    "    η0 = 1.0\n",
    "    for n=1:N\n",
    "        \n",
    "        VUn, VEn, x = bellman_update(VU, VE, p)\n",
    "        \n",
    "        \n",
    "        eval\n",
    "        η = norm( (VUn, VEn) - (VU, VE) ) # successive approximation errors\n",
    "    \n",
    "        if η<η_tol\n",
    "            return VUn, VEn, x\n",
    "        end\n",
    "    \n",
    "        λ = η/η0\n",
    "        η0 = η\n",
    "        if verbose\n",
    "            println(n, \" : \", η, \" : \", λ)\n",
    "        end\n",
    "        \n",
    "        VU, VE = VUn, VEn\n",
    "    end\n",
    "end"
   ]
  },
  {
   "cell_type": "code",
   "execution_count": 77,
   "id": "a6df9fb6-e72a-4ff1-834a-3d1483a18838",
   "metadata": {},
   "outputs": [
    {
     "data": {
      "text/plain": [
       "Parameters(0.9, 0.5, 0.1, [0.9, 1.0, 1.1], [0.3, 0.4, 0.3])"
      ]
     },
     "execution_count": 77,
     "metadata": {},
     "output_type": "execute_result"
    }
   ],
   "source": [
    "p0 = Parameters(0.9, 0.5, 0.1, [0.9,1,1.1], [0.3,0.4,0.3])\n"
   ]
  },
  {
   "cell_type": "code",
   "execution_count": 75,
   "id": "e4701ec6-97f7-42f4-a6d5-f23f3520da0b",
   "metadata": {},
   "outputs": [
    {
     "data": {
      "text/plain": [
       "([-1.7179192488891877, -1.2188431221884017, -0.7673738495210309], [-1.138636559674094, -0.5841075299855604, -0.08247500478060171], Bool[1, 1, 1])"
      ]
     },
     "execution_count": 75,
     "metadata": {},
     "output_type": "execute_result"
    }
   ],
   "source": [
    "vfi(p; verbose=false)"
   ]
  },
  {
   "cell_type": "code",
   "execution_count": 92,
   "id": "947b8645-eb4d-4d87-b0ba-8d5d70b85921",
   "metadata": {},
   "outputs": [
    {
     "data": {
      "text/plain": [
       "([-1.2936319663132243, -0.8816242128292631, -0.43015494039044955], [-0.96652839387281, -0.4119993644116685, 0.08963316058758863], Bool[0, 1, 1])"
      ]
     },
     "execution_count": 92,
     "metadata": {},
     "output_type": "execute_result"
    }
   ],
   "source": [
    "p1 = Parameters(0.9, 0.6, 0.1, [0.9,1,1.1], [0.3,0.4,0.3])\n",
    "vfi(p1; verbose=false)"
   ]
  },
  {
   "cell_type": "code",
   "execution_count": null,
   "id": "907e609e-b1e6-464f-966e-3972368c876f",
   "metadata": {},
   "outputs": [],
   "source": []
  },
  {
   "cell_type": "markdown",
   "id": "fff1a1ce-d953-4c42-a8e4-39f1cf4ede20",
   "metadata": {},
   "source": [
    "__Implement Policy Iteration and compare rates of convergence.__"
   ]
  },
  {
   "cell_type": "code",
   "execution_count": 100,
   "id": "c9e9cbca-71a4-40d7-9e15-63c6c0bc7743",
   "metadata": {},
   "outputs": [
    {
     "data": {
      "text/plain": [
       "policy_iteration (generic function with 1 method)"
      ]
     },
     "execution_count": 100,
     "metadata": {},
     "output_type": "execute_result"
    }
   ],
   "source": [
    "function policy_iteration(p::Parameters; N=1000, η_tol=1e-6, verbose=true)\n",
    "    VU = zeros(3)\n",
    "    VE = zeros(3)\n",
    "    x = zeros(Bool, 3)\n",
    "    η0 = 1.0\n",
    "    for n=1:N\n",
    "        \n",
    "        println(\"policy: \", x)\n",
    "        \n",
    "        VUn, VEn, x = bellman_update(VU, VE, p)\n",
    "        VUnn, VEnn = policy_eval(x, p)\n",
    "        \n",
    "        η = norm( (VUnn, VEnn) - (VU, VE) ) # successive approximation errors\n",
    "    \n",
    "\n",
    "        λ = η/η0\n",
    "        η0 = η\n",
    "        if verbose\n",
    "            println(n, \" : \", η, \" : \", λ)\n",
    "        end\n",
    "        \n",
    "        if η<η_tol\n",
    "            return VUnn, VEnn, x\n",
    "        end\n",
    "    \n",
    "        \n",
    "        VU, VE = VUnn, VEnn\n",
    "    end\n",
    "end"
   ]
  },
  {
   "cell_type": "code",
   "execution_count": 101,
   "id": "7420a608-dbc2-49a0-a6fc-52b1412e5ac5",
   "metadata": {},
   "outputs": [
    {
     "name": "stdout",
     "output_type": "stream",
     "text": [
      "policy: Bool[0, 0, 0]\n",
      "1 : 5.108247471106895 : 5.108247471106895\n",
      "policy: Bool[0, 0, 0]\n",
      "2 : 4.658682056690526 : 0.9119922405953926\n",
      "policy: Bool[1, 1, 1]\n",
      "3 : 0.10647875505810611 : 0.02285598239209898\n",
      "policy: Bool[0, 1, 1]\n",
      "4 : 0.0 : 0.0\n"
     ]
    },
    {
     "data": {
      "text/plain": [
       "([-1.293632058559428, -0.8816243050039159, -0.43015503273205447], [-0.9665284858885164, -0.41199945659347637, 0.08963306825552382], Bool[0, 1, 1])"
      ]
     },
     "execution_count": 101,
     "metadata": {},
     "output_type": "execute_result"
    }
   ],
   "source": [
    "policy_iteration(p1)"
   ]
  },
  {
   "cell_type": "markdown",
   "id": "bf846bb7-6e9f-4748-8b21-09e869a5f59b",
   "metadata": {},
   "source": [
    "__Discuss the Effects of the Parameters__"
   ]
  },
  {
   "cell_type": "code",
   "execution_count": null,
   "id": "56d22fe1-a32d-42c1-ac55-943877a84211",
   "metadata": {},
   "outputs": [],
   "source": []
  },
  {
   "cell_type": "markdown",
   "id": "2f2c6918-4f1e-4ea5-bbfd-38784803e64a",
   "metadata": {},
   "source": [
    "### Simulating an AR1\n",
    "\n",
    "Choose a 2x2 matrix $P$ (with spectral radius <1) and a 2x2 matrix Q.\n",
    "\n",
    "Consider the VAR1 process $x_t = P x_{t-1} + Q \\epsilon_t$ where $\\epsilon_t= (\\eta_{1,t}, \\eta_{2,t})$ with $\\eta_1\\sim\\mathcal{N}(0,1)$ and $\\eta_1\\sim\\mathcal{N}(0,1)$"
   ]
  },
  {
   "cell_type": "markdown",
   "id": "0e9c7cb2-e492-4e52-986a-01bee6584a01",
   "metadata": {
    "tags": []
   },
   "source": [
    "__Compute impulse response functions.__"
   ]
  },
  {
   "cell_type": "code",
   "execution_count": null,
   "id": "6c5454f5-7ffd-46ca-803d-20f46c29d64b",
   "metadata": {},
   "outputs": [],
   "source": []
  },
  {
   "cell_type": "markdown",
   "id": "ddc1dcc3-a268-43c7-a564-86994b798c4e",
   "metadata": {},
   "source": [
    "__Simulate the process for $T$ periods.__"
   ]
  },
  {
   "cell_type": "code",
   "execution_count": null,
   "id": "fd3d9f2a-4e2b-41ae-9421-cd6aea3630ce",
   "metadata": {},
   "outputs": [],
   "source": []
  },
  {
   "cell_type": "markdown",
   "id": "6668a155-4022-4d54-a73b-605d3b52d0d7",
   "metadata": {},
   "source": [
    "__Simulate the process $N=1000$ times for $T=1000$ periods. How would you store the results?__"
   ]
  },
  {
   "cell_type": "code",
   "execution_count": null,
   "id": "aa8e4b18-2046-469b-b3de-e9af359f28bf",
   "metadata": {},
   "outputs": [],
   "source": []
  },
  {
   "cell_type": "markdown",
   "id": "2f76b2d0-b300-4ccc-9167-642663618626",
   "metadata": {},
   "source": [
    "__Make density plots to illustrate the ergodic property of the process__"
   ]
  },
  {
   "cell_type": "code",
   "execution_count": null,
   "id": "8e80889e-6905-4f2b-90b5-67c43ba35c62",
   "metadata": {},
   "outputs": [],
   "source": []
  },
  {
   "cell_type": "markdown",
   "id": "59aadfb5-de4c-4519-bf24-00f8a27c74b4",
   "metadata": {},
   "source": [
    "__Compute the asymptotic variance of the process. Compare with the theoretical one.__"
   ]
  },
  {
   "cell_type": "code",
   "execution_count": null,
   "id": "9e605055-58f7-438f-a724-826bcffa6997",
   "metadata": {},
   "outputs": [],
   "source": []
  },
  {
   "cell_type": "code",
   "execution_count": null,
   "id": "3fe919cc-a18f-47ec-8c01-cdb77083bea8",
   "metadata": {},
   "outputs": [],
   "source": []
  }
 ],
 "metadata": {
  "kernelspec": {
   "display_name": "Julia 1.5.3",
   "language": "julia",
   "name": "julia-1.5"
  },
  "language_info": {
   "file_extension": ".jl",
   "mimetype": "application/julia",
   "name": "julia",
   "version": "1.5.3"
  }
 },
 "nbformat": 4,
 "nbformat_minor": 5
}

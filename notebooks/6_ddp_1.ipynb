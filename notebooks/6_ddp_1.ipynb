{
 "cells": [
  {
   "cell_type": "markdown",
   "metadata": {},
   "source": [
    "# Tutorial: Discrete Dynamic Programming\n",
    "\n",
    "## Advanced Macro: numerical methods"
   ]
  },
  {
   "cell_type": "markdown",
   "metadata": {},
   "source": [
    "## Markov Chains"
   ]
  },
  {
   "cell_type": "markdown",
   "metadata": {},
   "source": [
    "A worker’s employment dynamics obey the stochastic matrix\n",
    "\n",
    "$$P = \\begin{bmatrix}\n",
    "1-\\alpha & \\alpha \\\\\n",
    "\\beta & 1-\\beta\n",
    "\\end{bmatrix}$$\n",
    "\n",
    "\n",
    "\n",
    "$$P = \\begin{bmatrix}\n",
    "1-\\alpha & ... \\\\\n",
    "\\beta & ...\n",
    "\\end{bmatrix}$$\n",
    "\n",
    "\n",
    "with $\\alpha\\in(0,1)$ and $\\beta\\in (0,1)$. First line corresponds to employment, second line to unemployment."
   ]
  },
  {
   "cell_type": "markdown",
   "metadata": {},
   "source": [
    "__Which is the stationary equilibrium?__"
   ]
  },
  {
   "cell_type": "code",
   "execution_count": null,
   "metadata": {},
   "outputs": [],
   "source": []
  },
  {
   "cell_type": "markdown",
   "metadata": {},
   "source": [
    "__In the long run, what will the the fraction $p$ of time spent unemployed? (Denote by $X_m$ the fraction of dates were one is unemployed)__"
   ]
  },
  {
   "cell_type": "code",
   "execution_count": null,
   "metadata": {},
   "outputs": [],
   "source": []
  },
  {
   "cell_type": "markdown",
   "metadata": {},
   "source": [
    "__Illustrate this convergence by generating a simulated series of length 10000 starting at $X_0=1$. Plot $X_m-p$ against $m$. (Take $\\alpha=\\beta=0.1$).__"
   ]
  },
  {
   "cell_type": "code",
   "execution_count": null,
   "metadata": {},
   "outputs": [],
   "source": []
  },
  {
   "cell_type": "markdown",
   "metadata": {},
   "source": [
    "## Basic Asset Pricing model\n",
    "\n",
    "A financial asset yields dividend $(x_t)$, which follows an AR1. It is evaluated using the stochastic discount factor: $\\rho_{0,t} = \\beta^t \\exp(y_t)$  where $\\beta<1$ and $y_t$ is an $AR1$.\n",
    "The price of the asset is given by $p_0 = \\sum_{t\\geq 0} \\rho_{0,t} U(x_t)$ where $U(u)=\\exp(u)^{0.5}/{0.5}$.\n",
    "Our goal is to find the pricing function $p(x,y)$, which yields the price of the asset in any state."
   ]
  },
  {
   "cell_type": "markdown",
   "metadata": {},
   "source": [
    "__Write down the recursive equation which must be satisfied by $p$.__"
   ]
  },
  {
   "cell_type": "code",
   "execution_count": null,
   "metadata": {},
   "outputs": [],
   "source": []
  },
  {
   "cell_type": "markdown",
   "metadata": {},
   "source": [
    "__Discretize processes $(x_t)$ and $(y_t)$ using 2 states each. How would you represent the unknown $p()$?__"
   ]
  },
  {
   "cell_type": "code",
   "execution_count": null,
   "metadata": {},
   "outputs": [],
   "source": []
  },
  {
   "cell_type": "markdown",
   "metadata": {},
   "source": [
    "__Solve for $p()$ using successive approximations__"
   ]
  },
  {
   "cell_type": "code",
   "execution_count": null,
   "metadata": {},
   "outputs": [],
   "source": []
  },
  {
   "cell_type": "markdown",
   "metadata": {},
   "source": [
    "__Solve for $p()$ by solving a linear system (homework)__"
   ]
  },
  {
   "cell_type": "code",
   "execution_count": null,
   "metadata": {},
   "outputs": [],
   "source": []
  },
  {
   "cell_type": "markdown",
   "metadata": {},
   "source": [
    "## Asset replacement (from Compecon)\n",
    "\n",
    "At the beginning of each year, a manufacturer must decide whether to continue to operate an aging physical asset or replace it with a new one.\n",
    "\n",
    "An asset that is $a$ years old yields a profit contribution $p(a)$ up to $n$ years, at which point, the asset becomes unsafe and must be replaced by law.\n",
    "\n",
    "The cost of a new asset is $c$. What replacement policy maximizes profits?\n",
    "\n",
    "Calibration: profit $p(a)=50-2.5a-2.5a^2$. Maximum asset age: 5 years. Asset replacement cost: 75, annual discount factor $\\delta=0.9$."
   ]
  },
  {
   "cell_type": "markdown",
   "metadata": {},
   "source": [
    "__Define kind of problem, the state space, the actions, the reward function, and the Bellman updating equation__"
   ]
  },
  {
   "cell_type": "code",
   "execution_count": null,
   "metadata": {},
   "outputs": [],
   "source": []
  },
  {
   "cell_type": "markdown",
   "metadata": {},
   "source": [
    "__Solve the problem using Value Function Iteration__"
   ]
  },
  {
   "cell_type": "code",
   "execution_count": null,
   "metadata": {},
   "outputs": [],
   "source": []
  },
  {
   "cell_type": "markdown",
   "metadata": {},
   "source": [
    "__Solve the problem using Policy Iteration. Compare with VFI.__"
   ]
  },
  {
   "cell_type": "code",
   "execution_count": null,
   "metadata": {},
   "outputs": [],
   "source": []
  },
  {
   "cell_type": "markdown",
   "metadata": {},
   "source": [
    "### Brock-Mirman Stochastic Growth model"
   ]
  },
  {
   "cell_type": "markdown",
   "metadata": {},
   "source": [
    "This is a neoclassical growth model with unpredictable shocks on productivity."
   ]
  },
  {
   "cell_type": "markdown",
   "metadata": {},
   "source": [
    "Social planner tries to solve:\n",
    "\n",
    "$$\\max E_t \\left[ \\sum_{n=0}^{\\infty} \\beta^n \\log C_{t+n} \\right]$$\n",
    "\n",
    "s.t.\n",
    "\n",
    "$$K_{t+1} = Y_t - C_t$$\n",
    "$$Y_{t+1} = A_{t+1}K_{t+1}^\\alpha$$\n",
    "\n",
    "where $A_t$ is the level of productivity in period $t$. \n",
    "It can take  values $A^h=1.05$ and $A^l=0.95$. The transition between these two states are given by the matrix:\n",
    "$$P = \\begin{bmatrix}\n",
    "0.9, 0.1\\\\\n",
    "0.1, 0.9\n",
    "\\end{bmatrix}$$"
   ]
  },
  {
   "cell_type": "markdown",
   "metadata": {},
   "source": [
    "__Propose a plausible calibration__"
   ]
  },
  {
   "cell_type": "code",
   "execution_count": null,
   "metadata": {},
   "outputs": [],
   "source": []
  },
  {
   "cell_type": "markdown",
   "metadata": {},
   "source": [
    "__What are the states? What are the controls? Is it possible to bound them in a natural way? Propose a discretization scheme.__"
   ]
  },
  {
   "cell_type": "code",
   "execution_count": null,
   "metadata": {},
   "outputs": [],
   "source": []
  },
  {
   "cell_type": "markdown",
   "metadata": {},
   "source": [
    "__Write down the Bellman equation__"
   ]
  },
  {
   "cell_type": "code",
   "execution_count": null,
   "metadata": {},
   "outputs": [],
   "source": []
  },
  {
   "cell_type": "markdown",
   "metadata": {},
   "source": [
    "__How do you represent a policy function? Implement a value evaluation function.__"
   ]
  },
  {
   "cell_type": "code",
   "execution_count": null,
   "metadata": {},
   "outputs": [],
   "source": []
  },
  {
   "cell_type": "markdown",
   "metadata": {},
   "source": [
    "__Solve the model using Value Function Iteration. Plot the solution.__"
   ]
  },
  {
   "cell_type": "code",
   "execution_count": null,
   "metadata": {},
   "outputs": [],
   "source": []
  },
  {
   "cell_type": "markdown",
   "metadata": {},
   "source": [
    "__Implement Policy Improvement Steps. Compare convergence Speed.__"
   ]
  },
  {
   "cell_type": "code",
   "execution_count": null,
   "metadata": {},
   "outputs": [],
   "source": []
  },
  {
   "cell_type": "markdown",
   "metadata": {},
   "source": [
    "__Bonus: Propose some ideas to improve performances.__"
   ]
  },
  {
   "cell_type": "code",
   "execution_count": null,
   "metadata": {},
   "outputs": [],
   "source": []
  }
 ],
 "metadata": {
  "kernelspec": {
   "display_name": "Julia 1.5.3",
   "language": "julia",
   "name": "julia-1.5"
  },
  "language_info": {
   "file_extension": ".jl",
   "mimetype": "application/julia",
   "name": "julia",
   "version": "1.5.3"
  }
 },
 "nbformat": 4,
 "nbformat_minor": 4
}

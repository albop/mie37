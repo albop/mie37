{
 "cells": [
  {
   "cell_type": "markdown",
   "metadata": {
    "slideshow": {
     "slide_type": "slide"
    }
   },
   "source": [
    "# Introduction\n",
    "\n",
    "## Advanced Macro: Numerical Methods,  2021 (MIE37)\n",
    "\n",
    "\n",
    "Pablo Winant"
   ]
  },
  {
   "cell_type": "markdown",
   "metadata": {
    "slideshow": {
     "slide_type": "slide"
    }
   },
   "source": [
    "### Communication for this Course\n",
    "\n",
    "- github repository for the course: https://github.com/albop/mie37\n",
    "- enroll by:\n",
    "    - creating a github account if needed\n",
    "    - cloning the repository\n",
    "    - making a PR on students.md\n",
    "- join on [Zulip](econforge.zulipchat.org) : we'll communicate in the `mie37` room\n",
    "    - you're welcome to ask questions and answer other's questions (nicely)\n",
    "    - outside of the course hours, I'll answer when I can\n",
    "- formal or infrequent communication: `pwinant@escp.eu` with subject starting by `[mie37]`\n"
   ]
  },
  {
   "cell_type": "markdown",
   "metadata": {
    "slideshow": {
     "slide_type": "slide"
    }
   },
   "source": [
    "### Assignments and Final Exam\n",
    "\n",
    "\n",
    "-  Hands-on tutorial started in class must be (reasonably) completed by Wednesday night.\n",
    "    - Preferably: commit the work in your clone.\n",
    "- There will be two special assignments with 14 days to complete each of them.\n",
    "- Groupwork is OK.\n",
    "- Final Exam will take place in the latest session.\n",
    "    - It will consists of a few simple programming questions and a small model to solve yourself.\n",
    "- Final Grade will weight everything."
   ]
  },
  {
   "cell_type": "markdown",
   "metadata": {
    "slideshow": {
     "slide_type": "slide"
    }
   },
   "source": [
    "### Other sources of information\n",
    "\n",
    "- Course is mostly self-contained for its Math and Econ aspects.\n",
    "- Books:\n",
    "\n",
    "    - *Economic Dynamics: Theory and Computation* by John Stahurski\n",
    "    - *Computational Economics* by Miranda & Fackler\n",
    "    - *Recursive macreconomic theory* by Lars Ljungqvist & Tom Sargent\n",
    "    \n",
    "- Online:\n",
    "\n",
    "    - [QuantEcon lectures](https://quantecon.org/lectures/)\n",
    "- ... and all the Julia material"
   ]
  },
  {
   "cell_type": "markdown",
   "metadata": {
    "slideshow": {
     "slide_type": "slide"
    }
   },
   "source": [
    "### About me\n",
    "\n",
    "- A computational economist\n",
    "- Formerly Worked in institutions (IMF, BOE)\n",
    "- Now at ESCP and CREST/Polytechnique\n",
    "- Research on models about:\n",
    "    - Inequality (heterogeneity)\n",
    "    - International Finance\n",
    "    - Monetary Policy\n",
    "    - Artificial Intelligence\n",
    "- Involved in several opensource projects (Dolo, QuantEcon, ARK)"
   ]
  },
  {
   "cell_type": "markdown",
   "metadata": {
    "slideshow": {
     "slide_type": "slide"
    }
   },
   "source": [
    "### Content of the course\n",
    "\n",
    "- Computational Economics is made of:\n",
    "    - Applied Math (theory)\n",
    "    - Programming (techniques)\n",
    "    - Economic Modeling (expertise)\n",
    "\n",
    "- We'll alternate between the three topics\n",
    "    - with a stronger than usual emphasis on Programming skills\n",
    "\n"
   ]
  },
  {
   "cell_type": "markdown",
   "metadata": {
    "slideshow": {
     "slide_type": "slide"
    }
   },
   "source": [
    "### Math\n",
    "\n",
    "- We won't be using very advanced math\n",
    "    - linear algebra, Banach spaces, a bit of probabilities\n",
    "    - working knowledge is fine\n",
    "    - (almost) no proofs\n",
    "- but in a context where advanced math is an option...\n",
    "    - functional spaces...\n",
    "- applied applied math: essentially describes the algorithms and their validity/convergence properties"
   ]
  },
  {
   "cell_type": "markdown",
   "metadata": {
    "slideshow": {
     "slide_type": "slide"
    }
   },
   "source": [
    "### Models\n",
    "\n",
    "- See a variety of models:\n",
    "    - Static Market Determination (Computational General Equilibrium: CGE)\n",
    "    - Dynamic Optimization (continous or discrete)\n",
    "    - Linear Rational Expectations Models\n",
    "    - Dynamic Stochastic General Equilibrium models (DSGE)\n",
    "    - Heterogenous Agents Models\n",
    " - In discrete time\n",
    "     - to avoid discretization schemes and stochastic calculus\n",
    "     \n",
    "- Usually a model is specified by equations and some parameter values:\n",
    "    - no closed form, most of the time\n",
    "    - goal is to \"solve\" the model to study properties of its solutions\n",
    "    \n",
    "    "
   ]
  },
  {
   "cell_type": "markdown",
   "metadata": {
    "slideshow": {
     "slide_type": "slide"
    }
   },
   "source": [
    "### Models (2)\n",
    "\n",
    "- random exemples of questions we can analyse numerically:\n",
    "    - which sectors should receive more help during the coronavirus (CGE)?\n",
    "    - when is it time to replace a machine? how much water should be extracted? how much should be stored? (dynamic programming)\n",
    "    - what kind of shock drives the business cycles? (DSGE models)\n",
    "    - is a Central Bank *able* to commit to intervene in the markets? (time inconsistency)"
   ]
  },
  {
   "cell_type": "markdown",
   "metadata": {
    "slideshow": {
     "slide_type": "notes"
    }
   },
   "source": [
    "Video upcoming"
   ]
  },
  {
   "cell_type": "markdown",
   "metadata": {
    "slideshow": {
     "slide_type": "slide"
    }
   },
   "source": [
    "### Why economics is not Physics (1)\n",
    "\n",
    "<iframe width=\"560\" height=\"315\" src=\"https://www.youtube.com/embed/bmUAKkisAFo\" frameborder=\"0\" allow=\"accelerometer; autoplay; encrypted-media; gyroscope; picture-in-picture\" allowfullscreen></iframe>\n",
    "\n",
    "- Easy!: you just swap particles for people, and simulate (or solve an IVP problem)\n",
    "- *NO*: Not only local interactions: economic agents interact in many ways, including through markets\n",
    "    - All agents/prices must be solved at the same time"
   ]
  },
  {
   "cell_type": "markdown",
   "metadata": {
    "slideshow": {
     "slide_type": "slide"
    }
   },
   "source": [
    "### Why economics is not Physics (2)\n",
    "\n",
    "![FEM](graphs/fem.png)\n",
    "\n",
    "- Easy!: it's a differential equation with boundary values (BVP)\n",
    "- *NO*: agents think, they are forward looking and respond to other agents' decisions"
   ]
  },
  {
   "cell_type": "markdown",
   "metadata": {
    "slideshow": {
     "slide_type": "slide"
    }
   },
   "source": [
    "### What makes the life of computational economists hard:\n",
    "\n",
    "- Agents are rationnal, they should consider all possible outcomes and all decisions (and those of others...) in the future to make a decision today\n",
    "    ![bm](graphs/brownian_motion.png)\n",
    "   \n",
    "- Very complex problem: curse of dimensionality when more than a few variables\n",
    "- Wait, that's crazy! People are not that smart, let's make simplifying assumptions about their behaviour\n",
    "    - agent based approach\n",
    "    - methodological issues: too many possible predictions, too many parameters"
   ]
  },
  {
   "cell_type": "markdown",
   "metadata": {
    "slideshow": {
     "slide_type": "slide"
    }
   },
   "source": [
    "### Why should you learn to program ?\n",
    "\n",
    "- Econometricians, modellers, data scientists, spend a lot of time writing code\n",
    "    - and do it inefficiently...\n",
    "- Programming efficiently requires awareness of\n",
    "    - certain basic concepts: (types, control flow, functions, objects)\n",
    "    - some tools (programming language, code versioning, command line)\n",
    "    - which are never taught...\n",
    "- And yet they are very easy to learn\n",
    "    - anyone can become an expert !"
   ]
  },
  {
   "cell_type": "markdown",
   "metadata": {
    "slideshow": {
     "slide_type": "slide"
    }
   },
   "source": [
    "### Now is the right time !\n",
    "\n",
    "- A lot of demand everywhere for skilled programmers.\n",
    "\n",
    "- Many faculties are introducing formal programming courses (for economists)\n",
    "    - NYU, Penn, MIT (see [thinking computationnally](https://computationalthinking.mit.edu/Spring21/)\n",
    "    - Summer Bootcamps\n",
    "    \n",
    "- New applications are even more code-intensive than before:\n",
    "\n",
    "    - data science\n",
    "    - machine learning\n",
    "    - modeling"
   ]
  },
  {
   "cell_type": "markdown",
   "metadata": {
    "slideshow": {
     "slide_type": "slide"
    }
   },
   "source": [
    "### Do it in the open !\n",
    "\n",
    "- Many excellent online resources:\n",
    "\n",
    "    - [Software Carpentry](https://software-carpentry.org/)\n",
    "    - [QuantEcon](https://quantecon.org/news-item/need-for-speed-in-julia) from Tom Sargent and John Stachurski\n",
    "    - [Julia manuals/tutorials](https://julialang.org/learning/)\n",
    "    \n",
    "- Opensource community is very welcoming:\n",
    "\n",
    "    - ask on mailing lists or online chats (Julia users, quantecon, dynare, ...)\n",
    "    - open issues (for instance against Dolo [https://github.com/EconForge/Dolo.jl/issues](https://github.com/EconForge/Dolo.jl/issues)\n",
    "    - participating is also a great occasion to learn"
   ]
  },
  {
   "cell_type": "markdown",
   "metadata": {
    "slideshow": {
     "slide_type": "slide"
    }
   },
   "source": [
    "### Setup\n",
    "\n",
    "- Plan A: use the mybinder links from the courses repository.\n",
    "\n",
    "- Plan B: use your own laptop. You will need:\n",
    "    - visual studio code\n",
    "    - Julia 1.5.3\n",
    "    - git"
   ]
  }
 ],
 "metadata": {
  "@webio": {
   "lastCommId": null,
   "lastKernelId": null
  },
  "celltoolbar": "Slideshow",
  "jupytext": {
   "formats": "ipynb,md"
  },
  "kernelspec": {
   "display_name": "Julia 1.5.3",
   "language": "julia",
   "name": "julia-1.5"
  },
  "language_info": {
   "file_extension": ".jl",
   "mimetype": "application/julia",
   "name": "julia",
   "version": "1.5.3"
  },
  "rise": {
   "height": "1080",
   "theme": "serif",
   "transition": "zoom",
   "width": "1920"
  }
 },
 "nbformat": 4,
 "nbformat_minor": 4
}

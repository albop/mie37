{
 "cells": [
  {
   "attachments": {},
   "cell_type": "markdown",
   "metadata": {},
   "source": [
    "---\n",
    "title: \"Discrete Dynamic Programming\"\n",
    "author: \"Pablo Winant\"\n",
    "format:\n",
    "    html: default\n",
    "    ipynb: default\n",
    "---"
   ]
  },
  {
   "cell_type": "markdown",
   "metadata": {},
   "source": [
    "## Markov Chains"
   ]
  },
  {
   "cell_type": "markdown",
   "metadata": {},
   "source": [
    "A worker’s employment dynamics obey the stochastic matrix\n",
    "\n",
    "$$P = \\begin{bmatrix}\n",
    "1-\\alpha & \\alpha \\\\\n",
    "\\beta & 1-\\beta\n",
    "\\end{bmatrix}$$\n",
    "\n",
    "\n",
    "\n",
    "$$P = \\begin{bmatrix}\n",
    "1-\\alpha & ... \\\\\n",
    "\\beta & ...\n",
    "\\end{bmatrix}$$\n",
    "\n",
    "\n",
    "with $\\alpha\\in(0,1)$ and $\\beta\\in (0,1)$. First line corresponds to employment, second line to unemployment."
   ]
  },
  {
   "attachments": {},
   "cell_type": "markdown",
   "metadata": {},
   "source": [
    "__Which is the stationary equilibrium? (choose any value for $\\alpha$ and $\\beta$)__"
   ]
  },
  {
   "cell_type": "code",
   "execution_count": 1,
   "metadata": {},
   "outputs": [
    {
     "data": {
      "text/plain": [
       "2×2 Matrix{Float64}:\n",
       " 0.877  0.123\n",
       " 0.345  0.655"
      ]
     },
     "metadata": {},
     "output_type": "display_data"
    }
   ],
   "source": [
    "α = 0.123\n",
    "β = 0.345\n",
    "P = [1-α α ; β 1-β]"
   ]
  },
  {
   "cell_type": "code",
   "execution_count": 18,
   "metadata": {},
   "outputs": [
    {
     "data": {
      "text/plain": [
       "3×3 Matrix{Float64}:\n",
       " 0.0615  0.877   0.0615\n",
       " 0.655   0.1725  0.1725\n",
       " 0.5424  0.1356  0.322"
      ]
     },
     "metadata": {},
     "output_type": "display_data"
    }
   ],
   "source": [
    "α = 0.123\n",
    "β = 0.345\n",
    "γ = 0.678\n",
    "P = [α/2 1-α  α/2; 1-β β/2 β/2; γ*0.8 γ*0.2 1-γ]"
   ]
  },
  {
   "cell_type": "code",
   "execution_count": 39,
   "metadata": {},
   "outputs": [
    {
     "data": {
      "text/plain": [
       "3×3 Matrix{Float64}:\n",
       " 0.0615  0.877   0.0615\n",
       " 0.655   0.1725  0.1725\n",
       " 0.5424  0.1356  0.322"
      ]
     },
     "metadata": {},
     "output_type": "display_data"
    }
   ],
   "source": [
    "α = 0.123\n",
    "β = 0.345\n",
    "γ = 0.678\n",
    "P = [α/2 1-α  α/2; 1-β β/2 β/2; γ*0.8 γ*0.2 1-γ]\n",
    "P"
   ]
  },
  {
   "cell_type": "code",
   "execution_count": 40,
   "metadata": {},
   "outputs": [
    {
     "data": {
      "text/plain": [
       "3×3 adjoint(::Matrix{Float64}) with eltype Float64:\n",
       " 0.0615  0.655   0.5424\n",
       " 0.877   0.1725  0.1356\n",
       " 0.0615  0.1725  0.322"
      ]
     },
     "metadata": {},
     "output_type": "display_data"
    }
   ],
   "source": [
    "Pp = P'"
   ]
  },
  {
   "cell_type": "code",
   "execution_count": null,
   "metadata": {},
   "outputs": [
    {
     "data": {
      "text/plain": [
       "3-element Vector{Float64}:\n",
       " 0.41963333333333336\n",
       " 0.39503333333333335\n",
       " 0.18533333333333332"
      ]
     },
     "metadata": {},
     "output_type": "display_data"
    }
   ],
   "source": []
  },
  {
   "cell_type": "code",
   "execution_count": 44,
   "metadata": {},
   "outputs": [
    {
     "data": {
      "text/plain": [
       "1×3 adjoint(::Vector{Float64}) with eltype Float64:\n",
       " 0.400406  0.44903  0.150564"
      ]
     },
     "metadata": {},
     "output_type": "display_data"
    }
   ],
   "source": [
    "μbar = μ0'*P^50 # stupid too many matrix multiplications \n"
   ]
  },
  {
   "cell_type": "code",
   "execution_count": null,
   "metadata": {},
   "outputs": [
    {
     "data": {
      "text/plain": [
       "3-element Vector{Float64}:\n",
       " 0.4004056827203767\n",
       " 0.4490299796026508\n",
       " 0.1505643376769728"
      ]
     },
     "metadata": {},
     "output_type": "display_data"
    }
   ],
   "source": [
    "μ0 = ones(3)/3 # initial probability vector\n",
    "\n",
    "for t=1:40\n",
    "    μ1 = Pp * μ0\n",
    "    μ0 = μ1\n",
    "end\n",
    "\n",
    "μ0"
   ]
  },
  {
   "cell_type": "code",
   "execution_count": 46,
   "metadata": {},
   "outputs": [
    {
     "data": {
      "text/plain": [
       "3"
      ]
     },
     "metadata": {},
     "output_type": "display_data"
    }
   ],
   "source": [
    "size(P, 1)"
   ]
  },
  {
   "cell_type": "code",
   "execution_count": 52,
   "metadata": {},
   "outputs": [
    {
     "data": {
      "text/plain": [
       "solve_by_simulation (generic function with 1 method)"
      ]
     },
     "metadata": {},
     "output_type": "display_data"
    }
   ],
   "source": [
    "# refactor as a function to solve any stochastic matrix by simulation\n",
    "\n",
    "function solve_by_simulation(P; T=1000, τ_η=1e-10)\n",
    "\n",
    "    n = size(P, 1)\n",
    "\n",
    "    Pp = P'\n",
    "\n",
    "    μ0 = ones(n)/n # initial probability vector\n",
    "\n",
    "    for t=1:T\n",
    "        μ1 = Pp * μ0\n",
    "\n",
    "        # check whether we have a fixed point\n",
    "        # ϵ = maximum(abs, μ1 - Pp*μ1)\n",
    "        # not useful because Pp*μ1 will be computed in the next iteration\n",
    "\n",
    "        # check successsive approximation errors\n",
    "        η = maximum(abs,μ1 - μ0)\n",
    "\n",
    "        if η<τ_η\n",
    "            return μ1\n",
    "        end\n",
    "\n",
    "        μ0 = μ1\n",
    "    end\n",
    "\n",
    "    error(\"No convegence\")\n",
    "\n",
    "end"
   ]
  },
  {
   "cell_type": "code",
   "execution_count": 53,
   "metadata": {},
   "outputs": [
    {
     "data": {
      "text/plain": [
       "3-element Vector{Float64}:\n",
       " 0.40040568284433287\n",
       " 0.4490299794605776\n",
       " 0.15056433769508987"
      ]
     },
     "metadata": {},
     "output_type": "display_data"
    }
   ],
   "source": [
    "solve_by_simulation(P)"
   ]
  },
  {
   "cell_type": "code",
   "execution_count": null,
   "metadata": {},
   "outputs": [],
   "source": [
    "### Solve with linear algebra\n",
    "\n",
    "# let's solve M μ = μ by defining the appropriate M"
   ]
  },
  {
   "cell_type": "code",
   "execution_count": 56,
   "metadata": {},
   "outputs": [],
   "source": [
    "using LinearAlgebra: I"
   ]
  },
  {
   "cell_type": "code",
   "execution_count": 59,
   "metadata": {},
   "outputs": [
    {
     "data": {
      "text/plain": [
       "3×3 Matrix{Float64}:\n",
       " -0.9385   0.655    0.5424\n",
       "  0.877   -0.8275   0.1356\n",
       "  0.0615   0.1725  -0.678"
      ]
     },
     "metadata": {},
     "output_type": "display_data"
    }
   ],
   "source": [
    "P' - I"
   ]
  },
  {
   "cell_type": "code",
   "execution_count": 66,
   "metadata": {},
   "outputs": [
    {
     "data": {
      "text/plain": [
       "3-element Vector{Float64}:\n",
       " 0.4004056828214058\n",
       " 0.44902997948685536\n",
       " 0.15056433769173883"
      ]
     },
     "metadata": {},
     "output_type": "display_data"
    }
   ],
   "source": [
    "# using least square solver\n",
    "F = cat( P' - I, ones(1, 3); dims=1)\n",
    "R = zeros(4)\n",
    "R[end] = 1.0\n",
    "F \\ R # here it solves a nonsquare system"
   ]
  },
  {
   "cell_type": "code",
   "execution_count": 72,
   "metadata": {},
   "outputs": [
    {
     "data": {
      "text/plain": [
       "3-element Vector{Float64}:\n",
       " 0.40040568282140593\n",
       " 0.44902997948685536\n",
       " 0.15056433769173877"
      ]
     },
     "metadata": {},
     "output_type": "display_data"
    }
   ],
   "source": [
    "# using linear solver\n",
    "M = cat( P' - I,; dims=1)\n",
    "# replace last line with ones\n",
    "M[end,:] .= 1.0\n",
    "D = zeros(3)\n",
    "D[end] = 1.0\n",
    "M \\ D\n"
   ]
  },
  {
   "cell_type": "markdown",
   "metadata": {},
   "source": [
    "__In the long run, what will the the fraction $p$ of time spent unemployed? (Denote by $X_m$ the fraction of dates were one is unemployed)__"
   ]
  },
  {
   "cell_type": "code",
   "execution_count": 78,
   "metadata": {},
   "outputs": [
    {
     "data": {
      "text/plain": [
       "forecast (generic function with 1 method)"
      ]
     },
     "metadata": {},
     "output_type": "display_data"
    }
   ],
   "source": [
    "using Plots\n",
    "\n",
    "\n",
    "function forecast(P; T=100, μ0=ones(size(P,1))/size(P,1) )\n",
    "\n",
    "    sim = [μ0]\n",
    "\n",
    "    Pp = P'\n",
    "\n",
    "     # initial probability vector\n",
    "\n",
    "    for t=1:T\n",
    "        μ1 = Pp * μ0\n",
    "        push!(sim, μ1)\n",
    "\n",
    "        μ0 = μ1\n",
    "    end\n",
    "\n",
    "    return sim\n",
    "end"
   ]
  },
  {
   "cell_type": "code",
   "execution_count": 79,
   "metadata": {},
   "outputs": [
    {
     "data": {
      "text/plain": [
       "101-element Vector{Vector{Float64}}:\n",
       " [0.3333333333333333, 0.3333333333333333, 0.3333333333333333]\n",
       " [0.41963333333333336, 0.39503333333333335, 0.18533333333333332]\n",
       " [0.3850790833333334, 0.4612928833333334, 0.15362803333333333]\n",
       " [0.4091570474883334, 0.4381193397783334, 0.15272361273333335]\n",
       " [0.3949686135219009, 0.4551156386456709, 0.14991574783242834]\n",
       " [0.4037056146688205, 0.4452234971311626, 0.15107088820001704]\n",
       " [0.39839013568273324, 0.45133608975960343, 0.15027377455766347]\n",
       " [0.40163462745710504, 0.4476207483073078, 0.1507446242355873]\n",
       " [0.3996560039152811, 0.44988911840923734, 0.15045487767548166]\n",
       " [0.4008629424500215, 0.4485058697720903, 0.1506311877778883]\n",
       " ⋮\n",
       " [0.4004056828214061, 0.4490299794868556, 0.15056433769173902]\n",
       " [0.40040568282140615, 0.4490299794868555, 0.15056433769173902]\n",
       " [0.4004056828214061, 0.4490299794868556, 0.15056433769173902]\n",
       " [0.40040568282140615, 0.4490299794868555, 0.15056433769173902]\n",
       " [0.4004056828214061, 0.4490299794868556, 0.15056433769173902]\n",
       " [0.40040568282140615, 0.4490299794868555, 0.15056433769173902]\n",
       " [0.4004056828214061, 0.4490299794868556, 0.15056433769173902]\n",
       " [0.40040568282140615, 0.4490299794868555, 0.15056433769173902]\n",
       " [0.4004056828214061, 0.4490299794868556, 0.15056433769173902]"
      ]
     },
     "metadata": {},
     "output_type": "display_data"
    }
   ],
   "source": [
    "forecast(P)"
   ]
  },
  {
   "cell_type": "markdown",
   "metadata": {},
   "source": [
    "__Illustrate this convergence by generating a simulated series of length 10000 starting at $X_0=1$. Plot $X_m-p$ against $m$. (Take $\\alpha=\\beta=0.1$).__"
   ]
  },
  {
   "cell_type": "code",
   "execution_count": null,
   "metadata": {},
   "outputs": [],
   "source": []
  },
  {
   "cell_type": "markdown",
   "metadata": {},
   "source": [
    "## Basic Asset Pricing model\n",
    "\n",
    "A financial asset yields dividend $(x_t)$, which follows an AR1. It is evaluated using the stochastic discount factor: $\\rho_{0,t} = \\beta^t \\exp(y_t)$  where $\\beta<1$ and $y_t$ is an $AR1$.\n",
    "The price of the asset is given by $p_0 = \\sum_{t\\geq 0} \\rho_{0,t} U(x_t)$ where $U(u)=\\exp(u)^{0.5}/{0.5}$.\n",
    "Our goal is to find the pricing function $p(x,y)$, which yields the price of the asset in any state."
   ]
  },
  {
   "cell_type": "markdown",
   "metadata": {},
   "source": [
    "__Write down the recursive equation which must be satisfied by $p$.__"
   ]
  },
  {
   "cell_type": "markdown",
   "metadata": {},
   "source": [
    "\n",
    "$$p_t = U(x_t) + \\beta E_t \\left[ \\frac{e^{y_{t+1}}}{e^{y_t}} p_{t+1} \\right]$$"
   ]
  },
  {
   "attachments": {},
   "cell_type": "markdown",
   "metadata": {},
   "source": [
    "__Compute the ergodic distribution of $x$ and $y$.__"
   ]
  },
  {
   "cell_type": "code",
   "execution_count": null,
   "metadata": {},
   "outputs": [],
   "source": []
  },
  {
   "cell_type": "markdown",
   "metadata": {},
   "source": [
    "__Discretize processes $(x_t)$ and $(y_t)$ using 2 states each. How would you represent the unknown $p()$?__"
   ]
  },
  {
   "cell_type": "code",
   "execution_count": null,
   "metadata": {},
   "outputs": [],
   "source": []
  },
  {
   "cell_type": "markdown",
   "metadata": {},
   "source": [
    "__Solve for $p()$ using successive approximations__"
   ]
  },
  {
   "cell_type": "code",
   "execution_count": null,
   "metadata": {},
   "outputs": [],
   "source": []
  },
  {
   "cell_type": "markdown",
   "metadata": {},
   "source": [
    "__Solve for $p()$ by solving a linear system (homework)__"
   ]
  },
  {
   "cell_type": "code",
   "execution_count": null,
   "metadata": {},
   "outputs": [],
   "source": []
  },
  {
   "cell_type": "markdown",
   "metadata": {},
   "source": [
    "## Asset replacement (from Compecon)\n",
    "\n",
    "At the beginning of each year, a manufacturer must decide whether to continue to operate an aging physical asset or replace it with a new one.\n",
    "\n",
    "An asset that is $a$ years old yields a profit contribution $p(a)$ up to $n$ years, at which point, the asset becomes unsafe and must be replaced by law.\n",
    "\n",
    "The cost of a new asset is $c$. What replacement policy maximizes profits?\n",
    "\n",
    "Calibration: profit $p(a)=50-2.5a-2.5a^2$. Maximum asset age: 5 years. Asset replacement cost: 75, annual discount factor $\\delta=0.9$."
   ]
  },
  {
   "cell_type": "markdown",
   "metadata": {},
   "source": [
    "__Define kind of problem, the state space, the actions, the reward function, and the Bellman updating equation__"
   ]
  },
  {
   "cell_type": "code",
   "execution_count": null,
   "metadata": {},
   "outputs": [],
   "source": []
  },
  {
   "cell_type": "markdown",
   "metadata": {},
   "source": [
    "__Solve the problem using Value Function Iteration__"
   ]
  },
  {
   "cell_type": "code",
   "execution_count": null,
   "metadata": {},
   "outputs": [],
   "source": []
  },
  {
   "cell_type": "markdown",
   "metadata": {},
   "source": [
    "__Solve the problem using Policy Iteration. Compare with VFI.__"
   ]
  },
  {
   "cell_type": "code",
   "execution_count": null,
   "metadata": {},
   "outputs": [],
   "source": []
  }
 ],
 "metadata": {
  "kernelspec": {
   "display_name": "Julia 1.11.3",
   "language": "julia",
   "name": "julia-1.11"
  },
  "language_info": {
   "file_extension": ".jl",
   "mimetype": "application/julia",
   "name": "julia",
   "version": "1.11.3"
  }
 },
 "nbformat": 4,
 "nbformat_minor": 4
}

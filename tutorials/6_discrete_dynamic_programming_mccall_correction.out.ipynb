{
  "cells": [
    {
      "cell_type": "markdown",
      "metadata": {},
      "source": [
        "# McCall Model\n",
        "\n",
        "Pablo Winant\n",
        "\n",
        "### Job-Search Model\n",
        "\n",
        "-   When unemployed in date, a job-seeker\n",
        "    -   consumes unemployment benefit $c_t = \\underline{c}$\n",
        "    -   receives in every date $t$ a job offer $w_t$\n",
        "        -   $w_t$ is i.i.d.,\n",
        "        -   takes values $w_1, w_2, w_3$ with probabilities\n",
        "            $p_1, p_2, p_3$\n",
        "    -   if job-seeker accepts, becomes employed at rate $w_t$ in the\n",
        "        next period\n",
        "    -   else he stays unemployed\n",
        "-   When employed at rate $w$\n",
        "    -   worker consumes salary $c_t = w$\n",
        "    -   with small probability $\\lambda>0$ looses his job:\n",
        "        -   starts next period unemployed\n",
        "    -   otherwise stays employed at same rate\n",
        "-   Objective: $\\max E_0 \\left\\{ \\sum \\beta^t \\log(w_t) \\right\\}$\n",
        "\n",
        "**What are the states, the controls, the reward of this problem ? Write\n",
        "down the Bellman equation.**\n",
        "\n",
        "The states are: - unemployed, $w=w_1$ - unemployed, $w=w_2$ -\n",
        "unemployed, $w=w_3$ - employed, $w=w_1$ - employed, $w=w_2$ - employed,\n",
        "$w=w_3$\n",
        "\n",
        "The state-space can also be represented as\n",
        "$(employed,unemployed)\\times (w_1, w_2, w_3)$\n",
        "\n",
        "The controls are $accept/reject$ when unemployed, the empty set\n",
        "otherwise.\n",
        "\n",
        "The reward is $U(\\underbar{c})$ if unemployed, $U(\\underbar{w})$ if\n",
        "employed at wage $w$.\n",
        "\n",
        "**Define a parameter structure for the model.**"
      ],
      "id": "b19793aa-e70e-493c-98dd-55a8744bda39"
    },
    {
      "cell_type": "code",
      "execution_count": 61,
      "metadata": {},
      "outputs": [
        {
          "output_type": "display_data",
          "metadata": {},
          "data": {
            "text/plain": [
              "U (generic function with 1 method)"
            ]
          }
        }
      ],
      "source": [
        "m = (;\n",
        "    wages=[0.9, 1.0, 1.1],\n",
        "    probas=[1/3, 1/3, 1/3],\n",
        "    β = 0.9,\n",
        "    λ = 0.01,\n",
        "    cbar = 0.8,\n",
        "    punishment=0.0\n",
        ")\n",
        "U(x) = log(x)"
      ],
      "id": "22b385f4-d91c-4fbf-ac24-8e59c80b60d3"
    },
    {
      "cell_type": "code",
      "execution_count": 14,
      "metadata": {},
      "outputs": [
        {
          "output_type": "display_data",
          "metadata": {},
          "data": {
            "text/plain": [
              "3-element Vector{Bool}:\n",
              " 0\n",
              " 0\n",
              " 0"
            ]
          }
        }
      ],
      "source": [
        "V_U_0 = [0.0,0.0,0.0]\n",
        "V_E_0 = [0.0,0.0,0.0]\n",
        "x_0 = [false, false, false]"
      ],
      "id": "3604f052"
    },
    {
      "cell_type": "markdown",
      "metadata": {},
      "source": [
        "**Define a function\n",
        "`value_update(V_U::Vector{Float64}, V_E::Vector{Float64}, x::Vector{Bool}, p::Parameters)::Tuple{Vector, Vector}`,\n",
        "which takes in value functions tomorrow and a policy vector and return\n",
        "updated values for today.**"
      ],
      "id": "947d4e22-4a95-4607-8da3-09807cedb750"
    },
    {
      "cell_type": "code",
      "execution_count": 62,
      "metadata": {},
      "outputs": [
        {
          "output_type": "display_data",
          "metadata": {},
          "data": {
            "text/plain": [
              "([-0.2231435513142097, -0.2231435513142097, -0.2231435513142097], [-0.10536051565782628, 0.0, 0.09531017980432493])"
            ]
          }
        }
      ],
      "source": [
        "function value_update(V_U, V_E, x, m)\n",
        "\n",
        "    # compute the continuation value of being unemployed tomorrow\n",
        "    \n",
        "    (;λ, β, cbar, wages, probas, punishment) = m\n",
        "\n",
        "    cont_V_U = sum(   probas[i]*V_U[i]  for i=1:3   )\n",
        "\n",
        "    n_V_E = zeros(3)\n",
        "    for i=1:3\n",
        "        n_V_E[i] = U(wages[i]) + β*(1-λ)*V_E[i] + β*λ*cont_V_U\n",
        "    end\n",
        "\n",
        "    n_V_U = zeros(3)\n",
        "    for i=1:3\n",
        "        if x[i] # if accept\n",
        "            n_V_U[i] = U(cbar) + β*V_E[i]\n",
        "        else # if reject\n",
        "            n_V_U[i] = U(cbar) + β*cont_V_U - punishment\n",
        "        end\n",
        "\n",
        "    end\n",
        "\n",
        "    # vector version\n",
        "    # n_V_E = U.(wages) + β*(1-λ)*V_E\n",
        "\n",
        "    return n_V_U, n_V_E\n",
        "\n",
        "end\n",
        "\n",
        "value_update(V_U_0, V_E_0, x_0, m)"
      ],
      "id": "ab4b4006-d0d7-4da7-928c-4b5c94b31a1c"
    },
    {
      "cell_type": "markdown",
      "metadata": {},
      "source": [
        "**Define a function\n",
        "`policy_eval(x::Vector{Bool}, p::Parameter)::Tuple{Vector, Vector}`\n",
        "which takes in a policy vector and returns the value(s) of following\n",
        "this policies forever. You can add relevant arguments to the function.**"
      ],
      "id": "7a39452d-19d7-4d3d-b97e-68c6988a90ff"
    },
    {
      "cell_type": "code",
      "execution_count": 63,
      "metadata": {},
      "outputs": [
        {
          "output_type": "display_data",
          "metadata": {},
          "data": {
            "text/plain": [
              "distance (generic function with 1 method)"
            ]
          }
        }
      ],
      "source": [
        "distance(v1::Vector, v2::Vector) = maximum(abs.(v2-v1))"
      ],
      "id": "33c41e2f"
    },
    {
      "cell_type": "code",
      "execution_count": 64,
      "metadata": {},
      "outputs": [
        {
          "output_type": "display_data",
          "metadata": {},
          "data": {
            "text/plain": [
              "policy_eval (generic function with 1 method)"
            ]
          }
        }
      ],
      "source": [
        "function policy_eval(x, m; T=1000, τ_η=1e-10, verbose=false)\n",
        "\n",
        "    V_U_0 = [0.0,0.0,0.0]\n",
        "    V_E_0 = [0.0,0.0,0.0]\n",
        "\n",
        "    for t=1:T\n",
        "        V_U_1, V_E_1 = value_update(V_U_0, V_E_0, x, m)\n",
        "        η = distance( [V_U_0; V_E_0], [V_U_1; V_E_1] )\n",
        "\n",
        "        V_U_0, V_E_0 = V_U_1, V_E_1\n",
        "\n",
        "        if verbose\n",
        "\n",
        "            println(\"Iteration $(t): $(η)\")\n",
        "        end\n",
        "\n",
        "        if η<τ_η\n",
        "            return V_U_0, V_E_0\n",
        "        end\n",
        "\n",
        "    end\n",
        "\n",
        "    error(\"No convergence\")\n",
        "\n",
        "    \n",
        "end"
      ],
      "id": "6ebb9fbd-0bae-4134-822e-3db75c832dcb"
    },
    {
      "cell_type": "code",
      "execution_count": 65,
      "metadata": {},
      "outputs": [
        {
          "output_type": "stream",
          "name": "stdout",
          "text": [
            "Iteration 1: 0.2231435513142097\n",
            "Iteration 2: 0.20082919618278872\n",
            "Iteration 3: 0.18074627656450992\n",
            "Iteration 4: 0.16267164890805885\n",
            "Iteration 5: 0.14640448401725292\n",
            "Iteration 6: 0.13176403561552763\n",
            "Iteration 7: 0.11858763205397493\n",
            "Iteration 8: 0.10672886884857746\n",
            "Iteration 9: 0.09605598196371967\n",
            "Iteration 10: 0.08645038376734782\n",
            "Iteration 11: 0.0778053453906129\n",
            "Iteration 12: 0.07002481085155154\n",
            "Iteration 13: 0.06302232976639632\n",
            "Iteration 14: 0.05672009678975676\n",
            "Iteration 15: 0.051048087110781015\n",
            "Iteration 16: 0.045943278399702914\n",
            "Iteration 17: 0.041348950559732645\n",
            "Iteration 18: 0.03721405550375967\n",
            "Iteration 19: 0.033492649953383635\n",
            "Iteration 20: 0.03014338495804525\n",
            "Iteration 21: 0.02712904646224068\n",
            "Iteration 22: 0.0244161418160167\n",
            "Iteration 23: 0.021974527634414542\n",
            "Iteration 24: 0.019777074870973355\n",
            "Iteration 25: 0.01779936738387633\n",
            "Iteration 26: 0.016019430645488608\n",
            "Iteration 27: 0.014417487580939525\n",
            "Iteration 28: 0.012975738822845528\n",
            "Iteration 29: 0.011678164940561508\n",
            "Iteration 30: 0.010510348446505002\n",
            "Iteration 31: 0.009459313601854813\n",
            "Iteration 32: 0.008513382241669198\n",
            "Iteration 33: 0.007662044017502367\n",
            "Iteration 34: 0.006895839615752131\n",
            "Iteration 35: 0.006206255654176651\n",
            "Iteration 36: 0.005585630088758897\n",
            "Iteration 37: 0.005027067079883096\n",
            "Iteration 38: 0.004524360371894964\n",
            "Iteration 39: 0.004071924334705379\n",
            "Iteration 40: 0.003664731901234841\n",
            "Iteration 41: 0.0032982587111107797\n",
            "Iteration 42: 0.002968432840000368\n",
            "Iteration 43: 0.002671589555999887\n",
            "Iteration 44: 0.002404430600400076\n",
            "Iteration 45: 0.0021639875403600684\n",
            "Iteration 46: 0.0019475887863240615\n",
            "Iteration 47: 0.0017528299076916554\n",
            "Iteration 48: 0.0015775469169225786\n",
            "Iteration 49: 0.0014197922252305872\n",
            "Iteration 50: 0.0012778130027073509\n",
            "Iteration 51: 0.001150031702436216\n",
            "Iteration 52: 0.0010350285321925057\n",
            "Iteration 53: 0.0009315256789736992\n",
            "Iteration 54: 0.0008383731110761516\n",
            "Iteration 55: 0.0007545357999685365\n",
            "Iteration 56: 0.0006790822199720381\n",
            "Iteration 57: 0.0006111739979743902\n",
            "Iteration 58: 0.0005500565981773065\n",
            "Iteration 59: 0.0004950509383596646\n",
            "Iteration 60: 0.0004455458445233873\n",
            "Iteration 61: 0.000400991260071315\n",
            "Iteration 62: 0.0003608921340640947\n",
            "Iteration 63: 0.0003248029206575076\n",
            "Iteration 64: 0.00029232262859180125\n",
            "Iteration 65: 0.0002630903657325767\n",
            "Iteration 66: 0.00023678132915927463\n",
            "Iteration 67: 0.00021310319624356922\n",
            "Iteration 68: 0.00019179287661863498\n",
            "Iteration 69: 0.00017261358895748202\n",
            "Iteration 70: 0.00015535223006102328\n",
            "Iteration 71: 0.0001398170070556759\n",
            "Iteration 72: 0.0001258353063500195\n",
            "Iteration 73: 0.00011325177571475109\n",
            "Iteration 74: 0.00010192659814345362\n",
            "Iteration 75: 9.173393832861976e-5\n",
            "Iteration 76: 8.256054449606864e-5\n",
            "Iteration 77: 7.430449004663942e-5\n",
            "Iteration 78: 6.687404104166461e-5\n",
            "Iteration 79: 6.018663693785342e-5\n",
            "Iteration 80: 5.4167973244201306e-5\n",
            "Iteration 81: 4.875117591973677e-5\n",
            "Iteration 82: 4.387605832745223e-5\n",
            "Iteration 83: 3.948845249501787e-5\n",
            "Iteration 84: 3.553960724556049e-5\n",
            "Iteration 85: 3.198564652073799e-5\n",
            "Iteration 86: 2.8787081868930642e-5\n",
            "Iteration 87: 2.590837368199317e-5\n",
            "Iteration 88: 2.3317536313349763e-5\n",
            "Iteration 89: 2.098578268228124e-5\n",
            "Iteration 90: 1.888720441423075e-5\n",
            "Iteration 91: 1.6998483972852085e-5\n",
            "Iteration 92: 1.5298635575256014e-5\n",
            "Iteration 93: 1.3768772017641595e-5\n",
            "Iteration 94: 1.2391894816055071e-5\n",
            "Iteration 95: 1.1152705334360746e-5\n",
            "Iteration 96: 1.0037434800658218e-5\n",
            "Iteration 97: 9.033691320770032e-6\n",
            "Iteration 98: 8.130322188826256e-6\n",
            "Iteration 99: 7.31728996994363e-6\n",
            "Iteration 100: 6.585560972993676e-6\n",
            "Iteration 101: 5.927004875783126e-6\n",
            "Iteration 102: 5.334304387982769e-6\n",
            "Iteration 103: 4.8008739494953545e-6\n",
            "Iteration 104: 4.3207865543237745e-6\n",
            "Iteration 105: 3.888707898802579e-6\n",
            "Iteration 106: 3.499837109011139e-6\n",
            "Iteration 107: 3.149853398110025e-6\n",
            "Iteration 108: 2.8348680585210673e-6\n",
            "Iteration 109: 2.5513812520472356e-6\n",
            "Iteration 110: 2.2962431271977835e-6\n",
            "Iteration 111: 2.0666188143003694e-6\n",
            "Iteration 112: 1.8599569333588306e-6\n",
            "Iteration 113: 1.6739612398453119e-6\n",
            "Iteration 114: 1.5065651157719628e-6\n",
            "Iteration 115: 1.3559086040615398e-6\n",
            "Iteration 116: 1.2203177437442037e-6\n",
            "Iteration 117: 1.0982859692809654e-6\n",
            "Iteration 118: 9.884573723972778e-7\n",
            "Iteration 119: 8.896116354684125e-7\n",
            "Iteration 120: 8.006504716995266e-7\n",
            "Iteration 121: 7.205854246628007e-7\n",
            "Iteration 122: 6.485268819744761e-7\n",
            "Iteration 123: 5.836741938658463e-7\n",
            "Iteration 124: 5.253067745236706e-7\n",
            "Iteration 125: 4.7277609693807676e-7\n",
            "Iteration 126: 4.2549848755513153e-7\n",
            "Iteration 127: 3.829486385775738e-7\n",
            "Iteration 128: 3.4465377485304316e-7\n",
            "Iteration 129: 3.1018839719010316e-7\n",
            "Iteration 130: 2.7916955769313745e-7\n",
            "Iteration 131: 2.5125260183500586e-7\n",
            "Iteration 132: 2.2612734174032312e-7\n",
            "Iteration 133: 2.0351460738865512e-7\n",
            "Iteration 134: 1.8316314687183421e-7\n",
            "Iteration 135: 1.6484683174056158e-7\n",
            "Iteration 136: 1.4836214878855003e-7\n",
            "Iteration 137: 1.335259338652861e-7\n",
            "Iteration 138: 1.2017334061198426e-7\n",
            "Iteration 139: 1.0815600637315015e-7\n",
            "Iteration 140: 9.734040595787974e-8\n",
            "Iteration 141: 8.760636527327392e-8\n",
            "Iteration 142: 7.884572861271977e-8\n",
            "Iteration 143: 7.096115606231024e-8\n",
            "Iteration 144: 6.386503992317216e-8\n",
            "Iteration 145: 5.747853615289955e-8\n",
            "Iteration 146: 5.173068284847204e-8\n",
            "Iteration 147: 4.655761420835347e-8\n",
            "Iteration 148: 4.190185309838057e-8\n",
            "Iteration 149: 3.771166756649791e-8\n",
            "Iteration 150: 3.3940500632212434e-8\n",
            "Iteration 151: 3.054645070221795e-8\n",
            "Iteration 152: 2.7491805720814e-8\n",
            "Iteration 153: 2.4742625281959363e-8\n",
            "Iteration 154: 2.2268362709354506e-8\n",
            "Iteration 155: 2.004152621637445e-8\n",
            "Iteration 156: 1.803737381678161e-8\n",
            "Iteration 157: 1.6233636213058844e-8\n",
            "Iteration 158: 1.4610272991433249e-8\n",
            "Iteration 159: 1.3149245692289924e-8\n",
            "Iteration 160: 1.183432107865201e-8\n",
            "Iteration 161: 1.0650888615515441e-8\n",
            "Iteration 162: 9.585800153644186e-9\n",
            "Iteration 163: 8.62721982741732e-9\n",
            "Iteration 164: 7.76449748940422e-9\n",
            "Iteration 165: 6.988048362188692e-9\n",
            "Iteration 166: 6.289242904244929e-9\n",
            "Iteration 167: 5.660318880273962e-9\n",
            "Iteration 168: 5.094287214291171e-9\n",
            "Iteration 169: 4.584858270817449e-9\n",
            "Iteration 170: 4.126372576962467e-9\n",
            "Iteration 171: 3.7137355413108253e-9\n",
            "Iteration 172: 3.3423619427708218e-9\n",
            "Iteration 173: 3.0081257484937396e-9\n",
            "Iteration 174: 2.7073130404176027e-9\n",
            "Iteration 175: 2.4365816031490795e-9\n",
            "Iteration 176: 2.1929236204698555e-9\n",
            "Iteration 177: 1.973631036378265e-9\n",
            "Iteration 178: 1.7762680215582805e-9\n",
            "Iteration 179: 1.5986407753132426e-9\n",
            "Iteration 180: 1.4387770974622072e-9\n",
            "Iteration 181: 1.2948997429873543e-9\n",
            "Iteration 182: 1.165409546644014e-9\n",
            "Iteration 183: 1.0488685475706916e-9\n",
            "Iteration 184: 9.439817816314644e-10\n",
            "Iteration 185: 8.49583514650476e-10\n",
            "Iteration 186: 7.646252520032704e-10\n",
            "Iteration 187: 6.881624159404964e-10\n",
            "Iteration 188: 6.193463519821307e-10\n",
            "Iteration 189: 5.574114503303917e-10\n",
            "Iteration 190: 5.016707049776414e-10\n",
            "Iteration 191: 4.5150372329771926e-10\n",
            "Iteration 192: 4.063531733322634e-10\n",
            "Iteration 193: 3.6571812245256297e-10\n",
            "Iteration 194: 3.2914604375378076e-10\n",
            "Iteration 195: 2.9623148378732367e-10\n",
            "Iteration 196: 2.6660851304427524e-10\n",
            "Iteration 197: 2.3994761733092673e-10\n",
            "Iteration 198: 2.1595258914430815e-10\n",
            "Iteration 199: 1.943574190477193e-10\n",
            "Iteration 200: 1.7492185477863131e-10\n",
            "Iteration 201: 1.574296248918472e-10\n",
            "Iteration 202: 1.4168666240266248e-10\n",
            "Iteration 203: 1.2751799616239623e-10\n",
            "Iteration 204: 1.1476597450155168e-10\n",
            "Iteration 205: 1.0328937705139651e-10\n",
            "Iteration 206: 9.296075020870376e-11"
          ]
        }
      ],
      "source": [
        "policy_eval(x, m; T=1000, verbose=true);"
      ],
      "id": "8907330b"
    },
    {
      "cell_type": "markdown",
      "metadata": {},
      "source": [
        "**Define a function\n",
        "`bellman_step(V_E::Vector, V_U::Vector, p::Parameters)::Tuple{Vector, Vector, Vector}`\n",
        "which returns updated values, together with improved policy rules.**"
      ],
      "id": "c1842c20-76c9-4405-8d43-8dab9ec0e574"
    },
    {
      "cell_type": "code",
      "execution_count": 66,
      "metadata": {},
      "outputs": [
        {
          "output_type": "display_data",
          "metadata": {},
          "data": {
            "text/plain": [
              "2-element Vector{Bool}:\n",
              " 1\n",
              " 0"
            ]
          }
        }
      ],
      "source": [
        "[true, false]"
      ],
      "id": "8aab88b6"
    },
    {
      "cell_type": "code",
      "execution_count": 67,
      "metadata": {},
      "outputs": [
        {
          "output_type": "display_data",
          "metadata": {},
          "data": {
            "text/plain": [
              "3-element Vector{Bool}:\n",
              " 0\n",
              " 0\n",
              " 0"
            ]
          }
        }
      ],
      "source": [
        "zeros(Bool, 3)"
      ],
      "id": "4ae8f854"
    },
    {
      "cell_type": "code",
      "execution_count": 68,
      "metadata": {},
      "outputs": [
        {
          "output_type": "display_data",
          "metadata": {},
          "data": {
            "text/plain": [
              "bellman_step (generic function with 1 method)"
            ]
          }
        }
      ],
      "source": [
        "function bellman_step(V_U, V_E, m;)\n",
        "\n",
        "    # compute the continuation value of being unemployed tomorrow\n",
        "    \n",
        "    (;λ, β, cbar, wages, probas, punishment) = m\n",
        "\n",
        "    cont_V_U = sum(   probas[i]*V_U[i]  for i=1:3   )\n",
        "\n",
        "    n_V_E = zeros(3)\n",
        "    for i=1:3\n",
        "        n_V_E[i] = U(wages[i]) + β*(1-λ)*V_E[i] + β*λ*cont_V_U\n",
        "    end\n",
        "\n",
        "    n_V_U = zeros(3)\n",
        "    x = zeros(Bool, 3)\n",
        "    for i=1:3\n",
        "        v_accept = U(cbar) + β*V_E[i]\n",
        "        v_reject = U(cbar) + β*cont_V_U\n",
        "        if v_accept>v_reject\n",
        "            n_V_U[i] = v_accept\n",
        "            x[i] = true\n",
        "        else v_accept>v_reject\n",
        "            n_V_U[i] = v_reject - punishment\n",
        "            x[i] = false\n",
        "        end\n",
        "    end\n",
        "\n",
        "    # vector version\n",
        "    # n_V_E = U.(wages) + β*(1-λ)*V_E\n",
        "\n",
        "    return n_V_U, n_V_E, x\n",
        "\n",
        "end"
      ],
      "id": "54b14005-f350-43b7-94e6-066a6ca42443"
    },
    {
      "cell_type": "code",
      "execution_count": 69,
      "metadata": {},
      "outputs": [],
      "source": [
        "bellman_step(V_U_0, V_E_0, m);"
      ],
      "id": "b4e1eb06"
    },
    {
      "cell_type": "markdown",
      "metadata": {},
      "source": [
        "**Implement Value Function**"
      ],
      "id": "803b599c-3780-4c27-9da0-f01b0c67271e"
    },
    {
      "cell_type": "code",
      "execution_count": 70,
      "metadata": {},
      "outputs": [
        {
          "output_type": "display_data",
          "metadata": {},
          "data": {
            "text/plain": [
              "value_function_iteration (generic function with 1 method)"
            ]
          }
        }
      ],
      "source": [
        "function value_function_iteration(m; T=1000, τ_η=1e-10, verbose=false)\n",
        "\n",
        "    V_U_0 = [0.0,0.0,0.0]\n",
        "    V_E_0 = [0.0,0.0,0.0]\n",
        "\n",
        "    for t=1:T\n",
        "\n",
        "        V_U_1, V_E_1, x = bellman_step(V_U_0, V_E_0, m)\n",
        "        η = distance( [V_U_0; V_E_0], [V_U_1; V_E_1] )\n",
        "\n",
        "        V_U_0, V_E_0 = V_U_1, V_E_1\n",
        "\n",
        "        if verbose\n",
        "            \n",
        "\n",
        "            println(\"Iteration $(t): $(η) : $(x)\")\n",
        "        end\n",
        "\n",
        "        if η<τ_η\n",
        "            return V_U_0, V_E_0, x\n",
        "        end\n",
        "\n",
        "    end\n",
        "\n",
        "    error(\"No convergence\")\n",
        "\n",
        "    \n",
        "end"
      ],
      "id": "a8d39209-bf35-4478-abb6-0c3d498aefd2"
    },
    {
      "cell_type": "code",
      "execution_count": 48,
      "metadata": {},
      "outputs": [
        {
          "output_type": "stream",
          "name": "stdout",
          "text": [
            "Iteration 1: 0.2231435513142097 : Bool[0, 0, 0]\n",
            "Iteration 2: 0.09588451141295112 : Bool[1, 1, 1]\n",
            "Iteration 3: 0.08629606027165598 : Bool[1, 1, 1]\n",
            "Iteration 4: 0.07618551515584138 : Bool[0, 1, 1]\n",
            "Iteration 5: 0.06776620825824747 : Bool[0, 1, 1]\n",
            "Iteration 6: 0.06017209711438726 : Bool[0, 1, 1]\n",
            "Iteration 7: 0.05339623450323355 : Bool[0, 1, 1]\n",
            "Iteration 8: 0.04737184303259734 : Bool[0, 1, 1]\n",
            "Iteration 9: 0.042021967211819056 : Bool[0, 1, 1]\n",
            "Iteration 10: 0.037273116454005106 : Bool[0, 1, 1]\n",
            "Iteration 11: 0.033058519006658904 : Bool[0, 1, 1]\n",
            "Iteration 12: 0.029318432293365393 : Bool[0, 1, 1]\n",
            "Iteration 13: 0.025999667465517406 : Bool[0, 1, 1]\n",
            "Iteration 14: 0.023054948225977645 : Bool[0, 1, 1]\n",
            "Iteration 15: 0.020442277375651963 : Bool[0, 1, 1]\n",
            "Iteration 16: 0.018124355344447007 : Bool[0, 1, 1]\n",
            "Iteration 17: 0.01606805806256495 : Bool[0, 1, 1]\n",
            "Iteration 18: 0.014243971400986988 : Bool[0, 1, 1]\n",
            "Iteration 19: 0.01262597700763557 : Bool[0, 0, 1]\n",
            "Iteration 20: 0.011258315445731748 : Bool[0, 0, 1]\n",
            "Iteration 21: 0.010085339325077824 : Bool[0, 0, 1]\n",
            "Iteration 22: 0.009048942948106098 : Bool[0, 0, 1]\n",
            "Iteration 23: 0.008127581948617513 : Bool[0, 0, 1]\n",
            "Iteration 24: 0.007305091931290697 : Bool[0, 0, 1]\n",
            "Iteration 25: 0.006568831231085204 : Bool[0, 0, 1]\n",
            "Iteration 26: 0.005908548967294203 : Bool[0, 0, 1]\n",
            "Iteration 27: 0.005315685178421625 : Bool[0, 0, 1]\n",
            "Iteration 28: 0.004782929405322878 : Bool[0, 0, 1]\n",
            "Iteration 29: 0.004303934796933695 : Bool[0, 0, 1]\n",
            "Iteration 30: 0.0038731266315371604 : Bool[0, 0, 1]\n",
            "Iteration 31: 0.003485568889132873 : Bool[0, 0, 1]\n",
            "Iteration 32: 0.0031368671583823504 : Bool[0, 0, 1]\n",
            "Iteration 33: 0.002823094841018392 : Bool[0, 0, 1]\n",
            "Iteration 34: 0.0025407347664148094 : Bool[0, 0, 1]\n",
            "Iteration 35: 0.0022866313907867752 : Bool[0, 0, 1]\n",
            "Iteration 36: 0.0020579505814068977 : Bool[0, 0, 1]\n",
            "Iteration 37: 0.0018521450801185502 : Bool[0, 0, 1]\n",
            "Iteration 38: 0.0016669244002061046 : Bool[0, 0, 1]\n",
            "Iteration 39: 0.0015002283125924443 : Bool[0, 0, 1]\n",
            "Iteration 40: 0.0013502033256055368 : Bool[0, 0, 1]\n",
            "Iteration 41: 0.0012151817190101388 : Bool[0, 0, 1]\n",
            "Iteration 42: 0.0010936627941545707 : Bool[0, 0, 1]\n",
            "Iteration 43: 0.0009842960697428182 : Bool[0, 0, 1]\n",
            "Iteration 44: 0.0008858661997758199 : Bool[0, 0, 1]\n",
            "Iteration 45: 0.0007972794243694681 : Bool[0, 0, 1]\n",
            "Iteration 46: 0.0007175513900742336 : Bool[0, 0, 1]\n",
            "Iteration 47: 0.0006457961967782921 : Bool[0, 0, 1]\n",
            "Iteration 48: 0.0005812165450161944 : Bool[0, 0, 1]\n",
            "Iteration 49: 0.0005230948715527761 : Bool[0, 0, 1]\n",
            "Iteration 50: 0.0004707853731908962 : Bool[0, 0, 1]\n",
            "Iteration 51: 0.0004237068292487489 : Bool[0, 0, 1]\n",
            "Iteration 52: 0.00038133614240976055 : Bool[0, 0, 1]\n",
            "Iteration 53: 0.0003432025258554017 : Bool[0, 0, 1]\n",
            "Iteration 54: 0.0003088822719028439 : Bool[0, 0, 1]\n",
            "Iteration 55: 0.0002779940439044948 : Bool[0, 0, 1]\n",
            "Iteration 56: 0.00025019463903641626 : Bool[0, 0, 1]\n",
            "Iteration 57: 0.0002251751748508779 : Bool[0, 0, 1]\n",
            "Iteration 58: 0.00020265765719873485 : Bool[0, 0, 1]\n",
            "Iteration 59: 0.00018239189138036238 : Bool[0, 0, 1]\n",
            "Iteration 60: 0.00016415270218417266 : Bool[0, 0, 1]\n",
            "Iteration 61: 0.00014773743193119415 : Bool[0, 0, 1]\n",
            "Iteration 62: 0.00013296368871773545 : Bool[0, 0, 1]\n",
            "Iteration 63: 0.00011966731983381607 : Bool[0, 0, 1]\n",
            "Iteration 64: 0.00010770058784359549 : Bool[0, 0, 1]\n",
            "Iteration 65: 9.693052905479504e-5 : Bool[0, 0, 1]\n",
            "Iteration 66: 8.723747614691746e-5 : Bool[0, 0, 1]\n",
            "Iteration 67: 7.851372853084904e-5 : Bool[0, 0, 1]\n",
            "Iteration 68: 7.066235567687595e-5 : Bool[0, 0, 1]\n",
            "Iteration 69: 6.359612010864435e-5 : Bool[0, 0, 1]\n",
            "Iteration 70: 5.723650809752456e-5 : Bool[0, 0, 1]\n",
            "Iteration 71: 5.151285728743904e-5 : Bool[0, 0, 1]\n",
            "Iteration 72: 4.6361571558684034e-5 : Bool[0, 0, 1]\n",
            "Iteration 73: 4.1725414402837835e-5 : Bool[0, 0, 1]\n",
            "Iteration 74: 3.755287296258736e-5 : Bool[0, 0, 1]\n",
            "Iteration 75: 3.3797585666239804e-5 : Bool[0, 0, 1]\n",
            "Iteration 76: 3.0417827099560313e-5 : Bool[0, 0, 1]\n",
            "Iteration 77: 2.7376044389626486e-5 : Bool[0, 0, 1]\n",
            "Iteration 78: 2.4638439950708246e-5 : Bool[0, 0, 1]\n",
            "Iteration 79: 2.2174595955659626e-5 : Bool[0, 0, 1]\n",
            "Iteration 80: 1.9957136359938232e-5 : Bool[0, 0, 1]\n",
            "Iteration 81: 1.7961422724033227e-5 : Bool[0, 0, 1]\n",
            "Iteration 82: 1.6165280451674313e-5 : Bool[0, 0, 1]\n",
            "Iteration 83: 1.4548752406418064e-5 : Bool[0, 0, 1]\n",
            "Iteration 84: 1.3093877165748502e-5 : Bool[0, 0, 1]\n",
            "Iteration 85: 1.178448944921806e-5 : Bool[0, 0, 1]\n",
            "Iteration 86: 1.0606040504401726e-5 : Bool[0, 0, 1]\n",
            "Iteration 87: 9.545436453928247e-6 : Bool[0, 0, 1]\n",
            "Iteration 88: 8.59089280857983e-6 : Bool[0, 0, 1]\n",
            "Iteration 89: 7.731803527755154e-6 : Bool[0, 0, 1]\n",
            "Iteration 90: 6.958623174901923e-6 : Bool[0, 0, 1]\n",
            "Iteration 91: 6.262760857467242e-6 : Bool[0, 0, 1]\n",
            "Iteration 92: 5.6364847716983135e-6 : Bool[0, 0, 1]\n",
            "Iteration 93: 5.072836294500727e-6 : Bool[0, 0, 1]\n",
            "Iteration 94: 4.565552665036776e-6 : Bool[0, 0, 1]\n",
            "Iteration 95: 4.108997398666325e-6 : Bool[0, 0, 1]\n",
            "Iteration 96: 3.6980976588774084e-6 : Bool[0, 0, 1]\n",
            "Iteration 97: 3.3282878928453385e-6 : Bool[0, 0, 1]\n",
            "Iteration 98: 2.9954591036496225e-6 : Bool[0, 0, 1]\n",
            "Iteration 99: 2.6959131932402514e-6 : Bool[0, 0, 1]\n",
            "Iteration 100: 2.4263218739717374e-6 : Bool[0, 0, 1]\n",
            "Iteration 101: 2.1836896865190525e-6 : Bool[0, 0, 1]\n",
            "Iteration 102: 1.9653207178338405e-6 : Bool[0, 0, 1]\n",
            "Iteration 103: 1.7687886460504565e-6 : Bool[0, 0, 1]\n",
            "Iteration 104: 1.5919097814398597e-6 : Bool[0, 0, 1]\n",
            "Iteration 105: 1.4327188033735894e-6 : Bool[0, 0, 1]\n",
            "Iteration 106: 1.289446923014026e-6 : Bool[0, 0, 1]\n",
            "Iteration 107: 1.16050223064601e-6 : Bool[0, 0, 1]\n",
            "Iteration 108: 1.0444520076591246e-6 : Bool[0, 0, 1]\n",
            "Iteration 109: 9.400068069487233e-7 : Bool[0, 0, 1]\n",
            "Iteration 110: 8.460061262649532e-7 : Bool[0, 0, 1]\n",
            "Iteration 111: 7.614055136384579e-7 : Bool[0, 0, 1]\n",
            "Iteration 112: 6.852649622191009e-7 : Bool[0, 0, 1]\n",
            "Iteration 113: 6.167384659638842e-7 : Bool[0, 0, 1]\n",
            "Iteration 114: 5.55064619378598e-7 : Bool[0, 0, 1]\n",
            "Iteration 115: 4.995581575073516e-7 : Bool[0, 0, 1]\n",
            "Iteration 116: 4.496023418010253e-7 : Bool[0, 0, 1]\n",
            "Iteration 117: 4.046421075432072e-7 : Bool[0, 0, 1]\n",
            "Iteration 118: 3.641778968388465e-7 : Bool[0, 0, 1]\n",
            "Iteration 119: 3.277601071660641e-7 : Bool[0, 0, 1]\n",
            "Iteration 120: 2.949840964272532e-7 : Bool[0, 0, 1]\n",
            "Iteration 121: 2.6548568676787454e-7 : Bool[0, 0, 1]\n",
            "Iteration 122: 2.389371180910871e-7 : Bool[0, 0, 1]\n",
            "Iteration 123: 2.1504340630418284e-7 : Bool[0, 0, 1]\n",
            "Iteration 124: 1.9353906566266232e-7 : Bool[0, 0, 1]\n",
            "Iteration 125: 1.7418515918521393e-7 : Bool[0, 0, 1]\n",
            "Iteration 126: 1.5676664322228362e-7 : Bool[0, 0, 1]\n",
            "Iteration 127: 1.4108997892225972e-7 : Bool[0, 0, 1]\n",
            "Iteration 128: 1.2698098100782929e-7 : Bool[0, 0, 1]\n",
            "Iteration 129: 1.142828828515352e-7 : Bool[0, 0, 1]\n",
            "Iteration 130: 1.0285459473013958e-7 : Bool[0, 0, 1]\n",
            "Iteration 131: 9.256913524602339e-8 : Bool[0, 0, 1]\n",
            "Iteration 132: 8.331222162150098e-8 : Bool[0, 0, 1]\n",
            "Iteration 133: 7.498099940939085e-8 : Bool[0, 0, 1]\n",
            "Iteration 134: 6.748289960167853e-8 : Bool[0, 0, 1]\n",
            "Iteration 135: 6.073460967481736e-8 : Bool[0, 0, 1]\n",
            "Iteration 136: 5.4661148607415555e-8 : Bool[0, 0, 1]\n",
            "Iteration 137: 4.9195033741122884e-8 : Bool[0, 0, 1]\n",
            "Iteration 138: 4.427553046415511e-8 : Bool[0, 0, 1]\n",
            "Iteration 139: 3.984797747325075e-8 : Bool[0, 0, 1]\n",
            "Iteration 140: 3.5863179648210064e-8 : Bool[0, 0, 1]\n",
            "Iteration 141: 3.227686173890021e-8 : Bool[0, 0, 1]\n",
            "Iteration 142: 2.904917562052134e-8 : Bool[0, 0, 1]\n",
            "Iteration 143: 2.6144257980753594e-8 : Bool[0, 0, 1]\n",
            "Iteration 144: 2.3529832193780464e-8 : Bool[0, 0, 1]\n",
            "Iteration 145: 2.117684905211803e-8 : Bool[0, 0, 1]\n",
            "Iteration 146: 1.905916405253727e-8 : Bool[0, 0, 1]\n",
            "Iteration 147: 1.7153247600099064e-8 : Bool[0, 0, 1]\n",
            "Iteration 148: 1.5437922828986927e-8 : Bool[0, 0, 1]\n",
            "Iteration 149: 1.3894130623803846e-8 : Bool[0, 0, 1]\n",
            "Iteration 150: 1.2504717594730153e-8 : Bool[0, 0, 1]\n",
            "Iteration 151: 1.1254245868563828e-8 : Bool[0, 0, 1]\n",
            "Iteration 152: 1.0128821226196294e-8 : Bool[0, 0, 1]\n",
            "Iteration 153: 9.115939114678895e-9 : Bool[0, 0, 1]\n",
            "Iteration 154: 8.204345203211005e-9 : Bool[0, 0, 1]\n",
            "Iteration 155: 7.383910705094365e-9 : Bool[0, 0, 1]\n",
            "Iteration 156: 6.645519606829353e-9 : Bool[0, 0, 1]\n",
            "Iteration 157: 5.980967721086472e-9 : Bool[0, 0, 1]\n",
            "Iteration 158: 5.382870926773364e-9 : Bool[0, 0, 1]\n",
            "Iteration 159: 4.844583789687107e-9 : Bool[0, 0, 1]\n",
            "Iteration 160: 4.360125399616166e-9 : Bool[0, 0, 1]\n",
            "Iteration 161: 3.924112923492373e-9 : Bool[0, 0, 1]\n",
            "Iteration 162: 3.5317015978364452e-9 : Bool[0, 0, 1]\n",
            "Iteration 163: 3.1785314380528007e-9 : Bool[0, 0, 1]\n",
            "Iteration 164: 2.8606782775941753e-9 : Bool[0, 0, 1]\n",
            "Iteration 165: 2.574610524774812e-9 : Bool[0, 0, 1]\n",
            "Iteration 166: 2.3171494722973307e-9 : Bool[0, 0, 1]\n",
            "Iteration 167: 2.0854346027832094e-9 : Bool[0, 0, 1]\n",
            "Iteration 168: 1.8768910592381616e-9 : Bool[0, 0, 1]\n",
            "Iteration 169: 1.6892018894765215e-9 : Bool[0, 0, 1]\n",
            "Iteration 170: 1.5202817893467113e-9 : Bool[0, 0, 1]\n",
            "Iteration 171: 1.3682536215142704e-9 : Bool[0, 0, 1]\n",
            "Iteration 172: 1.2314282926695341e-9 : Bool[0, 0, 1]\n",
            "Iteration 173: 1.1082854634025807e-9 : Bool[0, 0, 1]\n",
            "Iteration 174: 9.974568948578622e-10 : Bool[0, 0, 1]\n",
            "Iteration 175: 8.977112386787667e-10 : Bool[0, 0, 1]\n",
            "Iteration 176: 8.079400759530841e-10 : Bool[0, 0, 1]\n",
            "Iteration 177: 7.271461210933694e-10 : Bool[0, 0, 1]\n",
            "Iteration 178: 6.544315089840325e-10 : Bool[0, 0, 1]\n",
            "Iteration 179: 5.88988302574478e-10 : Bool[0, 0, 1]\n",
            "Iteration 180: 5.300895278281814e-10 : Bool[0, 0, 1]\n",
            "Iteration 181: 4.770805972498238e-10 : Bool[0, 0, 1]\n",
            "Iteration 182: 4.293725375248414e-10 : Bool[0, 0, 1]\n",
            "Iteration 183: 3.8643532818127824e-10 : Bool[0, 0, 1]\n",
            "Iteration 184: 3.477917398519992e-10 : Bool[0, 0, 1]\n",
            "Iteration 185: 3.1301256031568414e-10 : Bool[0, 0, 1]\n",
            "Iteration 186: 2.817113209374611e-10 : Bool[0, 0, 1]\n",
            "Iteration 187: 2.53540188843715e-10 : Bool[0, 0, 1]\n",
            "Iteration 188: 2.281862476749552e-10 : Bool[0, 0, 1]\n",
            "Iteration 189: 2.053675285385026e-10 : Bool[0, 0, 1]\n",
            "Iteration 190: 1.8483081731801576e-10 : Bool[0, 0, 1]\n",
            "Iteration 191: 1.6634782440405615e-10 : Bool[0, 0, 1]\n",
            "Iteration 192: 1.4971301975919005e-10 : Bool[0, 0, 1]\n",
            "Iteration 193: 1.347416622721198e-10 : Bool[0, 0, 1]\n",
            "Iteration 194: 1.2126755155605906e-10 : Bool[0, 0, 1]\n",
            "Iteration 195: 1.091408075026834e-10 : Bool[0, 0, 1]\n",
            "Iteration 196: 9.822664903680334e-11 : Bool[0, 0, 1]"
          ]
        },
        {
          "output_type": "display_data",
          "metadata": {},
          "data": {
            "text/plain": [
              "([-0.12917371935610356, -0.12917371935610356, 0.5715802122005743], [-0.9579891504189799, 0.00862108482895072, 0.883026404003542], Bool[0, 0, 1])"
            ]
          }
        }
      ],
      "source": [
        "value_function_iteration(m, verbose=true)"
      ],
      "id": "977dd91b"
    },
    {
      "cell_type": "markdown",
      "metadata": {},
      "source": [
        "**Implement Policy Iteration and compare rates of convergence.**"
      ],
      "id": "6be0bd83-2fcf-4032-8aa2-5b936039d2fa"
    },
    {
      "cell_type": "code",
      "execution_count": 52,
      "metadata": {},
      "outputs": [
        {
          "output_type": "display_data",
          "metadata": {},
          "data": {
            "text/plain": [
              "policy_iteration (generic function with 1 method)"
            ]
          }
        }
      ],
      "source": [
        "function policy_iteration(m; T=1000, τ_η=1e-10, verbose=false)\n",
        "\n",
        "    V_U_0 = [0.0,0.0,0.0]\n",
        "    V_E_0 = [0.0,0.0,0.0]\n",
        "\n",
        "    x0 = [false, false, false]\n",
        "\n",
        "    for t=1:T\n",
        "\n",
        "        V_U_0, V_E_0 = policy_eval(x0, m)    \n",
        "    \n",
        "        V_U_1, V_E_1, x = bellman_step(V_U_0, V_E_0, m)\n",
        "\n",
        "        η = maximum(abs.(x-x0))\n",
        "\n",
        "        x0 = x\n",
        "\n",
        "        if verbose\n",
        "            \n",
        "            println(\"Iteration $(t): $(η) : $(x)\")\n",
        "        end\n",
        "\n",
        "        if η<τ_η\n",
        "            return V_U_0, V_E_0, x\n",
        "        end\n",
        "\n",
        "    end\n",
        "\n",
        "    error(\"No convergence\")\n",
        "\n",
        "    \n",
        "end"
      ],
      "id": "c9e9cbca-71a4-40d7-9e15-63c6c0bc7743"
    },
    {
      "cell_type": "code",
      "execution_count": 54,
      "metadata": {},
      "outputs": [
        {
          "output_type": "stream",
          "name": "stdout",
          "text": [
            "Iteration 1: 1 : Bool[1, 1, 1]\n",
            "Iteration 2: 1 : Bool[0, 1, 1]\n",
            "Iteration 3: 1 : Bool[0, 0, 1]\n",
            "Iteration 4: 0 : Bool[0, 0, 1]"
          ]
        },
        {
          "output_type": "display_data",
          "metadata": {},
          "data": {
            "text/plain": [
              "([-0.12917371930468718, -0.12917371930468718, 0.5715802122519905], [-0.95798915039766, 0.008621084866072553, 0.8830264040549584], Bool[0, 0, 1])"
            ]
          }
        }
      ],
      "source": [
        "policy_iteration(m; verbose=true)"
      ],
      "id": "16686aaf"
    },
    {
      "cell_type": "markdown",
      "metadata": {},
      "source": [
        "**Discuss the Effects of the Parameters**\n",
        "\n",
        "With the baseline calibration workers accept only the highest offer.\n",
        "What can make them accept more offer?"
      ],
      "id": "a91eedf2-1d93-4c67-ab88-516107339b65"
    },
    {
      "cell_type": "code",
      "execution_count": 60,
      "metadata": {},
      "outputs": [
        {
          "output_type": "display_data",
          "metadata": {},
          "data": {
            "text/plain": [
              "3-element Vector{Bool}:\n",
              " 0\n",
              " 1\n",
              " 1"
            ]
          }
        }
      ],
      "source": [
        "policy_iteration(merge(m, (;cbar=0.5)))[3]"
      ],
      "id": "b78a3bac"
    },
    {
      "cell_type": "code",
      "execution_count": 75,
      "metadata": {},
      "outputs": [
        {
          "output_type": "display_data",
          "metadata": {},
          "data": {
            "text/plain": [
              "3-element Vector{Bool}:\n",
              " 0\n",
              " 1\n",
              " 1"
            ]
          }
        }
      ],
      "source": [
        "policy_iteration(merge(m, (;punishment=0.2)))[3]"
      ],
      "id": "c73e71a2"
    },
    {
      "cell_type": "code",
      "execution_count": 78,
      "metadata": {},
      "outputs": [
        {
          "output_type": "display_data",
          "metadata": {},
          "data": {
            "text/plain": [
              "3-element Vector{Bool}:\n",
              " 0\n",
              " 1\n",
              " 1"
            ]
          }
        }
      ],
      "source": [
        "# higher unemployment risk\n",
        "policy_iteration(merge(m, (;λ=0.1)))[3]"
      ],
      "id": "6f58658b"
    },
    {
      "cell_type": "code",
      "execution_count": 81,
      "metadata": {},
      "outputs": [
        {
          "output_type": "display_data",
          "metadata": {},
          "data": {
            "text/plain": [
              "3-element Vector{Bool}:\n",
              " 0\n",
              " 1\n",
              " 1"
            ]
          }
        }
      ],
      "source": [
        "# higher unemployment risk\n",
        "policy_iteration(merge(m, (;β=0.8)))[3]"
      ],
      "id": "1f47a1b1"
    }
  ],
  "nbformat": 4,
  "nbformat_minor": 5,
  "metadata": {
    "kernelspec": {
      "name": "julia-1.10",
      "display_name": "Julia 1.10.2",
      "language": "julia"
    },
    "language_info": {
      "name": "julia",
      "file_extension": ".jl",
      "mimetype": "application/julia",
      "version": "1.10.2"
    }
  }
}